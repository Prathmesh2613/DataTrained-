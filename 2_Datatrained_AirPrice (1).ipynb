{
 "cells": [
  {
   "cell_type": "code",
   "execution_count": 1,
   "id": "d785642f",
   "metadata": {},
   "outputs": [],
   "source": [
    "import numpy as np\n",
    "import pandas as pd\n",
    "import matplotlib.pyplot as plt\n",
    "import seaborn as sns\n",
    "import sklearn\n",
    "from sklearn import preprocessing\n",
    "from sklearn.model_selection import train_test_split\n",
    "\n",
    "import warnings\n",
    "warnings.filterwarnings('ignore')"
   ]
  },
  {
   "cell_type": "code",
   "execution_count": 2,
   "id": "8c2aab7c",
   "metadata": {},
   "outputs": [
    {
     "data": {
      "text/html": [
       "<div>\n",
       "<style scoped>\n",
       "    .dataframe tbody tr th:only-of-type {\n",
       "        vertical-align: middle;\n",
       "    }\n",
       "\n",
       "    .dataframe tbody tr th {\n",
       "        vertical-align: top;\n",
       "    }\n",
       "\n",
       "    .dataframe thead th {\n",
       "        text-align: right;\n",
       "    }\n",
       "</style>\n",
       "<table border=\"1\" class=\"dataframe\">\n",
       "  <thead>\n",
       "    <tr style=\"text-align: right;\">\n",
       "      <th></th>\n",
       "      <th>Airline</th>\n",
       "      <th>Date_of_Journey</th>\n",
       "      <th>Source</th>\n",
       "      <th>Destination</th>\n",
       "      <th>Route</th>\n",
       "      <th>Dep_Time</th>\n",
       "      <th>Arrival_Time</th>\n",
       "      <th>Duration</th>\n",
       "      <th>Total_Stops</th>\n",
       "      <th>Additional_Info</th>\n",
       "      <th>Price</th>\n",
       "    </tr>\n",
       "  </thead>\n",
       "  <tbody>\n",
       "    <tr>\n",
       "      <th>0</th>\n",
       "      <td>IndiGo</td>\n",
       "      <td>24/03/2019</td>\n",
       "      <td>Banglore</td>\n",
       "      <td>New Delhi</td>\n",
       "      <td>BLR ? DEL</td>\n",
       "      <td>22:20</td>\n",
       "      <td>01:10 22 Mar</td>\n",
       "      <td>2h 50m</td>\n",
       "      <td>non-stop</td>\n",
       "      <td>No info</td>\n",
       "      <td>3897</td>\n",
       "    </tr>\n",
       "    <tr>\n",
       "      <th>1</th>\n",
       "      <td>Air India</td>\n",
       "      <td>1/05/2019</td>\n",
       "      <td>Kolkata</td>\n",
       "      <td>Banglore</td>\n",
       "      <td>CCU ? IXR ? BBI ? BLR</td>\n",
       "      <td>05:50</td>\n",
       "      <td>13:15</td>\n",
       "      <td>7h 25m</td>\n",
       "      <td>2 stops</td>\n",
       "      <td>No info</td>\n",
       "      <td>7662</td>\n",
       "    </tr>\n",
       "    <tr>\n",
       "      <th>2</th>\n",
       "      <td>Jet Airways</td>\n",
       "      <td>9/06/2019</td>\n",
       "      <td>Delhi</td>\n",
       "      <td>Cochin</td>\n",
       "      <td>DEL ? LKO ? BOM ? COK</td>\n",
       "      <td>09:25</td>\n",
       "      <td>04:25 10 Jun</td>\n",
       "      <td>19h</td>\n",
       "      <td>2 stops</td>\n",
       "      <td>No info</td>\n",
       "      <td>13882</td>\n",
       "    </tr>\n",
       "    <tr>\n",
       "      <th>3</th>\n",
       "      <td>IndiGo</td>\n",
       "      <td>12/05/2019</td>\n",
       "      <td>Kolkata</td>\n",
       "      <td>Banglore</td>\n",
       "      <td>CCU ? NAG ? BLR</td>\n",
       "      <td>18:05</td>\n",
       "      <td>23:30</td>\n",
       "      <td>5h 25m</td>\n",
       "      <td>1 stop</td>\n",
       "      <td>No info</td>\n",
       "      <td>6218</td>\n",
       "    </tr>\n",
       "    <tr>\n",
       "      <th>4</th>\n",
       "      <td>IndiGo</td>\n",
       "      <td>01/03/2019</td>\n",
       "      <td>Banglore</td>\n",
       "      <td>New Delhi</td>\n",
       "      <td>BLR ? NAG ? DEL</td>\n",
       "      <td>16:50</td>\n",
       "      <td>21:35</td>\n",
       "      <td>4h 45m</td>\n",
       "      <td>1 stop</td>\n",
       "      <td>No info</td>\n",
       "      <td>13302</td>\n",
       "    </tr>\n",
       "    <tr>\n",
       "      <th>5</th>\n",
       "      <td>SpiceJet</td>\n",
       "      <td>24/06/2019</td>\n",
       "      <td>Kolkata</td>\n",
       "      <td>Banglore</td>\n",
       "      <td>CCU ? BLR</td>\n",
       "      <td>09:00</td>\n",
       "      <td>11:25</td>\n",
       "      <td>2h 25m</td>\n",
       "      <td>non-stop</td>\n",
       "      <td>No info</td>\n",
       "      <td>3873</td>\n",
       "    </tr>\n",
       "    <tr>\n",
       "      <th>6</th>\n",
       "      <td>Jet Airways</td>\n",
       "      <td>12/03/2019</td>\n",
       "      <td>Banglore</td>\n",
       "      <td>New Delhi</td>\n",
       "      <td>BLR ? BOM ? DEL</td>\n",
       "      <td>18:55</td>\n",
       "      <td>10:25 13 Mar</td>\n",
       "      <td>15h 30m</td>\n",
       "      <td>1 stop</td>\n",
       "      <td>In-flight meal not included</td>\n",
       "      <td>11087</td>\n",
       "    </tr>\n",
       "    <tr>\n",
       "      <th>7</th>\n",
       "      <td>Jet Airways</td>\n",
       "      <td>01/03/2019</td>\n",
       "      <td>Banglore</td>\n",
       "      <td>New Delhi</td>\n",
       "      <td>BLR ? BOM ? DEL</td>\n",
       "      <td>08:00</td>\n",
       "      <td>05:05 02 Mar</td>\n",
       "      <td>21h 5m</td>\n",
       "      <td>1 stop</td>\n",
       "      <td>No info</td>\n",
       "      <td>22270</td>\n",
       "    </tr>\n",
       "    <tr>\n",
       "      <th>8</th>\n",
       "      <td>Jet Airways</td>\n",
       "      <td>12/03/2019</td>\n",
       "      <td>Banglore</td>\n",
       "      <td>New Delhi</td>\n",
       "      <td>BLR ? BOM ? DEL</td>\n",
       "      <td>08:55</td>\n",
       "      <td>10:25 13 Mar</td>\n",
       "      <td>25h 30m</td>\n",
       "      <td>1 stop</td>\n",
       "      <td>In-flight meal not included</td>\n",
       "      <td>11087</td>\n",
       "    </tr>\n",
       "    <tr>\n",
       "      <th>9</th>\n",
       "      <td>Multiple carriers</td>\n",
       "      <td>27/05/2019</td>\n",
       "      <td>Delhi</td>\n",
       "      <td>Cochin</td>\n",
       "      <td>DEL ? BOM ? COK</td>\n",
       "      <td>11:25</td>\n",
       "      <td>19:15</td>\n",
       "      <td>7h 50m</td>\n",
       "      <td>1 stop</td>\n",
       "      <td>No info</td>\n",
       "      <td>8625</td>\n",
       "    </tr>\n",
       "  </tbody>\n",
       "</table>\n",
       "</div>"
      ],
      "text/plain": [
       "             Airline Date_of_Journey    Source Destination  \\\n",
       "0             IndiGo      24/03/2019  Banglore   New Delhi   \n",
       "1          Air India       1/05/2019   Kolkata    Banglore   \n",
       "2        Jet Airways       9/06/2019     Delhi      Cochin   \n",
       "3             IndiGo      12/05/2019   Kolkata    Banglore   \n",
       "4             IndiGo      01/03/2019  Banglore   New Delhi   \n",
       "5           SpiceJet      24/06/2019   Kolkata    Banglore   \n",
       "6        Jet Airways      12/03/2019  Banglore   New Delhi   \n",
       "7        Jet Airways      01/03/2019  Banglore   New Delhi   \n",
       "8        Jet Airways      12/03/2019  Banglore   New Delhi   \n",
       "9  Multiple carriers      27/05/2019     Delhi      Cochin   \n",
       "\n",
       "                   Route Dep_Time  Arrival_Time Duration Total_Stops  \\\n",
       "0              BLR ? DEL    22:20  01:10 22 Mar   2h 50m    non-stop   \n",
       "1  CCU ? IXR ? BBI ? BLR    05:50         13:15   7h 25m     2 stops   \n",
       "2  DEL ? LKO ? BOM ? COK    09:25  04:25 10 Jun      19h     2 stops   \n",
       "3        CCU ? NAG ? BLR    18:05         23:30   5h 25m      1 stop   \n",
       "4        BLR ? NAG ? DEL    16:50         21:35   4h 45m      1 stop   \n",
       "5              CCU ? BLR    09:00         11:25   2h 25m    non-stop   \n",
       "6        BLR ? BOM ? DEL    18:55  10:25 13 Mar  15h 30m      1 stop   \n",
       "7        BLR ? BOM ? DEL    08:00  05:05 02 Mar   21h 5m      1 stop   \n",
       "8        BLR ? BOM ? DEL    08:55  10:25 13 Mar  25h 30m      1 stop   \n",
       "9        DEL ? BOM ? COK    11:25         19:15   7h 50m      1 stop   \n",
       "\n",
       "               Additional_Info  Price  \n",
       "0                      No info   3897  \n",
       "1                      No info   7662  \n",
       "2                      No info  13882  \n",
       "3                      No info   6218  \n",
       "4                      No info  13302  \n",
       "5                      No info   3873  \n",
       "6  In-flight meal not included  11087  \n",
       "7                      No info  22270  \n",
       "8  In-flight meal not included  11087  \n",
       "9                      No info   8625  "
      ]
     },
     "execution_count": 2,
     "metadata": {},
     "output_type": "execute_result"
    }
   ],
   "source": [
    "df=pd.read_csv('AirPrice.csv')\n",
    "df.head(10)"
   ]
  },
  {
   "cell_type": "code",
   "execution_count": 3,
   "id": "ed3d7278",
   "metadata": {},
   "outputs": [
    {
     "data": {
      "text/plain": [
       "(10683, 11)"
      ]
     },
     "execution_count": 3,
     "metadata": {},
     "output_type": "execute_result"
    }
   ],
   "source": [
    "df.shape"
   ]
  },
  {
   "cell_type": "code",
   "execution_count": 4,
   "id": "7dd58243",
   "metadata": {},
   "outputs": [
    {
     "name": "stdout",
     "output_type": "stream",
     "text": [
      "<class 'pandas.core.frame.DataFrame'>\n",
      "RangeIndex: 10683 entries, 0 to 10682\n",
      "Data columns (total 11 columns):\n",
      " #   Column           Non-Null Count  Dtype \n",
      "---  ------           --------------  ----- \n",
      " 0   Airline          10683 non-null  object\n",
      " 1   Date_of_Journey  10683 non-null  object\n",
      " 2   Source           10683 non-null  object\n",
      " 3   Destination      10683 non-null  object\n",
      " 4   Route            10682 non-null  object\n",
      " 5   Dep_Time         10683 non-null  object\n",
      " 6   Arrival_Time     10683 non-null  object\n",
      " 7   Duration         10683 non-null  object\n",
      " 8   Total_Stops      10682 non-null  object\n",
      " 9   Additional_Info  10683 non-null  object\n",
      " 10  Price            10683 non-null  int64 \n",
      "dtypes: int64(1), object(10)\n",
      "memory usage: 918.2+ KB\n"
     ]
    }
   ],
   "source": [
    "df.info()"
   ]
  },
  {
   "cell_type": "markdown",
   "id": "e13f9320",
   "metadata": {},
   "source": [
    "Observation: we can see we have all object columns except output column which needs to be first converted into numeric after removing Null values"
   ]
  },
  {
   "cell_type": "markdown",
   "id": "733ca39a",
   "metadata": {},
   "source": [
    "# EDA"
   ]
  },
  {
   "cell_type": "markdown",
   "id": "7371e0cc",
   "metadata": {},
   "source": [
    "# checking null values with graph"
   ]
  },
  {
   "cell_type": "code",
   "execution_count": 5,
   "id": "451d5980",
   "metadata": {},
   "outputs": [
    {
     "data": {
      "text/plain": [
       "Airline            0\n",
       "Date_of_Journey    0\n",
       "Source             0\n",
       "Destination        0\n",
       "Route              1\n",
       "Dep_Time           0\n",
       "Arrival_Time       0\n",
       "Duration           0\n",
       "Total_Stops        1\n",
       "Additional_Info    0\n",
       "Price              0\n",
       "dtype: int64"
      ]
     },
     "execution_count": 5,
     "metadata": {},
     "output_type": "execute_result"
    }
   ],
   "source": [
    "df.isnull().sum()"
   ]
  },
  {
   "cell_type": "code",
   "execution_count": 6,
   "id": "371909e6",
   "metadata": {},
   "outputs": [
    {
     "data": {
      "text/plain": [
       "<AxesSubplot:>"
      ]
     },
     "execution_count": 6,
     "metadata": {},
     "output_type": "execute_result"
    },
    {
     "data": {
      "image/png": "[encoded data removed]",
      "text/plain": [
       "<Figure size 432x288 with 2 Axes>"
      ]
     },
     "metadata": {
      "needs_background": "light"
     },
     "output_type": "display_data"
    }
   ],
   "source": [
    "sns.heatmap(df.isnull())"
   ]
  },
  {
   "cell_type": "markdown",
   "id": "37e48daa",
   "metadata": {},
   "source": [
    "Updating Null Values with fillna"
   ]
  },
  {
   "cell_type": "code",
   "execution_count": 7,
   "id": "757629e4",
   "metadata": {},
   "outputs": [],
   "source": [
    "df['Route']=df['Route'].fillna(df['Route'].mode()[0])\n",
    "df['Total_Stops']=df['Total_Stops'].fillna(df['Total_Stops'].mode()[0])"
   ]
  },
  {
   "cell_type": "code",
   "execution_count": 8,
   "id": "811376bd",
   "metadata": {},
   "outputs": [
    {
     "data": {
      "text/plain": [
       "Airline            0\n",
       "Date_of_Journey    0\n",
       "Source             0\n",
       "Destination        0\n",
       "Route              0\n",
       "Dep_Time           0\n",
       "Arrival_Time       0\n",
       "Duration           0\n",
       "Total_Stops        0\n",
       "Additional_Info    0\n",
       "Price              0\n",
       "dtype: int64"
      ]
     },
     "execution_count": 8,
     "metadata": {},
     "output_type": "execute_result"
    }
   ],
   "source": [
    "df.isnull().sum()"
   ]
  },
  {
   "cell_type": "markdown",
   "id": "bedc4cbf",
   "metadata": {},
   "source": [
    "Null values are removed"
   ]
  },
  {
   "cell_type": "markdown",
   "id": "6e24df23",
   "metadata": {},
   "source": [
    "# Checking Distinct Data in columns"
   ]
  },
  {
   "cell_type": "markdown",
   "id": "c40168bd",
   "metadata": {},
   "source": [
    "we will check for columns which is having object as data type"
   ]
  },
  {
   "cell_type": "code",
   "execution_count": 9,
   "id": "86a7b25c",
   "metadata": {},
   "outputs": [
    {
     "data": {
      "text/plain": [
       "Airline            object\n",
       "Date_of_Journey    object\n",
       "Source             object\n",
       "Destination        object\n",
       "Route              object\n",
       "Dep_Time           object\n",
       "Arrival_Time       object\n",
       "Duration           object\n",
       "Total_Stops        object\n",
       "Additional_Info    object\n",
       "Price               int64\n",
       "dtype: object"
      ]
     },
     "execution_count": 9,
     "metadata": {},
     "output_type": "execute_result"
    }
   ],
   "source": [
    "df.dtypes.sort_values(ascending=False)"
   ]
  },
  {
   "cell_type": "code",
   "execution_count": 10,
   "id": "92174823",
   "metadata": {},
   "outputs": [
    {
     "name": "stdout",
     "output_type": "stream",
     "text": [
      "Jet Airways                          3849\n",
      "IndiGo                               2053\n",
      "Air India                            1752\n",
      "Multiple carriers                    1196\n",
      "SpiceJet                              818\n",
      "Vistara                               479\n",
      "Air Asia                              319\n",
      "GoAir                                 194\n",
      "Multiple carriers Premium economy      13\n",
      "Jet Airways Business                    6\n",
      "Vistara Premium economy                 3\n",
      "Trujet                                  1\n",
      "Name: Airline, dtype: int64\n"
     ]
    },
    {
     "data": {
      "image/png": "[encoded data removed]",
      "text/plain": [
       "<Figure size 432x288 with 1 Axes>"
      ]
     },
     "metadata": {
      "needs_background": "light"
     },
     "output_type": "display_data"
    }
   ],
   "source": [
    "import seaborn as sns\n",
    "ax=sns.countplot(x=\"Airline\",data=df)\n",
    "print(df[\"Airline\"].value_counts())"
   ]
  },
  {
   "cell_type": "code",
   "execution_count": 11,
   "id": "97d8344a",
   "metadata": {},
   "outputs": [
    {
     "name": "stdout",
     "output_type": "stream",
     "text": [
      "18/05/2019    504\n",
      "6/06/2019     503\n",
      "21/05/2019    497\n",
      "9/06/2019     495\n",
      "12/06/2019    493\n",
      "9/05/2019     484\n",
      "21/03/2019    423\n",
      "15/05/2019    405\n",
      "27/05/2019    382\n",
      "27/06/2019    355\n",
      "24/06/2019    351\n",
      "1/06/2019     342\n",
      "3/06/2019     333\n",
      "15/06/2019    328\n",
      "24/03/2019    323\n",
      "6/03/2019     308\n",
      "27/03/2019    299\n",
      "24/05/2019    286\n",
      "6/05/2019     282\n",
      "1/05/2019     277\n",
      "12/05/2019    259\n",
      "1/04/2019     257\n",
      "3/03/2019     218\n",
      "9/03/2019     200\n",
      "15/03/2019    162\n",
      "18/03/2019    156\n",
      "01/03/2019    152\n",
      "12/03/2019    142\n",
      "9/04/2019     125\n",
      "3/04/2019     110\n",
      "21/06/2019    109\n",
      "18/06/2019    105\n",
      "09/03/2019    102\n",
      "6/04/2019     100\n",
      "03/03/2019     97\n",
      "06/03/2019     95\n",
      "27/04/2019     94\n",
      "24/04/2019     92\n",
      "3/05/2019      90\n",
      "15/04/2019     89\n",
      "21/04/2019     82\n",
      "18/04/2019     67\n",
      "12/04/2019     63\n",
      "1/03/2019      47\n",
      "Name: Date_of_Journey, dtype: int64\n"
     ]
    },
    {
     "data": {
      "image/png": "[encoded data removed]",
      "text/plain": [
       "<Figure size 432x288 with 1 Axes>"
      ]
     },
     "metadata": {
      "needs_background": "light"
     },
     "output_type": "display_data"
    }
   ],
   "source": [
    "import seaborn as sns\n",
    "ax=sns.countplot(x=\"Date_of_Journey\",data=df)\n",
    "print(df[\"Date_of_Journey\"].value_counts())"
   ]
  },
  {
   "cell_type": "code",
   "execution_count": 12,
   "id": "5e7d0f40",
   "metadata": {},
   "outputs": [
    {
     "name": "stdout",
     "output_type": "stream",
     "text": [
      "Delhi       4537\n",
      "Kolkata     2871\n",
      "Banglore    2197\n",
      "Mumbai       697\n",
      "Chennai      381\n",
      "Name: Source, dtype: int64\n"
     ]
    },
    {
     "data": {
      "image/png": "[encoded data removed]",
      "text/plain": [
       "<Figure size 432x288 with 1 Axes>"
      ]
     },
     "metadata": {
      "needs_background": "light"
     },
     "output_type": "display_data"
    }
   ],
   "source": [
    "import seaborn as sns\n",
    "ax=sns.countplot(x=\"Source\",data=df)\n",
    "print(df[\"Source\"].value_counts())"
   ]
  },
  {
   "cell_type": "code",
   "execution_count": 13,
   "id": "e5fd0055",
   "metadata": {},
   "outputs": [
    {
     "name": "stdout",
     "output_type": "stream",
     "text": [
      "Cochin       4537\n",
      "Banglore     2871\n",
      "Delhi        1265\n",
      "New Delhi     932\n",
      "Hyderabad     697\n",
      "Kolkata       381\n",
      "Name: Destination, dtype: int64\n"
     ]
    },
    {
     "data": {
      "image/png": "[encoded data removed]",
      "text/plain": [
       "<Figure size 432x288 with 1 Axes>"
      ]
     },
     "metadata": {
      "needs_background": "light"
     },
     "output_type": "display_data"
    }
   ],
   "source": [
    "import seaborn as sns\n",
    "ax=sns.countplot(x=\"Destination\",data=df)\n",
    "print(df[\"Destination\"].value_counts())"
   ]
  },
  {
   "cell_type": "code",
   "execution_count": 14,
   "id": "78faa50f",
   "metadata": {},
   "outputs": [
    {
     "name": "stdout",
     "output_type": "stream",
     "text": [
      "DEL ? BOM ? COK          2377\n",
      "BLR ? DEL                1552\n",
      "CCU ? BOM ? BLR           979\n",
      "CCU ? BLR                 724\n",
      "BOM ? HYD                 621\n",
      "                         ... \n",
      "BOM ? UDR ? DEL ? HYD       1\n",
      "CCU ? IXB ? DEL ? BLR       1\n",
      "BOM ? DED ? DEL ? HYD       1\n",
      "CCU ? IXZ ? MAA ? BLR       1\n",
      "BOM ? NDC ? HYD             1\n",
      "Name: Route, Length: 128, dtype: int64\n"
     ]
    },
    {
     "data": {
      "image/png": "[encoded data removed]",
      "text/plain": [
       "<Figure size 432x288 with 1 Axes>"
      ]
     },
     "metadata": {
      "needs_background": "light"
     },
     "output_type": "display_data"
    }
   ],
   "source": [
    "import seaborn as sns\n",
    "ax=sns.countplot(x=\"Route\",data=df)\n",
    "print(df[\"Route\"].value_counts())"
   ]
  },
  {
   "cell_type": "code",
   "execution_count": 15,
   "id": "d2361246",
   "metadata": {},
   "outputs": [
    {
     "name": "stdout",
     "output_type": "stream",
     "text": [
      "18:55    233\n",
      "17:00    227\n",
      "07:05    205\n",
      "10:00    203\n",
      "07:10    202\n",
      "        ... \n",
      "22:25      1\n",
      "04:50      1\n",
      "12:45      1\n",
      "03:00      1\n",
      "04:15      1\n",
      "Name: Dep_Time, Length: 222, dtype: int64\n"
     ]
    },
    {
     "data": {
      "image/png": "[encoded data removed]",
      "text/plain": [
       "<Figure size 432x288 with 1 Axes>"
      ]
     },
     "metadata": {
      "needs_background": "light"
     },
     "output_type": "display_data"
    }
   ],
   "source": [
    "import seaborn as sns\n",
    "ax=sns.countplot(x=\"Dep_Time\",data=df)\n",
    "print(df[\"Dep_Time\"].value_counts())"
   ]
  },
  {
   "cell_type": "code",
   "execution_count": 16,
   "id": "a3f592e8",
   "metadata": {},
   "outputs": [
    {
     "name": "stdout",
     "output_type": "stream",
     "text": [
      "19:00           423\n",
      "21:00           360\n",
      "19:15           333\n",
      "16:10           154\n",
      "12:35           122\n",
      "               ... \n",
      "22:40 07 May      1\n",
      "11:05 10 May      1\n",
      "18:30 25 May      1\n",
      "22:55 02 Mar      1\n",
      "00:50 13 May      1\n",
      "Name: Arrival_Time, Length: 1343, dtype: int64\n"
     ]
    },
    {
     "data": {
      "image/png": "[encoded data removed]",
      "text/plain": [
       "<Figure size 432x288 with 1 Axes>"
      ]
     },
     "metadata": {
      "needs_background": "light"
     },
     "output_type": "display_data"
    }
   ],
   "source": [
    "import seaborn as sns\n",
    "ax=sns.countplot(x=\"Arrival_Time\",data=df)\n",
    "print(df[\"Arrival_Time\"].value_counts())"
   ]
  },
  {
   "cell_type": "code",
   "execution_count": 17,
   "id": "81af6466",
   "metadata": {},
   "outputs": [
    {
     "name": "stdout",
     "output_type": "stream",
     "text": [
      "2h 50m     550\n",
      "1h 30m     386\n",
      "2h 45m     337\n",
      "2h 55m     337\n",
      "2h 35m     329\n",
      "          ... \n",
      "28h 30m      1\n",
      "47h 40m      1\n",
      "42h 5m       1\n",
      "41h 20m      1\n",
      "19h 50m      1\n",
      "Name: Duration, Length: 368, dtype: int64\n"
     ]
    },
    {
     "data": {
      "image/png": "[encoded data removed]",
      "text/plain": [
       "<Figure size 432x288 with 1 Axes>"
      ]
     },
     "metadata": {
      "needs_background": "light"
     },
     "output_type": "display_data"
    }
   ],
   "source": [
    "import seaborn as sns\n",
    "ax=sns.countplot(x=\"Duration\",data=df)\n",
    "print(df[\"Duration\"].value_counts())"
   ]
  },
  {
   "cell_type": "code",
   "execution_count": 18,
   "id": "a8687d8d",
   "metadata": {},
   "outputs": [
    {
     "name": "stdout",
     "output_type": "stream",
     "text": [
      "1 stop      5626\n",
      "non-stop    3491\n",
      "2 stops     1520\n",
      "3 stops       45\n",
      "4 stops        1\n",
      "Name: Total_Stops, dtype: int64\n"
     ]
    },
    {
     "data": {
      "image/png": "[encoded data removed]",
      "text/plain": [
       "<Figure size 432x288 with 1 Axes>"
      ]
     },
     "metadata": {
      "needs_background": "light"
     },
     "output_type": "display_data"
    }
   ],
   "source": [
    "import seaborn as sns\n",
    "ax=sns.countplot(x=\"Total_Stops\",data=df)\n",
    "print(df[\"Total_Stops\"].value_counts())"
   ]
  },
  {
   "cell_type": "code",
   "execution_count": 19,
   "id": "90eea9ba",
   "metadata": {},
   "outputs": [
    {
     "name": "stdout",
     "output_type": "stream",
     "text": [
      "No info                         8345\n",
      "In-flight meal not included     1982\n",
      "No check-in baggage included     320\n",
      "1 Long layover                    19\n",
      "Change airports                    7\n",
      "Business class                     4\n",
      "No Info                            3\n",
      "Red-eye flight                     1\n",
      "2 Long layover                     1\n",
      "1 Short layover                    1\n",
      "Name: Additional_Info, dtype: int64\n"
     ]
    },
    {
     "data": {
      "image/png": "[encoded data removed]",
      "text/plain": [
       "<Figure size 432x288 with 1 Axes>"
      ]
     },
     "metadata": {
      "needs_background": "light"
     },
     "output_type": "display_data"
    }
   ],
   "source": [
    "import seaborn as sns\n",
    "ax=sns.countplot(x=\"Additional_Info\",data=df)\n",
    "print(df[\"Additional_Info\"].value_counts())"
   ]
  },
  {
   "cell_type": "markdown",
   "id": "e9dfc593",
   "metadata": {},
   "source": [
    "# Data conversion using Label Encoder "
   ]
  },
  {
   "cell_type": "code",
   "execution_count": 19,
   "id": "7e9db85c",
   "metadata": {},
   "outputs": [],
   "source": [
    "#by using for loop here we encoded the object columns\n",
    "le =LabelEncoder()\n",
    "\n",
    "list1=['Airline','Date_of_Journey','Source','Destination','Route','Dep_Time','Arrival_Time','Duration','Total_Stops','Additional_Info']\n",
    "for val in list1:\n",
    "    df[val]=le.fit_transform(df[val].astype(str))"
   ]
  },
  {
   "cell_type": "code",
   "execution_count": 20,
   "id": "2758721b",
   "metadata": {},
   "outputs": [
    {
     "data": {
      "text/html": [
       "<div>\n",
       "<style scoped>\n",
       "    .dataframe tbody tr th:only-of-type {\n",
       "        vertical-align: middle;\n",
       "    }\n",
       "\n",
       "    .dataframe tbody tr th {\n",
       "        vertical-align: top;\n",
       "    }\n",
       "\n",
       "    .dataframe thead th {\n",
       "        text-align: right;\n",
       "    }\n",
       "</style>\n",
       "<table border=\"1\" class=\"dataframe\">\n",
       "  <thead>\n",
       "    <tr style=\"text-align: right;\">\n",
       "      <th></th>\n",
       "      <th>Airline</th>\n",
       "      <th>Date_of_Journey</th>\n",
       "      <th>Source</th>\n",
       "      <th>Destination</th>\n",
       "      <th>Route</th>\n",
       "      <th>Dep_Time</th>\n",
       "      <th>Arrival_Time</th>\n",
       "      <th>Duration</th>\n",
       "      <th>Total_Stops</th>\n",
       "      <th>Additional_Info</th>\n",
       "      <th>Price</th>\n",
       "    </tr>\n",
       "  </thead>\n",
       "  <tbody>\n",
       "    <tr>\n",
       "      <th>0</th>\n",
       "      <td>3</td>\n",
       "      <td>24</td>\n",
       "      <td>0</td>\n",
       "      <td>5</td>\n",
       "      <td>18</td>\n",
       "      <td>211</td>\n",
       "      <td>233</td>\n",
       "      <td>240</td>\n",
       "      <td>4</td>\n",
       "      <td>8</td>\n",
       "      <td>3897</td>\n",
       "    </tr>\n",
       "    <tr>\n",
       "      <th>1</th>\n",
       "      <td>1</td>\n",
       "      <td>6</td>\n",
       "      <td>3</td>\n",
       "      <td>0</td>\n",
       "      <td>84</td>\n",
       "      <td>31</td>\n",
       "      <td>906</td>\n",
       "      <td>336</td>\n",
       "      <td>1</td>\n",
       "      <td>8</td>\n",
       "      <td>7662</td>\n",
       "    </tr>\n",
       "    <tr>\n",
       "      <th>2</th>\n",
       "      <td>4</td>\n",
       "      <td>43</td>\n",
       "      <td>2</td>\n",
       "      <td>1</td>\n",
       "      <td>118</td>\n",
       "      <td>70</td>\n",
       "      <td>413</td>\n",
       "      <td>106</td>\n",
       "      <td>1</td>\n",
       "      <td>8</td>\n",
       "      <td>13882</td>\n",
       "    </tr>\n",
       "    <tr>\n",
       "      <th>3</th>\n",
       "      <td>3</td>\n",
       "      <td>10</td>\n",
       "      <td>3</td>\n",
       "      <td>0</td>\n",
       "      <td>91</td>\n",
       "      <td>164</td>\n",
       "      <td>1324</td>\n",
       "      <td>311</td>\n",
       "      <td>0</td>\n",
       "      <td>8</td>\n",
       "      <td>6218</td>\n",
       "    </tr>\n",
       "    <tr>\n",
       "      <th>4</th>\n",
       "      <td>3</td>\n",
       "      <td>0</td>\n",
       "      <td>0</td>\n",
       "      <td>5</td>\n",
       "      <td>29</td>\n",
       "      <td>149</td>\n",
       "      <td>1237</td>\n",
       "      <td>303</td>\n",
       "      <td>0</td>\n",
       "      <td>8</td>\n",
       "      <td>13302</td>\n",
       "    </tr>\n",
       "    <tr>\n",
       "      <th>5</th>\n",
       "      <td>8</td>\n",
       "      <td>27</td>\n",
       "      <td>3</td>\n",
       "      <td>0</td>\n",
       "      <td>64</td>\n",
       "      <td>66</td>\n",
       "      <td>830</td>\n",
       "      <td>235</td>\n",
       "      <td>4</td>\n",
       "      <td>8</td>\n",
       "      <td>3873</td>\n",
       "    </tr>\n",
       "    <tr>\n",
       "      <th>6</th>\n",
       "      <td>4</td>\n",
       "      <td>8</td>\n",
       "      <td>0</td>\n",
       "      <td>5</td>\n",
       "      <td>5</td>\n",
       "      <td>172</td>\n",
       "      <td>742</td>\n",
       "      <td>65</td>\n",
       "      <td>0</td>\n",
       "      <td>5</td>\n",
       "      <td>11087</td>\n",
       "    </tr>\n",
       "    <tr>\n",
       "      <th>7</th>\n",
       "      <td>4</td>\n",
       "      <td>0</td>\n",
       "      <td>0</td>\n",
       "      <td>5</td>\n",
       "      <td>5</td>\n",
       "      <td>55</td>\n",
       "      <td>463</td>\n",
       "      <td>145</td>\n",
       "      <td>0</td>\n",
       "      <td>8</td>\n",
       "      <td>22270</td>\n",
       "    </tr>\n",
       "    <tr>\n",
       "      <th>8</th>\n",
       "      <td>4</td>\n",
       "      <td>8</td>\n",
       "      <td>0</td>\n",
       "      <td>5</td>\n",
       "      <td>5</td>\n",
       "      <td>65</td>\n",
       "      <td>742</td>\n",
       "      <td>185</td>\n",
       "      <td>0</td>\n",
       "      <td>5</td>\n",
       "      <td>11087</td>\n",
       "    </tr>\n",
       "    <tr>\n",
       "      <th>9</th>\n",
       "      <td>6</td>\n",
       "      <td>30</td>\n",
       "      <td>2</td>\n",
       "      <td>1</td>\n",
       "      <td>104</td>\n",
       "      <td>91</td>\n",
       "      <td>1124</td>\n",
       "      <td>341</td>\n",
       "      <td>0</td>\n",
       "      <td>8</td>\n",
       "      <td>8625</td>\n",
       "    </tr>\n",
       "  </tbody>\n",
       "</table>\n",
       "</div>"
      ],
      "text/plain": [
       "   Airline  Date_of_Journey  Source  Destination  Route  Dep_Time  \\\n",
       "0        3               24       0            5     18       211   \n",
       "1        1                6       3            0     84        31   \n",
       "2        4               43       2            1    118        70   \n",
       "3        3               10       3            0     91       164   \n",
       "4        3                0       0            5     29       149   \n",
       "5        8               27       3            0     64        66   \n",
       "6        4                8       0            5      5       172   \n",
       "7        4                0       0            5      5        55   \n",
       "8        4                8       0            5      5        65   \n",
       "9        6               30       2            1    104        91   \n",
       "\n",
       "   Arrival_Time  Duration  Total_Stops  Additional_Info  Price  \n",
       "0           233       240            4                8   3897  \n",
       "1           906       336            1                8   7662  \n",
       "2           413       106            1                8  13882  \n",
       "3          1324       311            0                8   6218  \n",
       "4          1237       303            0                8  13302  \n",
       "5           830       235            4                8   3873  \n",
       "6           742        65            0                5  11087  \n",
       "7           463       145            0                8  22270  \n",
       "8           742       185            0                5  11087  \n",
       "9          1124       341            0                8   8625  "
      ]
     },
     "execution_count": 20,
     "metadata": {},
     "output_type": "execute_result"
    }
   ],
   "source": [
    "df.head(10)"
   ]
  },
  {
   "cell_type": "markdown",
   "id": "b80d0bcf",
   "metadata": {},
   "source": [
    "Here we have converted onbject columns in Numeric "
   ]
  },
  {
   "cell_type": "code",
   "execution_count": 21,
   "id": "2ca35527",
   "metadata": {},
   "outputs": [
    {
     "name": "stdout",
     "output_type": "stream",
     "text": [
      "<class 'pandas.core.frame.DataFrame'>\n",
      "RangeIndex: 10683 entries, 0 to 10682\n",
      "Data columns (total 11 columns):\n",
      " #   Column           Non-Null Count  Dtype\n",
      "---  ------           --------------  -----\n",
      " 0   Airline          10683 non-null  int32\n",
      " 1   Date_of_Journey  10683 non-null  int32\n",
      " 2   Source           10683 non-null  int32\n",
      " 3   Destination      10683 non-null  int32\n",
      " 4   Route            10683 non-null  int32\n",
      " 5   Dep_Time         10683 non-null  int32\n",
      " 6   Arrival_Time     10683 non-null  int32\n",
      " 7   Duration         10683 non-null  int32\n",
      " 8   Total_Stops      10683 non-null  int32\n",
      " 9   Additional_Info  10683 non-null  int32\n",
      " 10  Price            10683 non-null  int64\n",
      "dtypes: int32(10), int64(1)\n",
      "memory usage: 500.9 KB\n"
     ]
    }
   ],
   "source": [
    "df.info()"
   ]
  },
  {
   "cell_type": "markdown",
   "id": "4883ee77",
   "metadata": {},
   "source": [
    "# Describe the Data "
   ]
  },
  {
   "cell_type": "code",
   "execution_count": 22,
   "id": "437a5237",
   "metadata": {},
   "outputs": [
    {
     "data": {
      "text/html": [
       "<div>\n",
       "<style scoped>\n",
       "    .dataframe tbody tr th:only-of-type {\n",
       "        vertical-align: middle;\n",
       "    }\n",
       "\n",
       "    .dataframe tbody tr th {\n",
       "        vertical-align: top;\n",
       "    }\n",
       "\n",
       "    .dataframe thead th {\n",
       "        text-align: right;\n",
       "    }\n",
       "</style>\n",
       "<table border=\"1\" class=\"dataframe\">\n",
       "  <thead>\n",
       "    <tr style=\"text-align: right;\">\n",
       "      <th></th>\n",
       "      <th>Airline</th>\n",
       "      <th>Date_of_Journey</th>\n",
       "      <th>Source</th>\n",
       "      <th>Destination</th>\n",
       "      <th>Route</th>\n",
       "      <th>Dep_Time</th>\n",
       "      <th>Arrival_Time</th>\n",
       "      <th>Duration</th>\n",
       "      <th>Total_Stops</th>\n",
       "      <th>Additional_Info</th>\n",
       "      <th>Price</th>\n",
       "    </tr>\n",
       "  </thead>\n",
       "  <tbody>\n",
       "    <tr>\n",
       "      <th>count</th>\n",
       "      <td>10683.000000</td>\n",
       "      <td>10683.000000</td>\n",
       "      <td>10683.000000</td>\n",
       "      <td>10683.000000</td>\n",
       "      <td>10683.000000</td>\n",
       "      <td>10683.000000</td>\n",
       "      <td>10683.000000</td>\n",
       "      <td>10683.000000</td>\n",
       "      <td>10683.000000</td>\n",
       "      <td>10683.000000</td>\n",
       "      <td>10683.000000</td>\n",
       "    </tr>\n",
       "    <tr>\n",
       "      <th>mean</th>\n",
       "      <td>3.965927</td>\n",
       "      <td>23.735093</td>\n",
       "      <td>1.952261</td>\n",
       "      <td>1.436113</td>\n",
       "      <td>74.822896</td>\n",
       "      <td>107.980717</td>\n",
       "      <td>869.828419</td>\n",
       "      <td>194.069269</td>\n",
       "      <td>1.458111</td>\n",
       "      <td>7.393054</td>\n",
       "      <td>9087.064121</td>\n",
       "    </tr>\n",
       "    <tr>\n",
       "      <th>std</th>\n",
       "      <td>2.352155</td>\n",
       "      <td>12.337763</td>\n",
       "      <td>1.177221</td>\n",
       "      <td>1.474782</td>\n",
       "      <td>36.728405</td>\n",
       "      <td>61.085563</td>\n",
       "      <td>331.509504</td>\n",
       "      <td>108.620556</td>\n",
       "      <td>1.806290</td>\n",
       "      <td>1.214211</td>\n",
       "      <td>4611.359167</td>\n",
       "    </tr>\n",
       "    <tr>\n",
       "      <th>min</th>\n",
       "      <td>0.000000</td>\n",
       "      <td>0.000000</td>\n",
       "      <td>0.000000</td>\n",
       "      <td>0.000000</td>\n",
       "      <td>0.000000</td>\n",
       "      <td>0.000000</td>\n",
       "      <td>0.000000</td>\n",
       "      <td>0.000000</td>\n",
       "      <td>0.000000</td>\n",
       "      <td>0.000000</td>\n",
       "      <td>1759.000000</td>\n",
       "    </tr>\n",
       "    <tr>\n",
       "      <th>25%</th>\n",
       "      <td>3.000000</td>\n",
       "      <td>14.000000</td>\n",
       "      <td>2.000000</td>\n",
       "      <td>0.000000</td>\n",
       "      <td>48.000000</td>\n",
       "      <td>55.000000</td>\n",
       "      <td>603.000000</td>\n",
       "      <td>106.000000</td>\n",
       "      <td>0.000000</td>\n",
       "      <td>8.000000</td>\n",
       "      <td>5277.000000</td>\n",
       "    </tr>\n",
       "    <tr>\n",
       "      <th>50%</th>\n",
       "      <td>4.000000</td>\n",
       "      <td>24.000000</td>\n",
       "      <td>2.000000</td>\n",
       "      <td>1.000000</td>\n",
       "      <td>73.000000</td>\n",
       "      <td>96.000000</td>\n",
       "      <td>937.000000</td>\n",
       "      <td>233.000000</td>\n",
       "      <td>0.000000</td>\n",
       "      <td>8.000000</td>\n",
       "      <td>8372.000000</td>\n",
       "    </tr>\n",
       "    <tr>\n",
       "      <th>75%</th>\n",
       "      <td>4.000000</td>\n",
       "      <td>35.000000</td>\n",
       "      <td>3.000000</td>\n",
       "      <td>2.000000</td>\n",
       "      <td>104.000000</td>\n",
       "      <td>164.000000</td>\n",
       "      <td>1141.000000</td>\n",
       "      <td>280.000000</td>\n",
       "      <td>4.000000</td>\n",
       "      <td>8.000000</td>\n",
       "      <td>12373.000000</td>\n",
       "    </tr>\n",
       "    <tr>\n",
       "      <th>max</th>\n",
       "      <td>11.000000</td>\n",
       "      <td>43.000000</td>\n",
       "      <td>4.000000</td>\n",
       "      <td>5.000000</td>\n",
       "      <td>127.000000</td>\n",
       "      <td>221.000000</td>\n",
       "      <td>1342.000000</td>\n",
       "      <td>367.000000</td>\n",
       "      <td>4.000000</td>\n",
       "      <td>9.000000</td>\n",
       "      <td>79512.000000</td>\n",
       "    </tr>\n",
       "  </tbody>\n",
       "</table>\n",
       "</div>"
      ],
      "text/plain": [
       "            Airline  Date_of_Journey        Source   Destination  \\\n",
       "count  10683.000000     10683.000000  10683.000000  10683.000000   \n",
       "mean       3.965927        23.735093      1.952261      1.436113   \n",
       "std        2.352155        12.337763      1.177221      1.474782   \n",
       "min        0.000000         0.000000      0.000000      0.000000   \n",
       "25%        3.000000        14.000000      2.000000      0.000000   \n",
       "50%        4.000000        24.000000      2.000000      1.000000   \n",
       "75%        4.000000        35.000000      3.000000      2.000000   \n",
       "max       11.000000        43.000000      4.000000      5.000000   \n",
       "\n",
       "              Route      Dep_Time  Arrival_Time      Duration   Total_Stops  \\\n",
       "count  10683.000000  10683.000000  10683.000000  10683.000000  10683.000000   \n",
       "mean      74.822896    107.980717    869.828419    194.069269      1.458111   \n",
       "std       36.728405     61.085563    331.509504    108.620556      1.806290   \n",
       "min        0.000000      0.000000      0.000000      0.000000      0.000000   \n",
       "25%       48.000000     55.000000    603.000000    106.000000      0.000000   \n",
       "50%       73.000000     96.000000    937.000000    233.000000      0.000000   \n",
       "75%      104.000000    164.000000   1141.000000    280.000000      4.000000   \n",
       "max      127.000000    221.000000   1342.000000    367.000000      4.000000   \n",
       "\n",
       "       Additional_Info         Price  \n",
       "count     10683.000000  10683.000000  \n",
       "mean          7.393054   9087.064121  \n",
       "std           1.214211   4611.359167  \n",
       "min           0.000000   1759.000000  \n",
       "25%           8.000000   5277.000000  \n",
       "50%           8.000000   8372.000000  \n",
       "75%           8.000000  12373.000000  \n",
       "max           9.000000  79512.000000  "
      ]
     },
     "execution_count": 22,
     "metadata": {},
     "output_type": "execute_result"
    }
   ],
   "source": [
    "df.describe()"
   ]
  },
  {
   "cell_type": "markdown",
   "id": "43fa6bc7",
   "metadata": {},
   "source": [
    "Observation:\n",
    "\n",
    "we can see the Data is deviated by looking at std dev which is getting more than +-1.\n",
    "\n",
    "Comparison in Mean and 50%: Some of the column is having Mean value greater than 50% hence we can say that we have skewness prsent in Data which can be find by skew method and can be removed by Power transform or Boxcox method.\n",
    "\n",
    "Comparison in 75% and Max: Here we can see some columns are having big diff within 75% and Max data hence we can say that outliers can be present which we can see by percentile and can be removed by Z score method.\n",
    "\n",
    "If we have any irrelavant column by checking corelation so we can remove those columns\n"
   ]
  },
  {
   "cell_type": "markdown",
   "id": "19913785",
   "metadata": {},
   "source": [
    "# Checking correlation"
   ]
  },
  {
   "cell_type": "code",
   "execution_count": 23,
   "id": "5666741e",
   "metadata": {},
   "outputs": [
    {
     "data": {
      "image/png": "[encoded data removed]",
      "text/plain": [
       "<Figure size 1440x1080 with 2 Axes>"
      ]
     },
     "metadata": {
      "needs_background": "light"
     },
     "output_type": "display_data"
    }
   ],
   "source": [
    "corr_mat=df.corr()\n",
    "plt.figure(figsize=(20,15))\n",
    "sns.heatmap(corr_mat,annot=True,cmap='Blues')\n",
    "plt.show()"
   ]
  },
  {
   "cell_type": "code",
   "execution_count": 24,
   "id": "06e20b56",
   "metadata": {},
   "outputs": [
    {
     "data": {
      "text/plain": [
       "Price              1.000000\n",
       "Route              0.164118\n",
       "Arrival_Time       0.027377\n",
       "Source             0.015998\n",
       "Dep_Time           0.002949\n",
       "Date_of_Journey   -0.036942\n",
       "Airline           -0.039520\n",
       "Additional_Info   -0.065478\n",
       "Destination       -0.071112\n",
       "Duration          -0.144270\n",
       "Total_Stops       -0.571174\n",
       "Name: Price, dtype: float64"
      ]
     },
     "execution_count": 24,
     "metadata": {},
     "output_type": "execute_result"
    }
   ],
   "source": [
    "corr_mat['Price'].sort_values(ascending=False)"
   ]
  },
  {
   "cell_type": "markdown",
   "id": "28e0faf9",
   "metadata": {},
   "source": [
    "we can see the Route is positively corelated with output column where Toatl_stops are negatively corelated.\n",
    "as it is not close to -1 hence we will drop this columns as our output is incremental and will use Linear regression as well."
   ]
  },
  {
   "cell_type": "code",
   "execution_count": 25,
   "id": "7a8526de",
   "metadata": {},
   "outputs": [],
   "source": [
    "df.drop(columns=['Total_Stops'],axis=1,inplace=True)"
   ]
  },
  {
   "cell_type": "code",
   "execution_count": 26,
   "id": "97816949",
   "metadata": {},
   "outputs": [
    {
     "data": {
      "image/png": "[encoded data removed]",
      "text/plain": [
       "<Figure size 1440x1080 with 2 Axes>"
      ]
     },
     "metadata": {
      "needs_background": "light"
     },
     "output_type": "display_data"
    }
   ],
   "source": [
    "corr_mat=df.corr()\n",
    "plt.figure(figsize=(20,15))\n",
    "sns.heatmap(corr_mat,annot=True,cmap='Blues')\n",
    "plt.show()"
   ]
  },
  {
   "cell_type": "markdown",
   "id": "6903d321",
   "metadata": {},
   "source": [
    "The duration column is near to zero with negative corelation hence we will not drop this column"
   ]
  },
  {
   "cell_type": "markdown",
   "id": "9493d3a0",
   "metadata": {},
   "source": [
    "# Normal distribution"
   ]
  },
  {
   "cell_type": "markdown",
   "id": "d7cf8d13",
   "metadata": {},
   "source": [
    "checking normal distribution for skewness and outliers"
   ]
  },
  {
   "cell_type": "code",
   "execution_count": 31,
   "id": "dbd5908e",
   "metadata": {},
   "outputs": [
    {
     "data": {
      "image/png": "[encoded data removed]",
      "text/plain": [
       "<Figure size 2160x720 with 10 Axes>"
      ]
     },
     "metadata": {},
     "output_type": "display_data"
    }
   ],
   "source": [
    "# checking wether te data is normally distributed or not!!!!!!!!!!!!\n",
    "plt.figure(figsize=(30,10),facecolor='pink')\n",
    "plotnumber=1\n",
    "\n",
    "for column in df:\n",
    "    if plotnumber<=12:\n",
    "        ax = plt.subplot(2,6,plotnumber)\n",
    "        sns.distplot(df[column])\n",
    "        plt.xlabel(column,fontsize=8)\n",
    "    \n",
    "    \n",
    "    plotnumber+=1\n",
    "plt.tight_layout()"
   ]
  },
  {
   "cell_type": "markdown",
   "id": "9f7e87c7",
   "metadata": {},
   "source": [
    "The data is skewed"
   ]
  },
  {
   "cell_type": "markdown",
   "id": "a9e61e6b",
   "metadata": {},
   "source": [
    "# Checking and Handling Outliers"
   ]
  },
  {
   "cell_type": "code",
   "execution_count": 34,
   "id": "bd7f2811",
   "metadata": {},
   "outputs": [
    {
     "data": {
      "image/png": "[encoded data removed]",
      "text/plain": [
       "<Figure size 1440x360 with 10 Axes>"
      ]
     },
     "metadata": {},
     "output_type": "display_data"
    }
   ],
   "source": [
    "plt.figure(figsize=(20,5),facecolor='pink')\n",
    "plotnumber=1\n",
    "\n",
    "for column in df:\n",
    "    if plotnumber<=12:\n",
    "        ax = plt.subplot(2,6,plotnumber)\n",
    "        plt.boxplot(df[column])\n",
    "        plt.xlabel(column,fontsize=8)\n",
    "    \n",
    "    \n",
    "    plotnumber+=1\n",
    "plt.tight_layout()"
   ]
  },
  {
   "cell_type": "markdown",
   "id": "14596dc9",
   "metadata": {},
   "source": [
    "here we can see the airline,source, additional info columns are having outliers hence we will use Z score method to check and remove outliers"
   ]
  },
  {
   "cell_type": "markdown",
   "id": "7cac71e2",
   "metadata": {},
   "source": [
    "# Removing outliers by zscore method"
   ]
  },
  {
   "cell_type": "code",
   "execution_count": 35,
   "id": "ddf377e6",
   "metadata": {},
   "outputs": [],
   "source": [
    "from scipy.stats import zscore"
   ]
  },
  {
   "cell_type": "code",
   "execution_count": 36,
   "id": "a9d06472",
   "metadata": {},
   "outputs": [
    {
     "data": {
      "text/plain": [
       "array([[0.41067545, 0.02147223, 1.65844074, ..., 0.42287466, 0.49989167,\n",
       "        1.12554821],\n",
       "       [1.26099927, 1.4375315 , 0.89005213, ..., 1.30672664, 0.49989167,\n",
       "        0.30904789],\n",
       "       [0.01448647, 1.56153172, 0.04055451, ..., 0.81083539, 0.49989167,\n",
       "        1.03985835],\n",
       "       ...,\n",
       "       [0.01448647, 0.42675104, 1.65844074, ..., 0.79114632, 0.49989167,\n",
       "        0.40295085],\n",
       "       [2.56545795, 1.92386608, 1.65844074, ..., 0.40446108, 0.49989167,\n",
       "        0.77224576],\n",
       "       [1.26099927, 1.48047596, 0.04055451, ..., 1.40800134, 0.49989167,\n",
       "        0.57815073]])"
      ]
     },
     "execution_count": 36,
     "metadata": {},
     "output_type": "execute_result"
    }
   ],
   "source": [
    "z=np.abs(zscore(df))\n",
    "z"
   ]
  },
  {
   "cell_type": "code",
   "execution_count": 37,
   "id": "0d7ab314",
   "metadata": {},
   "outputs": [
    {
     "name": "stdout",
     "output_type": "stream",
     "text": [
      "(array([  123,   396,   486,   510,   597,   628,   657,   785,   785,\n",
      "         826,   936,   946,   959,   975,  1043,  1196,  1246,  1341,\n",
      "        1424,  1466,  1478,  1629,  1654,  1785,  1918,  2055,  2079,\n",
      "        2099,  2108,  2405,  2481,  2495,  2495,  2556,  2556,  2618,\n",
      "        2635,  2693,  2924,  2924,  3032,  3032,  3111,  3111,  3257,\n",
      "        3400,  3535,  3700,  3700,  3788,  4012,  4521,  4521,  4676,\n",
      "        4829,  5013,  5013,  5136,  5372,  5372,  5439,  5628,  5662,\n",
      "        5701,  5710,  5719,  5738,  5745,  5856,  5986,  6024,  6314,\n",
      "        6336,  6407,  6576,  6576,  6588,  6605,  6991,  7351,  7356,\n",
      "        7377,  7537,  7554,  7617,  7713,  7724,  7724,  7756,  7902,\n",
      "        8020,  8080,  8451,  8470,  8536,  8598,  8856,  8940,  8957,\n",
      "        8957,  8990,  9019,  9019,  9193,  9239,  9632,  9657,  9715,\n",
      "        9974, 10052, 10113, 10160, 10182, 10189, 10353, 10364, 10364,\n",
      "       10383, 10439, 10511, 10511], dtype=int64), array([9, 9, 9, 9, 9, 9, 9, 8, 9, 9, 9, 9, 9, 9, 8, 9, 9, 9, 9, 9, 9, 9,\n",
      "       9, 9, 9, 9, 8, 9, 9, 8, 8, 8, 9, 8, 9, 9, 9, 9, 8, 9, 8, 9, 8, 9,\n",
      "       9, 9, 9, 8, 9, 8, 9, 8, 9, 9, 9, 8, 9, 9, 8, 9, 9, 8, 9, 9, 9, 9,\n",
      "       9, 9, 9, 9, 8, 9, 8, 9, 8, 9, 9, 9, 9, 9, 9, 9, 9, 9, 9, 9, 8, 9,\n",
      "       9, 9, 9, 9, 9, 9, 9, 9, 9, 9, 8, 9, 9, 8, 9, 9, 9, 9, 8, 9, 9, 9,\n",
      "       9, 9, 9, 9, 9, 8, 9, 9, 9, 8, 9], dtype=int64))\n"
     ]
    }
   ],
   "source": [
    "threshold=3\n",
    "print(np.where(z>3))"
   ]
  },
  {
   "cell_type": "code",
   "execution_count": 38,
   "id": "1623419d",
   "metadata": {},
   "outputs": [
    {
     "data": {
      "text/html": [
       "<div>\n",
       "<style scoped>\n",
       "    .dataframe tbody tr th:only-of-type {\n",
       "        vertical-align: middle;\n",
       "    }\n",
       "\n",
       "    .dataframe tbody tr th {\n",
       "        vertical-align: top;\n",
       "    }\n",
       "\n",
       "    .dataframe thead th {\n",
       "        text-align: right;\n",
       "    }\n",
       "</style>\n",
       "<table border=\"1\" class=\"dataframe\">\n",
       "  <thead>\n",
       "    <tr style=\"text-align: right;\">\n",
       "      <th></th>\n",
       "      <th>Airline</th>\n",
       "      <th>Date_of_Journey</th>\n",
       "      <th>Source</th>\n",
       "      <th>Destination</th>\n",
       "      <th>Route</th>\n",
       "      <th>Dep_Time</th>\n",
       "      <th>Arrival_Time</th>\n",
       "      <th>Duration</th>\n",
       "      <th>Additional_Info</th>\n",
       "      <th>Price</th>\n",
       "    </tr>\n",
       "  </thead>\n",
       "  <tbody>\n",
       "    <tr>\n",
       "      <th>0</th>\n",
       "      <td>3</td>\n",
       "      <td>24</td>\n",
       "      <td>0</td>\n",
       "      <td>5</td>\n",
       "      <td>18</td>\n",
       "      <td>211</td>\n",
       "      <td>233</td>\n",
       "      <td>240</td>\n",
       "      <td>8</td>\n",
       "      <td>3897</td>\n",
       "    </tr>\n",
       "    <tr>\n",
       "      <th>1</th>\n",
       "      <td>1</td>\n",
       "      <td>6</td>\n",
       "      <td>3</td>\n",
       "      <td>0</td>\n",
       "      <td>84</td>\n",
       "      <td>31</td>\n",
       "      <td>906</td>\n",
       "      <td>336</td>\n",
       "      <td>8</td>\n",
       "      <td>7662</td>\n",
       "    </tr>\n",
       "    <tr>\n",
       "      <th>2</th>\n",
       "      <td>4</td>\n",
       "      <td>43</td>\n",
       "      <td>2</td>\n",
       "      <td>1</td>\n",
       "      <td>118</td>\n",
       "      <td>70</td>\n",
       "      <td>413</td>\n",
       "      <td>106</td>\n",
       "      <td>8</td>\n",
       "      <td>13882</td>\n",
       "    </tr>\n",
       "    <tr>\n",
       "      <th>3</th>\n",
       "      <td>3</td>\n",
       "      <td>10</td>\n",
       "      <td>3</td>\n",
       "      <td>0</td>\n",
       "      <td>91</td>\n",
       "      <td>164</td>\n",
       "      <td>1324</td>\n",
       "      <td>311</td>\n",
       "      <td>8</td>\n",
       "      <td>6218</td>\n",
       "    </tr>\n",
       "    <tr>\n",
       "      <th>4</th>\n",
       "      <td>3</td>\n",
       "      <td>0</td>\n",
       "      <td>0</td>\n",
       "      <td>5</td>\n",
       "      <td>29</td>\n",
       "      <td>149</td>\n",
       "      <td>1237</td>\n",
       "      <td>303</td>\n",
       "      <td>8</td>\n",
       "      <td>13302</td>\n",
       "    </tr>\n",
       "    <tr>\n",
       "      <th>...</th>\n",
       "      <td>...</td>\n",
       "      <td>...</td>\n",
       "      <td>...</td>\n",
       "      <td>...</td>\n",
       "      <td>...</td>\n",
       "      <td>...</td>\n",
       "      <td>...</td>\n",
       "      <td>...</td>\n",
       "      <td>...</td>\n",
       "      <td>...</td>\n",
       "    </tr>\n",
       "    <tr>\n",
       "      <th>10678</th>\n",
       "      <td>0</td>\n",
       "      <td>41</td>\n",
       "      <td>3</td>\n",
       "      <td>0</td>\n",
       "      <td>64</td>\n",
       "      <td>183</td>\n",
       "      <td>1259</td>\n",
       "      <td>236</td>\n",
       "      <td>8</td>\n",
       "      <td>4107</td>\n",
       "    </tr>\n",
       "    <tr>\n",
       "      <th>10679</th>\n",
       "      <td>1</td>\n",
       "      <td>29</td>\n",
       "      <td>3</td>\n",
       "      <td>0</td>\n",
       "      <td>64</td>\n",
       "      <td>193</td>\n",
       "      <td>1305</td>\n",
       "      <td>237</td>\n",
       "      <td>8</td>\n",
       "      <td>4145</td>\n",
       "    </tr>\n",
       "    <tr>\n",
       "      <th>10680</th>\n",
       "      <td>4</td>\n",
       "      <td>29</td>\n",
       "      <td>0</td>\n",
       "      <td>2</td>\n",
       "      <td>18</td>\n",
       "      <td>58</td>\n",
       "      <td>824</td>\n",
       "      <td>280</td>\n",
       "      <td>8</td>\n",
       "      <td>7229</td>\n",
       "    </tr>\n",
       "    <tr>\n",
       "      <th>10681</th>\n",
       "      <td>10</td>\n",
       "      <td>0</td>\n",
       "      <td>0</td>\n",
       "      <td>5</td>\n",
       "      <td>18</td>\n",
       "      <td>92</td>\n",
       "      <td>938</td>\n",
       "      <td>238</td>\n",
       "      <td>8</td>\n",
       "      <td>12648</td>\n",
       "    </tr>\n",
       "    <tr>\n",
       "      <th>10682</th>\n",
       "      <td>1</td>\n",
       "      <td>42</td>\n",
       "      <td>2</td>\n",
       "      <td>1</td>\n",
       "      <td>108</td>\n",
       "      <td>85</td>\n",
       "      <td>1124</td>\n",
       "      <td>347</td>\n",
       "      <td>8</td>\n",
       "      <td>11753</td>\n",
       "    </tr>\n",
       "  </tbody>\n",
       "</table>\n",
       "<p>10578 rows × 10 columns</p>\n",
       "</div>"
      ],
      "text/plain": [
       "       Airline  Date_of_Journey  Source  Destination  Route  Dep_Time  \\\n",
       "0            3               24       0            5     18       211   \n",
       "1            1                6       3            0     84        31   \n",
       "2            4               43       2            1    118        70   \n",
       "3            3               10       3            0     91       164   \n",
       "4            3                0       0            5     29       149   \n",
       "...        ...              ...     ...          ...    ...       ...   \n",
       "10678        0               41       3            0     64       183   \n",
       "10679        1               29       3            0     64       193   \n",
       "10680        4               29       0            2     18        58   \n",
       "10681       10                0       0            5     18        92   \n",
       "10682        1               42       2            1    108        85   \n",
       "\n",
       "       Arrival_Time  Duration  Additional_Info  Price  \n",
       "0               233       240                8   3897  \n",
       "1               906       336                8   7662  \n",
       "2               413       106                8  13882  \n",
       "3              1324       311                8   6218  \n",
       "4              1237       303                8  13302  \n",
       "...             ...       ...              ...    ...  \n",
       "10678          1259       236                8   4107  \n",
       "10679          1305       237                8   4145  \n",
       "10680           824       280                8   7229  \n",
       "10681           938       238                8  12648  \n",
       "10682          1124       347                8  11753  \n",
       "\n",
       "[10578 rows x 10 columns]"
      ]
     },
     "execution_count": 38,
     "metadata": {},
     "output_type": "execute_result"
    }
   ],
   "source": [
    "df1=df[(z<3).all(axis=1)]\n",
    "df1"
   ]
  },
  {
   "cell_type": "code",
   "execution_count": 39,
   "id": "8a9bb1de",
   "metadata": {},
   "outputs": [
    {
     "data": {
      "image/png": "[encoded data removed]",
      "text/plain": [
       "<Figure size 1440x360 with 10 Axes>"
      ]
     },
     "metadata": {},
     "output_type": "display_data"
    }
   ],
   "source": [
    "plt.figure(figsize=(20,5),facecolor='pink')\n",
    "plotnumber=1\n",
    "\n",
    "for column in df:\n",
    "    if plotnumber<=12:\n",
    "        ax = plt.subplot(2,6,plotnumber)\n",
    "        plt.boxplot(df[column])\n",
    "        plt.xlabel(column,fontsize=8)\n",
    "    \n",
    "    \n",
    "    plotnumber+=1\n",
    "plt.tight_layout()"
   ]
  },
  {
   "cell_type": "markdown",
   "id": "d9bb2508",
   "metadata": {},
   "source": [
    "we can see outlier is still present but we cant use Z score twice as to avoid Data loss"
   ]
  },
  {
   "cell_type": "markdown",
   "id": "072693bf",
   "metadata": {},
   "source": [
    "# checking outliers with percentile technique"
   ]
  },
  {
   "cell_type": "code",
   "execution_count": 40,
   "id": "8bbb8f7b",
   "metadata": {},
   "outputs": [
    {
     "data": {
      "text/plain": [
       "Index(['Airline', 'Date_of_Journey', 'Source', 'Destination', 'Route',\n",
       "       'Dep_Time', 'Arrival_Time', 'Duration', 'Additional_Info', 'Price'],\n",
       "      dtype='object')"
      ]
     },
     "execution_count": 40,
     "metadata": {},
     "output_type": "execute_result"
    }
   ],
   "source": [
    "df1.columns"
   ]
  },
  {
   "cell_type": "code",
   "execution_count": 41,
   "id": "f9b6e878",
   "metadata": {},
   "outputs": [
    {
     "data": {
      "text/plain": [
       "0.0     0.0\n",
       "0.1     1.0\n",
       "0.2     2.0\n",
       "0.3     3.0\n",
       "0.4     3.0\n",
       "0.5     4.0\n",
       "0.6     4.0\n",
       "0.7     4.0\n",
       "0.8     6.0\n",
       "0.9     8.0\n",
       "1.0    11.0\n",
       "Name: Airline, dtype: float64"
      ]
     },
     "execution_count": 41,
     "metadata": {},
     "output_type": "execute_result"
    }
   ],
   "source": [
    "df1['Airline'].quantile([0,0.1,0.2,0.3,0.4,0.5,0.6,0.7,0.8,0.9,1])"
   ]
  },
  {
   "cell_type": "markdown",
   "id": "bb4290c1",
   "metadata": {},
   "source": [
    "here we can see the diff in each quantile is around 1 or 2 but 90th and 100th quantile is having diff of 3 hence some outlier is present."
   ]
  },
  {
   "cell_type": "code",
   "execution_count": 42,
   "id": "258acb0c",
   "metadata": {},
   "outputs": [
    {
     "data": {
      "text/plain": [
       "0.0     0.0\n",
       "0.1     7.0\n",
       "0.2    11.0\n",
       "0.3    15.0\n",
       "0.4    20.0\n",
       "0.5    24.0\n",
       "0.6    28.0\n",
       "0.7    32.0\n",
       "0.8    37.0\n",
       "0.9    41.0\n",
       "1.0    43.0\n",
       "Name: Date_of_Journey, dtype: float64"
      ]
     },
     "execution_count": 42,
     "metadata": {},
     "output_type": "execute_result"
    }
   ],
   "source": [
    "df1['Date_of_Journey'].quantile([0,0.1,0.2,0.3,0.4,0.5,0.6,0.7,0.8,0.9,1])"
   ]
  },
  {
   "cell_type": "markdown",
   "id": "47514a98",
   "metadata": {},
   "source": [
    "here we can see the diff in each quantile is almost same hence not outlier is present"
   ]
  },
  {
   "cell_type": "code",
   "execution_count": 44,
   "id": "44b1aca5",
   "metadata": {},
   "outputs": [
    {
     "data": {
      "text/plain": [
       "0.0    0.0\n",
       "0.1    0.0\n",
       "0.2    0.4\n",
       "0.3    2.0\n",
       "0.4    2.0\n",
       "0.5    2.0\n",
       "0.6    2.0\n",
       "0.7    3.0\n",
       "0.8    3.0\n",
       "0.9    3.0\n",
       "1.0    4.0\n",
       "Name: Source, dtype: float64"
      ]
     },
     "execution_count": 44,
     "metadata": {},
     "output_type": "execute_result"
    }
   ],
   "source": [
    "df1['Source'].quantile([0,0.1,0.2,0.3,0.4,0.5,0.6,0.7,0.8,0.9,1])"
   ]
  },
  {
   "cell_type": "markdown",
   "id": "cca24efc",
   "metadata": {},
   "source": [
    "herewe can see small amount of outlier is present on starting quatiles"
   ]
  },
  {
   "cell_type": "code",
   "execution_count": 45,
   "id": "917554ba",
   "metadata": {},
   "outputs": [
    {
     "data": {
      "text/plain": [
       "0.0    4.0\n",
       "0.1    5.0\n",
       "0.2    7.0\n",
       "0.3    8.0\n",
       "0.4    8.0\n",
       "0.5    8.0\n",
       "0.6    8.0\n",
       "0.7    8.0\n",
       "0.8    8.0\n",
       "0.9    8.0\n",
       "1.0    9.0\n",
       "Name: Additional_Info, dtype: float64"
      ]
     },
     "execution_count": 45,
     "metadata": {},
     "output_type": "execute_result"
    }
   ],
   "source": [
    "df1['Additional_Info'].quantile([0,0.1,0.2,0.3,0.4,0.5,0.6,0.7,0.8,0.9,1])"
   ]
  },
  {
   "cell_type": "markdown",
   "id": "608eef11",
   "metadata": {},
   "source": [
    "we can see on starting we have diff in 0th,1st and 2nd quatile hence small amount of outliers are present"
   ]
  },
  {
   "cell_type": "markdown",
   "id": "6424f802",
   "metadata": {},
   "source": [
    "# checking and Handling skewness"
   ]
  },
  {
   "cell_type": "code",
   "execution_count": 46,
   "id": "73577425",
   "metadata": {},
   "outputs": [],
   "source": [
    "X=df1.drop('Price',axis=1)\n",
    "y=df1.Price"
   ]
  },
  {
   "cell_type": "code",
   "execution_count": 47,
   "id": "aee26cb0",
   "metadata": {},
   "outputs": [
    {
     "data": {
      "text/plain": [
       "(10578, 9)"
      ]
     },
     "execution_count": 47,
     "metadata": {},
     "output_type": "execute_result"
    }
   ],
   "source": [
    "X.shape"
   ]
  },
  {
   "cell_type": "code",
   "execution_count": 48,
   "id": "f2fa0bb2",
   "metadata": {},
   "outputs": [
    {
     "data": {
      "text/plain": [
       "(10578,)"
      ]
     },
     "execution_count": 48,
     "metadata": {},
     "output_type": "execute_result"
    }
   ],
   "source": [
    "y.shape"
   ]
  },
  {
   "cell_type": "code",
   "execution_count": 49,
   "id": "ad696d80",
   "metadata": {},
   "outputs": [
    {
     "data": {
      "text/plain": [
       "Destination        1.269454\n",
       "Airline            0.731709\n",
       "Dep_Time           0.194141\n",
       "Date_of_Journey   -0.061918\n",
       "Duration          -0.216095\n",
       "Source            -0.439204\n",
       "Route             -0.511368\n",
       "Arrival_Time      -0.608273\n",
       "Additional_Info   -1.533587\n",
       "dtype: float64"
      ]
     },
     "execution_count": 49,
     "metadata": {},
     "output_type": "execute_result"
    }
   ],
   "source": [
    "X.skew().sort_values(ascending=False)"
   ]
  },
  {
   "cell_type": "markdown",
   "id": "f16698d5",
   "metadata": {},
   "source": [
    "we have some skewness present in Destination, Airline, Route, Arrival_time, Additional_Info as it is not in range of +-0.5"
   ]
  },
  {
   "cell_type": "markdown",
   "id": "f6b16bb9",
   "metadata": {},
   "source": [
    "# Using power_tranform method "
   ]
  },
  {
   "cell_type": "code",
   "execution_count": 50,
   "id": "1bc23098",
   "metadata": {},
   "outputs": [],
   "source": [
    "from sklearn.preprocessing import power_transform"
   ]
  },
  {
   "cell_type": "code",
   "execution_count": 51,
   "id": "f6804790",
   "metadata": {},
   "outputs": [],
   "source": [
    "x_new=power_transform(X)"
   ]
  },
  {
   "cell_type": "code",
   "execution_count": 52,
   "id": "7c219cd6",
   "metadata": {},
   "outputs": [
    {
     "data": {
      "text/plain": [
       "3    0.040863\n",
       "0   -0.015590\n",
       "5   -0.150696\n",
       "1   -0.214275\n",
       "2   -0.234422\n",
       "6   -0.382489\n",
       "7   -0.391174\n",
       "4   -0.437329\n",
       "8   -1.363711\n",
       "dtype: float64"
      ]
     },
     "execution_count": 52,
     "metadata": {},
     "output_type": "execute_result"
    }
   ],
   "source": [
    "pd.DataFrame(x_new).skew().sort_values(ascending=False)"
   ]
  },
  {
   "cell_type": "code",
   "execution_count": 54,
   "id": "7a4fbcdc",
   "metadata": {},
   "outputs": [
    {
     "data": {
      "text/plain": [
       "Destination        0.040863\n",
       "Airline           -0.015590\n",
       "Dep_Time          -0.150696\n",
       "Date_of_Journey   -0.214275\n",
       "Source            -0.234422\n",
       "Arrival_Time      -0.382489\n",
       "Duration          -0.391174\n",
       "Route             -0.437329\n",
       "Additional_Info   -1.363711\n",
       "dtype: float64"
      ]
     },
     "execution_count": 54,
     "metadata": {},
     "output_type": "execute_result"
    }
   ],
   "source": [
    "pd.DataFrame(x_new,columns=X.columns).skew().sort_values(ascending=False) # assigning columns from X"
   ]
  },
  {
   "cell_type": "code",
   "execution_count": 55,
   "id": "d8602674",
   "metadata": {},
   "outputs": [],
   "source": [
    "x=pd.DataFrame(x_new,columns=X.columns)"
   ]
  },
  {
   "cell_type": "code",
   "execution_count": 56,
   "id": "635e517d",
   "metadata": {},
   "outputs": [
    {
     "data": {
      "text/plain": [
       "Destination        0.040863\n",
       "Airline           -0.015590\n",
       "Dep_Time          -0.150696\n",
       "Date_of_Journey   -0.214275\n",
       "Source            -0.234422\n",
       "Arrival_Time      -0.382489\n",
       "Duration          -0.391174\n",
       "Route             -0.437329\n",
       "Additional_Info   -1.363711\n",
       "dtype: float64"
      ]
     },
     "execution_count": 56,
     "metadata": {},
     "output_type": "execute_result"
    }
   ],
   "source": [
    "x.skew().sort_values(ascending=False)"
   ]
  },
  {
   "cell_type": "markdown",
   "id": "17f7586d",
   "metadata": {},
   "source": [
    "here we can see the Additional Info column is still having skewness hence we will try to use BoxCox method"
   ]
  },
  {
   "cell_type": "markdown",
   "id": "9d5a3cdd",
   "metadata": {},
   "source": [
    "# BOXCOX Method"
   ]
  },
  {
   "cell_type": "code",
   "execution_count": 58,
   "id": "0d0e3c95",
   "metadata": {},
   "outputs": [
    {
     "data": {
      "text/plain": [
       "[]"
      ]
     },
     "execution_count": 58,
     "metadata": {},
     "output_type": "execute_result"
    },
    {
     "data": {
      "image/png": "[encoded data removed]",
      "text/plain": [
       "<Figure size 432x288 with 1 Axes>"
      ]
     },
     "metadata": {
      "needs_background": "light"
     },
     "output_type": "display_data"
    }
   ],
   "source": [
    "x['Additional_Info'].hist().plot()"
   ]
  },
  {
   "cell_type": "markdown",
   "id": "b7919b75",
   "metadata": {},
   "source": [
    "we can see the data is negative hence BOX COX method will work here"
   ]
  },
  {
   "cell_type": "markdown",
   "id": "e51d2ec7",
   "metadata": {},
   "source": [
    "# Checking Multicolinearity with VIF"
   ]
  },
  {
   "cell_type": "code",
   "execution_count": 61,
   "id": "4f083d5f",
   "metadata": {},
   "outputs": [],
   "source": [
    "from sklearn.preprocessing import StandardScaler\n",
    "from statsmodels.stats.outliers_influence import variance_inflation_factor\n",
    "scaler=StandardScaler()\n",
    "x_scaled=scaler.fit_transform(x)"
   ]
  },
  {
   "cell_type": "code",
   "execution_count": 62,
   "id": "51f59b45",
   "metadata": {},
   "outputs": [
    {
     "data": {
      "text/html": [
       "<div>\n",
       "<style scoped>\n",
       "    .dataframe tbody tr th:only-of-type {\n",
       "        vertical-align: middle;\n",
       "    }\n",
       "\n",
       "    .dataframe tbody tr th {\n",
       "        vertical-align: top;\n",
       "    }\n",
       "\n",
       "    .dataframe thead th {\n",
       "        text-align: right;\n",
       "    }\n",
       "</style>\n",
       "<table border=\"1\" class=\"dataframe\">\n",
       "  <thead>\n",
       "    <tr style=\"text-align: right;\">\n",
       "      <th></th>\n",
       "      <th>vif</th>\n",
       "      <th>feature</th>\n",
       "    </tr>\n",
       "  </thead>\n",
       "  <tbody>\n",
       "    <tr>\n",
       "      <th>2</th>\n",
       "      <td>1.720346</td>\n",
       "      <td>Source</td>\n",
       "    </tr>\n",
       "    <tr>\n",
       "      <th>3</th>\n",
       "      <td>1.653160</td>\n",
       "      <td>Destination</td>\n",
       "    </tr>\n",
       "    <tr>\n",
       "      <th>4</th>\n",
       "      <td>1.202818</td>\n",
       "      <td>Route</td>\n",
       "    </tr>\n",
       "    <tr>\n",
       "      <th>1</th>\n",
       "      <td>1.084300</td>\n",
       "      <td>Date_of_Journey</td>\n",
       "    </tr>\n",
       "    <tr>\n",
       "      <th>7</th>\n",
       "      <td>1.061707</td>\n",
       "      <td>Duration</td>\n",
       "    </tr>\n",
       "    <tr>\n",
       "      <th>8</th>\n",
       "      <td>1.047857</td>\n",
       "      <td>Additional_Info</td>\n",
       "    </tr>\n",
       "    <tr>\n",
       "      <th>0</th>\n",
       "      <td>1.038650</td>\n",
       "      <td>Airline</td>\n",
       "    </tr>\n",
       "    <tr>\n",
       "      <th>5</th>\n",
       "      <td>1.034570</td>\n",
       "      <td>Dep_Time</td>\n",
       "    </tr>\n",
       "    <tr>\n",
       "      <th>6</th>\n",
       "      <td>1.008096</td>\n",
       "      <td>Arrival_Time</td>\n",
       "    </tr>\n",
       "  </tbody>\n",
       "</table>\n",
       "</div>"
      ],
      "text/plain": [
       "        vif          feature\n",
       "2  1.720346           Source\n",
       "3  1.653160      Destination\n",
       "4  1.202818            Route\n",
       "1  1.084300  Date_of_Journey\n",
       "7  1.061707         Duration\n",
       "8  1.047857  Additional_Info\n",
       "0  1.038650          Airline\n",
       "5  1.034570         Dep_Time\n",
       "6  1.008096     Arrival_Time"
      ]
     },
     "execution_count": 62,
     "metadata": {},
     "output_type": "execute_result"
    }
   ],
   "source": [
    "from statsmodels.stats.outliers_influence import variance_inflation_factor\n",
    "vif=pd.DataFrame()\n",
    "vif['vif']=[variance_inflation_factor(x_scaled,i)for i in range(x_scaled.shape[1])]\n",
    "vif['feature']=x.columns\n",
    "vif.sort_values(by='vif',ascending=False)"
   ]
  },
  {
   "cell_type": "markdown",
   "id": "beda0202",
   "metadata": {},
   "source": [
    "we can see all columns are in range of VIF i.e Not Greter tha 5 hence we will not drop any column"
   ]
  },
  {
   "cell_type": "markdown",
   "id": "24f06849",
   "metadata": {},
   "source": [
    "# Model Prediction"
   ]
  },
  {
   "cell_type": "code",
   "execution_count": 66,
   "id": "ea6131ba",
   "metadata": {},
   "outputs": [
    {
     "name": "stdout",
     "output_type": "stream",
     "text": [
      "accuracy 0.09933951519499473 Random state 0.1\n",
      "accuracy 0.10687730557528774 Random state 0.11\n",
      "accuracy 0.13672492940138348 Random state 0.12\n",
      "accuracy 0.15330521194336344 Random state 0.15\n",
      "accuracy 0.15583713207074879 Random state 0.21\n",
      "accuracy 0.15820146608361152 Random state 0.38\n",
      "Best accuracy is 15.820146608361153 on Random state 0.38\n"
     ]
    }
   ],
   "source": [
    "#To get best Test size number from 1 to 40%\n",
    "from sklearn.linear_model import LinearRegression\n",
    "from sklearn.ensemble import RandomForestRegressor \n",
    "from sklearn.neighbors import KNeighborsRegressor\n",
    "from sklearn.svm import SVR\n",
    "#from sklearn.naive_bayes import MultinomialNB\n",
    "from sklearn.metrics import accuracy_score\n",
    "from sklearn.metrics import confusion_matrix,classification_report\n",
    "from sklearn.metrics import mean_squared_error,mean_absolute_error\n",
    "from sklearn.model_selection import train_test_split\n",
    "\n",
    "\n",
    "maxAcc = 0\n",
    "maxRs=0\n",
    "\n",
    "for i in range(10,41):\n",
    "    i1=i*0.010\n",
    "    x_train, x_test, y_train, y_test= train_test_split(x,y,test_size=i1)\n",
    "    lr=LinearRegression()\n",
    "    lr.fit(x_train,y_train)\n",
    "    pred=lr.predict(x_test)\n",
    "    acc=lr.score(x_test,y_test)\n",
    "    #print('accuracy',acc,'Random state',i)\n",
    "    \n",
    "    if acc>maxAcc:\n",
    "        maxAcc=acc\n",
    "        maxRs=i1\n",
    "        print('accuracy',maxAcc,'Random state',i1)\n",
    "print(\"Best accuracy is\",maxAcc*100,\"on Random state\",maxRs)"
   ]
  },
  {
   "cell_type": "code",
   "execution_count": 67,
   "id": "b7b78e82",
   "metadata": {},
   "outputs": [
    {
     "name": "stdout",
     "output_type": "stream",
     "text": [
      "accuracy 0.13912455250898714 Random state 1\n",
      "accuracy 0.1392398814952367 Random state 8\n",
      "accuracy 0.14425757086939472 Random state 13\n",
      "accuracy 0.1501097056784061 Random state 44\n",
      "accuracy 0.1511097973383878 Random state 65\n",
      "accuracy 0.15147649138827357 Random state 106\n",
      "accuracy 0.15426808008846216 Random state 171\n",
      "accuracy 0.15483801693516874 Random state 248\n",
      "Best accuracy is 15.483801693516874 on Random state 248\n"
     ]
    }
   ],
   "source": [
    "maxAcc = 0\n",
    "maxRs=0\n",
    "\n",
    "for i in range(1,500):\n",
    "    x_train, x_test, y_train, y_test= train_test_split(x,y,test_size=0.38,random_state=i) \n",
    "    lr=LinearRegression()\n",
    "    lr.fit(x_train,y_train)\n",
    "    pred=lr.predict(x_test)\n",
    "    acc=lr.score(x_test,y_test)\n",
    "    #print('accuracy',acc,'Random state',i)\n",
    "    \n",
    "    if acc>maxAcc:\n",
    "        maxAcc=acc\n",
    "        maxRs=i\n",
    "        print('accuracy',maxAcc,'Random state',i)\n",
    "        \n",
    "print(\"Best accuracy is\",maxAcc*100,\"on Random state\",maxRs) "
   ]
  },
  {
   "cell_type": "code",
   "execution_count": 68,
   "id": "94a4c4e6",
   "metadata": {},
   "outputs": [
    {
     "data": {
      "text/plain": [
       "(15.655710501571873, 3070.5629664323624, 3680.603965363544)"
      ]
     },
     "execution_count": 68,
     "metadata": {},
     "output_type": "execute_result"
    }
   ],
   "source": [
    "from sklearn.metrics import r2_score\n",
    "from sklearn.metrics import mean_squared_error,mean_absolute_error\n",
    "from sklearn.model_selection import train_test_split\n",
    "from sklearn.metrics import accuracy_score\n",
    "from sklearn.metrics import confusion_matrix,classification_report\n",
    "\n",
    "x_train, x_test, y_train, y_test= train_test_split(x,y,test_size=0.36,random_state=248)\n",
    "lr=LinearRegression()\n",
    "lr.fit(x_train,y_train)\n",
    "pred=lr.predict(x_test)\n",
    "acc=lr.score(x_test,y_test)\n",
    "\n",
    "\n",
    "#print(\"predicted values\",pred)\n",
    "#print(\"predicted values\",y_test)\n",
    "r2_score(y_test, pred)*100, mean_absolute_error(y_test, pred), np.sqrt(mean_squared_error(y_test, pred))"
   ]
  },
  {
   "cell_type": "markdown",
   "id": "05713868",
   "metadata": {},
   "source": [
    "Linear Regression is having 15.65% accuracy which is not good"
   ]
  },
  {
   "cell_type": "markdown",
   "id": "2d89ab11",
   "metadata": {},
   "source": [
    "# Decision Tree Regressor"
   ]
  },
  {
   "cell_type": "code",
   "execution_count": 69,
   "id": "e37c3c17",
   "metadata": {},
   "outputs": [
    {
     "name": "stdout",
     "output_type": "stream",
     "text": [
      "accuracy 0.8624921733431136 Random state 0.1\n",
      "accuracy 0.8662214574800247 Random state 0.12\n",
      "Best accuracy is 86.62214574800247 on Random state 0.12\n"
     ]
    }
   ],
   "source": [
    "#finding best testsize \n",
    "from sklearn.tree import DecisionTreeRegressor\n",
    "\n",
    "maxAcc = 0\n",
    "maxRs=0\n",
    "\n",
    "for i in range(10,41):\n",
    "    i1=i*0.010\n",
    "    x_train, x_test, y_train, y_test= train_test_split(x,y,test_size=i1)\n",
    "    dt=DecisionTreeRegressor()\n",
    "    dt.fit(x_train,y_train)\n",
    "    pred=dt.predict(x_test)\n",
    "    acc=dt.score(x_test,y_test)\n",
    "    #print('accuracy',acc,'Random state',i)\n",
    "    \n",
    "    if acc>maxAcc:\n",
    "        maxAcc=acc\n",
    "        maxRs=i1\n",
    "        print('accuracy',maxAcc,'Random state',i1)\n",
    "print(\"Best accuracy is\",maxAcc*100,\"on Random state\",maxRs)"
   ]
  },
  {
   "cell_type": "code",
   "execution_count": 71,
   "id": "c2fae12d",
   "metadata": {},
   "outputs": [
    {
     "name": "stdout",
     "output_type": "stream",
     "text": [
      "accuracy 0.8574800879228173 Random state 1\n",
      "accuracy 0.8708480393908755 Random state 12\n",
      "accuracy 0.874560410170834 Random state 107\n",
      "accuracy 0.8802310923419552 Random state 175\n",
      "Best accuracy is 88.02310923419552 on Random state 175\n"
     ]
    }
   ],
   "source": [
    "#finding best random state\n",
    "maxAcc = 0\n",
    "maxRs=0\n",
    "\n",
    "for i in range(1,500):\n",
    "    x_train, x_test, y_train, y_test= train_test_split(x,y,test_size=0.12,random_state=i) #12 - 77.41\n",
    "    dt=DecisionTreeRegressor()\n",
    "    dt.fit(x_train,y_train)\n",
    "    pred=dt.predict(x_test)\n",
    "    acc=dt.score(x_test,y_test)\n",
    "    #print('accuracy',acc,'Random state',i)\n",
    "    \n",
    "    if acc>maxAcc:\n",
    "        maxAcc=acc\n",
    "        maxRs=i\n",
    "        print('accuracy',maxAcc,'Random state',i)\n",
    "        \n",
    "print(\"Best accuracy is\",maxAcc*100,\"on Random state\",maxRs) "
   ]
  },
  {
   "cell_type": "code",
   "execution_count": 72,
   "id": "eea1e8cc",
   "metadata": {},
   "outputs": [
    {
     "data": {
      "text/plain": [
       "(87.34786692863699, 687.9665354330708, 1437.2934434959811)"
      ]
     },
     "execution_count": 72,
     "metadata": {},
     "output_type": "execute_result"
    }
   ],
   "source": [
    "from sklearn.metrics import r2_score\n",
    "from sklearn.metrics import mean_squared_error,mean_absolute_error\n",
    "from sklearn.model_selection import train_test_split\n",
    "from sklearn.metrics import accuracy_score\n",
    "from sklearn.metrics import confusion_matrix,classification_report\n",
    "\n",
    "x_train, x_test, y_train, y_test= train_test_split(x,y,test_size=0.12,random_state=175) \n",
    "dt=DecisionTreeRegressor()\n",
    "dt.fit(x_train,y_train)\n",
    "pred=dt.predict(x_test)\n",
    "acc=dt.score(x_test,y_test)\n",
    "\n",
    "\n",
    "#print(\"predicted values\",pred)\n",
    "#print(\"predicted values\",y_test)\n",
    "r2_score(y_test, pred)*100, mean_absolute_error(y_test, pred), np.sqrt(mean_squared_error(y_test, pred))"
   ]
  },
  {
   "cell_type": "markdown",
   "id": "fe9996ec",
   "metadata": {},
   "source": [
    "Accuracy for Decision Tree is 87.34% which is good"
   ]
  },
  {
   "cell_type": "markdown",
   "id": "25d1b196",
   "metadata": {},
   "source": [
    "# Random forest Algorithm"
   ]
  },
  {
   "cell_type": "code",
   "execution_count": 73,
   "id": "f954bb10",
   "metadata": {},
   "outputs": [
    {
     "name": "stdout",
     "output_type": "stream",
     "text": [
      "accuracy 0.9224253248909153 Random state 0.09\n",
      "Best accuracy is 92.24253248909153 on Random state 0.09\n"
     ]
    }
   ],
   "source": [
    "from sklearn.metrics import r2_score\n",
    "from sklearn.metrics import mean_squared_error,mean_absolute_error\n",
    "from sklearn.model_selection import train_test_split\n",
    "from sklearn.metrics import accuracy_score\n",
    "from sklearn.metrics import confusion_matrix,classification_report\n",
    "\n",
    "#finding best testsize \n",
    "from sklearn.ensemble import RandomForestRegressor \n",
    "\n",
    "maxAcc = 0\n",
    "maxRs=0\n",
    "\n",
    "for i in range(9,41):\n",
    "    i1=i*0.01\n",
    "    x_train, x_test, y_train, y_test= train_test_split(x,y,test_size=i1)\n",
    "    rf=RandomForestRegressor()\n",
    "    rf.fit(x_train,y_train)\n",
    "    pred=rf.predict(x_test)\n",
    "    acc=rf.score(x_test,y_test)\n",
    "    #print('accuracy',acc,'Random state',i)\n",
    "    \n",
    "    if acc>maxAcc:\n",
    "        maxAcc=acc\n",
    "        maxRs=i1\n",
    "        print('accuracy',maxAcc,'Random state',i1)\n",
    "print(\"Best accuracy is\",maxAcc*100,\"on Random state\",maxRs)"
   ]
  },
  {
   "cell_type": "code",
   "execution_count": null,
   "id": "4a9a7ad9",
   "metadata": {},
   "outputs": [],
   "source": [
    "#finding best random state\n",
    "maxAcc = 0\n",
    "maxRs=0\n",
    "\n",
    "for i in range(1,100):\n",
    "    x_train, x_test, y_train, y_test= train_test_split(x,y,test_size=0.09,random_state=i)\n",
    "    rf=RandomForestRegressor()\n",
    "    rf.fit(x_train,y_train)\n",
    "    pred=rf.predict(x_test)\n",
    "    acc=rf.score(x_test,y_test)\n",
    "    #print('accuracy',acc,'Random state',i)\n",
    "    \n",
    "    if acc>maxAcc:\n",
    "        maxAcc=acc\n",
    "        maxRs=i\n",
    "        print('accuracy',maxAcc,'Random state',i)\n",
    "        \n",
    "print(\"Best accuracy is\",maxAcc*100,\"on Random state\",maxRs) "
   ]
  },
  {
   "cell_type": "code",
   "execution_count": 91,
   "id": "2dd9b204",
   "metadata": {},
   "outputs": [
    {
     "data": {
      "text/plain": [
       "(91.93514023741854, 624.7405360640583, 1142.2850874835513)"
      ]
     },
     "execution_count": 91,
     "metadata": {},
     "output_type": "execute_result"
    }
   ],
   "source": [
    "from sklearn.metrics import r2_score\n",
    "from sklearn.metrics import mean_squared_error,mean_absolute_error\n",
    "from sklearn.model_selection import train_test_split\n",
    "from sklearn.metrics import accuracy_score\n",
    "from sklearn.metrics import confusion_matrix,classification_report\n",
    "\n",
    "x_train, x_test, y_train, y_test= train_test_split(x,y,test_size=0.09,random_state=175) #93.02\n",
    "rf=RandomForestRegressor()\n",
    "rf.fit(x_train,y_train)\n",
    "pred=rf.predict(x_test)\n",
    "acc=rf.score(x_test,y_test)\n",
    "pred_f=y_test\n",
    "\n",
    "\n",
    "#print(\"predicted values\",pred)\n",
    "#print(\"predicted values\",y_test)\n",
    "r2_score(y_test, pred)*100, mean_absolute_error(y_test, pred), np.sqrt(mean_squared_error(y_test, pred))"
   ]
  },
  {
   "cell_type": "markdown",
   "id": "60df39fe",
   "metadata": {},
   "source": [
    "The final accuracy for random forest is 91.93% whci is good"
   ]
  },
  {
   "cell_type": "markdown",
   "id": "d3c942de",
   "metadata": {},
   "source": [
    "# Knneighborsregressor"
   ]
  },
  {
   "cell_type": "code",
   "execution_count": 88,
   "id": "2628faaf",
   "metadata": {},
   "outputs": [
    {
     "name": "stdout",
     "output_type": "stream",
     "text": [
      "accuracy 0.7197136465978284 Random state 0.1\n",
      "accuracy 0.7225829833749307 Random state 0.11\n",
      "accuracy 0.7483724797638123 Random state 0.12\n",
      "Best accuracy is 74.83724797638122 on Random state 0.12\n"
     ]
    }
   ],
   "source": [
    "\n",
    "from sklearn.neighbors import KNeighborsRegressor\n",
    "\n",
    "maxAcc = 0\n",
    "maxRs=0\n",
    "\n",
    "for i in range(10,41):\n",
    "    i1=i*0.010\n",
    "    x_train, x_test, y_train, y_test= train_test_split(x,y,test_size=i1)\n",
    "    knr=KNeighborsRegressor()\n",
    "    knr.fit(x_train,y_train)\n",
    "    pred=knr.predict(x_test)\n",
    "    acc=knr.score(x_test,y_test)\n",
    "    #print('accuracy',acc,'Random state',i)\n",
    "    \n",
    "    if acc>maxAcc:\n",
    "        maxAcc=acc\n",
    "        maxRs=i1\n",
    "        print('accuracy',maxAcc,'Random state',i1)\n",
    "print(\"Best accuracy is\",maxAcc*100,\"on Random state\",maxRs)"
   ]
  },
  {
   "cell_type": "code",
   "execution_count": 90,
   "id": "38e9fb85",
   "metadata": {},
   "outputs": [
    {
     "name": "stdout",
     "output_type": "stream",
     "text": [
      "accuracy 0.770120986531857 Random state 1\n",
      "accuracy 0.7904615174382355 Random state 2\n",
      "accuracy 0.7908744287761011 Random state 104\n",
      "Best accuracy is 79.08744287761012 on Random state 104\n"
     ]
    }
   ],
   "source": [
    "#finding best random state\n",
    "maxAcc = 0\n",
    "maxRs=0\n",
    "\n",
    "for i in range(1,400):\n",
    "    x_train, x_test, y_train, y_test= train_test_split(x,y,test_size=0.12,random_state=i) \n",
    "    knr=KNeighborsRegressor()\n",
    "    knr.fit(x_train,y_train)\n",
    "    pred=knr.predict(x_test)\n",
    "    acc=knr.score(x_test,y_test)\n",
    "    #print('accuracy',acc,'Random state',i)\n",
    "    \n",
    "    if acc>maxAcc:\n",
    "        maxAcc=acc\n",
    "        maxRs=i\n",
    "        print('accuracy',maxAcc,'Random state',i)\n",
    "        \n",
    "print(\"Best accuracy is\",maxAcc*100,\"on Random state\",maxRs) "
   ]
  },
  {
   "cell_type": "code",
   "execution_count": 93,
   "id": "d06a6e4d",
   "metadata": {},
   "outputs": [
    {
     "data": {
      "text/plain": [
       "(79.08744287761012, 1253.9045669291338, 1845.3537064875243)"
      ]
     },
     "execution_count": 93,
     "metadata": {},
     "output_type": "execute_result"
    }
   ],
   "source": [
    "from sklearn.metrics import r2_score\n",
    "from sklearn.metrics import mean_squared_error,mean_absolute_error\n",
    "from sklearn.model_selection import train_test_split\n",
    "from sklearn.metrics import accuracy_score\n",
    "from sklearn.metrics import confusion_matrix,classification_report\n",
    "\n",
    "x_train, x_test, y_train, y_test= train_test_split(x,y,test_size=0.12,random_state=104) \n",
    "knr=KNeighborsRegressor()\n",
    "knr.fit(x_train,y_train)\n",
    "pred=knr.predict(x_test)\n",
    "acc=knr.score(x_test,y_test)\n",
    "pred_f=y_test\n",
    "\n",
    "\n",
    "#print(\"predicted values\",pred)\n",
    "#print(\"predicted values\",y_test)\n",
    "r2_score(y_test, pred)*100, mean_absolute_error(y_test, pred), np.sqrt(mean_squared_error(y_test, pred))"
   ]
  },
  {
   "cell_type": "markdown",
   "id": "7bccea9f",
   "metadata": {},
   "source": [
    "The accuracy for KNN is 79.08% which is ok "
   ]
  },
  {
   "cell_type": "markdown",
   "id": "4d367ced",
   "metadata": {},
   "source": [
    "we have best accuracy for Ramdom Forest hence we will cross validate all model to select best prediction"
   ]
  },
  {
   "cell_type": "markdown",
   "id": "97ce9faa",
   "metadata": {},
   "source": [
    "# Checking cross validation for all algorithms"
   ]
  },
  {
   "cell_type": "code",
   "execution_count": 94,
   "id": "b2d44a5b",
   "metadata": {},
   "outputs": [],
   "source": [
    "from sklearn.model_selection import cross_val_score"
   ]
  },
  {
   "cell_type": "code",
   "execution_count": 95,
   "id": "6e442c62",
   "metadata": {},
   "outputs": [
    {
     "name": "stdout",
     "output_type": "stream",
     "text": [
      "cross validation score 0.132008652398098\n"
     ]
    }
   ],
   "source": [
    "#linear regression\n",
    "scr=cross_val_score(lr,x,y)\n",
    "print('cross validation score',scr.mean())"
   ]
  },
  {
   "cell_type": "code",
   "execution_count": 97,
   "id": "e1cd65f3",
   "metadata": {},
   "outputs": [
    {
     "name": "stdout",
     "output_type": "stream",
     "text": [
      "cross validation score 0.8301999943127901\n"
     ]
    }
   ],
   "source": [
    "#desicion treeregressor\n",
    "scr=cross_val_score(dt,x,y)\n",
    "print('cross validation score',scr.mean())"
   ]
  },
  {
   "cell_type": "code",
   "execution_count": 98,
   "id": "063ddc49",
   "metadata": {},
   "outputs": [
    {
     "name": "stdout",
     "output_type": "stream",
     "text": [
      "cross validation score 0.892258048452053\n"
     ]
    }
   ],
   "source": [
    "#random forest regressor\n",
    "scr=cross_val_score(rf,x,y)\n",
    "print('cross validation score',scr.mean())"
   ]
  },
  {
   "cell_type": "code",
   "execution_count": 99,
   "id": "96ad83d4",
   "metadata": {},
   "outputs": [
    {
     "name": "stdout",
     "output_type": "stream",
     "text": [
      "cross validation score 0.7299679668812549\n"
     ]
    }
   ],
   "source": [
    "#Knregressor\n",
    "scr=cross_val_score(knr,x,y)\n",
    "print('cross validation score',scr.mean())"
   ]
  },
  {
   "cell_type": "markdown",
   "id": "e0ad2e34",
   "metadata": {},
   "source": [
    "# Final conclusion : Random Forest is having Highest Accuracy i.e. 89.22%"
   ]
  },
  {
   "cell_type": "markdown",
   "id": "014e9834",
   "metadata": {},
   "source": [
    "hence we will use Hyper parameter tunning to run model on mutilple parameter and will select the best combination for model to predict highest and most accurate prediction"
   ]
  },
  {
   "cell_type": "markdown",
   "id": "186e65f5",
   "metadata": {},
   "source": [
    "# Using hyperparameter tunning"
   ]
  },
  {
   "cell_type": "code",
   "execution_count": 101,
   "id": "da7aa28e",
   "metadata": {},
   "outputs": [
    {
     "name": "stdout",
     "output_type": "stream",
     "text": [
      "best_params: {'criterion': 'mae', 'max_depth': 10, 'max_features': 'auto', 'n_estimators': 5}\n",
      "0.8268390992244804\n"
     ]
    }
   ],
   "source": [
    "from sklearn.model_selection import GridSearchCV\n",
    "clf = RandomForestRegressor()\n",
    "\n",
    "params={'max_features':['auto','sqrt','log2'],\n",
    "       'max_depth':[10,15],\n",
    "       'criterion':['mae','mse'],\n",
    "        'n_estimators':[5,10,15]\n",
    "       }\n",
    "\n",
    "\n",
    "grd=GridSearchCV(clf,param_grid=params,cv=5,scoring='accuracy')\n",
    "grd.fit(x_train,y_train)\n",
    "print('best_params:',grd.best_params_)\n",
    "grd=grd.best_estimator_\n",
    "grd.fit(x_train,y_train)\n",
    "y_pred=grd.predict(x_test)\n",
    "print(r2_score(y_test,y_pred))"
   ]
  },
  {
   "cell_type": "markdown",
   "id": "d2f2714b",
   "metadata": {},
   "source": [
    "# Random Forest Algorithm with best parameter selection"
   ]
  },
  {
   "cell_type": "code",
   "execution_count": 104,
   "id": "d0986637",
   "metadata": {},
   "outputs": [
    {
     "data": {
      "text/plain": [
       "(91.8916513786102, 627.9577813837673, 1145.3607693502363)"
      ]
     },
     "execution_count": 104,
     "metadata": {},
     "output_type": "execute_result"
    }
   ],
   "source": [
    "#from sklearn.ensemble import RandomForestClassifier \n",
    "\n",
    "x_train, x_test, y_train, y_test= train_test_split(x,y,test_size=0.09,random_state=175) \n",
    "rf2=RandomForestRegressor(criterion= 'mae', max_depth= 10, max_features= 'auto',n_estimators=5)\n",
    "rf2=RandomForestRegressor()\n",
    "rf2.fit(x_train,y_train)\n",
    "pred=rf2.predict(x_test)\n",
    "acc=rf2.score(x_test,y_test)\n",
    "pred_f=y_test\n",
    "r2_score(y_test, pred)*100, mean_absolute_error(y_test, pred), np.sqrt(mean_squared_error(y_test, pred))"
   ]
  },
  {
   "cell_type": "markdown",
   "id": "0b822654",
   "metadata": {},
   "source": [
    "# Plot AUC ROC Graph"
   ]
  },
  {
   "cell_type": "code",
   "execution_count": 106,
   "id": "28f4d04b",
   "metadata": {},
   "outputs": [],
   "source": [
    "y_pred=rf2.predict(x_test)"
   ]
  },
  {
   "cell_type": "code",
   "execution_count": 109,
   "id": "1c48f93d",
   "metadata": {},
   "outputs": [],
   "source": [
    "from sklearn.metrics import roc_auc_score\n",
    "import matplotlib.pyplot as plt\n",
    "\n",
    "from sklearn.metrics import roc_auc_score"
   ]
  },
  {
   "cell_type": "code",
   "execution_count": 112,
   "id": "2558d08e",
   "metadata": {},
   "outputs": [],
   "source": [
    "y_pred_prob=rf2.predict(x_test)"
   ]
  },
  {
   "cell_type": "code",
   "execution_count": 113,
   "id": "003ef600",
   "metadata": {},
   "outputs": [
    {
     "data": {
      "text/plain": [
       "array([ 4559.62      , 12114.32      ,  7578.30438889,  7184.3       ,\n",
       "        3734.03      ,  8629.34      ,  8529.41      ,  7756.56      ,\n",
       "        9376.95      ,  4882.16      , 12464.43333333, 10723.89      ,\n",
       "        8012.06      ,  9263.69      ,  7832.        , 10862.7       ,\n",
       "        6013.79      ,  5038.65      , 14965.835     , 15403.5575    ,\n",
       "        8795.76      ,  4214.52      , 13480.68      ,  8408.2       ,\n",
       "        6001.83      , 13371.54      ,  6061.49      , 14369.51      ,\n",
       "       12597.27      , 14041.04      ,  4033.24      , 12353.15      ,\n",
       "       14925.82      ,  9177.245     ,  7307.7       ,  5061.44      ,\n",
       "        6084.99      ,  9875.19      , 15339.        , 10386.69      ,\n",
       "        8353.87      , 15434.12666667,  7289.34      ,  4571.74      ,\n",
       "       11643.75      , 13309.49      ,  5034.88      ,  8619.84      ,\n",
       "        6441.51      ,  4784.19      , 10859.07      ,  9146.92      ,\n",
       "        7064.        , 13040.89      , 13797.37      ,  3374.45      ,\n",
       "        6923.09333333, 11885.97      ,  5056.37      ,  3116.43      ,\n",
       "        4496.91      ,  5376.62      , 14723.98666667,  6635.63      ,\n",
       "        9083.6       , 10130.66      ,  6499.49      ,  6785.85      ,\n",
       "        6226.5       , 14172.44      , 17255.75      ,  4402.48      ,\n",
       "       12975.205     ,  8581.12      , 10296.41      , 15335.15      ,\n",
       "        4815.        ,  3978.08      ,  8788.21      , 13196.985     ,\n",
       "        5820.4       ,  4785.6       , 14166.19      ,  5130.        ,\n",
       "        4103.61      , 10986.6935    ,  8287.94      , 17331.04      ,\n",
       "       10641.86      , 14567.34      ,  4658.86      ,  9239.73333333,\n",
       "        7246.69      ,  7315.57      ,  4451.85      ,  4069.81      ,\n",
       "        3743.49      , 11998.51      , 12153.67      ,  4582.6       ,\n",
       "       10907.01866667,  6699.91      ,  7754.09      ,  8503.22      ,\n",
       "        6076.49      , 13133.26      , 13609.87      ,  4866.45      ,\n",
       "       16004.13      , 12255.43      , 13760.73      ,  4844.88      ,\n",
       "       11327.89416667, 15754.54      ,  5895.48      ,  8732.26      ,\n",
       "        7650.3       , 10636.18966667,  6226.58      , 12362.66      ,\n",
       "        7180.955     ,  8595.3       , 11540.11      ,  8270.25      ,\n",
       "        5887.72      ,  2734.77      ,  6996.77      , 12300.18      ,\n",
       "        7505.88833333,  9798.08      ,  3303.45      , 10178.9       ,\n",
       "        8315.83      ,  3813.18      ,  8819.17      ,  8903.29      ,\n",
       "       10352.57      ,  6731.32      , 12300.18      ,  3044.95      ,\n",
       "        3922.64      ,  6496.35      , 13801.17      , 15240.52857143,\n",
       "        7832.        , 10453.05      ,  4636.6       , 10133.35      ,\n",
       "        9328.37      ,  9938.30333333,  6598.2725    ,  4347.77      ,\n",
       "       13128.17      , 10262.        , 10479.45      ,  3322.99      ,\n",
       "        5857.66      ,  9797.15      , 15179.5       ,  6193.86      ,\n",
       "       14357.2       , 15432.21      ,  8198.        ,  6940.65      ,\n",
       "       14226.47      , 10270.72      , 10318.81      ,  8127.6       ,\n",
       "       13731.82      ,  4992.65      ,  4019.63      ,  4452.34      ,\n",
       "        4883.73      ,  7512.32      , 10913.43      ,  4832.08      ,\n",
       "        9924.4       , 13048.715     ,  7315.57      ,  9585.98      ,\n",
       "        3768.16      ,  6164.72      ,  8339.54      ,  9746.85      ,\n",
       "       10128.44      ,  6081.46      ,  9660.125     ,  4597.7       ,\n",
       "        7938.3       ,  4824.62      ,  2227.        ,  8345.29      ,\n",
       "        6177.38      , 12883.31      ,  6510.92      ,  2022.14      ,\n",
       "       11046.47      ,  4992.42      ,  8192.43166667,  7488.71      ,\n",
       "       10708.97      , 12072.78      ,  4823.        ,  8544.82      ,\n",
       "        5881.3692381 , 10290.35      , 11013.94      ,  5064.9       ,\n",
       "       12024.43833333,  9493.53      ,  6686.44      , 12084.76      ,\n",
       "        6910.73      ,  6830.63      , 13228.93      ,  6679.16      ,\n",
       "       11220.505     ,  4686.31      , 15737.9625    , 15487.03      ,\n",
       "       14645.12      ,  7719.75      ,  4673.61166667,  9769.56      ,\n",
       "        5136.83      , 14955.96      , 12684.76      , 12773.46      ,\n",
       "        5312.95      ,  5826.01      ,  3016.02      ,  5794.52      ,\n",
       "        8851.25      , 14935.93      , 11839.26533333,  9296.65      ,\n",
       "       12522.31      ,  6613.93      ,  4554.1965    ,  5462.53      ,\n",
       "       15408.76283333, 13811.86      ,  7709.07      ,  2904.79      ,\n",
       "        7362.23      , 10136.936     ,  8372.79      ,  7076.04      ,\n",
       "       14912.46      , 15988.2       ,  4061.38      , 14306.05      ,\n",
       "        6283.65      , 11853.46      , 19369.18      , 13035.10333333,\n",
       "        7214.36      ,  5660.8       , 13203.88      ,  6158.94      ,\n",
       "       10906.74      ,  7284.09      , 11631.18      ,  7663.76      ,\n",
       "        3948.10633333, 13050.321     , 12517.73      ,  6652.26      ,\n",
       "        4263.73      , 12898.        , 13013.39      ,  9141.56      ,\n",
       "       10270.88      ,  9642.04      , 11613.06      , 10639.94      ,\n",
       "        7893.26666667, 10262.        ,  4938.45      ,  8744.7       ,\n",
       "       11972.92      , 10608.48216667,  9379.11      ,  7728.67      ,\n",
       "       11706.245     ,  5102.59      ,  7598.89      , 13333.1       ,\n",
       "        9273.23      , 10324.83      ,  4933.4       , 12346.38      ,\n",
       "        6240.71      ,  6408.39      ,  7116.41      , 18459.35      ,\n",
       "       11758.05      ,  9040.95      ,  6427.97      , 13570.57      ,\n",
       "        9943.35      , 10291.18      , 10283.11      ,  4811.1       ,\n",
       "       12636.72333333,  7071.58      ,  3841.        ,  6401.62      ,\n",
       "       13999.36      , 10262.        ,  9443.3       , 13262.66666667,\n",
       "        4787.47      , 14954.95      ,  2017.        ,  7347.29      ,\n",
       "        3066.66      , 10262.        , 13568.71      ,  5398.95      ,\n",
       "        3084.74      , 15058.49      ,  9049.11      ,  9594.03      ,\n",
       "        6924.29      , 13136.97      ,  4817.69      ,  4944.88      ,\n",
       "       12854.        ,  9969.57      ,  5789.79      ,  4119.02      ,\n",
       "        6280.13      , 14811.73      ,  4885.15      ,  5894.88      ,\n",
       "        6743.49      , 14617.06      ,  6296.54      ,  4727.24      ,\n",
       "        6212.6       , 10532.37      ,  4695.62      , 14774.9       ,\n",
       "       11888.855     ,  6865.03      ,  9590.26      ,  3712.32      ,\n",
       "        5015.55      , 10262.        , 12994.52      ,  3522.04      ,\n",
       "       11470.11583333,  3841.        , 11683.01      ,  9090.69      ,\n",
       "        7385.98      ,  8230.94      ,  4081.24      , 11939.97157143,\n",
       "       13244.63      ,  6046.27      ,  9040.01      ,  5757.2       ,\n",
       "       16545.        ,  3794.08      , 13817.        ,  7156.37      ,\n",
       "        7654.53      ,  6445.62      , 10711.71      , 12504.27      ,\n",
       "        9431.88666667, 10186.9       , 13268.9       , 15189.87      ,\n",
       "        3892.42      ,  7107.7       ,  9413.236     , 16452.895     ,\n",
       "        6554.87      ,  6421.44      ,  3704.56      , 13850.32      ,\n",
       "       14493.59      , 12641.77      , 12859.38      ,  5701.62      ,\n",
       "        8342.34166667,  6074.56      , 12802.55      ,  7224.65      ,\n",
       "       10932.45      ,  6817.3       ,  7761.46558333,  4930.36      ,\n",
       "        3895.95      ,  6035.76      , 12584.65      ,  8745.98      ,\n",
       "        3553.98      ,  8970.12      ,  9125.86      , 13539.1       ,\n",
       "        6523.52      ,  9912.81      ,  3924.99      , 12085.68      ,\n",
       "        6903.38      , 10265.56      ,  5088.04      ,  9177.85      ,\n",
       "       14255.99      , 13223.43      ,  4949.75      , 12591.56      ,\n",
       "        6478.09      , 13769.2       , 13270.1       , 10029.31      ,\n",
       "       10417.09      , 10155.2       ,  4938.94      , 15691.17      ,\n",
       "        4299.34      , 10298.37      , 14100.94      , 12013.325     ,\n",
       "        5844.89      , 10828.27      ,  1972.86      , 11879.47133333,\n",
       "        7582.6975    ,  7832.        ,  4558.87      ,  7354.92      ,\n",
       "        4412.75      ,  8367.65      ,  1998.14      ,  4456.71      ,\n",
       "       14462.15      ,  5563.81      , 10332.87      , 12162.5       ,\n",
       "       18423.4       ,  7041.05      , 11180.7       ,  7370.57      ,\n",
       "       11717.48666667,  9070.9425    ,  4186.66      ,  6798.01125   ,\n",
       "        8529.39      ,  3853.5       , 10453.75      , 12177.53      ,\n",
       "       15793.45571429,  6810.69      ,  4105.5       ,  7347.05      ,\n",
       "       13103.74      ,  3763.68      , 10966.04      ,  9341.        ,\n",
       "       12925.94      , 14675.18      ,  6694.93      , 10484.7       ,\n",
       "       13401.71      , 10912.43      ,  3947.8       , 13402.39      ,\n",
       "        4513.01      , 10646.21      ,  3846.23      ,  4294.82      ,\n",
       "       10163.05      ,  6334.5       , 10936.285     ,  5239.065     ,\n",
       "        8676.29      , 10765.23      , 14812.36      ,  6459.7       ,\n",
       "       14054.15      , 15017.28      ,  3501.93      ,  3203.53      ,\n",
       "        3659.57      ,  9387.7425    ,  4860.95      ,  6714.81      ,\n",
       "        9870.47      , 14569.59      , 13256.63      ,  4542.21      ,\n",
       "        4180.5       ,  6294.6       ,  4857.        ,  7442.56      ,\n",
       "       11977.81      ,  3911.16      ,  6569.25      , 13365.14      ,\n",
       "        9550.97      ,  7734.20666667,  6107.22      , 10222.25      ,\n",
       "        9105.41      , 14683.68      , 14138.34      ,  4037.07      ,\n",
       "        4673.61166667, 11093.31333333,  4133.26      , 10746.51      ,\n",
       "       15032.68      ,  3541.97      ,  4185.1       , 11384.075     ,\n",
       "        9252.37      , 13691.85      , 14714.        ,  2279.48      ,\n",
       "       10634.74      ,  6185.99      , 12365.18      , 11742.31      ,\n",
       "       13204.25      ,  4177.88      , 11483.3865    ,  4366.11      ,\n",
       "        3836.23      , 10590.1       ,  6228.96      ,  3749.52      ,\n",
       "       10750.43      ,  6875.73      , 15082.55      , 11234.46      ,\n",
       "       13355.16      ,  9166.82      ,  8887.85      ,  7568.6       ,\n",
       "        5502.51      ,  2836.56      ,  9314.14333333,  7907.116     ,\n",
       "       13146.46166667, 11518.65      ,  4818.18      , 13499.17      ,\n",
       "       14295.87      ,  9120.72      ,  4104.27      , 22053.83      ,\n",
       "        8724.78      ,  6580.01      ,  4824.62      ,  5528.25      ,\n",
       "        9731.91      ,  4655.25      , 13023.39      ,  6016.31      ,\n",
       "       14744.34      , 15859.94      , 14733.9       ,  2873.45      ,\n",
       "        5550.44      ,  8437.0525    ,  8279.04      ,  9279.48      ,\n",
       "        7369.40166667, 14219.31333333,  9089.62      , 14947.91      ,\n",
       "       13485.43      ,  5502.88      ,  7064.        ,  5027.81      ,\n",
       "        5144.27      ,  3844.18      , 10862.03      , 10352.57      ,\n",
       "       11087.        , 10462.55      ,  3114.37      ,  3039.72      ,\n",
       "        7667.56      ,  6725.49      ,  2930.93      ,  7965.09      ,\n",
       "        6659.11      , 10760.52      ,  6780.61      ,  5659.29      ,\n",
       "        5334.1       ,  9200.47      ,  9573.42      , 10371.36      ,\n",
       "        3878.18      ,  9432.39      ,  9203.67      ,  9783.95      ,\n",
       "        4143.01      ,  4477.42      , 10754.36      , 11036.18      ,\n",
       "        4839.27857143, 14671.83      ,  8006.615     ,  9900.44      ,\n",
       "        7103.9       ,  7362.79      , 14631.12      ,  5678.        ,\n",
       "        5440.43      , 13782.04      , 10742.87      , 12062.7       ,\n",
       "       13406.77      ,  9132.552     ,  8705.97      ,  4394.37      ,\n",
       "        4824.62      ,  2022.12      ,  6844.44      , 11229.97      ,\n",
       "        4096.57      , 12314.5       ,  3969.66      ,  4660.2       ,\n",
       "       17697.44      ,  7967.93      ,  8932.97      ,  6057.15      ,\n",
       "       17202.95      , 14669.11      , 11046.2       ,  9737.        ,\n",
       "        4938.3       , 14288.228     ,  5111.77      , 14807.76      ,\n",
       "       11308.19      , 14161.79      ,  4858.25      ,  9521.27      ,\n",
       "        6676.22      ,  4704.33      ,  8883.46      ,  3795.72      ,\n",
       "        6858.55      , 14493.75      ,  7599.02      ,  6225.35      ,\n",
       "       12881.1       ,  4998.85      , 10538.87      , 15093.77      ,\n",
       "        6979.83      , 14227.17      ,  7315.57      , 13513.96333333,\n",
       "       12938.94      , 10855.6       ,  4685.6       ,  7370.66      ,\n",
       "        1965.        , 16736.        ,  4802.47      , 11891.28992857,\n",
       "       10831.86      ,  7275.4       , 12640.49      , 14590.49      ,\n",
       "       13489.22      ,  8843.36      ,  7153.25      ,  3808.41      ,\n",
       "        7719.44666667, 10432.21      , 10907.23      ,  6147.2       ,\n",
       "       10570.32      ,  4773.73      ,  6267.61      ,  4337.96      ,\n",
       "       10379.01      ,  5678.        , 13098.64      ,  7324.83      ,\n",
       "        5194.56      ,  6214.335     ,  7480.84      ,  3972.91      ,\n",
       "        8524.23      ,  9556.91      ,  3937.4       , 11353.1       ,\n",
       "        5525.45      , 12834.46      ,  9125.28016667, 12381.09      ,\n",
       "       14911.98      , 14411.91      , 10621.49583333,  3534.4       ,\n",
       "        7336.45      , 10084.05      , 14164.04      ,  3678.35      ,\n",
       "        9503.4       , 13812.56      ,  8371.74      ,  4764.41      ,\n",
       "        8585.12      ,  4377.89      , 13052.12      ,  7801.25      ,\n",
       "       10291.1       ,  3080.21      ,  9236.88      ,  8712.4       ,\n",
       "       13472.01      , 10511.42      ,  6389.24      ,  3711.52      ,\n",
       "       11393.525     ,  5921.68      , 14174.73      , 15351.98      ,\n",
       "        6261.65      , 13867.78      , 11183.13      , 17403.00166667,\n",
       "        4170.89      ,  4571.71      ,  3554.06      ,  3757.07      ,\n",
       "       12779.09      , 10208.6       ,  7922.36916667,  3572.51      ,\n",
       "        8327.44      ,  4797.18      , 10998.61      , 11998.46      ,\n",
       "        7087.35      , 15200.02      , 10367.18      , 12597.52491667,\n",
       "        3854.21      ,  3564.66      , 10102.89      ,  4065.53      ,\n",
       "        1974.42      ,  4804.        ,  5995.36      , 16275.35      ,\n",
       "       11087.        ,  4977.79      ,  8379.15      ,  9900.44      ,\n",
       "       12041.3       ,  5476.36      , 15300.22      , 14130.55      ,\n",
       "       10573.69666667, 15553.25      ,  6115.6       , 10788.01      ,\n",
       "        9140.25      ,  3964.22      , 13981.2       , 10804.44      ,\n",
       "       17605.03      , 16993.3       ,  4823.89      ,  9146.75      ,\n",
       "        5133.57      , 13741.5       ,  7212.21      ,  5265.09      ,\n",
       "       15175.4       ,  9729.67      ,  4192.97      ,  6265.7       ,\n",
       "       16135.62      ,  4289.35      ,  6387.07      ,  4935.31      ,\n",
       "        4113.64      ,  8898.32      ,  4929.2       , 14718.15      ,\n",
       "        6311.06      ,  6309.09      , 10283.11      , 10262.        ,\n",
       "       17410.371     ,  9215.43      , 10212.69      ,  4649.75      ,\n",
       "        8408.89      ,  5035.55      , 11274.38      ,  7504.45      ,\n",
       "       13023.39      , 12998.01      ,  5913.67      , 10873.6       ,\n",
       "        9331.41      , 10649.66      ,  8750.67      ,  5282.25      ,\n",
       "        4966.65      ,  7064.        , 10249.67      , 10252.52      ,\n",
       "        3931.51      ,  4981.95      ,  3899.24      ,  9470.77      ,\n",
       "        2773.55      ,  8737.91      ,  4028.56      , 14702.0075    ,\n",
       "        6920.74      , 10611.11      ,  6893.84      , 10343.        ,\n",
       "        6291.2       , 16304.93      ,  6752.68      ,  5239.73      ,\n",
       "        4770.04      ,  4899.11      ,  7315.57      , 14123.9       ,\n",
       "        8774.68      ,  6633.12      ,  9186.31      , 14090.7       ,\n",
       "        6159.61      ,  4664.97      ,  4033.83      ,  1979.16      ,\n",
       "       11000.78      ,  4410.294     ,  7631.28366667,  4825.81      ,\n",
       "       10464.04      , 10215.75      ,  6174.23      ,  8835.87      ,\n",
       "       13630.63      , 13477.225     ,  9441.99      ,  4807.52      ,\n",
       "       11586.98      ,  2187.46      , 12889.33      ,  5678.        ,\n",
       "       13760.16      ,  4677.12      , 10128.25      ,  6725.47      ,\n",
       "       10638.97      ,  6793.04      ,  4872.78      ,  5181.45      ,\n",
       "        5993.13      ,  4887.07      ,  6421.04      ,  5733.4275    ,\n",
       "       15871.68125   ,  9362.14      ,  7751.55      , 13268.2375    ,\n",
       "       12396.4       , 18493.88      , 12965.23      ,  2998.75      ,\n",
       "       10215.76      ,  6108.7       , 10393.58      ,  9705.92      ,\n",
       "        4426.67      , 13040.71      , 13784.6       ,  8311.24      ,\n",
       "        7071.87      ,  4799.25      , 10419.84      , 12687.46      ,\n",
       "        3327.83      ,  6265.76      ,  6244.77      ,  6313.57      ,\n",
       "        8890.60033333,  9181.54      ,  6681.44      , 17150.36      ,\n",
       "        5654.        , 13813.11      ,  7007.2       , 12063.8       ,\n",
       "        3994.5       ,  6191.        , 12559.19      ,  5678.        ,\n",
       "       17410.371     ,  9120.72      ,  4283.57      ,  5804.96      ,\n",
       "        4399.42      ,  6416.1       , 13858.72      ,  4830.05      ,\n",
       "        4794.09      ,  2265.76      , 15834.35      ,  4805.46      ,\n",
       "       13125.78      ,  5882.72      ,  4909.22      , 15049.68      ,\n",
       "        3909.11      ,  8657.66      , 13234.66      ,  7748.74      ,\n",
       "        4358.9       , 15077.92083333, 13208.94      ,  7331.4       ,\n",
       "        5611.85      ,  9823.77483333, 11925.8037381 ,  5600.86      ,\n",
       "        7201.53      ,  6684.69      , 11161.45      ,  5627.12      ,\n",
       "        6321.83      , 13019.15      ,  5074.37      , 12885.32      ,\n",
       "        8938.81      ,  5876.71      ,  4610.14      , 13202.05      ,\n",
       "        2489.41      ])"
      ]
     },
     "execution_count": 113,
     "metadata": {},
     "output_type": "execute_result"
    }
   ],
   "source": [
    "y_pred_prob"
   ]
  },
  {
   "cell_type": "code",
   "execution_count": null,
   "id": "29333143",
   "metadata": {},
   "outputs": [],
   "source": [
    "tpr,fpr,thresholds=roc_curve(y_test,y_pred)"
   ]
  },
  {
   "cell_type": "markdown",
   "id": "c118bca9",
   "metadata": {},
   "source": [
    "Here we can see multiclass is not supported and AUC ROC curve mainly used to see classification score in graphical represenatation"
   ]
  },
  {
   "cell_type": "markdown",
   "id": "e6a72ba4",
   "metadata": {},
   "source": [
    "# Saving the model in pickel format"
   ]
  },
  {
   "cell_type": "code",
   "execution_count": 117,
   "id": "04eb3da6",
   "metadata": {},
   "outputs": [
    {
     "data": {
      "text/plain": [
       "['AirPrice.pk1']"
      ]
     },
     "execution_count": 117,
     "metadata": {},
     "output_type": "execute_result"
    }
   ],
   "source": [
    "import joblib\n",
    "joblib.dump(r2_score(y_test, pred)*100,\"AirPrice.pk1\")"
   ]
  },
  {
   "cell_type": "markdown",
   "id": "3e863d39",
   "metadata": {},
   "source": [
    "# Testing Model with Future Data for Output columns"
   ]
  },
  {
   "cell_type": "code",
   "execution_count": 118,
   "id": "a5919d47",
   "metadata": {},
   "outputs": [
    {
     "data": {
      "text/plain": [
       "Airline           -1.418107\n",
       "Date_of_Journey   -1.519284\n",
       "Source             0.897016\n",
       "Destination       -1.367088\n",
       "Route              0.214536\n",
       "Dep_Time          -1.355825\n",
       "Arrival_Time       0.040704\n",
       "Duration           1.242483\n",
       "Additional_Info    0.524414\n",
       "Name: 1, dtype: float64"
      ]
     },
     "execution_count": 118,
     "metadata": {},
     "output_type": "execute_result"
    }
   ],
   "source": [
    "x.iloc[1]"
   ]
  },
  {
   "cell_type": "code",
   "execution_count": 119,
   "id": "5261bb6a",
   "metadata": {},
   "outputs": [
    {
     "data": {
      "text/plain": [
       "7662"
      ]
     },
     "execution_count": 119,
     "metadata": {},
     "output_type": "execute_result"
    }
   ],
   "source": [
    "y.iloc[1]"
   ]
  },
  {
   "cell_type": "code",
   "execution_count": 120,
   "id": "a00114b9",
   "metadata": {},
   "outputs": [],
   "source": [
    "t=np.array([-1.418107,-1.519284,0.897016,-1.367088,0.214536,-1.355825,0.040704,1.242483,0.524414])"
   ]
  },
  {
   "cell_type": "code",
   "execution_count": 121,
   "id": "d609c345",
   "metadata": {},
   "outputs": [
    {
     "data": {
      "text/plain": [
       "(9,)"
      ]
     },
     "execution_count": 121,
     "metadata": {},
     "output_type": "execute_result"
    }
   ],
   "source": [
    "\n",
    "t.shape"
   ]
  },
  {
   "cell_type": "code",
   "execution_count": 122,
   "id": "5e6c7753",
   "metadata": {},
   "outputs": [
    {
     "data": {
      "text/plain": [
       "(9625, 9)"
      ]
     },
     "execution_count": 122,
     "metadata": {},
     "output_type": "execute_result"
    }
   ],
   "source": [
    "x_train.shape"
   ]
  },
  {
   "cell_type": "code",
   "execution_count": 123,
   "id": "9de3f4fe",
   "metadata": {},
   "outputs": [
    {
     "data": {
      "text/plain": [
       "(1, 9)"
      ]
     },
     "execution_count": 123,
     "metadata": {},
     "output_type": "execute_result"
    }
   ],
   "source": [
    "t=t.reshape(1,-1)\n",
    "t.shape"
   ]
  },
  {
   "cell_type": "code",
   "execution_count": 124,
   "id": "ffb7c0d6",
   "metadata": {},
   "outputs": [
    {
     "data": {
      "text/plain": [
       "array([7418.72])"
      ]
     },
     "execution_count": 124,
     "metadata": {},
     "output_type": "execute_result"
    }
   ],
   "source": [
    "rf2.predict(t) # selecting final model "
   ]
  },
  {
   "cell_type": "markdown",
   "id": "d82a78db",
   "metadata": {},
   "source": [
    "Here we can see that the actual output and predicted output are nrealy same i.e.\n",
    "\n",
    "Actual output =7662\n",
    "Prediction= 7418.72\n",
    "\n",
    "Hence we can say that the Model is prediction well"
   ]
  },
  {
   "cell_type": "code",
   "execution_count": null,
   "id": "cfa3818e",
   "metadata": {},
   "outputs": [],
   "source": []
  }
 ],
 "metadata": {
  "kernelspec": {
   "display_name": "Python 3",
   "language": "python",
   "name": "python3"
  },
  "language_info": {
   "codemirror_mode": {
    "name": "ipython",
    "version": 3
   },
   "file_extension": ".py",
   "mimetype": "text/x-python",
   "name": "python",
   "nbconvert_exporter": "python",
   "pygments_lexer": "ipython3",
   "version": "3.8.8"
  }
 },
 "nbformat": 4,
 "nbformat_minor": 5
}
