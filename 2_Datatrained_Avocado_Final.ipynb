{
 "cells": [
  {
   "cell_type": "code",
   "execution_count": 276,
   "id": "b575067b",
   "metadata": {},
   "outputs": [],
   "source": [
    "#importing necessary libraries\n",
    "import numpy as np\n",
    "import pandas as pd\n",
    "import matplotlib.pyplot as plt\n",
    "import seaborn as sns\n",
    "\n",
    "import warnings\n",
    "warnings.filterwarnings('ignore')"
   ]
  },
  {
   "cell_type": "code",
   "execution_count": 500,
   "id": "00c51c77",
   "metadata": {},
   "outputs": [],
   "source": [
    "# Loading Data\n",
    "df=pd.read_csv('Avocado.csv')"
   ]
  },
  {
   "cell_type": "code",
   "execution_count": 492,
   "id": "613b320f",
   "metadata": {},
   "outputs": [
    {
     "data": {
      "text/html": [
       "<div>\n",
       "<style scoped>\n",
       "    .dataframe tbody tr th:only-of-type {\n",
       "        vertical-align: middle;\n",
       "    }\n",
       "\n",
       "    .dataframe tbody tr th {\n",
       "        vertical-align: top;\n",
       "    }\n",
       "\n",
       "    .dataframe thead th {\n",
       "        text-align: right;\n",
       "    }\n",
       "</style>\n",
       "<table border=\"1\" class=\"dataframe\">\n",
       "  <thead>\n",
       "    <tr style=\"text-align: right;\">\n",
       "      <th></th>\n",
       "      <th>Date</th>\n",
       "      <th>AveragePrice</th>\n",
       "      <th>Total Volume</th>\n",
       "      <th>4046</th>\n",
       "      <th>4225</th>\n",
       "      <th>4770</th>\n",
       "      <th>Total Bags</th>\n",
       "      <th>Small Bags</th>\n",
       "      <th>Large Bags</th>\n",
       "      <th>XLarge Bags</th>\n",
       "      <th>year</th>\n",
       "      <th>region</th>\n",
       "    </tr>\n",
       "  </thead>\n",
       "  <tbody>\n",
       "    <tr>\n",
       "      <th>1508</th>\n",
       "      <td>43</td>\n",
       "      <td>1.64</td>\n",
       "      <td>144089.12</td>\n",
       "      <td>49399.39</td>\n",
       "      <td>26597.39</td>\n",
       "      <td>22714.68</td>\n",
       "      <td>45377.66</td>\n",
       "      <td>38436.79</td>\n",
       "      <td>6940.87</td>\n",
       "      <td>0.0</td>\n",
       "      <td>2016.0</td>\n",
       "      <td>7</td>\n",
       "    </tr>\n",
       "    <tr>\n",
       "      <th>1277</th>\n",
       "      <td>19</td>\n",
       "      <td>1.63</td>\n",
       "      <td>57178.20</td>\n",
       "      <td>3212.04</td>\n",
       "      <td>43024.32</td>\n",
       "      <td>36.40</td>\n",
       "      <td>10905.44</td>\n",
       "      <td>10474.09</td>\n",
       "      <td>431.35</td>\n",
       "      <td>0.0</td>\n",
       "      <td>2016.0</td>\n",
       "      <td>0</td>\n",
       "    </tr>\n",
       "    <tr>\n",
       "      <th>1413</th>\n",
       "      <td>67</td>\n",
       "      <td>1.63</td>\n",
       "      <td>78675.66</td>\n",
       "      <td>1426.31</td>\n",
       "      <td>52281.34</td>\n",
       "      <td>27.83</td>\n",
       "      <td>24940.18</td>\n",
       "      <td>24940.18</td>\n",
       "      <td>0.00</td>\n",
       "      <td>0.0</td>\n",
       "      <td>2016.0</td>\n",
       "      <td>5</td>\n",
       "    </tr>\n",
       "    <tr>\n",
       "      <th>1276</th>\n",
       "      <td>43</td>\n",
       "      <td>1.62</td>\n",
       "      <td>63608.01</td>\n",
       "      <td>3523.63</td>\n",
       "      <td>49837.68</td>\n",
       "      <td>34.00</td>\n",
       "      <td>10212.70</td>\n",
       "      <td>9790.67</td>\n",
       "      <td>422.03</td>\n",
       "      <td>0.0</td>\n",
       "      <td>2016.0</td>\n",
       "      <td>0</td>\n",
       "    </tr>\n",
       "    <tr>\n",
       "      <th>1283</th>\n",
       "      <td>83</td>\n",
       "      <td>1.62</td>\n",
       "      <td>96853.15</td>\n",
       "      <td>7658.55</td>\n",
       "      <td>79425.81</td>\n",
       "      <td>43.25</td>\n",
       "      <td>9725.54</td>\n",
       "      <td>9586.80</td>\n",
       "      <td>138.74</td>\n",
       "      <td>0.0</td>\n",
       "      <td>2016.0</td>\n",
       "      <td>0</td>\n",
       "    </tr>\n",
       "  </tbody>\n",
       "</table>\n",
       "</div>"
      ],
      "text/plain": [
       "      Date  AveragePrice  Total Volume      4046      4225      4770  \\\n",
       "1508    43          1.64     144089.12  49399.39  26597.39  22714.68   \n",
       "1277    19          1.63      57178.20   3212.04  43024.32     36.40   \n",
       "1413    67          1.63      78675.66   1426.31  52281.34     27.83   \n",
       "1276    43          1.62      63608.01   3523.63  49837.68     34.00   \n",
       "1283    83          1.62      96853.15   7658.55  79425.81     43.25   \n",
       "\n",
       "      Total Bags  Small Bags  Large Bags  XLarge Bags    year  region  \n",
       "1508    45377.66    38436.79     6940.87          0.0  2016.0       7  \n",
       "1277    10905.44    10474.09      431.35          0.0  2016.0       0  \n",
       "1413    24940.18    24940.18        0.00          0.0  2016.0       5  \n",
       "1276    10212.70     9790.67      422.03          0.0  2016.0       0  \n",
       "1283     9725.54     9586.80      138.74          0.0  2016.0       0  "
      ]
     },
     "execution_count": 492,
     "metadata": {},
     "output_type": "execute_result"
    }
   ],
   "source": [
    "df.head()"
   ]
  },
  {
   "cell_type": "code",
   "execution_count": 493,
   "id": "aed0fa7c",
   "metadata": {},
   "outputs": [
    {
     "data": {
      "text/plain": [
       "(1436, 12)"
      ]
     },
     "execution_count": 493,
     "metadata": {},
     "output_type": "execute_result"
    }
   ],
   "source": [
    "df.shape"
   ]
  },
  {
   "cell_type": "markdown",
   "id": "cd7946d1",
   "metadata": {},
   "source": [
    "# Data Cleaning with Missing values"
   ]
  },
  {
   "cell_type": "markdown",
   "id": "3817a30a",
   "metadata": {},
   "source": [
    "Here we can see the data is having lots of Nan Values hence we are going to delete those records"
   ]
  },
  {
   "cell_type": "code",
   "execution_count": 494,
   "id": "8557e7fd",
   "metadata": {},
   "outputs": [
    {
     "data": {
      "text/html": [
       "<div>\n",
       "<style scoped>\n",
       "    .dataframe tbody tr th:only-of-type {\n",
       "        vertical-align: middle;\n",
       "    }\n",
       "\n",
       "    .dataframe tbody tr th {\n",
       "        vertical-align: top;\n",
       "    }\n",
       "\n",
       "    .dataframe thead th {\n",
       "        text-align: right;\n",
       "    }\n",
       "</style>\n",
       "<table border=\"1\" class=\"dataframe\">\n",
       "  <thead>\n",
       "    <tr style=\"text-align: right;\">\n",
       "      <th></th>\n",
       "      <th>Date</th>\n",
       "      <th>AveragePrice</th>\n",
       "      <th>Total Volume</th>\n",
       "      <th>4046</th>\n",
       "      <th>4225</th>\n",
       "      <th>4770</th>\n",
       "      <th>Total Bags</th>\n",
       "      <th>Small Bags</th>\n",
       "      <th>Large Bags</th>\n",
       "      <th>XLarge Bags</th>\n",
       "      <th>year</th>\n",
       "      <th>region</th>\n",
       "    </tr>\n",
       "  </thead>\n",
       "  <tbody>\n",
       "    <tr>\n",
       "      <th>1508</th>\n",
       "      <td>False</td>\n",
       "      <td>False</td>\n",
       "      <td>False</td>\n",
       "      <td>False</td>\n",
       "      <td>False</td>\n",
       "      <td>False</td>\n",
       "      <td>False</td>\n",
       "      <td>False</td>\n",
       "      <td>False</td>\n",
       "      <td>False</td>\n",
       "      <td>False</td>\n",
       "      <td>False</td>\n",
       "    </tr>\n",
       "    <tr>\n",
       "      <th>1277</th>\n",
       "      <td>False</td>\n",
       "      <td>False</td>\n",
       "      <td>False</td>\n",
       "      <td>False</td>\n",
       "      <td>False</td>\n",
       "      <td>False</td>\n",
       "      <td>False</td>\n",
       "      <td>False</td>\n",
       "      <td>False</td>\n",
       "      <td>False</td>\n",
       "      <td>False</td>\n",
       "      <td>False</td>\n",
       "    </tr>\n",
       "    <tr>\n",
       "      <th>1413</th>\n",
       "      <td>False</td>\n",
       "      <td>False</td>\n",
       "      <td>False</td>\n",
       "      <td>False</td>\n",
       "      <td>False</td>\n",
       "      <td>False</td>\n",
       "      <td>False</td>\n",
       "      <td>False</td>\n",
       "      <td>False</td>\n",
       "      <td>False</td>\n",
       "      <td>False</td>\n",
       "      <td>False</td>\n",
       "    </tr>\n",
       "    <tr>\n",
       "      <th>1276</th>\n",
       "      <td>False</td>\n",
       "      <td>False</td>\n",
       "      <td>False</td>\n",
       "      <td>False</td>\n",
       "      <td>False</td>\n",
       "      <td>False</td>\n",
       "      <td>False</td>\n",
       "      <td>False</td>\n",
       "      <td>False</td>\n",
       "      <td>False</td>\n",
       "      <td>False</td>\n",
       "      <td>False</td>\n",
       "    </tr>\n",
       "    <tr>\n",
       "      <th>1283</th>\n",
       "      <td>False</td>\n",
       "      <td>False</td>\n",
       "      <td>False</td>\n",
       "      <td>False</td>\n",
       "      <td>False</td>\n",
       "      <td>False</td>\n",
       "      <td>False</td>\n",
       "      <td>False</td>\n",
       "      <td>False</td>\n",
       "      <td>False</td>\n",
       "      <td>False</td>\n",
       "      <td>False</td>\n",
       "    </tr>\n",
       "    <tr>\n",
       "      <th>...</th>\n",
       "      <td>...</td>\n",
       "      <td>...</td>\n",
       "      <td>...</td>\n",
       "      <td>...</td>\n",
       "      <td>...</td>\n",
       "      <td>...</td>\n",
       "      <td>...</td>\n",
       "      <td>...</td>\n",
       "      <td>...</td>\n",
       "      <td>...</td>\n",
       "      <td>...</td>\n",
       "      <td>...</td>\n",
       "    </tr>\n",
       "    <tr>\n",
       "      <th>795</th>\n",
       "      <td>False</td>\n",
       "      <td>False</td>\n",
       "      <td>False</td>\n",
       "      <td>False</td>\n",
       "      <td>False</td>\n",
       "      <td>False</td>\n",
       "      <td>False</td>\n",
       "      <td>False</td>\n",
       "      <td>False</td>\n",
       "      <td>False</td>\n",
       "      <td>False</td>\n",
       "      <td>False</td>\n",
       "    </tr>\n",
       "    <tr>\n",
       "      <th>788</th>\n",
       "      <td>False</td>\n",
       "      <td>False</td>\n",
       "      <td>False</td>\n",
       "      <td>False</td>\n",
       "      <td>False</td>\n",
       "      <td>False</td>\n",
       "      <td>False</td>\n",
       "      <td>False</td>\n",
       "      <td>False</td>\n",
       "      <td>False</td>\n",
       "      <td>False</td>\n",
       "      <td>False</td>\n",
       "    </tr>\n",
       "    <tr>\n",
       "      <th>761</th>\n",
       "      <td>False</td>\n",
       "      <td>False</td>\n",
       "      <td>False</td>\n",
       "      <td>False</td>\n",
       "      <td>False</td>\n",
       "      <td>False</td>\n",
       "      <td>False</td>\n",
       "      <td>False</td>\n",
       "      <td>False</td>\n",
       "      <td>False</td>\n",
       "      <td>False</td>\n",
       "      <td>False</td>\n",
       "    </tr>\n",
       "    <tr>\n",
       "      <th>789</th>\n",
       "      <td>False</td>\n",
       "      <td>False</td>\n",
       "      <td>False</td>\n",
       "      <td>False</td>\n",
       "      <td>False</td>\n",
       "      <td>False</td>\n",
       "      <td>False</td>\n",
       "      <td>False</td>\n",
       "      <td>False</td>\n",
       "      <td>False</td>\n",
       "      <td>False</td>\n",
       "      <td>False</td>\n",
       "    </tr>\n",
       "    <tr>\n",
       "      <th>796</th>\n",
       "      <td>False</td>\n",
       "      <td>False</td>\n",
       "      <td>False</td>\n",
       "      <td>False</td>\n",
       "      <td>False</td>\n",
       "      <td>False</td>\n",
       "      <td>False</td>\n",
       "      <td>False</td>\n",
       "      <td>False</td>\n",
       "      <td>False</td>\n",
       "      <td>False</td>\n",
       "      <td>False</td>\n",
       "    </tr>\n",
       "  </tbody>\n",
       "</table>\n",
       "<p>1436 rows × 12 columns</p>\n",
       "</div>"
      ],
      "text/plain": [
       "       Date  AveragePrice  Total Volume   4046   4225   4770  Total Bags  \\\n",
       "1508  False         False         False  False  False  False       False   \n",
       "1277  False         False         False  False  False  False       False   \n",
       "1413  False         False         False  False  False  False       False   \n",
       "1276  False         False         False  False  False  False       False   \n",
       "1283  False         False         False  False  False  False       False   \n",
       "...     ...           ...           ...    ...    ...    ...         ...   \n",
       "795   False         False         False  False  False  False       False   \n",
       "788   False         False         False  False  False  False       False   \n",
       "761   False         False         False  False  False  False       False   \n",
       "789   False         False         False  False  False  False       False   \n",
       "796   False         False         False  False  False  False       False   \n",
       "\n",
       "      Small Bags  Large Bags  XLarge Bags   year  region  \n",
       "1508       False       False        False  False   False  \n",
       "1277       False       False        False  False   False  \n",
       "1413       False       False        False  False   False  \n",
       "1276       False       False        False  False   False  \n",
       "1283       False       False        False  False   False  \n",
       "...          ...         ...          ...    ...     ...  \n",
       "795        False       False        False  False   False  \n",
       "788        False       False        False  False   False  \n",
       "761        False       False        False  False   False  \n",
       "789        False       False        False  False   False  \n",
       "796        False       False        False  False   False  \n",
       "\n",
       "[1436 rows x 12 columns]"
      ]
     },
     "execution_count": 494,
     "metadata": {},
     "output_type": "execute_result"
    }
   ],
   "source": [
    "df.isnull()"
   ]
  },
  {
   "cell_type": "code",
   "execution_count": 501,
   "id": "3f653cc1",
   "metadata": {},
   "outputs": [],
   "source": [
    "df.dropna(how = 'all',inplace=True) # all will check if all data from one row is having NaN values "
   ]
  },
  {
   "cell_type": "code",
   "execution_count": 282,
   "id": "d7127235",
   "metadata": {},
   "outputs": [
    {
     "data": {
      "text/html": [
       "<div>\n",
       "<style scoped>\n",
       "    .dataframe tbody tr th:only-of-type {\n",
       "        vertical-align: middle;\n",
       "    }\n",
       "\n",
       "    .dataframe tbody tr th {\n",
       "        vertical-align: top;\n",
       "    }\n",
       "\n",
       "    .dataframe thead th {\n",
       "        text-align: right;\n",
       "    }\n",
       "</style>\n",
       "<table border=\"1\" class=\"dataframe\">\n",
       "  <thead>\n",
       "    <tr style=\"text-align: right;\">\n",
       "      <th></th>\n",
       "      <th>Unnamed: 0</th>\n",
       "      <th>Date</th>\n",
       "      <th>AveragePrice</th>\n",
       "      <th>Total Volume</th>\n",
       "      <th>4046</th>\n",
       "      <th>4225</th>\n",
       "      <th>4770</th>\n",
       "      <th>Total Bags</th>\n",
       "      <th>Small Bags</th>\n",
       "      <th>Large Bags</th>\n",
       "      <th>XLarge Bags</th>\n",
       "      <th>type</th>\n",
       "      <th>year</th>\n",
       "      <th>region</th>\n",
       "    </tr>\n",
       "  </thead>\n",
       "  <tbody>\n",
       "    <tr>\n",
       "      <th>0</th>\n",
       "      <td>0.0</td>\n",
       "      <td>27-12-2015</td>\n",
       "      <td>1.33</td>\n",
       "      <td>64236.62</td>\n",
       "      <td>1036.74</td>\n",
       "      <td>54454.85</td>\n",
       "      <td>48.16</td>\n",
       "      <td>8696.87</td>\n",
       "      <td>8603.62</td>\n",
       "      <td>93.25</td>\n",
       "      <td>0.00</td>\n",
       "      <td>conventional</td>\n",
       "      <td>2015.0</td>\n",
       "      <td>Albany</td>\n",
       "    </tr>\n",
       "    <tr>\n",
       "      <th>1</th>\n",
       "      <td>1.0</td>\n",
       "      <td>20-12-2015</td>\n",
       "      <td>1.35</td>\n",
       "      <td>54876.98</td>\n",
       "      <td>674.28</td>\n",
       "      <td>44638.81</td>\n",
       "      <td>58.33</td>\n",
       "      <td>9505.56</td>\n",
       "      <td>9408.07</td>\n",
       "      <td>97.49</td>\n",
       "      <td>0.00</td>\n",
       "      <td>conventional</td>\n",
       "      <td>2015.0</td>\n",
       "      <td>Albany</td>\n",
       "    </tr>\n",
       "    <tr>\n",
       "      <th>2</th>\n",
       "      <td>2.0</td>\n",
       "      <td>13-12-2015</td>\n",
       "      <td>0.93</td>\n",
       "      <td>118220.22</td>\n",
       "      <td>794.70</td>\n",
       "      <td>109149.67</td>\n",
       "      <td>130.50</td>\n",
       "      <td>8145.35</td>\n",
       "      <td>8042.21</td>\n",
       "      <td>103.14</td>\n",
       "      <td>0.00</td>\n",
       "      <td>conventional</td>\n",
       "      <td>2015.0</td>\n",
       "      <td>Albany</td>\n",
       "    </tr>\n",
       "    <tr>\n",
       "      <th>3</th>\n",
       "      <td>3.0</td>\n",
       "      <td>06-12-2015</td>\n",
       "      <td>1.08</td>\n",
       "      <td>78992.15</td>\n",
       "      <td>1132.00</td>\n",
       "      <td>71976.41</td>\n",
       "      <td>72.58</td>\n",
       "      <td>5811.16</td>\n",
       "      <td>5677.40</td>\n",
       "      <td>133.76</td>\n",
       "      <td>0.00</td>\n",
       "      <td>conventional</td>\n",
       "      <td>2015.0</td>\n",
       "      <td>Albany</td>\n",
       "    </tr>\n",
       "    <tr>\n",
       "      <th>4</th>\n",
       "      <td>4.0</td>\n",
       "      <td>29-11-2015</td>\n",
       "      <td>1.28</td>\n",
       "      <td>51039.60</td>\n",
       "      <td>941.48</td>\n",
       "      <td>43838.39</td>\n",
       "      <td>75.78</td>\n",
       "      <td>6183.95</td>\n",
       "      <td>5986.26</td>\n",
       "      <td>197.69</td>\n",
       "      <td>0.00</td>\n",
       "      <td>conventional</td>\n",
       "      <td>2015.0</td>\n",
       "      <td>Albany</td>\n",
       "    </tr>\n",
       "    <tr>\n",
       "      <th>...</th>\n",
       "      <td>...</td>\n",
       "      <td>...</td>\n",
       "      <td>...</td>\n",
       "      <td>...</td>\n",
       "      <td>...</td>\n",
       "      <td>...</td>\n",
       "      <td>...</td>\n",
       "      <td>...</td>\n",
       "      <td>...</td>\n",
       "      <td>...</td>\n",
       "      <td>...</td>\n",
       "      <td>...</td>\n",
       "      <td>...</td>\n",
       "      <td>...</td>\n",
       "    </tr>\n",
       "    <tr>\n",
       "      <th>1512</th>\n",
       "      <td>10.0</td>\n",
       "      <td>16-10-2016</td>\n",
       "      <td>1.39</td>\n",
       "      <td>190846.01</td>\n",
       "      <td>57529.11</td>\n",
       "      <td>56366.66</td>\n",
       "      <td>17531.78</td>\n",
       "      <td>59418.46</td>\n",
       "      <td>48823.53</td>\n",
       "      <td>10354.65</td>\n",
       "      <td>240.28</td>\n",
       "      <td>conventional</td>\n",
       "      <td>2016.0</td>\n",
       "      <td>Charlotte</td>\n",
       "    </tr>\n",
       "    <tr>\n",
       "      <th>1513</th>\n",
       "      <td>11.0</td>\n",
       "      <td>09-10-2016</td>\n",
       "      <td>1.51</td>\n",
       "      <td>178235.75</td>\n",
       "      <td>43325.87</td>\n",
       "      <td>52189.61</td>\n",
       "      <td>19419.57</td>\n",
       "      <td>63300.70</td>\n",
       "      <td>54704.14</td>\n",
       "      <td>8596.56</td>\n",
       "      <td>0.00</td>\n",
       "      <td>conventional</td>\n",
       "      <td>2016.0</td>\n",
       "      <td>Charlotte</td>\n",
       "    </tr>\n",
       "    <tr>\n",
       "      <th>1514</th>\n",
       "      <td>12.0</td>\n",
       "      <td>02-10-2016</td>\n",
       "      <td>1.48</td>\n",
       "      <td>178410.82</td>\n",
       "      <td>46364.75</td>\n",
       "      <td>52893.38</td>\n",
       "      <td>16736.92</td>\n",
       "      <td>62415.77</td>\n",
       "      <td>53332.61</td>\n",
       "      <td>8258.16</td>\n",
       "      <td>825.00</td>\n",
       "      <td>conventional</td>\n",
       "      <td>2016.0</td>\n",
       "      <td>Charlotte</td>\n",
       "    </tr>\n",
       "    <tr>\n",
       "      <th>1515</th>\n",
       "      <td>13.0</td>\n",
       "      <td>25-09-2016</td>\n",
       "      <td>1.47</td>\n",
       "      <td>189131.52</td>\n",
       "      <td>54110.79</td>\n",
       "      <td>53593.58</td>\n",
       "      <td>17495.42</td>\n",
       "      <td>63931.73</td>\n",
       "      <td>55653.47</td>\n",
       "      <td>8278.26</td>\n",
       "      <td>0.00</td>\n",
       "      <td>conventional</td>\n",
       "      <td>2016.0</td>\n",
       "      <td>Charlotte</td>\n",
       "    </tr>\n",
       "    <tr>\n",
       "      <th>1516</th>\n",
       "      <td>14.0</td>\n",
       "      <td>18-09-2016</td>\n",
       "      <td>1.43</td>\n",
       "      <td>182978.30</td>\n",
       "      <td>43116.41</td>\n",
       "      <td>54193.42</td>\n",
       "      <td>16563.91</td>\n",
       "      <td>69104.56</td>\n",
       "      <td>57456.21</td>\n",
       "      <td>11648.35</td>\n",
       "      <td>0.00</td>\n",
       "      <td>conventional</td>\n",
       "      <td>2016.0</td>\n",
       "      <td>Charlotte</td>\n",
       "    </tr>\n",
       "  </tbody>\n",
       "</table>\n",
       "<p>1517 rows × 14 columns</p>\n",
       "</div>"
      ],
      "text/plain": [
       "      Unnamed: 0        Date  AveragePrice  Total Volume      4046       4225  \\\n",
       "0            0.0  27-12-2015          1.33      64236.62   1036.74   54454.85   \n",
       "1            1.0  20-12-2015          1.35      54876.98    674.28   44638.81   \n",
       "2            2.0  13-12-2015          0.93     118220.22    794.70  109149.67   \n",
       "3            3.0  06-12-2015          1.08      78992.15   1132.00   71976.41   \n",
       "4            4.0  29-11-2015          1.28      51039.60    941.48   43838.39   \n",
       "...          ...         ...           ...           ...       ...        ...   \n",
       "1512        10.0  16-10-2016          1.39     190846.01  57529.11   56366.66   \n",
       "1513        11.0  09-10-2016          1.51     178235.75  43325.87   52189.61   \n",
       "1514        12.0  02-10-2016          1.48     178410.82  46364.75   52893.38   \n",
       "1515        13.0  25-09-2016          1.47     189131.52  54110.79   53593.58   \n",
       "1516        14.0  18-09-2016          1.43     182978.30  43116.41   54193.42   \n",
       "\n",
       "          4770  Total Bags  Small Bags  Large Bags  XLarge Bags          type  \\\n",
       "0        48.16     8696.87     8603.62       93.25         0.00  conventional   \n",
       "1        58.33     9505.56     9408.07       97.49         0.00  conventional   \n",
       "2       130.50     8145.35     8042.21      103.14         0.00  conventional   \n",
       "3        72.58     5811.16     5677.40      133.76         0.00  conventional   \n",
       "4        75.78     6183.95     5986.26      197.69         0.00  conventional   \n",
       "...        ...         ...         ...         ...          ...           ...   \n",
       "1512  17531.78    59418.46    48823.53    10354.65       240.28  conventional   \n",
       "1513  19419.57    63300.70    54704.14     8596.56         0.00  conventional   \n",
       "1514  16736.92    62415.77    53332.61     8258.16       825.00  conventional   \n",
       "1515  17495.42    63931.73    55653.47     8278.26         0.00  conventional   \n",
       "1516  16563.91    69104.56    57456.21    11648.35         0.00  conventional   \n",
       "\n",
       "        year     region  \n",
       "0     2015.0     Albany  \n",
       "1     2015.0     Albany  \n",
       "2     2015.0     Albany  \n",
       "3     2015.0     Albany  \n",
       "4     2015.0     Albany  \n",
       "...      ...        ...  \n",
       "1512  2016.0  Charlotte  \n",
       "1513  2016.0  Charlotte  \n",
       "1514  2016.0  Charlotte  \n",
       "1515  2016.0  Charlotte  \n",
       "1516  2016.0  Charlotte  \n",
       "\n",
       "[1517 rows x 14 columns]"
      ]
     },
     "execution_count": 282,
     "metadata": {},
     "output_type": "execute_result"
    }
   ],
   "source": [
    "df"
   ]
  },
  {
   "cell_type": "markdown",
   "id": "f2e8efb1",
   "metadata": {},
   "source": [
    "Data cleaning for Nan values is done"
   ]
  },
  {
   "cell_type": "code",
   "execution_count": 498,
   "id": "5e245f30",
   "metadata": {},
   "outputs": [
    {
     "data": {
      "text/html": [
       "<div>\n",
       "<style scoped>\n",
       "    .dataframe tbody tr th:only-of-type {\n",
       "        vertical-align: middle;\n",
       "    }\n",
       "\n",
       "    .dataframe tbody tr th {\n",
       "        vertical-align: top;\n",
       "    }\n",
       "\n",
       "    .dataframe thead th {\n",
       "        text-align: right;\n",
       "    }\n",
       "</style>\n",
       "<table border=\"1\" class=\"dataframe\">\n",
       "  <thead>\n",
       "    <tr style=\"text-align: right;\">\n",
       "      <th></th>\n",
       "      <th>Date</th>\n",
       "      <th>AveragePrice</th>\n",
       "      <th>Total Volume</th>\n",
       "      <th>4046</th>\n",
       "      <th>4225</th>\n",
       "      <th>4770</th>\n",
       "      <th>Total Bags</th>\n",
       "      <th>Small Bags</th>\n",
       "      <th>Large Bags</th>\n",
       "      <th>XLarge Bags</th>\n",
       "      <th>year</th>\n",
       "      <th>region</th>\n",
       "    </tr>\n",
       "  </thead>\n",
       "  <tbody>\n",
       "    <tr>\n",
       "      <th>1508</th>\n",
       "      <td>43</td>\n",
       "      <td>1.64</td>\n",
       "      <td>144089.12</td>\n",
       "      <td>49399.39</td>\n",
       "      <td>26597.39</td>\n",
       "      <td>22714.68</td>\n",
       "      <td>45377.66</td>\n",
       "      <td>38436.79</td>\n",
       "      <td>6940.87</td>\n",
       "      <td>0.0</td>\n",
       "      <td>2016.0</td>\n",
       "      <td>7</td>\n",
       "    </tr>\n",
       "    <tr>\n",
       "      <th>1277</th>\n",
       "      <td>19</td>\n",
       "      <td>1.63</td>\n",
       "      <td>57178.20</td>\n",
       "      <td>3212.04</td>\n",
       "      <td>43024.32</td>\n",
       "      <td>36.40</td>\n",
       "      <td>10905.44</td>\n",
       "      <td>10474.09</td>\n",
       "      <td>431.35</td>\n",
       "      <td>0.0</td>\n",
       "      <td>2016.0</td>\n",
       "      <td>0</td>\n",
       "    </tr>\n",
       "    <tr>\n",
       "      <th>1413</th>\n",
       "      <td>67</td>\n",
       "      <td>1.63</td>\n",
       "      <td>78675.66</td>\n",
       "      <td>1426.31</td>\n",
       "      <td>52281.34</td>\n",
       "      <td>27.83</td>\n",
       "      <td>24940.18</td>\n",
       "      <td>24940.18</td>\n",
       "      <td>0.00</td>\n",
       "      <td>0.0</td>\n",
       "      <td>2016.0</td>\n",
       "      <td>5</td>\n",
       "    </tr>\n",
       "    <tr>\n",
       "      <th>1276</th>\n",
       "      <td>43</td>\n",
       "      <td>1.62</td>\n",
       "      <td>63608.01</td>\n",
       "      <td>3523.63</td>\n",
       "      <td>49837.68</td>\n",
       "      <td>34.00</td>\n",
       "      <td>10212.70</td>\n",
       "      <td>9790.67</td>\n",
       "      <td>422.03</td>\n",
       "      <td>0.0</td>\n",
       "      <td>2016.0</td>\n",
       "      <td>0</td>\n",
       "    </tr>\n",
       "    <tr>\n",
       "      <th>1283</th>\n",
       "      <td>83</td>\n",
       "      <td>1.62</td>\n",
       "      <td>96853.15</td>\n",
       "      <td>7658.55</td>\n",
       "      <td>79425.81</td>\n",
       "      <td>43.25</td>\n",
       "      <td>9725.54</td>\n",
       "      <td>9586.80</td>\n",
       "      <td>138.74</td>\n",
       "      <td>0.0</td>\n",
       "      <td>2016.0</td>\n",
       "      <td>0</td>\n",
       "    </tr>\n",
       "    <tr>\n",
       "      <th>...</th>\n",
       "      <td>...</td>\n",
       "      <td>...</td>\n",
       "      <td>...</td>\n",
       "      <td>...</td>\n",
       "      <td>...</td>\n",
       "      <td>...</td>\n",
       "      <td>...</td>\n",
       "      <td>...</td>\n",
       "      <td>...</td>\n",
       "      <td>...</td>\n",
       "      <td>...</td>\n",
       "      <td>...</td>\n",
       "    </tr>\n",
       "    <tr>\n",
       "      <th>795</th>\n",
       "      <td>86</td>\n",
       "      <td>0.53</td>\n",
       "      <td>1272428.72</td>\n",
       "      <td>1012900.04</td>\n",
       "      <td>159158.29</td>\n",
       "      <td>5832.62</td>\n",
       "      <td>94537.77</td>\n",
       "      <td>76637.06</td>\n",
       "      <td>17900.71</td>\n",
       "      <td>0.0</td>\n",
       "      <td>2015.0</td>\n",
       "      <td>31</td>\n",
       "    </tr>\n",
       "    <tr>\n",
       "      <th>788</th>\n",
       "      <td>46</td>\n",
       "      <td>0.53</td>\n",
       "      <td>1353850.06</td>\n",
       "      <td>1046887.77</td>\n",
       "      <td>180388.89</td>\n",
       "      <td>4263.45</td>\n",
       "      <td>122309.95</td>\n",
       "      <td>94240.24</td>\n",
       "      <td>28069.71</td>\n",
       "      <td>0.0</td>\n",
       "      <td>2015.0</td>\n",
       "      <td>31</td>\n",
       "    </tr>\n",
       "    <tr>\n",
       "      <th>761</th>\n",
       "      <td>68</td>\n",
       "      <td>0.53</td>\n",
       "      <td>1097224.25</td>\n",
       "      <td>785254.94</td>\n",
       "      <td>204147.30</td>\n",
       "      <td>10346.68</td>\n",
       "      <td>97475.33</td>\n",
       "      <td>72169.92</td>\n",
       "      <td>25305.41</td>\n",
       "      <td>0.0</td>\n",
       "      <td>2015.0</td>\n",
       "      <td>31</td>\n",
       "    </tr>\n",
       "    <tr>\n",
       "      <th>789</th>\n",
       "      <td>22</td>\n",
       "      <td>0.52</td>\n",
       "      <td>1457359.83</td>\n",
       "      <td>1130917.54</td>\n",
       "      <td>199669.94</td>\n",
       "      <td>4499.84</td>\n",
       "      <td>122272.51</td>\n",
       "      <td>90030.35</td>\n",
       "      <td>32242.16</td>\n",
       "      <td>0.0</td>\n",
       "      <td>2015.0</td>\n",
       "      <td>31</td>\n",
       "    </tr>\n",
       "    <tr>\n",
       "      <th>796</th>\n",
       "      <td>62</td>\n",
       "      <td>0.51</td>\n",
       "      <td>1366844.88</td>\n",
       "      <td>1097285.22</td>\n",
       "      <td>164460.99</td>\n",
       "      <td>7534.30</td>\n",
       "      <td>97564.37</td>\n",
       "      <td>44646.67</td>\n",
       "      <td>52917.70</td>\n",
       "      <td>0.0</td>\n",
       "      <td>2015.0</td>\n",
       "      <td>31</td>\n",
       "    </tr>\n",
       "  </tbody>\n",
       "</table>\n",
       "<p>1436 rows × 12 columns</p>\n",
       "</div>"
      ],
      "text/plain": [
       "      Date  AveragePrice  Total Volume        4046       4225      4770  \\\n",
       "1508    43          1.64     144089.12    49399.39   26597.39  22714.68   \n",
       "1277    19          1.63      57178.20     3212.04   43024.32     36.40   \n",
       "1413    67          1.63      78675.66     1426.31   52281.34     27.83   \n",
       "1276    43          1.62      63608.01     3523.63   49837.68     34.00   \n",
       "1283    83          1.62      96853.15     7658.55   79425.81     43.25   \n",
       "...    ...           ...           ...         ...        ...       ...   \n",
       "795     86          0.53    1272428.72  1012900.04  159158.29   5832.62   \n",
       "788     46          0.53    1353850.06  1046887.77  180388.89   4263.45   \n",
       "761     68          0.53    1097224.25   785254.94  204147.30  10346.68   \n",
       "789     22          0.52    1457359.83  1130917.54  199669.94   4499.84   \n",
       "796     62          0.51    1366844.88  1097285.22  164460.99   7534.30   \n",
       "\n",
       "      Total Bags  Small Bags  Large Bags  XLarge Bags    year  region  \n",
       "1508    45377.66    38436.79     6940.87          0.0  2016.0       7  \n",
       "1277    10905.44    10474.09      431.35          0.0  2016.0       0  \n",
       "1413    24940.18    24940.18        0.00          0.0  2016.0       5  \n",
       "1276    10212.70     9790.67      422.03          0.0  2016.0       0  \n",
       "1283     9725.54     9586.80      138.74          0.0  2016.0       0  \n",
       "...          ...         ...         ...          ...     ...     ...  \n",
       "795     94537.77    76637.06    17900.71          0.0  2015.0      31  \n",
       "788    122309.95    94240.24    28069.71          0.0  2015.0      31  \n",
       "761     97475.33    72169.92    25305.41          0.0  2015.0      31  \n",
       "789    122272.51    90030.35    32242.16          0.0  2015.0      31  \n",
       "796     97564.37    44646.67    52917.70          0.0  2015.0      31  \n",
       "\n",
       "[1436 rows x 12 columns]"
      ]
     },
     "execution_count": 498,
     "metadata": {},
     "output_type": "execute_result"
    }
   ],
   "source": [
    "# sorting data in ascending order with output column\n",
    "df.sort_values([\"AveragePrice\"], \n",
    "                    axis=0,\n",
    "                    ascending=[False], \n",
    "                    inplace=True)\n",
    "df"
   ]
  },
  {
   "cell_type": "markdown",
   "id": "9f0f954b",
   "metadata": {},
   "source": [
    "# EDA"
   ]
  },
  {
   "cell_type": "code",
   "execution_count": 284,
   "id": "4a2d4857",
   "metadata": {},
   "outputs": [
    {
     "data": {
      "text/html": [
       "<div>\n",
       "<style scoped>\n",
       "    .dataframe tbody tr th:only-of-type {\n",
       "        vertical-align: middle;\n",
       "    }\n",
       "\n",
       "    .dataframe tbody tr th {\n",
       "        vertical-align: top;\n",
       "    }\n",
       "\n",
       "    .dataframe thead th {\n",
       "        text-align: right;\n",
       "    }\n",
       "</style>\n",
       "<table border=\"1\" class=\"dataframe\">\n",
       "  <thead>\n",
       "    <tr style=\"text-align: right;\">\n",
       "      <th></th>\n",
       "      <th>Unnamed: 0</th>\n",
       "      <th>AveragePrice</th>\n",
       "      <th>Total Volume</th>\n",
       "      <th>4046</th>\n",
       "      <th>4225</th>\n",
       "      <th>4770</th>\n",
       "      <th>Total Bags</th>\n",
       "      <th>Small Bags</th>\n",
       "      <th>Large Bags</th>\n",
       "      <th>XLarge Bags</th>\n",
       "      <th>year</th>\n",
       "    </tr>\n",
       "  </thead>\n",
       "  <tbody>\n",
       "    <tr>\n",
       "      <th>count</th>\n",
       "      <td>1517.000000</td>\n",
       "      <td>1517.000000</td>\n",
       "      <td>1.517000e+03</td>\n",
       "      <td>1.517000e+03</td>\n",
       "      <td>1.517000e+03</td>\n",
       "      <td>1.517000e+03</td>\n",
       "      <td>1.517000e+03</td>\n",
       "      <td>1.517000e+03</td>\n",
       "      <td>1.517000e+03</td>\n",
       "      <td>1517.000000</td>\n",
       "      <td>1517.000000</td>\n",
       "    </tr>\n",
       "    <tr>\n",
       "      <th>mean</th>\n",
       "      <td>26.995386</td>\n",
       "      <td>1.074990</td>\n",
       "      <td>1.601879e+06</td>\n",
       "      <td>6.464387e+05</td>\n",
       "      <td>6.114375e+05</td>\n",
       "      <td>5.040550e+04</td>\n",
       "      <td>2.935974e+05</td>\n",
       "      <td>2.487736e+05</td>\n",
       "      <td>4.264205e+04</td>\n",
       "      <td>2181.771074</td>\n",
       "      <td>2015.162821</td>\n",
       "    </tr>\n",
       "    <tr>\n",
       "      <th>std</th>\n",
       "      <td>14.848287</td>\n",
       "      <td>0.188891</td>\n",
       "      <td>4.433143e+06</td>\n",
       "      <td>1.947614e+06</td>\n",
       "      <td>1.672906e+06</td>\n",
       "      <td>1.377812e+05</td>\n",
       "      <td>7.579765e+05</td>\n",
       "      <td>6.474765e+05</td>\n",
       "      <td>1.182157e+05</td>\n",
       "      <td>7455.712144</td>\n",
       "      <td>0.369324</td>\n",
       "    </tr>\n",
       "    <tr>\n",
       "      <th>min</th>\n",
       "      <td>0.000000</td>\n",
       "      <td>0.490000</td>\n",
       "      <td>3.875074e+04</td>\n",
       "      <td>4.677200e+02</td>\n",
       "      <td>1.783770e+03</td>\n",
       "      <td>0.000000e+00</td>\n",
       "      <td>3.311770e+03</td>\n",
       "      <td>3.311770e+03</td>\n",
       "      <td>0.000000e+00</td>\n",
       "      <td>0.000000</td>\n",
       "      <td>2015.000000</td>\n",
       "    </tr>\n",
       "    <tr>\n",
       "      <th>25%</th>\n",
       "      <td>14.000000</td>\n",
       "      <td>0.980000</td>\n",
       "      <td>1.474700e+05</td>\n",
       "      <td>2.040034e+04</td>\n",
       "      <td>4.147606e+04</td>\n",
       "      <td>9.112500e+02</td>\n",
       "      <td>3.620689e+04</td>\n",
       "      <td>2.972722e+04</td>\n",
       "      <td>5.407400e+02</td>\n",
       "      <td>0.000000</td>\n",
       "      <td>2015.000000</td>\n",
       "    </tr>\n",
       "    <tr>\n",
       "      <th>50%</th>\n",
       "      <td>29.000000</td>\n",
       "      <td>1.080000</td>\n",
       "      <td>4.027919e+05</td>\n",
       "      <td>8.175117e+04</td>\n",
       "      <td>1.186649e+05</td>\n",
       "      <td>7.688170e+03</td>\n",
       "      <td>7.397906e+04</td>\n",
       "      <td>6.237569e+04</td>\n",
       "      <td>5.044350e+03</td>\n",
       "      <td>0.000000</td>\n",
       "      <td>2015.000000</td>\n",
       "    </tr>\n",
       "    <tr>\n",
       "      <th>75%</th>\n",
       "      <td>39.000000</td>\n",
       "      <td>1.190000</td>\n",
       "      <td>9.819751e+05</td>\n",
       "      <td>3.775785e+05</td>\n",
       "      <td>4.851503e+05</td>\n",
       "      <td>2.916730e+04</td>\n",
       "      <td>1.576097e+05</td>\n",
       "      <td>1.461994e+05</td>\n",
       "      <td>2.926767e+04</td>\n",
       "      <td>401.480000</td>\n",
       "      <td>2015.000000</td>\n",
       "    </tr>\n",
       "    <tr>\n",
       "      <th>max</th>\n",
       "      <td>51.000000</td>\n",
       "      <td>1.680000</td>\n",
       "      <td>4.465546e+07</td>\n",
       "      <td>1.893304e+07</td>\n",
       "      <td>1.895648e+07</td>\n",
       "      <td>1.381516e+06</td>\n",
       "      <td>6.736304e+06</td>\n",
       "      <td>5.893642e+06</td>\n",
       "      <td>1.121076e+06</td>\n",
       "      <td>108072.790000</td>\n",
       "      <td>2016.000000</td>\n",
       "    </tr>\n",
       "  </tbody>\n",
       "</table>\n",
       "</div>"
      ],
      "text/plain": [
       "        Unnamed: 0  AveragePrice  Total Volume          4046          4225  \\\n",
       "count  1517.000000   1517.000000  1.517000e+03  1.517000e+03  1.517000e+03   \n",
       "mean     26.995386      1.074990  1.601879e+06  6.464387e+05  6.114375e+05   \n",
       "std      14.848287      0.188891  4.433143e+06  1.947614e+06  1.672906e+06   \n",
       "min       0.000000      0.490000  3.875074e+04  4.677200e+02  1.783770e+03   \n",
       "25%      14.000000      0.980000  1.474700e+05  2.040034e+04  4.147606e+04   \n",
       "50%      29.000000      1.080000  4.027919e+05  8.175117e+04  1.186649e+05   \n",
       "75%      39.000000      1.190000  9.819751e+05  3.775785e+05  4.851503e+05   \n",
       "max      51.000000      1.680000  4.465546e+07  1.893304e+07  1.895648e+07   \n",
       "\n",
       "               4770    Total Bags    Small Bags    Large Bags    XLarge Bags  \\\n",
       "count  1.517000e+03  1.517000e+03  1.517000e+03  1.517000e+03    1517.000000   \n",
       "mean   5.040550e+04  2.935974e+05  2.487736e+05  4.264205e+04    2181.771074   \n",
       "std    1.377812e+05  7.579765e+05  6.474765e+05  1.182157e+05    7455.712144   \n",
       "min    0.000000e+00  3.311770e+03  3.311770e+03  0.000000e+00       0.000000   \n",
       "25%    9.112500e+02  3.620689e+04  2.972722e+04  5.407400e+02       0.000000   \n",
       "50%    7.688170e+03  7.397906e+04  6.237569e+04  5.044350e+03       0.000000   \n",
       "75%    2.916730e+04  1.576097e+05  1.461994e+05  2.926767e+04     401.480000   \n",
       "max    1.381516e+06  6.736304e+06  5.893642e+06  1.121076e+06  108072.790000   \n",
       "\n",
       "              year  \n",
       "count  1517.000000  \n",
       "mean   2015.162821  \n",
       "std       0.369324  \n",
       "min    2015.000000  \n",
       "25%    2015.000000  \n",
       "50%    2015.000000  \n",
       "75%    2015.000000  \n",
       "max    2016.000000  "
      ]
     },
     "execution_count": 284,
     "metadata": {},
     "output_type": "execute_result"
    }
   ],
   "source": [
    "df.describe()"
   ]
  },
  {
   "cell_type": "code",
   "execution_count": 285,
   "id": "392be595",
   "metadata": {},
   "outputs": [
    {
     "name": "stdout",
     "output_type": "stream",
     "text": [
      "<class 'pandas.core.frame.DataFrame'>\n",
      "Int64Index: 1517 entries, 1458 to 760\n",
      "Data columns (total 14 columns):\n",
      " #   Column        Non-Null Count  Dtype  \n",
      "---  ------        --------------  -----  \n",
      " 0   Unnamed: 0    1517 non-null   float64\n",
      " 1   Date          1517 non-null   object \n",
      " 2   AveragePrice  1517 non-null   float64\n",
      " 3   Total Volume  1517 non-null   float64\n",
      " 4   4046          1517 non-null   float64\n",
      " 5   4225          1517 non-null   float64\n",
      " 6   4770          1517 non-null   float64\n",
      " 7   Total Bags    1517 non-null   float64\n",
      " 8   Small Bags    1517 non-null   float64\n",
      " 9   Large Bags    1517 non-null   float64\n",
      " 10  XLarge Bags   1517 non-null   float64\n",
      " 11  type          1517 non-null   object \n",
      " 12  year          1517 non-null   float64\n",
      " 13  region        1517 non-null   object \n",
      "dtypes: float64(11), object(3)\n",
      "memory usage: 177.8+ KB\n"
     ]
    }
   ],
   "source": [
    "df.info()"
   ]
  },
  {
   "cell_type": "markdown",
   "id": "ef1056c9",
   "metadata": {},
   "source": [
    "Observation:\n",
    "\n",
    "-The Data we can see is not in one format hence need to use Standar scaler later on which will make data in same format if it will be as it is after removing skewness as power transform internally change the data.\n",
    "\n",
    "\n",
    "-Std Dev is so high hence we can say that skwness and outliers can present.\n",
    "\n",
    "-The  Date, Type and region col are in form of object hence need to use Label Encoder to convert the data"
   ]
  },
  {
   "cell_type": "markdown",
   "id": "e609f160",
   "metadata": {},
   "source": [
    "# Transformation Techniques to convert data in numeric"
   ]
  },
  {
   "cell_type": "code",
   "execution_count": 286,
   "id": "2cf5fa43",
   "metadata": {},
   "outputs": [],
   "source": [
    "from sklearn.preprocessing import LabelEncoder"
   ]
  },
  {
   "cell_type": "code",
   "execution_count": 502,
   "id": "a4ed5825",
   "metadata": {},
   "outputs": [],
   "source": [
    "# Encode categorical features by using for loop \n",
    "for col in df.columns:\n",
    "    if df[col].dtype == np.number:\n",
    "        continue\n",
    "    df[col] = LabelEncoder().fit_transform(df[col])"
   ]
  },
  {
   "cell_type": "code",
   "execution_count": 503,
   "id": "66fbf637",
   "metadata": {},
   "outputs": [
    {
     "data": {
      "text/html": [
       "<div>\n",
       "<style scoped>\n",
       "    .dataframe tbody tr th:only-of-type {\n",
       "        vertical-align: middle;\n",
       "    }\n",
       "\n",
       "    .dataframe tbody tr th {\n",
       "        vertical-align: top;\n",
       "    }\n",
       "\n",
       "    .dataframe thead th {\n",
       "        text-align: right;\n",
       "    }\n",
       "</style>\n",
       "<table border=\"1\" class=\"dataframe\">\n",
       "  <thead>\n",
       "    <tr style=\"text-align: right;\">\n",
       "      <th></th>\n",
       "      <th>Unnamed: 0</th>\n",
       "      <th>Date</th>\n",
       "      <th>AveragePrice</th>\n",
       "      <th>Total Volume</th>\n",
       "      <th>4046</th>\n",
       "      <th>4225</th>\n",
       "      <th>4770</th>\n",
       "      <th>Total Bags</th>\n",
       "      <th>Small Bags</th>\n",
       "      <th>Large Bags</th>\n",
       "      <th>XLarge Bags</th>\n",
       "      <th>type</th>\n",
       "      <th>year</th>\n",
       "      <th>region</th>\n",
       "    </tr>\n",
       "  </thead>\n",
       "  <tbody>\n",
       "    <tr>\n",
       "      <th>0</th>\n",
       "      <td>0.0</td>\n",
       "      <td>92</td>\n",
       "      <td>1.33</td>\n",
       "      <td>64236.62</td>\n",
       "      <td>1036.74</td>\n",
       "      <td>54454.85</td>\n",
       "      <td>48.16</td>\n",
       "      <td>8696.87</td>\n",
       "      <td>8603.62</td>\n",
       "      <td>93.25</td>\n",
       "      <td>0.00</td>\n",
       "      <td>0</td>\n",
       "      <td>2015.0</td>\n",
       "      <td>0</td>\n",
       "    </tr>\n",
       "    <tr>\n",
       "      <th>1</th>\n",
       "      <td>1.0</td>\n",
       "      <td>68</td>\n",
       "      <td>1.35</td>\n",
       "      <td>54876.98</td>\n",
       "      <td>674.28</td>\n",
       "      <td>44638.81</td>\n",
       "      <td>58.33</td>\n",
       "      <td>9505.56</td>\n",
       "      <td>9408.07</td>\n",
       "      <td>97.49</td>\n",
       "      <td>0.00</td>\n",
       "      <td>0</td>\n",
       "      <td>2015.0</td>\n",
       "      <td>0</td>\n",
       "    </tr>\n",
       "    <tr>\n",
       "      <th>2</th>\n",
       "      <td>2.0</td>\n",
       "      <td>44</td>\n",
       "      <td>0.93</td>\n",
       "      <td>118220.22</td>\n",
       "      <td>794.70</td>\n",
       "      <td>109149.67</td>\n",
       "      <td>130.50</td>\n",
       "      <td>8145.35</td>\n",
       "      <td>8042.21</td>\n",
       "      <td>103.14</td>\n",
       "      <td>0.00</td>\n",
       "      <td>0</td>\n",
       "      <td>2015.0</td>\n",
       "      <td>0</td>\n",
       "    </tr>\n",
       "    <tr>\n",
       "      <th>3</th>\n",
       "      <td>3.0</td>\n",
       "      <td>20</td>\n",
       "      <td>1.08</td>\n",
       "      <td>78992.15</td>\n",
       "      <td>1132.00</td>\n",
       "      <td>71976.41</td>\n",
       "      <td>72.58</td>\n",
       "      <td>5811.16</td>\n",
       "      <td>5677.40</td>\n",
       "      <td>133.76</td>\n",
       "      <td>0.00</td>\n",
       "      <td>0</td>\n",
       "      <td>2015.0</td>\n",
       "      <td>0</td>\n",
       "    </tr>\n",
       "    <tr>\n",
       "      <th>4</th>\n",
       "      <td>4.0</td>\n",
       "      <td>98</td>\n",
       "      <td>1.28</td>\n",
       "      <td>51039.60</td>\n",
       "      <td>941.48</td>\n",
       "      <td>43838.39</td>\n",
       "      <td>75.78</td>\n",
       "      <td>6183.95</td>\n",
       "      <td>5986.26</td>\n",
       "      <td>197.69</td>\n",
       "      <td>0.00</td>\n",
       "      <td>0</td>\n",
       "      <td>2015.0</td>\n",
       "      <td>0</td>\n",
       "    </tr>\n",
       "    <tr>\n",
       "      <th>...</th>\n",
       "      <td>...</td>\n",
       "      <td>...</td>\n",
       "      <td>...</td>\n",
       "      <td>...</td>\n",
       "      <td>...</td>\n",
       "      <td>...</td>\n",
       "      <td>...</td>\n",
       "      <td>...</td>\n",
       "      <td>...</td>\n",
       "      <td>...</td>\n",
       "      <td>...</td>\n",
       "      <td>...</td>\n",
       "      <td>...</td>\n",
       "      <td>...</td>\n",
       "    </tr>\n",
       "    <tr>\n",
       "      <th>1512</th>\n",
       "      <td>10.0</td>\n",
       "      <td>53</td>\n",
       "      <td>1.39</td>\n",
       "      <td>190846.01</td>\n",
       "      <td>57529.11</td>\n",
       "      <td>56366.66</td>\n",
       "      <td>17531.78</td>\n",
       "      <td>59418.46</td>\n",
       "      <td>48823.53</td>\n",
       "      <td>10354.65</td>\n",
       "      <td>240.28</td>\n",
       "      <td>0</td>\n",
       "      <td>2016.0</td>\n",
       "      <td>7</td>\n",
       "    </tr>\n",
       "    <tr>\n",
       "      <th>1513</th>\n",
       "      <td>11.0</td>\n",
       "      <td>29</td>\n",
       "      <td>1.51</td>\n",
       "      <td>178235.75</td>\n",
       "      <td>43325.87</td>\n",
       "      <td>52189.61</td>\n",
       "      <td>19419.57</td>\n",
       "      <td>63300.70</td>\n",
       "      <td>54704.14</td>\n",
       "      <td>8596.56</td>\n",
       "      <td>0.00</td>\n",
       "      <td>0</td>\n",
       "      <td>2016.0</td>\n",
       "      <td>7</td>\n",
       "    </tr>\n",
       "    <tr>\n",
       "      <th>1514</th>\n",
       "      <td>12.0</td>\n",
       "      <td>5</td>\n",
       "      <td>1.48</td>\n",
       "      <td>178410.82</td>\n",
       "      <td>46364.75</td>\n",
       "      <td>52893.38</td>\n",
       "      <td>16736.92</td>\n",
       "      <td>62415.77</td>\n",
       "      <td>53332.61</td>\n",
       "      <td>8258.16</td>\n",
       "      <td>825.00</td>\n",
       "      <td>0</td>\n",
       "      <td>2016.0</td>\n",
       "      <td>7</td>\n",
       "    </tr>\n",
       "    <tr>\n",
       "      <th>1515</th>\n",
       "      <td>13.0</td>\n",
       "      <td>83</td>\n",
       "      <td>1.47</td>\n",
       "      <td>189131.52</td>\n",
       "      <td>54110.79</td>\n",
       "      <td>53593.58</td>\n",
       "      <td>17495.42</td>\n",
       "      <td>63931.73</td>\n",
       "      <td>55653.47</td>\n",
       "      <td>8278.26</td>\n",
       "      <td>0.00</td>\n",
       "      <td>0</td>\n",
       "      <td>2016.0</td>\n",
       "      <td>7</td>\n",
       "    </tr>\n",
       "    <tr>\n",
       "      <th>1516</th>\n",
       "      <td>14.0</td>\n",
       "      <td>59</td>\n",
       "      <td>1.43</td>\n",
       "      <td>182978.30</td>\n",
       "      <td>43116.41</td>\n",
       "      <td>54193.42</td>\n",
       "      <td>16563.91</td>\n",
       "      <td>69104.56</td>\n",
       "      <td>57456.21</td>\n",
       "      <td>11648.35</td>\n",
       "      <td>0.00</td>\n",
       "      <td>0</td>\n",
       "      <td>2016.0</td>\n",
       "      <td>7</td>\n",
       "    </tr>\n",
       "  </tbody>\n",
       "</table>\n",
       "<p>1517 rows × 14 columns</p>\n",
       "</div>"
      ],
      "text/plain": [
       "      Unnamed: 0  Date  AveragePrice  Total Volume      4046       4225  \\\n",
       "0            0.0    92          1.33      64236.62   1036.74   54454.85   \n",
       "1            1.0    68          1.35      54876.98    674.28   44638.81   \n",
       "2            2.0    44          0.93     118220.22    794.70  109149.67   \n",
       "3            3.0    20          1.08      78992.15   1132.00   71976.41   \n",
       "4            4.0    98          1.28      51039.60    941.48   43838.39   \n",
       "...          ...   ...           ...           ...       ...        ...   \n",
       "1512        10.0    53          1.39     190846.01  57529.11   56366.66   \n",
       "1513        11.0    29          1.51     178235.75  43325.87   52189.61   \n",
       "1514        12.0     5          1.48     178410.82  46364.75   52893.38   \n",
       "1515        13.0    83          1.47     189131.52  54110.79   53593.58   \n",
       "1516        14.0    59          1.43     182978.30  43116.41   54193.42   \n",
       "\n",
       "          4770  Total Bags  Small Bags  Large Bags  XLarge Bags  type    year  \\\n",
       "0        48.16     8696.87     8603.62       93.25         0.00     0  2015.0   \n",
       "1        58.33     9505.56     9408.07       97.49         0.00     0  2015.0   \n",
       "2       130.50     8145.35     8042.21      103.14         0.00     0  2015.0   \n",
       "3        72.58     5811.16     5677.40      133.76         0.00     0  2015.0   \n",
       "4        75.78     6183.95     5986.26      197.69         0.00     0  2015.0   \n",
       "...        ...         ...         ...         ...          ...   ...     ...   \n",
       "1512  17531.78    59418.46    48823.53    10354.65       240.28     0  2016.0   \n",
       "1513  19419.57    63300.70    54704.14     8596.56         0.00     0  2016.0   \n",
       "1514  16736.92    62415.77    53332.61     8258.16       825.00     0  2016.0   \n",
       "1515  17495.42    63931.73    55653.47     8278.26         0.00     0  2016.0   \n",
       "1516  16563.91    69104.56    57456.21    11648.35         0.00     0  2016.0   \n",
       "\n",
       "      region  \n",
       "0          0  \n",
       "1          0  \n",
       "2          0  \n",
       "3          0  \n",
       "4          0  \n",
       "...      ...  \n",
       "1512       7  \n",
       "1513       7  \n",
       "1514       7  \n",
       "1515       7  \n",
       "1516       7  \n",
       "\n",
       "[1517 rows x 14 columns]"
      ]
     },
     "execution_count": 503,
     "metadata": {},
     "output_type": "execute_result"
    }
   ],
   "source": [
    "df"
   ]
  },
  {
   "cell_type": "markdown",
   "id": "1805e6b5",
   "metadata": {},
   "source": [
    "Here we can see column Date, Type and region are converted into numeric \n",
    "\n",
    "Now we can again check the correlation with all columns as all columns are in numeric field"
   ]
  },
  {
   "cell_type": "code",
   "execution_count": 289,
   "id": "b763711e",
   "metadata": {},
   "outputs": [
    {
     "name": "stdout",
     "output_type": "stream",
     "text": [
      "<class 'pandas.core.frame.DataFrame'>\n",
      "Int64Index: 1517 entries, 1458 to 760\n",
      "Data columns (total 14 columns):\n",
      " #   Column        Non-Null Count  Dtype  \n",
      "---  ------        --------------  -----  \n",
      " 0   Unnamed: 0    1517 non-null   float64\n",
      " 1   Date          1517 non-null   int32  \n",
      " 2   AveragePrice  1517 non-null   float64\n",
      " 3   Total Volume  1517 non-null   float64\n",
      " 4   4046          1517 non-null   float64\n",
      " 5   4225          1517 non-null   float64\n",
      " 6   4770          1517 non-null   float64\n",
      " 7   Total Bags    1517 non-null   float64\n",
      " 8   Small Bags    1517 non-null   float64\n",
      " 9   Large Bags    1517 non-null   float64\n",
      " 10  XLarge Bags   1517 non-null   float64\n",
      " 11  type          1517 non-null   int32  \n",
      " 12  year          1517 non-null   float64\n",
      " 13  region        1517 non-null   int32  \n",
      "dtypes: float64(11), int32(3)\n",
      "memory usage: 160.0 KB\n"
     ]
    }
   ],
   "source": [
    "df.info()"
   ]
  },
  {
   "cell_type": "markdown",
   "id": "36657031",
   "metadata": {},
   "source": [
    "All data is in Numeric Format"
   ]
  },
  {
   "cell_type": "code",
   "execution_count": 290,
   "id": "51f67b61",
   "metadata": {},
   "outputs": [
    {
     "data": {
      "text/html": [
       "<div>\n",
       "<style scoped>\n",
       "    .dataframe tbody tr th:only-of-type {\n",
       "        vertical-align: middle;\n",
       "    }\n",
       "\n",
       "    .dataframe tbody tr th {\n",
       "        vertical-align: top;\n",
       "    }\n",
       "\n",
       "    .dataframe thead th {\n",
       "        text-align: right;\n",
       "    }\n",
       "</style>\n",
       "<table border=\"1\" class=\"dataframe\">\n",
       "  <thead>\n",
       "    <tr style=\"text-align: right;\">\n",
       "      <th></th>\n",
       "      <th>Unnamed: 0</th>\n",
       "      <th>Date</th>\n",
       "      <th>AveragePrice</th>\n",
       "      <th>Total Volume</th>\n",
       "      <th>4046</th>\n",
       "      <th>4225</th>\n",
       "      <th>4770</th>\n",
       "      <th>Total Bags</th>\n",
       "      <th>Small Bags</th>\n",
       "      <th>Large Bags</th>\n",
       "      <th>XLarge Bags</th>\n",
       "      <th>type</th>\n",
       "      <th>year</th>\n",
       "      <th>region</th>\n",
       "    </tr>\n",
       "  </thead>\n",
       "  <tbody>\n",
       "    <tr>\n",
       "      <th>count</th>\n",
       "      <td>1517.000000</td>\n",
       "      <td>1517.000000</td>\n",
       "      <td>1517.000000</td>\n",
       "      <td>1.517000e+03</td>\n",
       "      <td>1.517000e+03</td>\n",
       "      <td>1.517000e+03</td>\n",
       "      <td>1.517000e+03</td>\n",
       "      <td>1.517000e+03</td>\n",
       "      <td>1.517000e+03</td>\n",
       "      <td>1.517000e+03</td>\n",
       "      <td>1517.000000</td>\n",
       "      <td>1517.0</td>\n",
       "      <td>1517.000000</td>\n",
       "      <td>1517.000000</td>\n",
       "    </tr>\n",
       "    <tr>\n",
       "      <th>mean</th>\n",
       "      <td>26.995386</td>\n",
       "      <td>50.624918</td>\n",
       "      <td>1.074990</td>\n",
       "      <td>1.601879e+06</td>\n",
       "      <td>6.464387e+05</td>\n",
       "      <td>6.114375e+05</td>\n",
       "      <td>5.040550e+04</td>\n",
       "      <td>2.935974e+05</td>\n",
       "      <td>2.487736e+05</td>\n",
       "      <td>4.264205e+04</td>\n",
       "      <td>2181.771074</td>\n",
       "      <td>0.0</td>\n",
       "      <td>2015.162821</td>\n",
       "      <td>21.196440</td>\n",
       "    </tr>\n",
       "    <tr>\n",
       "      <th>std</th>\n",
       "      <td>14.848287</td>\n",
       "      <td>30.040469</td>\n",
       "      <td>0.188891</td>\n",
       "      <td>4.433143e+06</td>\n",
       "      <td>1.947614e+06</td>\n",
       "      <td>1.672906e+06</td>\n",
       "      <td>1.377812e+05</td>\n",
       "      <td>7.579765e+05</td>\n",
       "      <td>6.474765e+05</td>\n",
       "      <td>1.182157e+05</td>\n",
       "      <td>7455.712144</td>\n",
       "      <td>0.0</td>\n",
       "      <td>0.369324</td>\n",
       "      <td>16.132398</td>\n",
       "    </tr>\n",
       "    <tr>\n",
       "      <th>min</th>\n",
       "      <td>0.000000</td>\n",
       "      <td>0.000000</td>\n",
       "      <td>0.490000</td>\n",
       "      <td>3.875074e+04</td>\n",
       "      <td>4.677200e+02</td>\n",
       "      <td>1.783770e+03</td>\n",
       "      <td>0.000000e+00</td>\n",
       "      <td>3.311770e+03</td>\n",
       "      <td>3.311770e+03</td>\n",
       "      <td>0.000000e+00</td>\n",
       "      <td>0.000000</td>\n",
       "      <td>0.0</td>\n",
       "      <td>2015.000000</td>\n",
       "      <td>0.000000</td>\n",
       "    </tr>\n",
       "    <tr>\n",
       "      <th>25%</th>\n",
       "      <td>14.000000</td>\n",
       "      <td>25.000000</td>\n",
       "      <td>0.980000</td>\n",
       "      <td>1.474700e+05</td>\n",
       "      <td>2.040034e+04</td>\n",
       "      <td>4.147606e+04</td>\n",
       "      <td>9.112500e+02</td>\n",
       "      <td>3.620689e+04</td>\n",
       "      <td>2.972722e+04</td>\n",
       "      <td>5.407400e+02</td>\n",
       "      <td>0.000000</td>\n",
       "      <td>0.0</td>\n",
       "      <td>2015.000000</td>\n",
       "      <td>6.000000</td>\n",
       "    </tr>\n",
       "    <tr>\n",
       "      <th>50%</th>\n",
       "      <td>29.000000</td>\n",
       "      <td>49.000000</td>\n",
       "      <td>1.080000</td>\n",
       "      <td>4.027919e+05</td>\n",
       "      <td>8.175117e+04</td>\n",
       "      <td>1.186649e+05</td>\n",
       "      <td>7.688170e+03</td>\n",
       "      <td>7.397906e+04</td>\n",
       "      <td>6.237569e+04</td>\n",
       "      <td>5.044350e+03</td>\n",
       "      <td>0.000000</td>\n",
       "      <td>0.0</td>\n",
       "      <td>2015.000000</td>\n",
       "      <td>19.000000</td>\n",
       "    </tr>\n",
       "    <tr>\n",
       "      <th>75%</th>\n",
       "      <td>39.000000</td>\n",
       "      <td>75.000000</td>\n",
       "      <td>1.190000</td>\n",
       "      <td>9.819751e+05</td>\n",
       "      <td>3.775785e+05</td>\n",
       "      <td>4.851503e+05</td>\n",
       "      <td>2.916730e+04</td>\n",
       "      <td>1.576097e+05</td>\n",
       "      <td>1.461994e+05</td>\n",
       "      <td>2.926767e+04</td>\n",
       "      <td>401.480000</td>\n",
       "      <td>0.0</td>\n",
       "      <td>2015.000000</td>\n",
       "      <td>35.000000</td>\n",
       "    </tr>\n",
       "    <tr>\n",
       "      <th>max</th>\n",
       "      <td>51.000000</td>\n",
       "      <td>103.000000</td>\n",
       "      <td>1.680000</td>\n",
       "      <td>4.465546e+07</td>\n",
       "      <td>1.893304e+07</td>\n",
       "      <td>1.895648e+07</td>\n",
       "      <td>1.381516e+06</td>\n",
       "      <td>6.736304e+06</td>\n",
       "      <td>5.893642e+06</td>\n",
       "      <td>1.121076e+06</td>\n",
       "      <td>108072.790000</td>\n",
       "      <td>0.0</td>\n",
       "      <td>2016.000000</td>\n",
       "      <td>50.000000</td>\n",
       "    </tr>\n",
       "  </tbody>\n",
       "</table>\n",
       "</div>"
      ],
      "text/plain": [
       "        Unnamed: 0         Date  AveragePrice  Total Volume          4046  \\\n",
       "count  1517.000000  1517.000000   1517.000000  1.517000e+03  1.517000e+03   \n",
       "mean     26.995386    50.624918      1.074990  1.601879e+06  6.464387e+05   \n",
       "std      14.848287    30.040469      0.188891  4.433143e+06  1.947614e+06   \n",
       "min       0.000000     0.000000      0.490000  3.875074e+04  4.677200e+02   \n",
       "25%      14.000000    25.000000      0.980000  1.474700e+05  2.040034e+04   \n",
       "50%      29.000000    49.000000      1.080000  4.027919e+05  8.175117e+04   \n",
       "75%      39.000000    75.000000      1.190000  9.819751e+05  3.775785e+05   \n",
       "max      51.000000   103.000000      1.680000  4.465546e+07  1.893304e+07   \n",
       "\n",
       "               4225          4770    Total Bags    Small Bags    Large Bags  \\\n",
       "count  1.517000e+03  1.517000e+03  1.517000e+03  1.517000e+03  1.517000e+03   \n",
       "mean   6.114375e+05  5.040550e+04  2.935974e+05  2.487736e+05  4.264205e+04   \n",
       "std    1.672906e+06  1.377812e+05  7.579765e+05  6.474765e+05  1.182157e+05   \n",
       "min    1.783770e+03  0.000000e+00  3.311770e+03  3.311770e+03  0.000000e+00   \n",
       "25%    4.147606e+04  9.112500e+02  3.620689e+04  2.972722e+04  5.407400e+02   \n",
       "50%    1.186649e+05  7.688170e+03  7.397906e+04  6.237569e+04  5.044350e+03   \n",
       "75%    4.851503e+05  2.916730e+04  1.576097e+05  1.461994e+05  2.926767e+04   \n",
       "max    1.895648e+07  1.381516e+06  6.736304e+06  5.893642e+06  1.121076e+06   \n",
       "\n",
       "         XLarge Bags    type         year       region  \n",
       "count    1517.000000  1517.0  1517.000000  1517.000000  \n",
       "mean     2181.771074     0.0  2015.162821    21.196440  \n",
       "std      7455.712144     0.0     0.369324    16.132398  \n",
       "min         0.000000     0.0  2015.000000     0.000000  \n",
       "25%         0.000000     0.0  2015.000000     6.000000  \n",
       "50%         0.000000     0.0  2015.000000    19.000000  \n",
       "75%       401.480000     0.0  2015.000000    35.000000  \n",
       "max    108072.790000     0.0  2016.000000    50.000000  "
      ]
     },
     "execution_count": 290,
     "metadata": {},
     "output_type": "execute_result"
    }
   ],
   "source": [
    "df.describe()"
   ]
  },
  {
   "cell_type": "markdown",
   "id": "65127cb1",
   "metadata": {},
   "source": [
    "# checking  Skwness"
   ]
  },
  {
   "cell_type": "code",
   "execution_count": 504,
   "id": "7d9e65aa",
   "metadata": {},
   "outputs": [
    {
     "data": {
      "text/plain": [
       "4225            6.394926\n",
       "Total Volume    6.200138\n",
       "4046            6.051830\n",
       "XLarge Bags     5.775077\n",
       "4770            5.405164\n",
       "Total Bags      5.366378\n",
       "Small Bags      5.355185\n",
       "Large Bags      5.144495\n",
       "year            1.828332\n",
       "region          0.288146\n",
       "Date            0.012623\n",
       "type            0.000000\n",
       "AveragePrice   -0.109444\n",
       "Unnamed: 0     -0.234824\n",
       "dtype: float64"
      ]
     },
     "execution_count": 504,
     "metadata": {},
     "output_type": "execute_result"
    }
   ],
   "source": [
    "df.skew().sort_values(ascending=False)"
   ]
  },
  {
   "cell_type": "markdown",
   "id": "558633ef",
   "metadata": {},
   "source": [
    "observation: till year we can see the high skewness are present"
   ]
  },
  {
   "cell_type": "markdown",
   "id": "a44d8cf8",
   "metadata": {},
   "source": [
    "# Checking Null Values"
   ]
  },
  {
   "cell_type": "code",
   "execution_count": 292,
   "id": "17cd32f6",
   "metadata": {},
   "outputs": [
    {
     "data": {
      "text/plain": [
       "Unnamed: 0      0\n",
       "Date            0\n",
       "AveragePrice    0\n",
       "Total Volume    0\n",
       "4046            0\n",
       "4225            0\n",
       "4770            0\n",
       "Total Bags      0\n",
       "Small Bags      0\n",
       "Large Bags      0\n",
       "XLarge Bags     0\n",
       "type            0\n",
       "year            0\n",
       "region          0\n",
       "dtype: int64"
      ]
     },
     "execution_count": 292,
     "metadata": {},
     "output_type": "execute_result"
    }
   ],
   "source": [
    "df.isnull().sum()"
   ]
  },
  {
   "cell_type": "code",
   "execution_count": 293,
   "id": "9f7eb31d",
   "metadata": {},
   "outputs": [
    {
     "data": {
      "text/plain": [
       "<AxesSubplot:>"
      ]
     },
     "execution_count": 293,
     "metadata": {},
     "output_type": "execute_result"
    },
    {
     "data": {
      "image/png": "[encoded data removed]",
      "text/plain": [
       "<Figure size 432x288 with 2 Axes>"
      ]
     },
     "metadata": {
      "needs_background": "light"
     },
     "output_type": "display_data"
    }
   ],
   "source": [
    "sns.heatmap(df.isnull())"
   ]
  },
  {
   "cell_type": "markdown",
   "id": "234ae0c3",
   "metadata": {},
   "source": [
    "Observation:Null vales not present in Data"
   ]
  },
  {
   "cell_type": "markdown",
   "id": "55d9653a",
   "metadata": {},
   "source": [
    "# Checking Correlation"
   ]
  },
  {
   "cell_type": "code",
   "execution_count": 294,
   "id": "da18e9c7",
   "metadata": {},
   "outputs": [
    {
     "data": {
      "image/png": "[encoded data removed]",
      "text/plain": [
       "<Figure size 1440x1080 with 2 Axes>"
      ]
     },
     "metadata": {
      "needs_background": "light"
     },
     "output_type": "display_data"
    }
   ],
   "source": [
    "corr_mat=df.corr()#----------------> corelation function\n",
    "\n",
    "plt.figure(figsize=[20,15])#-------> figure size dimetions\n",
    "sns.heatmap(corr_mat,annot=True,cmap=\"Blues\")#--> annot = true means will print values\n",
    "plt.title(\"correlation Matrix\")#---> title\n",
    "plt.show()"
   ]
  },
  {
   "cell_type": "markdown",
   "id": "61c5db7d",
   "metadata": {},
   "source": [
    "Here we can see Type column is having only uniqoe data hence we will going to find out distinct values for all columns so we can remove unwanted columns"
   ]
  },
  {
   "cell_type": "code",
   "execution_count": 295,
   "id": "dbaa0ff4",
   "metadata": {},
   "outputs": [
    {
     "data": {
      "text/plain": [
       "Total Volume    1517\n",
       "4046            1517\n",
       "4225            1517\n",
       "Total Bags      1517\n",
       "Small Bags      1517\n",
       "4770            1516\n",
       "Large Bags      1377\n",
       "XLarge Bags      711\n",
       "AveragePrice     113\n",
       "Date             104\n",
       "Unnamed: 0        52\n",
       "region            51\n",
       "year               2\n",
       "type               1\n",
       "dtype: int64"
      ]
     },
     "execution_count": 295,
     "metadata": {},
     "output_type": "execute_result"
    }
   ],
   "source": [
    "df.nunique().sort_values(ascending=False)"
   ]
  },
  {
   "cell_type": "markdown",
   "id": "a2318b8b",
   "metadata": {},
   "source": [
    "we can see here type is having only 1 Distinct value and unnamed columns is index column for data which we can see in raw data hence we will remove this two column"
   ]
  },
  {
   "cell_type": "markdown",
   "id": "0fb48cc0",
   "metadata": {},
   "source": [
    "# Removing unwanted column"
   ]
  },
  {
   "cell_type": "code",
   "execution_count": 505,
   "id": "6e92592e",
   "metadata": {},
   "outputs": [],
   "source": [
    "df.drop(columns=['type'],axis=1,inplace=True)"
   ]
  },
  {
   "cell_type": "code",
   "execution_count": 506,
   "id": "7c50c521",
   "metadata": {},
   "outputs": [],
   "source": [
    "df.drop(columns=['Unnamed: 0'],axis=1,inplace=True)"
   ]
  },
  {
   "cell_type": "code",
   "execution_count": 298,
   "id": "c4534cdf",
   "metadata": {},
   "outputs": [
    {
     "data": {
      "image/png": "[encoded data removed]",
      "text/plain": [
       "<Figure size 1440x1080 with 2 Axes>"
      ]
     },
     "metadata": {
      "needs_background": "light"
     },
     "output_type": "display_data"
    }
   ],
   "source": [
    "corr_mat=df.corr()#----------------> corelation function\n",
    "\n",
    "plt.figure(figsize=[20,15])#-------> figure size dimetions\n",
    "sns.heatmap(corr_mat,annot=True,cmap=\"Blues\")#--> annot = true means will print values\n",
    "plt.title(\"correlation Matrix\")#---> title\n",
    "plt.show()"
   ]
  },
  {
   "cell_type": "markdown",
   "id": "262e6caf",
   "metadata": {},
   "source": [
    "# Checking Correlation with Region column"
   ]
  },
  {
   "cell_type": "code",
   "execution_count": 299,
   "id": "f2207e06",
   "metadata": {},
   "outputs": [
    {
     "data": {
      "text/plain": [
       "region          1.000000\n",
       "Large Bags      0.297452\n",
       "4046            0.269481\n",
       "Total Volume    0.236579\n",
       "4225            0.215733\n",
       "Total Bags      0.190001\n",
       "Small Bags      0.168650\n",
       "4770            0.138092\n",
       "Date           -0.026002\n",
       "XLarge Bags    -0.046144\n",
       "AveragePrice   -0.229408\n",
       "year           -0.470472\n",
       "Name: region, dtype: float64"
      ]
     },
     "execution_count": 299,
     "metadata": {},
     "output_type": "execute_result"
    }
   ],
   "source": [
    "corr_mat['region'].sort_values(ascending=False)"
   ]
  },
  {
   "cell_type": "code",
   "execution_count": 300,
   "id": "b2ccf6dc",
   "metadata": {},
   "outputs": [
    {
     "data": {
      "text/plain": [
       "AveragePrice    1.000000\n",
       "year            0.178683\n",
       "Date            0.092984\n",
       "XLarge Bags    -0.048284\n",
       "4225           -0.092084\n",
       "Small Bags     -0.097682\n",
       "4770           -0.100567\n",
       "Total Bags     -0.111597\n",
       "Total Volume   -0.140470\n",
       "Large Bags     -0.177480\n",
       "4046           -0.190096\n",
       "region         -0.229408\n",
       "Name: AveragePrice, dtype: float64"
      ]
     },
     "execution_count": 300,
     "metadata": {},
     "output_type": "execute_result"
    }
   ],
   "source": [
    "corr_mat['AveragePrice'].sort_values(ascending=False)"
   ]
  },
  {
   "cell_type": "markdown",
   "id": "d4c01a20",
   "metadata": {},
   "source": [
    "Observation: we can see the Large bags are positive and year is negatively correlated \n",
    "    \n",
    "- Year column is havig only two values but it is in positive corelation with Avg price hence we are not removing that column"
   ]
  },
  {
   "cell_type": "markdown",
   "id": "bbb0437c",
   "metadata": {},
   "source": [
    "# Checking Outliers"
   ]
  },
  {
   "cell_type": "code",
   "execution_count": 507,
   "id": "873b4f4d",
   "metadata": {},
   "outputs": [
    {
     "data": {
      "image/png": "[encoded data removed]",
      "text/plain": [
       "<Figure size 1584x1080 with 12 Axes>"
      ]
     },
     "metadata": {},
     "output_type": "display_data"
    }
   ],
   "source": [
    "#checking one more time\n",
    "plt.figure(figsize=(22,15),facecolor='pink')\n",
    "plotnumber=1\n",
    "\n",
    "for column in df:\n",
    "    if plotnumber<=30:\n",
    "        ax=plt.subplot(5,6,plotnumber)\n",
    "        plt.boxplot(df[column])\n",
    "        plt.xlabel(column)\n",
    "        \n",
    "    plotnumber+=1\n",
    "plt.show()"
   ]
  },
  {
   "cell_type": "markdown",
   "id": "554cc453",
   "metadata": {},
   "source": [
    "Observation: The outlier are present in multiple column which we can see on above graph hence Removing the outliers by zscore method"
   ]
  },
  {
   "cell_type": "code",
   "execution_count": 508,
   "id": "867f46b7",
   "metadata": {},
   "outputs": [],
   "source": [
    "from scipy.stats import zscore"
   ]
  },
  {
   "cell_type": "code",
   "execution_count": 509,
   "id": "ae849329",
   "metadata": {},
   "outputs": [
    {
     "data": {
      "text/plain": [
       "array([[1.37776563, 1.35048079, 0.34696593, ..., 0.29272731, 0.44100815,\n",
       "        1.3143384 ],\n",
       "       [0.57857991, 1.45639674, 0.34907791, ..., 0.29272731, 0.44100815,\n",
       "        1.3143384 ],\n",
       "       [0.22060582, 0.76783831, 0.33478463, ..., 0.29272731, 0.44100815,\n",
       "        1.3143384 ],\n",
       "       ...,\n",
       "       [1.51928262, 2.14485045, 0.32120275, ..., 0.1820374 , 2.26753179,\n",
       "        0.88028586],\n",
       "       [1.07807099, 2.09189247, 0.31878364, ..., 0.29272731, 2.26753179,\n",
       "        0.88028586],\n",
       "       [0.27888526, 1.88006056, 0.3201721 , ..., 0.29272731, 2.26753179,\n",
       "        0.88028586]])"
      ]
     },
     "execution_count": 509,
     "metadata": {},
     "output_type": "execute_result"
    }
   ],
   "source": [
    "z=np.abs(zscore(df))\n",
    "z"
   ]
  },
  {
   "cell_type": "code",
   "execution_count": 510,
   "id": "9495d584",
   "metadata": {},
   "outputs": [
    {
     "name": "stdout",
     "output_type": "stream",
     "text": [
      "(array([ 398,  401,  409,  412,  412,  760, 1016, 1017, 1059, 1182, 1182,\n",
      "       1182, 1182, 1182, 1182, 1182, 1182, 1183, 1183, 1183, 1183, 1183,\n",
      "       1183, 1183, 1184, 1184, 1184, 1184, 1184, 1184, 1184, 1184, 1185,\n",
      "       1185, 1185, 1185, 1185, 1185, 1185, 1186, 1186, 1186, 1186, 1186,\n",
      "       1186, 1186, 1187, 1187, 1187, 1187, 1187, 1187, 1187, 1187, 1188,\n",
      "       1188, 1188, 1188, 1188, 1188, 1188, 1189, 1189, 1189, 1189, 1189,\n",
      "       1189, 1189, 1189, 1190, 1190, 1190, 1190, 1190, 1190, 1190, 1190,\n",
      "       1191, 1191, 1191, 1191, 1191, 1191, 1191, 1191, 1192, 1192, 1192,\n",
      "       1192, 1192, 1192, 1192, 1193, 1193, 1193, 1193, 1193, 1193, 1193,\n",
      "       1194, 1194, 1194, 1194, 1194, 1194, 1194, 1195, 1195, 1195, 1195,\n",
      "       1195, 1195, 1195, 1195, 1196, 1196, 1196, 1196, 1196, 1196, 1196,\n",
      "       1197, 1197, 1197, 1197, 1197, 1197, 1197, 1198, 1198, 1198, 1198,\n",
      "       1198, 1198, 1198, 1198, 1199, 1199, 1199, 1199, 1199, 1199, 1199,\n",
      "       1200, 1200, 1200, 1200, 1200, 1200, 1200, 1201, 1201, 1201, 1201,\n",
      "       1201, 1201, 1201, 1202, 1202, 1202, 1202, 1202, 1202, 1202, 1202,\n",
      "       1203, 1203, 1203, 1203, 1203, 1203, 1203, 1204, 1204, 1204, 1204,\n",
      "       1204, 1204, 1204, 1205, 1205, 1205, 1205, 1205, 1205, 1205, 1206,\n",
      "       1206, 1206, 1206, 1206, 1206, 1206, 1207, 1208, 1209, 1210, 1212,\n",
      "       1213, 1215, 1216, 1217, 1218, 1222, 1411, 1450, 1451, 1452, 1453,\n",
      "       1454, 1455, 1456, 1457, 1457, 1458, 1459, 1460, 1461, 1462, 1463,\n",
      "       1464, 1465, 1466, 1467, 1468, 1469, 1470, 1471, 1472, 1473, 1474,\n",
      "       1475, 1476, 1477, 1478, 1479, 1480, 1481, 1483, 1483, 1484, 1495,\n",
      "       1496, 1496], dtype=int64), array([9, 9, 9, 5, 9, 1, 9, 9, 8, 2, 3, 4, 5, 6, 7, 8, 9, 2, 3, 4, 5, 6,\n",
      "       7, 8, 2, 3, 4, 5, 6, 7, 8, 9, 2, 3, 4, 5, 6, 7, 8, 2, 3, 4, 5, 6,\n",
      "       7, 8, 2, 3, 4, 5, 6, 7, 8, 9, 2, 3, 4, 5, 6, 7, 8, 2, 3, 4, 5, 6,\n",
      "       7, 8, 9, 2, 3, 4, 5, 6, 7, 8, 9, 2, 3, 4, 5, 6, 7, 8, 9, 2, 3, 4,\n",
      "       5, 6, 7, 8, 2, 3, 4, 5, 6, 7, 8, 2, 3, 4, 5, 6, 7, 8, 2, 3, 4, 5,\n",
      "       6, 7, 8, 9, 2, 3, 4, 5, 6, 7, 8, 2, 3, 4, 5, 6, 7, 8, 2, 3, 4, 5,\n",
      "       6, 7, 8, 9, 2, 3, 4, 5, 6, 7, 8, 2, 3, 4, 5, 6, 7, 8, 2, 3, 4, 5,\n",
      "       6, 7, 8, 2, 3, 4, 5, 6, 7, 8, 9, 2, 3, 4, 5, 6, 7, 8, 2, 3, 4, 5,\n",
      "       6, 7, 8, 2, 3, 4, 5, 6, 7, 8, 2, 3, 4, 5, 6, 7, 8, 8, 8, 8, 8, 8,\n",
      "       8, 8, 8, 8, 8, 8, 1, 9, 9, 9, 9, 9, 9, 9, 1, 9, 1, 9, 9, 9, 9, 9,\n",
      "       9, 9, 9, 9, 9, 9, 9, 9, 9, 9, 9, 9, 9, 9, 9, 9, 9, 9, 8, 9, 8, 7,\n",
      "       6, 7], dtype=int64))\n"
     ]
    }
   ],
   "source": [
    "threshold=3\n",
    "print(np.where(z>3))"
   ]
  },
  {
   "cell_type": "code",
   "execution_count": 511,
   "id": "e5cb22a2",
   "metadata": {},
   "outputs": [
    {
     "data": {
      "text/html": [
       "<div>\n",
       "<style scoped>\n",
       "    .dataframe tbody tr th:only-of-type {\n",
       "        vertical-align: middle;\n",
       "    }\n",
       "\n",
       "    .dataframe tbody tr th {\n",
       "        vertical-align: top;\n",
       "    }\n",
       "\n",
       "    .dataframe thead th {\n",
       "        text-align: right;\n",
       "    }\n",
       "</style>\n",
       "<table border=\"1\" class=\"dataframe\">\n",
       "  <thead>\n",
       "    <tr style=\"text-align: right;\">\n",
       "      <th></th>\n",
       "      <th>Date</th>\n",
       "      <th>AveragePrice</th>\n",
       "      <th>Total Volume</th>\n",
       "      <th>4046</th>\n",
       "      <th>4225</th>\n",
       "      <th>4770</th>\n",
       "      <th>Total Bags</th>\n",
       "      <th>Small Bags</th>\n",
       "      <th>Large Bags</th>\n",
       "      <th>XLarge Bags</th>\n",
       "      <th>year</th>\n",
       "      <th>region</th>\n",
       "    </tr>\n",
       "  </thead>\n",
       "  <tbody>\n",
       "    <tr>\n",
       "      <th>0</th>\n",
       "      <td>92</td>\n",
       "      <td>1.33</td>\n",
       "      <td>64236.62</td>\n",
       "      <td>1036.74</td>\n",
       "      <td>54454.85</td>\n",
       "      <td>48.16</td>\n",
       "      <td>8696.87</td>\n",
       "      <td>8603.62</td>\n",
       "      <td>93.25</td>\n",
       "      <td>0.00</td>\n",
       "      <td>2015.0</td>\n",
       "      <td>0</td>\n",
       "    </tr>\n",
       "    <tr>\n",
       "      <th>1</th>\n",
       "      <td>68</td>\n",
       "      <td>1.35</td>\n",
       "      <td>54876.98</td>\n",
       "      <td>674.28</td>\n",
       "      <td>44638.81</td>\n",
       "      <td>58.33</td>\n",
       "      <td>9505.56</td>\n",
       "      <td>9408.07</td>\n",
       "      <td>97.49</td>\n",
       "      <td>0.00</td>\n",
       "      <td>2015.0</td>\n",
       "      <td>0</td>\n",
       "    </tr>\n",
       "    <tr>\n",
       "      <th>2</th>\n",
       "      <td>44</td>\n",
       "      <td>0.93</td>\n",
       "      <td>118220.22</td>\n",
       "      <td>794.70</td>\n",
       "      <td>109149.67</td>\n",
       "      <td>130.50</td>\n",
       "      <td>8145.35</td>\n",
       "      <td>8042.21</td>\n",
       "      <td>103.14</td>\n",
       "      <td>0.00</td>\n",
       "      <td>2015.0</td>\n",
       "      <td>0</td>\n",
       "    </tr>\n",
       "    <tr>\n",
       "      <th>3</th>\n",
       "      <td>20</td>\n",
       "      <td>1.08</td>\n",
       "      <td>78992.15</td>\n",
       "      <td>1132.00</td>\n",
       "      <td>71976.41</td>\n",
       "      <td>72.58</td>\n",
       "      <td>5811.16</td>\n",
       "      <td>5677.40</td>\n",
       "      <td>133.76</td>\n",
       "      <td>0.00</td>\n",
       "      <td>2015.0</td>\n",
       "      <td>0</td>\n",
       "    </tr>\n",
       "    <tr>\n",
       "      <th>4</th>\n",
       "      <td>98</td>\n",
       "      <td>1.28</td>\n",
       "      <td>51039.60</td>\n",
       "      <td>941.48</td>\n",
       "      <td>43838.39</td>\n",
       "      <td>75.78</td>\n",
       "      <td>6183.95</td>\n",
       "      <td>5986.26</td>\n",
       "      <td>197.69</td>\n",
       "      <td>0.00</td>\n",
       "      <td>2015.0</td>\n",
       "      <td>0</td>\n",
       "    </tr>\n",
       "    <tr>\n",
       "      <th>...</th>\n",
       "      <td>...</td>\n",
       "      <td>...</td>\n",
       "      <td>...</td>\n",
       "      <td>...</td>\n",
       "      <td>...</td>\n",
       "      <td>...</td>\n",
       "      <td>...</td>\n",
       "      <td>...</td>\n",
       "      <td>...</td>\n",
       "      <td>...</td>\n",
       "      <td>...</td>\n",
       "      <td>...</td>\n",
       "    </tr>\n",
       "    <tr>\n",
       "      <th>1512</th>\n",
       "      <td>53</td>\n",
       "      <td>1.39</td>\n",
       "      <td>190846.01</td>\n",
       "      <td>57529.11</td>\n",
       "      <td>56366.66</td>\n",
       "      <td>17531.78</td>\n",
       "      <td>59418.46</td>\n",
       "      <td>48823.53</td>\n",
       "      <td>10354.65</td>\n",
       "      <td>240.28</td>\n",
       "      <td>2016.0</td>\n",
       "      <td>7</td>\n",
       "    </tr>\n",
       "    <tr>\n",
       "      <th>1513</th>\n",
       "      <td>29</td>\n",
       "      <td>1.51</td>\n",
       "      <td>178235.75</td>\n",
       "      <td>43325.87</td>\n",
       "      <td>52189.61</td>\n",
       "      <td>19419.57</td>\n",
       "      <td>63300.70</td>\n",
       "      <td>54704.14</td>\n",
       "      <td>8596.56</td>\n",
       "      <td>0.00</td>\n",
       "      <td>2016.0</td>\n",
       "      <td>7</td>\n",
       "    </tr>\n",
       "    <tr>\n",
       "      <th>1514</th>\n",
       "      <td>5</td>\n",
       "      <td>1.48</td>\n",
       "      <td>178410.82</td>\n",
       "      <td>46364.75</td>\n",
       "      <td>52893.38</td>\n",
       "      <td>16736.92</td>\n",
       "      <td>62415.77</td>\n",
       "      <td>53332.61</td>\n",
       "      <td>8258.16</td>\n",
       "      <td>825.00</td>\n",
       "      <td>2016.0</td>\n",
       "      <td>7</td>\n",
       "    </tr>\n",
       "    <tr>\n",
       "      <th>1515</th>\n",
       "      <td>83</td>\n",
       "      <td>1.47</td>\n",
       "      <td>189131.52</td>\n",
       "      <td>54110.79</td>\n",
       "      <td>53593.58</td>\n",
       "      <td>17495.42</td>\n",
       "      <td>63931.73</td>\n",
       "      <td>55653.47</td>\n",
       "      <td>8278.26</td>\n",
       "      <td>0.00</td>\n",
       "      <td>2016.0</td>\n",
       "      <td>7</td>\n",
       "    </tr>\n",
       "    <tr>\n",
       "      <th>1516</th>\n",
       "      <td>59</td>\n",
       "      <td>1.43</td>\n",
       "      <td>182978.30</td>\n",
       "      <td>43116.41</td>\n",
       "      <td>54193.42</td>\n",
       "      <td>16563.91</td>\n",
       "      <td>69104.56</td>\n",
       "      <td>57456.21</td>\n",
       "      <td>11648.35</td>\n",
       "      <td>0.00</td>\n",
       "      <td>2016.0</td>\n",
       "      <td>7</td>\n",
       "    </tr>\n",
       "  </tbody>\n",
       "</table>\n",
       "<p>1436 rows × 12 columns</p>\n",
       "</div>"
      ],
      "text/plain": [
       "      Date  AveragePrice  Total Volume      4046       4225      4770  \\\n",
       "0       92          1.33      64236.62   1036.74   54454.85     48.16   \n",
       "1       68          1.35      54876.98    674.28   44638.81     58.33   \n",
       "2       44          0.93     118220.22    794.70  109149.67    130.50   \n",
       "3       20          1.08      78992.15   1132.00   71976.41     72.58   \n",
       "4       98          1.28      51039.60    941.48   43838.39     75.78   \n",
       "...    ...           ...           ...       ...        ...       ...   \n",
       "1512    53          1.39     190846.01  57529.11   56366.66  17531.78   \n",
       "1513    29          1.51     178235.75  43325.87   52189.61  19419.57   \n",
       "1514     5          1.48     178410.82  46364.75   52893.38  16736.92   \n",
       "1515    83          1.47     189131.52  54110.79   53593.58  17495.42   \n",
       "1516    59          1.43     182978.30  43116.41   54193.42  16563.91   \n",
       "\n",
       "      Total Bags  Small Bags  Large Bags  XLarge Bags    year  region  \n",
       "0        8696.87     8603.62       93.25         0.00  2015.0       0  \n",
       "1        9505.56     9408.07       97.49         0.00  2015.0       0  \n",
       "2        8145.35     8042.21      103.14         0.00  2015.0       0  \n",
       "3        5811.16     5677.40      133.76         0.00  2015.0       0  \n",
       "4        6183.95     5986.26      197.69         0.00  2015.0       0  \n",
       "...          ...         ...         ...          ...     ...     ...  \n",
       "1512    59418.46    48823.53    10354.65       240.28  2016.0       7  \n",
       "1513    63300.70    54704.14     8596.56         0.00  2016.0       7  \n",
       "1514    62415.77    53332.61     8258.16       825.00  2016.0       7  \n",
       "1515    63931.73    55653.47     8278.26         0.00  2016.0       7  \n",
       "1516    69104.56    57456.21    11648.35         0.00  2016.0       7  \n",
       "\n",
       "[1436 rows x 12 columns]"
      ]
     },
     "execution_count": 511,
     "metadata": {},
     "output_type": "execute_result"
    }
   ],
   "source": [
    "df_new=df[(z<3).all(axis=1)]\n",
    "df_new"
   ]
  },
  {
   "cell_type": "code",
   "execution_count": 512,
   "id": "ced3efc2",
   "metadata": {},
   "outputs": [
    {
     "data": {
      "text/html": [
       "<div>\n",
       "<style scoped>\n",
       "    .dataframe tbody tr th:only-of-type {\n",
       "        vertical-align: middle;\n",
       "    }\n",
       "\n",
       "    .dataframe tbody tr th {\n",
       "        vertical-align: top;\n",
       "    }\n",
       "\n",
       "    .dataframe thead th {\n",
       "        text-align: right;\n",
       "    }\n",
       "</style>\n",
       "<table border=\"1\" class=\"dataframe\">\n",
       "  <thead>\n",
       "    <tr style=\"text-align: right;\">\n",
       "      <th></th>\n",
       "      <th>Date</th>\n",
       "      <th>AveragePrice</th>\n",
       "      <th>Total Volume</th>\n",
       "      <th>4046</th>\n",
       "      <th>4225</th>\n",
       "      <th>4770</th>\n",
       "      <th>Total Bags</th>\n",
       "      <th>Small Bags</th>\n",
       "      <th>Large Bags</th>\n",
       "      <th>XLarge Bags</th>\n",
       "      <th>year</th>\n",
       "      <th>region</th>\n",
       "    </tr>\n",
       "  </thead>\n",
       "  <tbody>\n",
       "    <tr>\n",
       "      <th>0</th>\n",
       "      <td>92</td>\n",
       "      <td>1.33</td>\n",
       "      <td>64236.62</td>\n",
       "      <td>1036.74</td>\n",
       "      <td>54454.85</td>\n",
       "      <td>48.16</td>\n",
       "      <td>8696.87</td>\n",
       "      <td>8603.62</td>\n",
       "      <td>93.25</td>\n",
       "      <td>0.00</td>\n",
       "      <td>2015.0</td>\n",
       "      <td>0</td>\n",
       "    </tr>\n",
       "    <tr>\n",
       "      <th>1</th>\n",
       "      <td>68</td>\n",
       "      <td>1.35</td>\n",
       "      <td>54876.98</td>\n",
       "      <td>674.28</td>\n",
       "      <td>44638.81</td>\n",
       "      <td>58.33</td>\n",
       "      <td>9505.56</td>\n",
       "      <td>9408.07</td>\n",
       "      <td>97.49</td>\n",
       "      <td>0.00</td>\n",
       "      <td>2015.0</td>\n",
       "      <td>0</td>\n",
       "    </tr>\n",
       "    <tr>\n",
       "      <th>2</th>\n",
       "      <td>44</td>\n",
       "      <td>0.93</td>\n",
       "      <td>118220.22</td>\n",
       "      <td>794.70</td>\n",
       "      <td>109149.67</td>\n",
       "      <td>130.50</td>\n",
       "      <td>8145.35</td>\n",
       "      <td>8042.21</td>\n",
       "      <td>103.14</td>\n",
       "      <td>0.00</td>\n",
       "      <td>2015.0</td>\n",
       "      <td>0</td>\n",
       "    </tr>\n",
       "    <tr>\n",
       "      <th>3</th>\n",
       "      <td>20</td>\n",
       "      <td>1.08</td>\n",
       "      <td>78992.15</td>\n",
       "      <td>1132.00</td>\n",
       "      <td>71976.41</td>\n",
       "      <td>72.58</td>\n",
       "      <td>5811.16</td>\n",
       "      <td>5677.40</td>\n",
       "      <td>133.76</td>\n",
       "      <td>0.00</td>\n",
       "      <td>2015.0</td>\n",
       "      <td>0</td>\n",
       "    </tr>\n",
       "    <tr>\n",
       "      <th>4</th>\n",
       "      <td>98</td>\n",
       "      <td>1.28</td>\n",
       "      <td>51039.60</td>\n",
       "      <td>941.48</td>\n",
       "      <td>43838.39</td>\n",
       "      <td>75.78</td>\n",
       "      <td>6183.95</td>\n",
       "      <td>5986.26</td>\n",
       "      <td>197.69</td>\n",
       "      <td>0.00</td>\n",
       "      <td>2015.0</td>\n",
       "      <td>0</td>\n",
       "    </tr>\n",
       "    <tr>\n",
       "      <th>...</th>\n",
       "      <td>...</td>\n",
       "      <td>...</td>\n",
       "      <td>...</td>\n",
       "      <td>...</td>\n",
       "      <td>...</td>\n",
       "      <td>...</td>\n",
       "      <td>...</td>\n",
       "      <td>...</td>\n",
       "      <td>...</td>\n",
       "      <td>...</td>\n",
       "      <td>...</td>\n",
       "      <td>...</td>\n",
       "    </tr>\n",
       "    <tr>\n",
       "      <th>1512</th>\n",
       "      <td>53</td>\n",
       "      <td>1.39</td>\n",
       "      <td>190846.01</td>\n",
       "      <td>57529.11</td>\n",
       "      <td>56366.66</td>\n",
       "      <td>17531.78</td>\n",
       "      <td>59418.46</td>\n",
       "      <td>48823.53</td>\n",
       "      <td>10354.65</td>\n",
       "      <td>240.28</td>\n",
       "      <td>2016.0</td>\n",
       "      <td>7</td>\n",
       "    </tr>\n",
       "    <tr>\n",
       "      <th>1513</th>\n",
       "      <td>29</td>\n",
       "      <td>1.51</td>\n",
       "      <td>178235.75</td>\n",
       "      <td>43325.87</td>\n",
       "      <td>52189.61</td>\n",
       "      <td>19419.57</td>\n",
       "      <td>63300.70</td>\n",
       "      <td>54704.14</td>\n",
       "      <td>8596.56</td>\n",
       "      <td>0.00</td>\n",
       "      <td>2016.0</td>\n",
       "      <td>7</td>\n",
       "    </tr>\n",
       "    <tr>\n",
       "      <th>1514</th>\n",
       "      <td>5</td>\n",
       "      <td>1.48</td>\n",
       "      <td>178410.82</td>\n",
       "      <td>46364.75</td>\n",
       "      <td>52893.38</td>\n",
       "      <td>16736.92</td>\n",
       "      <td>62415.77</td>\n",
       "      <td>53332.61</td>\n",
       "      <td>8258.16</td>\n",
       "      <td>825.00</td>\n",
       "      <td>2016.0</td>\n",
       "      <td>7</td>\n",
       "    </tr>\n",
       "    <tr>\n",
       "      <th>1515</th>\n",
       "      <td>83</td>\n",
       "      <td>1.47</td>\n",
       "      <td>189131.52</td>\n",
       "      <td>54110.79</td>\n",
       "      <td>53593.58</td>\n",
       "      <td>17495.42</td>\n",
       "      <td>63931.73</td>\n",
       "      <td>55653.47</td>\n",
       "      <td>8278.26</td>\n",
       "      <td>0.00</td>\n",
       "      <td>2016.0</td>\n",
       "      <td>7</td>\n",
       "    </tr>\n",
       "    <tr>\n",
       "      <th>1516</th>\n",
       "      <td>59</td>\n",
       "      <td>1.43</td>\n",
       "      <td>182978.30</td>\n",
       "      <td>43116.41</td>\n",
       "      <td>54193.42</td>\n",
       "      <td>16563.91</td>\n",
       "      <td>69104.56</td>\n",
       "      <td>57456.21</td>\n",
       "      <td>11648.35</td>\n",
       "      <td>0.00</td>\n",
       "      <td>2016.0</td>\n",
       "      <td>7</td>\n",
       "    </tr>\n",
       "  </tbody>\n",
       "</table>\n",
       "<p>1436 rows × 12 columns</p>\n",
       "</div>"
      ],
      "text/plain": [
       "      Date  AveragePrice  Total Volume      4046       4225      4770  \\\n",
       "0       92          1.33      64236.62   1036.74   54454.85     48.16   \n",
       "1       68          1.35      54876.98    674.28   44638.81     58.33   \n",
       "2       44          0.93     118220.22    794.70  109149.67    130.50   \n",
       "3       20          1.08      78992.15   1132.00   71976.41     72.58   \n",
       "4       98          1.28      51039.60    941.48   43838.39     75.78   \n",
       "...    ...           ...           ...       ...        ...       ...   \n",
       "1512    53          1.39     190846.01  57529.11   56366.66  17531.78   \n",
       "1513    29          1.51     178235.75  43325.87   52189.61  19419.57   \n",
       "1514     5          1.48     178410.82  46364.75   52893.38  16736.92   \n",
       "1515    83          1.47     189131.52  54110.79   53593.58  17495.42   \n",
       "1516    59          1.43     182978.30  43116.41   54193.42  16563.91   \n",
       "\n",
       "      Total Bags  Small Bags  Large Bags  XLarge Bags    year  region  \n",
       "0        8696.87     8603.62       93.25         0.00  2015.0       0  \n",
       "1        9505.56     9408.07       97.49         0.00  2015.0       0  \n",
       "2        8145.35     8042.21      103.14         0.00  2015.0       0  \n",
       "3        5811.16     5677.40      133.76         0.00  2015.0       0  \n",
       "4        6183.95     5986.26      197.69         0.00  2015.0       0  \n",
       "...          ...         ...         ...          ...     ...     ...  \n",
       "1512    59418.46    48823.53    10354.65       240.28  2016.0       7  \n",
       "1513    63300.70    54704.14     8596.56         0.00  2016.0       7  \n",
       "1514    62415.77    53332.61     8258.16       825.00  2016.0       7  \n",
       "1515    63931.73    55653.47     8278.26         0.00  2016.0       7  \n",
       "1516    69104.56    57456.21    11648.35         0.00  2016.0       7  \n",
       "\n",
       "[1436 rows x 12 columns]"
      ]
     },
     "execution_count": 512,
     "metadata": {},
     "output_type": "execute_result"
    }
   ],
   "source": [
    "df=df_new\n",
    "df"
   ]
  },
  {
   "cell_type": "markdown",
   "id": "262fd769",
   "metadata": {},
   "source": [
    "Need to check again if outlier got removed or not"
   ]
  },
  {
   "cell_type": "code",
   "execution_count": 513,
   "id": "6756d904",
   "metadata": {},
   "outputs": [
    {
     "data": {
      "image/png": "[encoded data removed]",
      "text/plain": [
       "<Figure size 1584x1080 with 12 Axes>"
      ]
     },
     "metadata": {},
     "output_type": "display_data"
    }
   ],
   "source": [
    "#checking one more time\n",
    "plt.figure(figsize=(22,15),facecolor='pink')\n",
    "plotnumber=1\n",
    "\n",
    "for column in df:\n",
    "    if plotnumber<=30:\n",
    "        ax=plt.subplot(5,6,plotnumber)\n",
    "        plt.boxplot(df[column])\n",
    "        plt.xlabel(column)\n",
    "        \n",
    "    plotnumber+=1\n",
    "plt.show()"
   ]
  },
  {
   "cell_type": "markdown",
   "id": "a2e9446b",
   "metadata": {},
   "source": [
    "Here we can see the outlier are still present but now we cant remove outlier as it is not best practise to apply z score method twice on data due to data loss which is suggested by shankar sir"
   ]
  },
  {
   "cell_type": "markdown",
   "id": "a55a7ed1",
   "metadata": {},
   "source": [
    "# Creating feature and label"
   ]
  },
  {
   "cell_type": "code",
   "execution_count": 358,
   "id": "5fc072dc",
   "metadata": {},
   "outputs": [],
   "source": [
    "X=df.drop(columns=['AveragePrice','region'],axis=1)\n",
    "y=df.AveragePrice  #  label for regression \n",
    "y1=df.region       # label for classification"
   ]
  },
  {
   "cell_type": "markdown",
   "id": "a1d87869",
   "metadata": {},
   "source": [
    "# checking skewness and remove by power transform"
   ]
  },
  {
   "cell_type": "code",
   "execution_count": 359,
   "id": "3c81b5e7",
   "metadata": {},
   "outputs": [
    {
     "data": {
      "text/plain": [
       "XLarge Bags     5.118965\n",
       "Small Bags      4.410267\n",
       "Total Bags      4.165747\n",
       "Large Bags      3.518056\n",
       "4770            3.331191\n",
       "4046            3.120756\n",
       "Total Volume    2.704085\n",
       "4225            2.367429\n",
       "year            2.004439\n",
       "Date            0.013635\n",
       "dtype: float64"
      ]
     },
     "execution_count": 359,
     "metadata": {},
     "output_type": "execute_result"
    }
   ],
   "source": [
    "X.skew().sort_values(ascending=False)"
   ]
  },
  {
   "cell_type": "markdown",
   "id": "7e7d5e78",
   "metadata": {},
   "source": [
    "we can see skwness is present in data hence we are going to apply power transform technique"
   ]
  },
  {
   "cell_type": "code",
   "execution_count": 360,
   "id": "3bd5bd59",
   "metadata": {},
   "outputs": [],
   "source": [
    "from sklearn.preprocessing import power_transform"
   ]
  },
  {
   "cell_type": "code",
   "execution_count": 361,
   "id": "eaff3829",
   "metadata": {},
   "outputs": [],
   "source": [
    "x_new=power_transform(X)"
   ]
  },
  {
   "cell_type": "code",
   "execution_count": 362,
   "id": "c7c510da",
   "metadata": {},
   "outputs": [
    {
     "data": {
      "text/plain": [
       "8    0.479994\n",
       "1    0.053856\n",
       "6    0.013734\n",
       "3    0.000835\n",
       "9    0.000000\n",
       "5   -0.000866\n",
       "2   -0.025799\n",
       "4   -0.054750\n",
       "7   -0.118018\n",
       "0   -0.284346\n",
       "dtype: float64"
      ]
     },
     "execution_count": 362,
     "metadata": {},
     "output_type": "execute_result"
    }
   ],
   "source": [
    "pd.DataFrame(x_new).skew().sort_values(ascending=False)"
   ]
  },
  {
   "cell_type": "code",
   "execution_count": 363,
   "id": "5b5dde48",
   "metadata": {},
   "outputs": [
    {
     "data": {
      "text/plain": [
       "XLarge Bags     0.479994\n",
       "Total Volume    0.053856\n",
       "Small Bags      0.013734\n",
       "4225            0.000835\n",
       "year            0.000000\n",
       "Total Bags     -0.000866\n",
       "4046           -0.025799\n",
       "4770           -0.054750\n",
       "Large Bags     -0.118018\n",
       "Date           -0.284346\n",
       "dtype: float64"
      ]
     },
     "execution_count": 363,
     "metadata": {},
     "output_type": "execute_result"
    }
   ],
   "source": [
    "pd.DataFrame(x_new,columns=X.columns).skew().sort_values(ascending=False)"
   ]
  },
  {
   "cell_type": "code",
   "execution_count": 364,
   "id": "2d264abe",
   "metadata": {},
   "outputs": [],
   "source": [
    "x=pd.DataFrame(x_new,columns=X.columns)"
   ]
  },
  {
   "cell_type": "code",
   "execution_count": 365,
   "id": "b3ba981c",
   "metadata": {},
   "outputs": [
    {
     "data": {
      "text/plain": [
       "XLarge Bags     0.479994\n",
       "Total Volume    0.053856\n",
       "Small Bags      0.013734\n",
       "4225            0.000835\n",
       "year            0.000000\n",
       "Total Bags     -0.000866\n",
       "4046           -0.025799\n",
       "4770           -0.054750\n",
       "Large Bags     -0.118018\n",
       "Date           -0.284346\n",
       "dtype: float64"
      ]
     },
     "execution_count": 365,
     "metadata": {},
     "output_type": "execute_result"
    }
   ],
   "source": [
    "x.skew().sort_values(ascending=False)"
   ]
  },
  {
   "cell_type": "markdown",
   "id": "fe09b433",
   "metadata": {},
   "source": [
    "Here we can see the skewness is under +-0.5 range hence we can say skewness removed successfully"
   ]
  },
  {
   "cell_type": "markdown",
   "id": "35dce65c",
   "metadata": {},
   "source": [
    "# VIF"
   ]
  },
  {
   "cell_type": "markdown",
   "id": "aa9a7c9d",
   "metadata": {},
   "source": [
    "as we can see in above corr grapgh we have colineariry where many columns are highly corelated with each other.\n",
    "\n",
    "so model gets confused as which columns impact on better prediction hence we need remove such columns which is highly corelated with other columns based on max VIF value"
   ]
  },
  {
   "cell_type": "code",
   "execution_count": 367,
   "id": "8e646940",
   "metadata": {},
   "outputs": [
    {
     "data": {
      "image/png": "[encoded data removed]",
      "text/plain": [
       "<Figure size 1440x1080 with 2 Axes>"
      ]
     },
     "metadata": {
      "needs_background": "light"
     },
     "output_type": "display_data"
    }
   ],
   "source": [
    "corr_mat=df.corr()#----------------> corelation function\n",
    "\n",
    "plt.figure(figsize=[20,15])#-------> figure size dimetions\n",
    "sns.heatmap(corr_mat,annot=True,cmap=\"Blues\")#--> annot = true means will print values\n",
    "plt.title(\"correlation Matrix\")#---> title\n",
    "plt.show()"
   ]
  },
  {
   "cell_type": "code",
   "execution_count": 368,
   "id": "8e17989b",
   "metadata": {},
   "outputs": [],
   "source": [
    "from sklearn.preprocessing import StandardScaler\n",
    "from statsmodels.stats.outliers_influence import variance_inflation_factor\n",
    "scaler=StandardScaler()\n",
    "x_scaled=scaler.fit_transform(x)"
   ]
  },
  {
   "cell_type": "code",
   "execution_count": 369,
   "id": "a0aa392a",
   "metadata": {},
   "outputs": [
    {
     "data": {
      "text/html": [
       "<div>\n",
       "<style scoped>\n",
       "    .dataframe tbody tr th:only-of-type {\n",
       "        vertical-align: middle;\n",
       "    }\n",
       "\n",
       "    .dataframe tbody tr th {\n",
       "        vertical-align: top;\n",
       "    }\n",
       "\n",
       "    .dataframe thead th {\n",
       "        text-align: right;\n",
       "    }\n",
       "</style>\n",
       "<table border=\"1\" class=\"dataframe\">\n",
       "  <thead>\n",
       "    <tr style=\"text-align: right;\">\n",
       "      <th></th>\n",
       "      <th>vif</th>\n",
       "      <th>Features</th>\n",
       "    </tr>\n",
       "  </thead>\n",
       "  <tbody>\n",
       "    <tr>\n",
       "      <th>5</th>\n",
       "      <td>64.026654</td>\n",
       "      <td>Total Bags</td>\n",
       "    </tr>\n",
       "    <tr>\n",
       "      <th>6</th>\n",
       "      <td>49.796064</td>\n",
       "      <td>Small Bags</td>\n",
       "    </tr>\n",
       "    <tr>\n",
       "      <th>1</th>\n",
       "      <td>23.645835</td>\n",
       "      <td>Total Volume</td>\n",
       "    </tr>\n",
       "    <tr>\n",
       "      <th>3</th>\n",
       "      <td>8.208863</td>\n",
       "      <td>4225</td>\n",
       "    </tr>\n",
       "    <tr>\n",
       "      <th>2</th>\n",
       "      <td>5.449788</td>\n",
       "      <td>4046</td>\n",
       "    </tr>\n",
       "    <tr>\n",
       "      <th>7</th>\n",
       "      <td>3.578837</td>\n",
       "      <td>Large Bags</td>\n",
       "    </tr>\n",
       "    <tr>\n",
       "      <th>4</th>\n",
       "      <td>2.150570</td>\n",
       "      <td>4770</td>\n",
       "    </tr>\n",
       "    <tr>\n",
       "      <th>8</th>\n",
       "      <td>1.491861</td>\n",
       "      <td>XLarge Bags</td>\n",
       "    </tr>\n",
       "    <tr>\n",
       "      <th>9</th>\n",
       "      <td>1.260562</td>\n",
       "      <td>year</td>\n",
       "    </tr>\n",
       "    <tr>\n",
       "      <th>0</th>\n",
       "      <td>1.011111</td>\n",
       "      <td>Date</td>\n",
       "    </tr>\n",
       "  </tbody>\n",
       "</table>\n",
       "</div>"
      ],
      "text/plain": [
       "         vif      Features\n",
       "5  64.026654    Total Bags\n",
       "6  49.796064    Small Bags\n",
       "1  23.645835  Total Volume\n",
       "3   8.208863          4225\n",
       "2   5.449788          4046\n",
       "7   3.578837    Large Bags\n",
       "4   2.150570          4770\n",
       "8   1.491861   XLarge Bags\n",
       "9   1.260562          year\n",
       "0   1.011111          Date"
      ]
     },
     "execution_count": 369,
     "metadata": {},
     "output_type": "execute_result"
    }
   ],
   "source": [
    "vif=pd.DataFrame()\n",
    "vif['vif']=[variance_inflation_factor(x_scaled,i) for i in range(x_scaled.shape[1])]\n",
    "vif['Features']=x.columns\n",
    "vif.sort_values(by='vif',ascending=False)"
   ]
  },
  {
   "cell_type": "markdown",
   "id": "18194c2f",
   "metadata": {},
   "source": [
    "Here we can see that Total bags column is having high VIF hence we will drop that column"
   ]
  },
  {
   "cell_type": "code",
   "execution_count": 370,
   "id": "ce81ba82",
   "metadata": {},
   "outputs": [],
   "source": [
    "x.drop(columns=['Total Bags'],axis=1,inplace=True)"
   ]
  },
  {
   "cell_type": "markdown",
   "id": "d097bfff",
   "metadata": {},
   "source": [
    "Applying colinearity again to remove another column if it is highly corelated"
   ]
  },
  {
   "cell_type": "code",
   "execution_count": 371,
   "id": "1bac0b5e",
   "metadata": {},
   "outputs": [
    {
     "data": {
      "text/html": [
       "<div>\n",
       "<style scoped>\n",
       "    .dataframe tbody tr th:only-of-type {\n",
       "        vertical-align: middle;\n",
       "    }\n",
       "\n",
       "    .dataframe tbody tr th {\n",
       "        vertical-align: top;\n",
       "    }\n",
       "\n",
       "    .dataframe thead th {\n",
       "        text-align: right;\n",
       "    }\n",
       "</style>\n",
       "<table border=\"1\" class=\"dataframe\">\n",
       "  <thead>\n",
       "    <tr style=\"text-align: right;\">\n",
       "      <th></th>\n",
       "      <th>vif</th>\n",
       "      <th>Features</th>\n",
       "    </tr>\n",
       "  </thead>\n",
       "  <tbody>\n",
       "    <tr>\n",
       "      <th>1</th>\n",
       "      <td>21.927582</td>\n",
       "      <td>Total Volume</td>\n",
       "    </tr>\n",
       "    <tr>\n",
       "      <th>3</th>\n",
       "      <td>7.977967</td>\n",
       "      <td>4225</td>\n",
       "    </tr>\n",
       "    <tr>\n",
       "      <th>5</th>\n",
       "      <td>6.070058</td>\n",
       "      <td>Small Bags</td>\n",
       "    </tr>\n",
       "    <tr>\n",
       "      <th>2</th>\n",
       "      <td>5.363165</td>\n",
       "      <td>4046</td>\n",
       "    </tr>\n",
       "    <tr>\n",
       "      <th>4</th>\n",
       "      <td>2.043153</td>\n",
       "      <td>4770</td>\n",
       "    </tr>\n",
       "    <tr>\n",
       "      <th>6</th>\n",
       "      <td>1.669587</td>\n",
       "      <td>Large Bags</td>\n",
       "    </tr>\n",
       "    <tr>\n",
       "      <th>7</th>\n",
       "      <td>1.387458</td>\n",
       "      <td>XLarge Bags</td>\n",
       "    </tr>\n",
       "    <tr>\n",
       "      <th>8</th>\n",
       "      <td>1.255762</td>\n",
       "      <td>year</td>\n",
       "    </tr>\n",
       "    <tr>\n",
       "      <th>0</th>\n",
       "      <td>1.009577</td>\n",
       "      <td>Date</td>\n",
       "    </tr>\n",
       "  </tbody>\n",
       "</table>\n",
       "</div>"
      ],
      "text/plain": [
       "         vif      Features\n",
       "1  21.927582  Total Volume\n",
       "3   7.977967          4225\n",
       "5   6.070058    Small Bags\n",
       "2   5.363165          4046\n",
       "4   2.043153          4770\n",
       "6   1.669587    Large Bags\n",
       "7   1.387458   XLarge Bags\n",
       "8   1.255762          year\n",
       "0   1.009577          Date"
      ]
     },
     "execution_count": 371,
     "metadata": {},
     "output_type": "execute_result"
    }
   ],
   "source": [
    "scaler=StandardScaler()\n",
    "x_scaled=scaler.fit_transform(x)\n",
    "\n",
    "vif=pd.DataFrame()\n",
    "vif['vif']=[variance_inflation_factor(x_scaled,i) for i in range(x_scaled.shape[1])]\n",
    "vif['Features']=x.columns\n",
    "vif.sort_values(by='vif',ascending=False)"
   ]
  },
  {
   "cell_type": "markdown",
   "id": "2e7d2922",
   "metadata": {},
   "source": [
    "Here we can see \"Total volume\" is having VIF more than 5 hence we can remove that column"
   ]
  },
  {
   "cell_type": "code",
   "execution_count": 372,
   "id": "43d3a701",
   "metadata": {},
   "outputs": [],
   "source": [
    "x.drop(columns=['Total Volume'],axis=1,inplace=True)"
   ]
  },
  {
   "cell_type": "code",
   "execution_count": 373,
   "id": "8ed9e165",
   "metadata": {},
   "outputs": [
    {
     "data": {
      "text/html": [
       "<div>\n",
       "<style scoped>\n",
       "    .dataframe tbody tr th:only-of-type {\n",
       "        vertical-align: middle;\n",
       "    }\n",
       "\n",
       "    .dataframe tbody tr th {\n",
       "        vertical-align: top;\n",
       "    }\n",
       "\n",
       "    .dataframe thead th {\n",
       "        text-align: right;\n",
       "    }\n",
       "</style>\n",
       "<table border=\"1\" class=\"dataframe\">\n",
       "  <thead>\n",
       "    <tr style=\"text-align: right;\">\n",
       "      <th></th>\n",
       "      <th>vif</th>\n",
       "      <th>Features</th>\n",
       "    </tr>\n",
       "  </thead>\n",
       "  <tbody>\n",
       "    <tr>\n",
       "      <th>4</th>\n",
       "      <td>4.069716</td>\n",
       "      <td>Small Bags</td>\n",
       "    </tr>\n",
       "    <tr>\n",
       "      <th>2</th>\n",
       "      <td>3.314796</td>\n",
       "      <td>4225</td>\n",
       "    </tr>\n",
       "    <tr>\n",
       "      <th>1</th>\n",
       "      <td>2.188798</td>\n",
       "      <td>4046</td>\n",
       "    </tr>\n",
       "    <tr>\n",
       "      <th>3</th>\n",
       "      <td>2.040628</td>\n",
       "      <td>4770</td>\n",
       "    </tr>\n",
       "    <tr>\n",
       "      <th>5</th>\n",
       "      <td>1.609428</td>\n",
       "      <td>Large Bags</td>\n",
       "    </tr>\n",
       "    <tr>\n",
       "      <th>6</th>\n",
       "      <td>1.372353</td>\n",
       "      <td>XLarge Bags</td>\n",
       "    </tr>\n",
       "    <tr>\n",
       "      <th>7</th>\n",
       "      <td>1.255414</td>\n",
       "      <td>year</td>\n",
       "    </tr>\n",
       "    <tr>\n",
       "      <th>0</th>\n",
       "      <td>1.007676</td>\n",
       "      <td>Date</td>\n",
       "    </tr>\n",
       "  </tbody>\n",
       "</table>\n",
       "</div>"
      ],
      "text/plain": [
       "        vif     Features\n",
       "4  4.069716   Small Bags\n",
       "2  3.314796         4225\n",
       "1  2.188798         4046\n",
       "3  2.040628         4770\n",
       "5  1.609428   Large Bags\n",
       "6  1.372353  XLarge Bags\n",
       "7  1.255414         year\n",
       "0  1.007676         Date"
      ]
     },
     "execution_count": 373,
     "metadata": {},
     "output_type": "execute_result"
    }
   ],
   "source": [
    "scaler=StandardScaler()\n",
    "x_scaled=scaler.fit_transform(x)\n",
    "\n",
    "vif=pd.DataFrame()\n",
    "vif['vif']=[variance_inflation_factor(x_scaled,i) for i in range(x_scaled.shape[1])]\n",
    "vif['Features']=x.columns\n",
    "vif.sort_values(by='vif',ascending=False)"
   ]
  },
  {
   "cell_type": "markdown",
   "id": "cc555e63",
   "metadata": {},
   "source": [
    "Here we can see every column now is under 5 value of VIF which is standard value hence we are not going to remove any more column\n",
    "\n",
    "also we should remove only 1,2 columns to avoid heavy loss data"
   ]
  },
  {
   "cell_type": "markdown",
   "id": "b12fd59a",
   "metadata": {},
   "source": [
    "# Model Prediction"
   ]
  },
  {
   "cell_type": "markdown",
   "id": "0e4a4c1c",
   "metadata": {},
   "source": [
    "We are starting with Output column \"AvgPrice\"\n",
    "\n",
    "This output columns is having continuos value hence we are going to apply regreesion models\n",
    "\n",
    "After Regression model we will directly check the hyper parameter with Grid Search as Cross validation 90% used in classifier models not much with regressor models (suggested by Deepika mam)"
   ]
  },
  {
   "cell_type": "markdown",
   "id": "522bfc25",
   "metadata": {},
   "source": [
    "# Linear Regression - 45.40%"
   ]
  },
  {
   "cell_type": "code",
   "execution_count": 204,
   "id": "462383e0",
   "metadata": {},
   "outputs": [
    {
     "name": "stdout",
     "output_type": "stream",
     "text": [
      "accuracy 0.3626518435135522 Random state 0.1\n",
      "accuracy 0.3683834852836608 Random state 0.15\n",
      "accuracy 0.3850232487734456 Random state 0.17\n",
      "accuracy 0.39504580804293854 Random state 0.24\n",
      "Best accuracy is 39.50458080429385 on Random state 0.24\n"
     ]
    }
   ],
   "source": [
    "#To get best Test size number from 1 to 40%\n",
    "from sklearn.linear_model import LinearRegression\n",
    "from sklearn.ensemble import RandomForestRegressor \n",
    "from sklearn.neighbors import KNeighborsRegressor\n",
    "from sklearn.svm import SVR\n",
    "#from sklearn.naive_bayes import MultinomialNB\n",
    "from sklearn.metrics import accuracy_score\n",
    "from sklearn.metrics import confusion_matrix,classification_report\n",
    "from sklearn.metrics import mean_squared_error,mean_absolute_error\n",
    "from sklearn.model_selection import train_test_split\n",
    "\n",
    "\n",
    "maxAcc = 0\n",
    "maxRs=0\n",
    "\n",
    "for i in range(10,41):\n",
    "    i1=i*0.010\n",
    "    x_train, x_test, y_train, y_test= train_test_split(x,y,test_size=i1)\n",
    "    lr=LinearRegression()\n",
    "    lr.fit(x_train,y_train)\n",
    "    pred=lr.predict(x_test)\n",
    "    acc=lr.score(x_test,y_test)\n",
    "    #print('accuracy',acc,'Random state',i)\n",
    "    \n",
    "    if acc>maxAcc:\n",
    "        maxAcc=acc\n",
    "        maxRs=i1\n",
    "        print('accuracy',maxAcc,'Random state',i1)\n",
    "print(\"Best accuracy is\",maxAcc*100,\"on Random state\",maxRs)"
   ]
  },
  {
   "cell_type": "code",
   "execution_count": 205,
   "id": "20a586eb",
   "metadata": {},
   "outputs": [
    {
     "name": "stdout",
     "output_type": "stream",
     "text": [
      "accuracy 0.4141186622586319 Random state 1\n",
      "accuracy 0.4181595143485094 Random state 88\n",
      "accuracy 0.4283076980788939 Random state 176\n",
      "accuracy 0.42831465380153033 Random state 443\n",
      "accuracy 0.4540066175845744 Random state 450\n",
      "Best accuracy is 45.40066175845744 on Random state 450\n"
     ]
    }
   ],
   "source": [
    "maxAcc = 0\n",
    "maxRs=0\n",
    "\n",
    "for i in range(1,500):\n",
    "    x_train, x_test, y_train, y_test= train_test_split(x,y,test_size=0.24,random_state=i) \n",
    "    lm=LinearRegression()\n",
    "    lm.fit(x_train,y_train)\n",
    "    pred=lm.predict(x_test)\n",
    "    acc=lm.score(x_test,y_test)\n",
    "    #print('accuracy',acc,'Random state',i)\n",
    "    \n",
    "    if acc>maxAcc:\n",
    "        maxAcc=acc\n",
    "        maxRs=i\n",
    "        print('accuracy',maxAcc,'Random state',i)\n",
    "        \n",
    "print(\"Best accuracy is\",maxAcc*100,\"on Random state\",maxRs) "
   ]
  },
  {
   "cell_type": "markdown",
   "id": "d282feb3",
   "metadata": {},
   "source": [
    "# Using train_test_split"
   ]
  },
  {
   "cell_type": "code",
   "execution_count": 206,
   "id": "ed8f65e1",
   "metadata": {},
   "outputs": [
    {
     "data": {
      "text/plain": [
       "(45.40066175845744, 0.11420685273237974, 0.14684786031131605)"
      ]
     },
     "execution_count": 206,
     "metadata": {},
     "output_type": "execute_result"
    }
   ],
   "source": [
    "from sklearn.metrics import r2_score\n",
    "from sklearn.metrics import mean_squared_error,mean_absolute_error\n",
    "from sklearn.model_selection import train_test_split\n",
    "from sklearn.metrics import accuracy_score\n",
    "from sklearn.metrics import confusion_matrix,classification_report\n",
    "\n",
    "x_train, x_test, y_train, y_test= train_test_split(x,y,test_size=0.24,random_state=450)\n",
    "lr=LinearRegression()\n",
    "lr.fit(x_train,y_train)\n",
    "pred=lr.predict(x_test)\n",
    "acc=lr.score(x_test,y_test)\n",
    "\n",
    "\n",
    "#print(\"predicted values\",pred)\n",
    "#print(\"predicted values\",y_test)\n",
    "r2_score(y_test, pred)*100, mean_absolute_error(y_test, pred), np.sqrt(mean_squared_error(y_test, pred))"
   ]
  },
  {
   "cell_type": "markdown",
   "id": "6c92a4de",
   "metadata": {},
   "source": [
    "The Linear regression  is giving 40.40% acuracy "
   ]
  },
  {
   "cell_type": "markdown",
   "id": "962b6c8f",
   "metadata": {},
   "source": [
    "# USing Decision Tree Regressor algorithm - 81.10%"
   ]
  },
  {
   "cell_type": "code",
   "execution_count": 208,
   "id": "e06044ff",
   "metadata": {},
   "outputs": [
    {
     "name": "stdout",
     "output_type": "stream",
     "text": [
      "accuracy 0.6287838224133753 Random state 0.1\n",
      "accuracy 0.6415989260244311 Random state 0.11\n",
      "accuracy 0.7117300352419054 Random state 0.13\n",
      "Best accuracy is 71.17300352419053 on Random state 0.13\n"
     ]
    }
   ],
   "source": [
    "#finding best testsize \n",
    "from sklearn.tree import DecisionTreeRegressor\n",
    "\n",
    "maxAcc = 0\n",
    "maxRs=0\n",
    "\n",
    "for i in range(10,41):\n",
    "    i1=i*0.010\n",
    "    x_train, x_test, y_train, y_test= train_test_split(x,y,test_size=i1)\n",
    "    dt=DecisionTreeRegressor()\n",
    "    dt.fit(x_train,y_train)\n",
    "    pred=dt.predict(x_test)\n",
    "    acc=dt.score(x_test,y_test)\n",
    "    #print('accuracy',acc,'Random state',i)\n",
    "    \n",
    "    if acc>maxAcc:\n",
    "        maxAcc=acc\n",
    "        maxRs=i1\n",
    "        print('accuracy',maxAcc,'Random state',i1)\n",
    "print(\"Best accuracy is\",maxAcc*100,\"on Random state\",maxRs)"
   ]
  },
  {
   "cell_type": "code",
   "execution_count": 209,
   "id": "b16b752e",
   "metadata": {},
   "outputs": [
    {
     "name": "stdout",
     "output_type": "stream",
     "text": [
      "accuracy 0.5367571372524215 Random state 1\n",
      "accuracy 0.5916734080297597 Random state 2\n",
      "accuracy 0.6631274161238141 Random state 3\n",
      "accuracy 0.687537310942442 Random state 5\n",
      "accuracy 0.6936302926188276 Random state 6\n",
      "accuracy 0.6985841358374001 Random state 9\n",
      "accuracy 0.708749662740247 Random state 69\n",
      "accuracy 0.7225476698175608 Random state 85\n",
      "accuracy 0.7249172499063163 Random state 86\n",
      "accuracy 0.763144978007449 Random state 151\n",
      "accuracy 0.7780563528576507 Random state 240\n",
      "accuracy 0.8221256206638347 Random state 248\n",
      "accuracy 0.846118826530486 Random state 309\n",
      "Best accuracy is 84.6118826530486 on Random state 309\n"
     ]
    }
   ],
   "source": [
    "#finding best random state\n",
    "maxAcc = 0\n",
    "maxRs=0\n",
    "\n",
    "for i in range(1,500):\n",
    "    x_train, x_test, y_train, y_test= train_test_split(x,y,test_size=0.13,random_state=i) #12 - 77.41\n",
    "    dt=DecisionTreeRegressor()\n",
    "    dt.fit(x_train,y_train)\n",
    "    pred=dt.predict(x_test)\n",
    "    acc=dt.score(x_test,y_test)\n",
    "    #print('accuracy',acc,'Random state',i)\n",
    "    \n",
    "    if acc>maxAcc:\n",
    "        maxAcc=acc\n",
    "        maxRs=i\n",
    "        print('accuracy',maxAcc,'Random state',i)\n",
    "        \n",
    "print(\"Best accuracy is\",maxAcc*100,\"on Random state\",maxRs) "
   ]
  },
  {
   "cell_type": "code",
   "execution_count": 210,
   "id": "ec3c8dc1",
   "metadata": {},
   "outputs": [
    {
     "data": {
      "text/plain": [
       "(81.10369672092614, 0.06395721925133689, 0.08617231834642643)"
      ]
     },
     "execution_count": 210,
     "metadata": {},
     "output_type": "execute_result"
    }
   ],
   "source": [
    "from sklearn.metrics import r2_score\n",
    "from sklearn.metrics import mean_squared_error,mean_absolute_error\n",
    "from sklearn.model_selection import train_test_split\n",
    "from sklearn.metrics import accuracy_score\n",
    "from sklearn.metrics import confusion_matrix,classification_report\n",
    "\n",
    "x_train, x_test, y_train, y_test= train_test_split(x,y,test_size=0.13,random_state=309) \n",
    "dt=DecisionTreeRegressor()\n",
    "dt.fit(x_train,y_train)\n",
    "pred=dt.predict(x_test)\n",
    "acc=dt.score(x_test,y_test)\n",
    "\n",
    "\n",
    "#print(\"predicted values\",pred)\n",
    "#print(\"predicted values\",y_test)\n",
    "r2_score(y_test, pred)*100, mean_absolute_error(y_test, pred), np.sqrt(mean_squared_error(y_test, pred))"
   ]
  },
  {
   "cell_type": "markdown",
   "id": "a4692a4d",
   "metadata": {},
   "source": [
    " Desicion Tree regressor giving 81.10% accuracy"
   ]
  },
  {
   "cell_type": "markdown",
   "id": "2853fd6f",
   "metadata": {},
   "source": [
    "# Using Random ForestRegressor algorithm - 87.26%"
   ]
  },
  {
   "cell_type": "code",
   "execution_count": 211,
   "id": "f38f4b7b",
   "metadata": {},
   "outputs": [
    {
     "name": "stdout",
     "output_type": "stream",
     "text": [
      "accuracy 0.8084224919403471 Random state 0.09\n",
      "accuracy 0.8445184422687575 Random state 0.13\n",
      "accuracy 0.8472972508171275 Random state 0.17\n",
      "Best accuracy is 84.72972508171274 on Random state 0.17\n"
     ]
    }
   ],
   "source": [
    "#finding best testsize \n",
    "from sklearn.ensemble import RandomForestRegressor \n",
    "\n",
    "maxAcc = 0\n",
    "maxRs=0\n",
    "\n",
    "for i in range(9,41):\n",
    "    i1=i*0.01\n",
    "    x_train, x_test, y_train, y_test= train_test_split(x,y,test_size=i1)\n",
    "    rf=RandomForestRegressor()\n",
    "    rf.fit(x_train,y_train)\n",
    "    pred=rf.predict(x_test)\n",
    "    acc=rf.score(x_test,y_test)\n",
    "    #print('accuracy',acc,'Random state',i)\n",
    "    \n",
    "    if acc>maxAcc:\n",
    "        maxAcc=acc\n",
    "        maxRs=i1\n",
    "        print('accuracy',maxAcc,'Random state',i1)\n",
    "print(\"Best accuracy is\",maxAcc*100,\"on Random state\",maxRs)"
   ]
  },
  {
   "cell_type": "code",
   "execution_count": 212,
   "id": "e1cd2733",
   "metadata": {},
   "outputs": [
    {
     "name": "stdout",
     "output_type": "stream",
     "text": [
      "accuracy 0.8293331256025167 Random state 1\n",
      "accuracy 0.8358279205987986 Random state 7\n",
      "accuracy 0.8507521141452254 Random state 24\n",
      "accuracy 0.8512378230600406 Random state 248\n",
      "accuracy 0.8717585015252511 Random state 309\n",
      "Best accuracy is 87.17585015252511 on Random state 309\n"
     ]
    }
   ],
   "source": [
    "#finding best random state\n",
    "maxAcc = 0\n",
    "maxRs=0\n",
    "\n",
    "for i in range(1,400):\n",
    "    x_train, x_test, y_train, y_test= train_test_split(x,y,test_size=0.17,random_state=i) #12 - 89.11\n",
    "    rf=RandomForestRegressor()\n",
    "    rf.fit(x_train,y_train)\n",
    "    pred=rf.predict(x_test)\n",
    "    acc=rf.score(x_test,y_test)\n",
    "    #print('accuracy',acc,'Random state',i)\n",
    "    \n",
    "    if acc>maxAcc:\n",
    "        maxAcc=acc\n",
    "        maxRs=i\n",
    "        print('accuracy',maxAcc,'Random state',i)\n",
    "        \n",
    "print(\"Best accuracy is\",maxAcc*100,\"on Random state\",maxRs) "
   ]
  },
  {
   "cell_type": "code",
   "execution_count": 223,
   "id": "c8e78cc2",
   "metadata": {},
   "outputs": [
    {
     "data": {
      "text/plain": [
       "(87.26721442799052, 0.05195877551020406, 0.07032832129028958)"
      ]
     },
     "execution_count": 223,
     "metadata": {},
     "output_type": "execute_result"
    }
   ],
   "source": [
    "from sklearn.metrics import r2_score\n",
    "from sklearn.metrics import mean_squared_error,mean_absolute_error\n",
    "from sklearn.model_selection import train_test_split\n",
    "from sklearn.metrics import accuracy_score\n",
    "from sklearn.metrics import confusion_matrix,classification_report\n",
    "\n",
    "x_train, x_test, y_train, y_test= train_test_split(x,y,test_size=0.17,random_state=309) \n",
    "rf=RandomForestRegressor()\n",
    "rf.fit(x_train,y_train)\n",
    "pred=rf.predict(x_test)\n",
    "acc=rf.score(x_test,y_test)\n",
    "pred_f=y_test\n",
    "\n",
    "\n",
    "#print(\"predicted values\",pred)\n",
    "#print(\"predicted values\",y_test)\n",
    "r2_score(y_test, pred)*100, mean_absolute_error(y_test, pred), np.sqrt(mean_squared_error(y_test, pred))"
   ]
  },
  {
   "cell_type": "markdown",
   "id": "4807aecd",
   "metadata": {},
   "source": [
    "Random algorithm will giving 87.26% accuracy"
   ]
  },
  {
   "cell_type": "markdown",
   "id": "3a78e86b",
   "metadata": {},
   "source": [
    "# Selection Best Prediction Model: RandomForestAlgorithm"
   ]
  },
  {
   "cell_type": "markdown",
   "id": "8f71edc1",
   "metadata": {},
   "source": [
    "==========================================================================================================="
   ]
  },
  {
   "cell_type": "markdown",
   "id": "5f7ffe9a",
   "metadata": {},
   "source": [
    "# Hyper parameter tuning"
   ]
  },
  {
   "cell_type": "code",
   "execution_count": 224,
   "id": "ab6360bc",
   "metadata": {},
   "outputs": [
    {
     "name": "stdout",
     "output_type": "stream",
     "text": [
      "best_params: {'criterion': 'mae', 'max_depth': 10, 'max_features': 'auto'}\n",
      "0.8409158415218442\n"
     ]
    }
   ],
   "source": [
    "from sklearn.model_selection import GridSearchCV\n",
    "clf = RandomForestRegressor()\n",
    "\n",
    "params={'max_features':['auto','sqrt','log2'],\n",
    "       'max_depth':[10,15],\n",
    "       'criterion':['mae','mse']\n",
    "       }\n",
    "\n",
    "#for j in range(2,15):\n",
    "grd=GridSearchCV(clf,param_grid=params,cv=5,scoring='accuracy') #CV=15 gets 84.03% #CV =10 gets 84.35%\n",
    "grd.fit(x_train,y_train)\n",
    "print('best_params:',grd.best_params_)\n",
    "grd=grd.best_estimator_\n",
    "grd.fit(x_train,y_train)\n",
    "y_pred=grd.predict(x_test)\n",
    "\n",
    "    #rf_conf_mat=confusion_matrix(y_test,y_pred)\n",
    "    #print(rf_conf_mat)\n",
    "print(r2_score(y_test,y_pred))\n"
   ]
  },
  {
   "cell_type": "code",
   "execution_count": 225,
   "id": "5821b13f",
   "metadata": {},
   "outputs": [
    {
     "name": "stdout",
     "output_type": "stream",
     "text": [
      "0.8409158415218442\n",
      "[1.0284  0.90175 1.13975 1.18585 0.77095 1.17775 1.29725 0.7942  1.36155\n",
      " 0.78545 1.06615 1.19215 1.10595 1.02675 1.19605 0.96095 1.2838  1.1575\n",
      " 1.03445 1.0016  1.09825 1.275   1.20015 0.9173  0.9112  1.05735 0.78595\n",
      " 1.21175 1.10975 1.1224  0.8963  1.1777  1.25335 1.0579  1.06625 1.1042\n",
      " 1.05095 1.2949  1.1815  1.07565 1.18235 1.18455 1.1493  0.81655 1.13455\n",
      " 0.8347  0.9189  1.00665 1.2169  1.34435 1.2048  1.37265 0.7298  1.17265\n",
      " 1.22515 0.91005 1.0923  1.1741  1.1558  1.1947  0.9035  1.08495 0.8794\n",
      " 0.9107  1.1037  0.77365 1.0331  1.18735 1.14245 0.9053  1.1891  0.7533\n",
      " 0.90635 0.9755  1.09215 1.32655 0.98495 1.4467  1.159   1.09115 1.1424\n",
      " 1.04855 0.9518  1.16425 1.07795 1.1793  1.0857  1.05455 0.88255 1.1023\n",
      " 1.0761  1.06555 1.2536  1.0473  1.09055 0.7768  1.1258  1.3509  1.0297\n",
      " 1.05985 1.141   1.1502  0.78995 1.1759  1.15975 0.8611  0.7791  1.16065\n",
      " 1.0533  1.47385 1.18865 1.23035 1.27745 0.8214  1.20285 1.2059  1.18715\n",
      " 1.0897  1.0879  1.15475 1.09645 1.0183  0.5572  1.05575 1.057   1.1369\n",
      " 0.8256  1.09705 1.01675 0.7514  1.07675 1.2259  1.2029  1.1042  1.1678\n",
      " 0.7102  0.76325 1.16895 1.04175 1.19445 1.17825 0.6033  1.33005 1.18125\n",
      " 1.276   1.02225 1.0172  1.0866  1.2716  1.02485 1.08265 0.94245 0.76115\n",
      " 1.0305  0.82455 1.03495 1.05195 0.78055 1.1979  1.1471  1.2127  0.88225\n",
      " 1.12515 1.0839  1.16355 1.18175 1.1486  1.0773  1.0811  1.0892  1.0214\n",
      " 1.01135 1.212   1.0557  1.0796  1.1785  1.0886  1.3602  0.87525 1.0935\n",
      " 1.3399  1.06485 1.185   0.74975 1.03625 1.02685 1.2611  1.3555  1.02145\n",
      " 1.2196  1.25425 1.12265 1.0317  1.0572  1.17285 1.03225 0.9219  1.1774\n",
      " 1.06275 1.1415  0.76995 0.95675 1.13205 1.07575 1.16595 1.2897  1.101\n",
      " 0.8042  1.04025 0.9211  1.19165 0.7579  1.03475 1.2009  1.10265 0.7562\n",
      " 1.30245 1.0849  1.279   1.0456  1.1066  1.00335 0.9687  0.7627  1.0845\n",
      " 1.2296  1.2666  1.33815 1.051   1.00585 0.89685 1.18475 0.7711  0.99305\n",
      " 1.41025 1.1022  1.09265 1.0033  0.88965 1.04715 1.05285 0.76995 1.17435\n",
      " 1.0902  1.15295]\n",
      "846     1.01\n",
      "1050    0.78\n",
      "1075    0.94\n",
      "502     1.22\n",
      "1260    0.73\n",
      "        ... \n",
      "368     1.11\n",
      "1245    0.74\n",
      "719     1.25\n",
      "561     1.05\n",
      "9       1.07\n",
      "Name: AveragePrice, Length: 245, dtype: float64\n"
     ]
    }
   ],
   "source": [
    "\n",
    "x_train, x_test, y_train, y_test= train_test_split(x,y,test_size=0.17,random_state=309) \n",
    "rf=RandomForestRegressor(criterion= 'mae', max_depth= 10, max_features= 'auto')\n",
    "rf.fit(x_train,y_train)\n",
    "pred=rf.predict(x_test)\n",
    "acc=rf.score(x_test,y_test)\n",
    "\n",
    "print(r2_score(y_test,y_pred))\n",
    "print(pred)\n",
    "print(y_test)\n"
   ]
  },
  {
   "cell_type": "markdown",
   "id": "cd9bd41e",
   "metadata": {},
   "source": [
    "For Output \"AvgPrice\" we got final model which will predict future data through \"rf\" variable.\n",
    "\n",
    "At the end of we will try predict with new row"
   ]
  },
  {
   "cell_type": "markdown",
   "id": "c88dffab",
   "metadata": {},
   "source": [
    "=========================================================================================================="
   ]
  },
  {
   "cell_type": "markdown",
   "id": "2272635d",
   "metadata": {},
   "source": [
    "# Model to predict second output column \"Region\""
   ]
  },
  {
   "cell_type": "markdown",
   "id": "98dbead2",
   "metadata": {},
   "source": [
    "The output column Region is multiple classified data hence for this output we will use classification models \n",
    "\n",
    "After applying classfication model, we will check for AUC ROC curve which are graphical representation of accuracy matrix.\n",
    "\n",
    "for Hyper parameter tunning we will select best parameter,test_size and random_size for model which will give highest accuracy"
   ]
  },
  {
   "cell_type": "markdown",
   "id": "7fc3e229",
   "metadata": {},
   "source": [
    "# DecisionTreeClassifier() - 94%"
   ]
  },
  {
   "cell_type": "code",
   "execution_count": 374,
   "id": "f55bc41c",
   "metadata": {},
   "outputs": [
    {
     "data": {
      "text/plain": [
       "(1436,)"
      ]
     },
     "execution_count": 374,
     "metadata": {},
     "output_type": "execute_result"
    }
   ],
   "source": [
    "y1.shape"
   ]
  },
  {
   "cell_type": "code",
   "execution_count": 375,
   "id": "aa20572d",
   "metadata": {},
   "outputs": [
    {
     "data": {
      "text/plain": [
       "(1436, 8)"
      ]
     },
     "execution_count": 375,
     "metadata": {},
     "output_type": "execute_result"
    }
   ],
   "source": [
    "x.shape"
   ]
  },
  {
   "cell_type": "code",
   "execution_count": 242,
   "id": "14bb1ca0",
   "metadata": {},
   "outputs": [
    {
     "name": "stdout",
     "output_type": "stream",
     "text": [
      "accuracy 0.8402777777777778 Random state 0.1\n",
      "accuracy 0.8987341772151899 Random state 0.11\n",
      "accuracy 0.930635838150289 Random state 0.12\n",
      "Best accuracy is 93.0635838150289 on Random state 0.12\n"
     ]
    }
   ],
   "source": [
    "#To get best Test size number from 1 to 40%\n",
    "#from sklearn.linear_model import LinearRegression\n",
    "from sklearn.ensemble import RandomForestClassifier \n",
    "from sklearn.tree import DecisionTreeClassifier\n",
    "from sklearn.neighbors import KNeighborsClassifier\n",
    "from sklearn.svm import SVC\n",
    "#from sklearn.naive_bayes import MultinomialNB\n",
    "from sklearn.metrics import accuracy_score\n",
    "from sklearn.metrics import confusion_matrix,classification_report\n",
    "from sklearn.metrics import mean_squared_error,mean_absolute_error\n",
    "from sklearn.model_selection import train_test_split\n",
    "\n",
    "\n",
    "maxAcc = 0\n",
    "maxRs=0\n",
    "\n",
    "for i in range(10,41):\n",
    "    i1=i*0.010\n",
    "    x_train, x_test, y_train, y_test= train_test_split(x,y1,test_size=i1)\n",
    "    dt1=DecisionTreeClassifier()\n",
    "    dt1.fit(x_train,y_train)\n",
    "    pred=dt1.predict(x_test)\n",
    "    acc=dt1.score(x_test,y_test)\n",
    "    #print('accuracy',acc,'Random state',i)\n",
    "    \n",
    "    if acc>maxAcc:\n",
    "        maxAcc=acc\n",
    "        maxRs=i1\n",
    "        print('accuracy',maxAcc,'Random state',i1)\n",
    "print(\"Best accuracy is\",maxAcc*100,\"on Random state\",maxRs)"
   ]
  },
  {
   "cell_type": "code",
   "execution_count": 243,
   "id": "56ed9e1c",
   "metadata": {},
   "outputs": [
    {
     "name": "stdout",
     "output_type": "stream",
     "text": [
      "accuracy 0.8497109826589595 Random state 1\n",
      "accuracy 0.8786127167630058 Random state 2\n",
      "accuracy 0.8959537572254336 Random state 3\n",
      "accuracy 0.9075144508670521 Random state 5\n",
      "accuracy 0.9190751445086706 Random state 6\n",
      "accuracy 0.9248554913294798 Random state 23\n",
      "accuracy 0.953757225433526 Random state 34\n",
      "Best accuracy is 95.37572254335261 on Random state 34\n"
     ]
    }
   ],
   "source": [
    "#finding best random state\n",
    "maxAcc = 0\n",
    "maxRs=0\n",
    "\n",
    "for i in range(1,200):\n",
    "    x_train, x_test, y_train, y_test= train_test_split(x,y1,test_size=0.12,random_state=i) \n",
    "    dt1=DecisionTreeClassifier()\n",
    "    dt1.fit(x_train,y_train)\n",
    "    pred=dt1.predict(x_test)\n",
    "    acc=dt1.score(x_test,y_test)\n",
    "    #print('accuracy',acc,'Random state',i)\n",
    "    \n",
    "    if acc>maxAcc:\n",
    "        maxAcc=acc\n",
    "        maxRs=i\n",
    "        print('accuracy',maxAcc,'Random state',i)\n",
    "        \n",
    "print(\"Best accuracy is\",maxAcc*100,\"on Random state\",maxRs) "
   ]
  },
  {
   "cell_type": "markdown",
   "id": "65171427",
   "metadata": {},
   "source": [
    "Training and Testing Data with best combination test size and random size data"
   ]
  },
  {
   "cell_type": "code",
   "execution_count": 420,
   "id": "28439a8b",
   "metadata": {},
   "outputs": [
    {
     "name": "stdout",
     "output_type": "stream",
     "text": [
      "Accuracy Score DecisionTreeClassifier() is:\n",
      "0.9248554913294798\n",
      "[[ 6  0  0 ...  0  0  0]\n",
      " [ 0  5  0 ...  0  0  0]\n",
      " [ 0  0 11 ...  0  0  0]\n",
      " ...\n",
      " [ 0  0  0 ...  4  0  0]\n",
      " [ 0  0  0 ...  0  1  0]\n",
      " [ 0  0  0 ...  0  0  3]]\n",
      "              precision    recall  f1-score   support\n",
      "\n",
      "           0       1.00      0.86      0.92         7\n",
      "           1       1.00      1.00      1.00         5\n",
      "           2       1.00      0.92      0.96        12\n",
      "           3       0.89      0.89      0.89         9\n",
      "           4       1.00      1.00      1.00         8\n",
      "           5       0.86      1.00      0.92         6\n",
      "           6       1.00      1.00      1.00         6\n",
      "           7       1.00      1.00      1.00         1\n",
      "           8       0.86      1.00      0.92         6\n",
      "           9       0.83      1.00      0.91         5\n",
      "          11       1.00      0.83      0.91         6\n",
      "          12       1.00      1.00      1.00         2\n",
      "          13       1.00      1.00      1.00         2\n",
      "          14       0.00      0.00      0.00         0\n",
      "          15       1.00      1.00      1.00         6\n",
      "          16       0.67      0.67      0.67         3\n",
      "          17       1.00      1.00      1.00         2\n",
      "          18       1.00      0.50      0.67         2\n",
      "          19       0.88      0.88      0.88         8\n",
      "          20       1.00      1.00      1.00         1\n",
      "          21       1.00      1.00      1.00         2\n",
      "          22       1.00      1.00      1.00         3\n",
      "          23       1.00      1.00      1.00         3\n",
      "          24       1.00      0.50      0.67         2\n",
      "          25       1.00      0.50      0.67         2\n",
      "          26       1.00      1.00      1.00         4\n",
      "          27       1.00      1.00      1.00         3\n",
      "          28       0.80      0.80      0.80         5\n",
      "          29       0.50      1.00      0.67         1\n",
      "          30       1.00      1.00      1.00         1\n",
      "          31       1.00      1.00      1.00         5\n",
      "          32       0.50      1.00      0.67         1\n",
      "          33       1.00      1.00      1.00         1\n",
      "          34       1.00      1.00      1.00         1\n",
      "          35       1.00      0.50      0.67         2\n",
      "          36       1.00      1.00      1.00         2\n",
      "          37       0.75      1.00      0.86         3\n",
      "          38       0.71      1.00      0.83         5\n",
      "          39       1.00      1.00      1.00         2\n",
      "          40       1.00      1.00      1.00         3\n",
      "          41       1.00      1.00      1.00         2\n",
      "          42       1.00      1.00      1.00         6\n",
      "          44       1.00      0.83      0.91         6\n",
      "          45       1.00      1.00      1.00         1\n",
      "          46       1.00      1.00      1.00         1\n",
      "          47       1.00      1.00      1.00         4\n",
      "          49       1.00      1.00      1.00         1\n",
      "          50       1.00      0.75      0.86         4\n",
      "\n",
      "    accuracy                           0.92       173\n",
      "   macro avg       0.92      0.90      0.90       173\n",
      "weighted avg       0.94      0.92      0.93       173\n",
      "\n"
     ]
    }
   ],
   "source": [
    "from sklearn.metrics import r2_score\n",
    "from sklearn.metrics import mean_squared_error,mean_absolute_error\n",
    "from sklearn.model_selection import train_test_split\n",
    "from sklearn.metrics import accuracy_score\n",
    "from sklearn.metrics import confusion_matrix,classification_report\n",
    "\n",
    "x_train, x_test, y_train, y_test= train_test_split(x,y1,test_size=0.12,random_state=34) \n",
    "dt1=DecisionTreeClassifier()\n",
    "dt1.fit(x_train,y_train)\n",
    "pred=dt1.predict(x_test)\n",
    "acc=dt1.score(x_test,y_test)\n",
    "\n",
    "\n",
    "#print(\"predicted values\",pred)\n",
    "#print(\"predicted values\",y_test)\n",
    "#r2_score(y_test, pred)*100, mean_absolute_error(y_test, pred), np.sqrt(mean_squared_error(y_test, pred))\n",
    "#pred_test=dt1.predict(x_test)\n",
    "print('Accuracy Score',dt1,'is:')\n",
    "print(accuracy_score(y_test,pred))\n",
    "print(confusion_matrix(y_test,pred))\n",
    "print(classification_report(y_test,pred))"
   ]
  },
  {
   "cell_type": "markdown",
   "id": "61f3e810",
   "metadata": {},
   "source": [
    "# Using KNeighborsClassifier algorithm"
   ]
  },
  {
   "cell_type": "code",
   "execution_count": 377,
   "id": "8ebe4f05",
   "metadata": {},
   "outputs": [
    {
     "name": "stdout",
     "output_type": "stream",
     "text": [
      "accuracy 0.7847222222222222 Random state 0.1\n",
      "accuracy 0.8164556962025317 Random state 0.11\n",
      "accuracy 0.8208092485549133 Random state 0.12\n",
      "accuracy 0.8235294117647058 Random state 0.13\n",
      "accuracy 0.8316831683168316 Random state 0.14\n",
      "accuracy 0.8408163265306122 Random state 0.17\n",
      "accuracy 0.861003861003861 Random state 0.18\n",
      "Best accuracy is 86.10038610038609 on Random state 0.18\n"
     ]
    }
   ],
   "source": [
    "\n",
    "from sklearn.neighbors import KNeighborsClassifier\n",
    "\n",
    "\n",
    "\n",
    "maxAcc = 0\n",
    "maxRs=0\n",
    "\n",
    "for i in range(10,41):\n",
    "    i1=i*0.010\n",
    "    x_train, x_test, y_train, y_test= train_test_split(x,y1,test_size=i1)\n",
    "    knc=KNeighborsClassifier()\n",
    "    knc.fit(x_train,y_train)\n",
    "    pred=knc.predict(x_test)\n",
    "    acc=knc.score(x_test,y_test)\n",
    "    #print('accuracy',acc,'Random state',i)\n",
    "    \n",
    "    if acc>maxAcc:\n",
    "        maxAcc=acc\n",
    "        maxRs=i1\n",
    "        print('accuracy',maxAcc,'Random state',i1)\n",
    "print(\"Best accuracy is\",maxAcc*100,\"on Random state\",maxRs)"
   ]
  },
  {
   "cell_type": "code",
   "execution_count": 378,
   "id": "ebcd62a8",
   "metadata": {},
   "outputs": [
    {
     "name": "stdout",
     "output_type": "stream",
     "text": [
      "accuracy 0.806949806949807 Random state 1\n",
      "accuracy 0.8185328185328186 Random state 2\n",
      "accuracy 0.8571428571428571 Random state 3\n",
      "accuracy 0.8687258687258688 Random state 69\n",
      "Best accuracy is 86.87258687258688 on Random state 69\n"
     ]
    }
   ],
   "source": [
    "#finding best random state\n",
    "maxAcc = 0\n",
    "maxRs=0\n",
    "\n",
    "for i in range(1,100):\n",
    "    x_train, x_test, y_train, y_test= train_test_split(x,y1,test_size=0.18,random_state=i) \n",
    "    knc=KNeighborsClassifier()\n",
    "    knc.fit(x_train,y_train)\n",
    "    pred=knc.predict(x_test)\n",
    "    acc=knc.score(x_test,y_test)\n",
    "    #print('accuracy',acc,'Random state',i)\n",
    "    \n",
    "    if acc>maxAcc:\n",
    "        maxAcc=acc\n",
    "        maxRs=i\n",
    "        print('accuracy',maxAcc,'Random state',i)\n",
    "        \n",
    "print(\"Best accuracy is\",maxAcc*100,\"on Random state\",maxRs) "
   ]
  },
  {
   "cell_type": "markdown",
   "id": "1452bbf2",
   "metadata": {},
   "source": [
    "Training and Testing Data with best combination test size and random size data"
   ]
  },
  {
   "cell_type": "code",
   "execution_count": 421,
   "id": "6b611fb7",
   "metadata": {},
   "outputs": [
    {
     "name": "stdout",
     "output_type": "stream",
     "text": [
      "Accuracy Score KNeighborsClassifier() is:\n",
      "0.8687258687258688\n",
      "[[ 8  0  0 ...  0  0  0]\n",
      " [ 0  6  0 ...  0  0  0]\n",
      " [ 0  0 15 ...  0  0  0]\n",
      " ...\n",
      " [ 0  0  0 ...  3  0  0]\n",
      " [ 0  0  0 ...  0  3  0]\n",
      " [ 0  0  0 ...  0  0  3]]\n",
      "              precision    recall  f1-score   support\n",
      "\n",
      "           0       1.00      0.89      0.94         9\n",
      "           1       0.86      1.00      0.92         6\n",
      "           2       0.88      0.94      0.91        16\n",
      "           3       1.00      0.94      0.97        16\n",
      "           4       0.93      0.93      0.93        15\n",
      "           5       0.90      1.00      0.95         9\n",
      "           6       1.00      1.00      1.00         9\n",
      "           7       0.73      0.89      0.80         9\n",
      "           8       0.50      1.00      0.67         1\n",
      "           9       0.89      1.00      0.94         8\n",
      "          10       0.67      1.00      0.80         2\n",
      "          11       1.00      1.00      1.00         3\n",
      "          12       1.00      1.00      1.00         4\n",
      "          13       1.00      1.00      1.00         3\n",
      "          14       0.00      0.00      0.00         1\n",
      "          15       1.00      1.00      1.00         3\n",
      "          16       0.00      0.00      0.00         1\n",
      "          17       0.57      1.00      0.73         4\n",
      "          18       1.00      1.00      1.00         1\n",
      "          19       0.92      0.92      0.92        12\n",
      "          20       0.50      0.50      0.50         2\n",
      "          21       0.00      0.00      0.00         1\n",
      "          22       1.00      1.00      1.00         7\n",
      "          23       0.40      1.00      0.57         2\n",
      "          24       0.50      1.00      0.67         2\n",
      "          25       1.00      1.00      1.00         1\n",
      "          26       1.00      1.00      1.00        11\n",
      "          27       1.00      1.00      1.00         4\n",
      "          28       0.83      0.71      0.77         7\n",
      "          29       1.00      0.50      0.67         2\n",
      "          30       1.00      1.00      1.00         1\n",
      "          31       0.80      0.73      0.76        11\n",
      "          32       1.00      1.00      1.00         4\n",
      "          33       1.00      1.00      1.00         2\n",
      "          34       0.33      0.33      0.33         3\n",
      "          35       1.00      0.25      0.40         4\n",
      "          36       1.00      0.67      0.80         3\n",
      "          37       0.67      1.00      0.80         4\n",
      "          38       0.82      1.00      0.90         9\n",
      "          39       1.00      0.60      0.75         5\n",
      "          40       0.00      0.00      0.00         1\n",
      "          41       1.00      1.00      1.00         3\n",
      "          42       1.00      0.67      0.80         9\n",
      "          43       1.00      1.00      1.00         2\n",
      "          44       1.00      1.00      1.00         5\n",
      "          45       1.00      0.60      0.75         5\n",
      "          46       1.00      1.00      1.00         4\n",
      "          47       1.00      0.60      0.75         5\n",
      "          49       0.50      1.00      0.67         3\n",
      "          50       1.00      0.60      0.75         5\n",
      "\n",
      "    accuracy                           0.87       259\n",
      "   macro avg       0.80      0.81      0.78       259\n",
      "weighted avg       0.89      0.87      0.86       259\n",
      "\n"
     ]
    }
   ],
   "source": [
    "from sklearn.metrics import r2_score\n",
    "from sklearn.metrics import mean_squared_error,mean_absolute_error\n",
    "from sklearn.model_selection import train_test_split\n",
    "from sklearn.metrics import accuracy_score\n",
    "from sklearn.metrics import confusion_matrix,classification_report\n",
    "\n",
    "x_train, x_test, y_train, y_test= train_test_split(x,y1,test_size=0.18,random_state=69) \n",
    "knc=KNeighborsClassifier()\n",
    "knc.fit(x_train,y_train)\n",
    "pred=knc.predict(x_test)\n",
    "acc=knc.score(x_test,y_test)\n",
    "\n",
    "print('Accuracy Score',knc,'is:')\n",
    "print(accuracy_score(y_test,pred))\n",
    "print(confusion_matrix(y_test,pred))\n",
    "print(classification_report(y_test,pred))"
   ]
  },
  {
   "cell_type": "markdown",
   "id": "87cd1651",
   "metadata": {},
   "source": [
    "KNeighborsClassifier algorithm is giving 85.96% accuracy"
   ]
  },
  {
   "cell_type": "markdown",
   "id": "5ac955d5",
   "metadata": {},
   "source": [
    "# Using RandomForestClassifier algorithm"
   ]
  },
  {
   "cell_type": "code",
   "execution_count": 380,
   "id": "c8970f5c",
   "metadata": {},
   "outputs": [
    {
     "name": "stdout",
     "output_type": "stream",
     "text": [
      "accuracy 0.9722222222222222 Random state 0.1\n",
      "accuracy 0.976878612716763 Random state 0.12\n",
      "accuracy 0.9814814814814815 Random state 0.15\n",
      "Best accuracy is 98.14814814814815 on Random state 0.15\n"
     ]
    }
   ],
   "source": [
    "#To get best Test size number from 1 to 40%\n",
    "#from sklearn.linear_model import LinearRegression\n",
    "from sklearn.ensemble import RandomForestClassifier \n",
    "from sklearn.tree import DecisionTreeClassifier\n",
    "from sklearn.neighbors import KNeighborsClassifier\n",
    "from sklearn.svm import SVC\n",
    "#from sklearn.naive_bayes import MultinomialNB\n",
    "from sklearn.metrics import accuracy_score\n",
    "from sklearn.metrics import confusion_matrix,classification_report\n",
    "from sklearn.metrics import mean_squared_error,mean_absolute_error\n",
    "from sklearn.model_selection import train_test_split\n",
    "\n",
    "\n",
    "maxAcc = 0\n",
    "maxRs=0\n",
    "\n",
    "for i in range(10,41):\n",
    "    i1=i*0.010\n",
    "    x_train, x_test, y_train, y_test= train_test_split(x,y1,test_size=i1)\n",
    "    rf1=RandomForestClassifier()\n",
    "    rf1.fit(x_train,y_train)\n",
    "    pred=rf1.predict(x_test)\n",
    "    acc=rf1.score(x_test,y_test)\n",
    "    #print('accuracy',acc,'Random state',i)\n",
    "    \n",
    "    if acc>maxAcc:\n",
    "        maxAcc=acc\n",
    "        maxRs=i1\n",
    "        print('accuracy',maxAcc,'Random state',i1)\n",
    "print(\"Best accuracy is\",maxAcc*100,\"on Random state\",maxRs)"
   ]
  },
  {
   "cell_type": "code",
   "execution_count": 381,
   "id": "b35ca98a",
   "metadata": {},
   "outputs": [
    {
     "name": "stdout",
     "output_type": "stream",
     "text": [
      "accuracy 0.9583333333333334 Random state 1\n",
      "accuracy 0.9629629629629629 Random state 3\n",
      "accuracy 0.9722222222222222 Random state 5\n",
      "accuracy 0.9768518518518519 Random state 10\n",
      "accuracy 0.9861111111111112 Random state 34\n",
      "Best accuracy is 98.61111111111111 on Random state 34\n"
     ]
    }
   ],
   "source": [
    "#finding best random state\n",
    "maxAcc = 0\n",
    "maxRs=0\n",
    "\n",
    "for i in range(1,100):\n",
    "    x_train, x_test, y_train, y_test= train_test_split(x,y1,test_size=0.15,random_state=i) \n",
    "    rf1=RandomForestClassifier()\n",
    "    rf1.fit(x_train,y_train)\n",
    "    pred=rf1.predict(x_test)\n",
    "    acc=rf1.score(x_test,y_test)\n",
    "    #print('accuracy',acc,'Random state',i)\n",
    "    \n",
    "    if acc>maxAcc:\n",
    "        maxAcc=acc\n",
    "        maxRs=i\n",
    "        print('accuracy',maxAcc,'Random state',i)\n",
    "        \n",
    "print(\"Best accuracy is\",maxAcc*100,\"on Random state\",maxRs)"
   ]
  },
  {
   "cell_type": "markdown",
   "id": "935dd445",
   "metadata": {},
   "source": [
    "Training and Testing Data with best combination test size and random size data"
   ]
  },
  {
   "cell_type": "code",
   "execution_count": 424,
   "id": "0a27f1a7",
   "metadata": {},
   "outputs": [
    {
     "name": "stdout",
     "output_type": "stream",
     "text": [
      "Accuracy Score RandomForestClassifier() is:\n",
      "0.9768518518518519\n",
      "[[ 7  0  0 ...  0  0  0]\n",
      " [ 0  5  0 ...  0  0  0]\n",
      " [ 0  0 15 ...  0  0  0]\n",
      " ...\n",
      " [ 0  0  0 ...  3  0  0]\n",
      " [ 0  0  0 ...  0  2  0]\n",
      " [ 0  0  0 ...  0  0  4]]\n",
      "              precision    recall  f1-score   support\n",
      "\n",
      "           0       1.00      1.00      1.00         7\n",
      "           1       1.00      1.00      1.00         5\n",
      "           2       1.00      1.00      1.00        15\n",
      "           3       1.00      1.00      1.00        11\n",
      "           4       1.00      1.00      1.00         9\n",
      "           5       1.00      1.00      1.00         8\n",
      "           6       1.00      1.00      1.00         7\n",
      "           7       0.67      1.00      0.80         2\n",
      "           8       1.00      1.00      1.00         6\n",
      "           9       1.00      1.00      1.00         8\n",
      "          10       1.00      1.00      1.00         1\n",
      "          11       1.00      1.00      1.00         6\n",
      "          12       1.00      1.00      1.00         4\n",
      "          13       1.00      1.00      1.00         3\n",
      "          15       1.00      1.00      1.00         7\n",
      "          16       1.00      1.00      1.00         4\n",
      "          17       1.00      1.00      1.00         5\n",
      "          18       1.00      0.50      0.67         2\n",
      "          19       1.00      1.00      1.00         8\n",
      "          20       1.00      1.00      1.00         2\n",
      "          21       1.00      1.00      1.00         2\n",
      "          22       1.00      1.00      1.00         4\n",
      "          23       0.75      1.00      0.86         3\n",
      "          24       1.00      1.00      1.00         2\n",
      "          25       1.00      1.00      1.00         3\n",
      "          26       1.00      1.00      1.00         6\n",
      "          27       1.00      1.00      1.00         4\n",
      "          28       1.00      1.00      1.00         6\n",
      "          29       1.00      1.00      1.00         1\n",
      "          30       1.00      1.00      1.00         1\n",
      "          31       0.83      1.00      0.91         5\n",
      "          32       0.50      1.00      0.67         1\n",
      "          33       1.00      1.00      1.00         1\n",
      "          34       1.00      1.00      1.00         1\n",
      "          35       1.00      0.67      0.80         3\n",
      "          36       1.00      1.00      1.00         3\n",
      "          37       1.00      1.00      1.00         3\n",
      "          38       0.83      1.00      0.91         5\n",
      "          39       1.00      1.00      1.00         3\n",
      "          40       1.00      1.00      1.00         3\n",
      "          41       1.00      1.00      1.00         3\n",
      "          42       1.00      1.00      1.00         7\n",
      "          44       1.00      1.00      1.00         7\n",
      "          45       1.00      1.00      1.00         3\n",
      "          46       1.00      1.00      1.00         4\n",
      "          47       1.00      0.75      0.86         4\n",
      "          49       1.00      1.00      1.00         2\n",
      "          50       1.00      0.67      0.80         6\n",
      "\n",
      "    accuracy                           0.98       216\n",
      "   macro avg       0.97      0.97      0.96       216\n",
      "weighted avg       0.98      0.98      0.98       216\n",
      "\n"
     ]
    }
   ],
   "source": [
    "from sklearn.metrics import r2_score\n",
    "from sklearn.metrics import mean_squared_error,mean_absolute_error\n",
    "from sklearn.model_selection import train_test_split\n",
    "from sklearn.metrics import accuracy_score\n",
    "from sklearn.metrics import confusion_matrix,classification_report\n",
    "\n",
    "x_train, x_test, y_train, y_test= train_test_split(x,y1,test_size=0.15,random_state=34) \n",
    "rf1=RandomForestClassifier()\n",
    "rf1.fit(x_train,y_train)\n",
    "pred=rf1.predict(x_test)\n",
    "acc=rf1.score(x_test,y_test)\n",
    "\n",
    "print('Accuracy Score',rf1,'is:')\n",
    "print(accuracy_score(y_test,pred))\n",
    "print(confusion_matrix(y_test,pred))\n",
    "print(classification_report(y_test,pred))"
   ]
  },
  {
   "cell_type": "markdown",
   "id": "8e311187",
   "metadata": {},
   "source": [
    "# Using KNeighborsClassifier algorithm"
   ]
  },
  {
   "cell_type": "code",
   "execution_count": 391,
   "id": "8ed98c81",
   "metadata": {},
   "outputs": [],
   "source": [
    " from sklearn.neighbors import KNeighborsClassifier"
   ]
  },
  {
   "cell_type": "code",
   "execution_count": 400,
   "id": "ed12d769",
   "metadata": {},
   "outputs": [
    {
     "name": "stdout",
     "output_type": "stream",
     "text": [
      "accuracy 0.7916666666666666 Random state 0.1\n",
      "accuracy 0.810126582278481 Random state 0.11\n",
      "accuracy 0.815028901734104 Random state 0.12\n",
      "accuracy 0.8663101604278075 Random state 0.13\n",
      "accuracy 0.8739130434782608 Random state 0.16\n",
      "Best accuracy is 87.39130434782608 on Random state 0.16\n"
     ]
    }
   ],
   "source": [
    "\n",
    "maxAcc = 0\n",
    "maxRs=0\n",
    "\n",
    "for i in range(10,41):\n",
    "    i1=i*0.010\n",
    "    x_train, x_test, y_train, y_test= train_test_split(x,y1,test_size=i1)\n",
    "    knc=KNeighborsClassifier()\n",
    "    knc.fit(x_train,y_train)\n",
    "    pred=knc.predict(x_test)\n",
    "    acc=knc.score(x_test,y_test)\n",
    "    #print('accuracy',acc,'Random state',i)\n",
    "    \n",
    "    if acc>maxAcc:\n",
    "        maxAcc=acc\n",
    "        maxRs=i1\n",
    "        print('accuracy',maxAcc,'Random state',i1)\n",
    "print(\"Best accuracy is\",maxAcc*100,\"on Random state\",maxRs)"
   ]
  },
  {
   "cell_type": "code",
   "execution_count": 401,
   "id": "769d79c3",
   "metadata": {},
   "outputs": [
    {
     "name": "stdout",
     "output_type": "stream",
     "text": [
      "accuracy 0.8043478260869565 Random state 10\n",
      "accuracy 0.8478260869565217 Random state 11\n",
      "accuracy 0.8565217391304348 Random state 21\n",
      "accuracy 0.8695652173913043 Random state 69\n",
      "Best accuracy is 86.95652173913044 on Random state 69\n"
     ]
    }
   ],
   "source": [
    "#finding best random state\n",
    "maxAcc = 0\n",
    "maxRs=0\n",
    "\n",
    "for i in range(10,100):\n",
    "    x_train, x_test, y_train, y_test= train_test_split(x,y1,test_size=0.16,random_state=i) \n",
    "    knc=KNeighborsClassifier()\n",
    "    knc.fit(x_train,y_train)\n",
    "    pred=knc.predict(x_test)\n",
    "    acc=knc.score(x_test,y_test)\n",
    "    #print('accuracy',acc,'Random state',i)\n",
    "    \n",
    "    if acc>maxAcc:\n",
    "        maxAcc=acc\n",
    "        maxRs=i\n",
    "        print('accuracy',maxAcc,'Random state',i)\n",
    "        \n",
    "print(\"Best accuracy is\",maxAcc*100,\"on Random state\",maxRs) "
   ]
  },
  {
   "cell_type": "markdown",
   "id": "8af83422",
   "metadata": {},
   "source": [
    "Training and Testing Data with best combination test size and random size data"
   ]
  },
  {
   "cell_type": "code",
   "execution_count": 425,
   "id": "435f80f8",
   "metadata": {},
   "outputs": [
    {
     "name": "stdout",
     "output_type": "stream",
     "text": [
      "Accuracy Score KNeighborsClassifier() is:\n",
      "0.8695652173913043\n",
      "[[ 6  0  0 ...  0  0  0]\n",
      " [ 0  6  0 ...  0  0  0]\n",
      " [ 0  0 14 ...  0  0  0]\n",
      " ...\n",
      " [ 0  0  0 ...  3  0  0]\n",
      " [ 0  0  0 ...  0  3  0]\n",
      " [ 0  0  0 ...  0  0  3]]\n",
      "              precision    recall  f1-score   support\n",
      "\n",
      "           0       1.00      0.86      0.92         7\n",
      "           1       0.86      1.00      0.92         6\n",
      "           2       0.88      0.93      0.90        15\n",
      "           3       1.00      0.94      0.97        16\n",
      "           4       0.92      0.92      0.92        12\n",
      "           5       0.90      1.00      0.95         9\n",
      "           6       1.00      1.00      1.00         6\n",
      "           7       0.73      1.00      0.84         8\n",
      "           8       0.50      1.00      0.67         1\n",
      "           9       1.00      1.00      1.00         7\n",
      "          10       0.50      1.00      0.67         1\n",
      "          11       1.00      1.00      1.00         3\n",
      "          12       1.00      1.00      1.00         4\n",
      "          13       1.00      1.00      1.00         3\n",
      "          14       0.00      0.00      0.00         1\n",
      "          15       1.00      1.00      1.00         3\n",
      "          16       0.00      0.00      0.00         1\n",
      "          17       0.57      1.00      0.73         4\n",
      "          18       1.00      1.00      1.00         1\n",
      "          19       0.90      0.90      0.90        10\n",
      "          20       0.50      0.50      0.50         2\n",
      "          21       0.00      0.00      0.00         1\n",
      "          22       1.00      1.00      1.00         6\n",
      "          23       0.50      1.00      0.67         2\n",
      "          24       0.50      1.00      0.67         2\n",
      "          26       1.00      1.00      1.00         9\n",
      "          27       1.00      1.00      1.00         4\n",
      "          28       0.83      0.71      0.77         7\n",
      "          29       1.00      1.00      1.00         1\n",
      "          30       1.00      1.00      1.00         1\n",
      "          31       0.78      0.70      0.74        10\n",
      "          32       1.00      1.00      1.00         4\n",
      "          33       1.00      1.00      1.00         2\n",
      "          34       0.50      0.33      0.40         3\n",
      "          35       1.00      0.25      0.40         4\n",
      "          36       1.00      0.50      0.67         2\n",
      "          37       0.67      1.00      0.80         4\n",
      "          38       0.78      1.00      0.88         7\n",
      "          39       1.00      0.50      0.67         4\n",
      "          41       1.00      1.00      1.00         3\n",
      "          42       1.00      0.71      0.83         7\n",
      "          43       1.00      1.00      1.00         2\n",
      "          44       1.00      1.00      1.00         5\n",
      "          45       1.00      0.50      0.67         4\n",
      "          46       1.00      1.00      1.00         3\n",
      "          47       1.00      0.60      0.75         5\n",
      "          49       0.60      1.00      0.75         3\n",
      "          50       1.00      0.60      0.75         5\n",
      "\n",
      "    accuracy                           0.87       230\n",
      "   macro avg       0.82      0.82      0.80       230\n",
      "weighted avg       0.89      0.87      0.86       230\n",
      "\n"
     ]
    }
   ],
   "source": [
    "from sklearn.metrics import r2_score\n",
    "from sklearn.metrics import mean_squared_error,mean_absolute_error\n",
    "from sklearn.model_selection import train_test_split\n",
    "from sklearn.metrics import accuracy_score\n",
    "from sklearn.metrics import confusion_matrix,classification_report\n",
    "\n",
    "x_train, x_test, y_train, y_test= train_test_split(x,y1,test_size=0.16,random_state=69) \n",
    "knc=KNeighborsClassifier()\n",
    "knc.fit(x_train,y_train)\n",
    "pred=knc.predict(x_test)\n",
    "acc=knc.score(x_test,y_test)\n",
    "\n",
    "\n",
    "print('Accuracy Score',knc,'is:')\n",
    "print(accuracy_score(y_test,pred))\n",
    "print(confusion_matrix(y_test,pred))\n",
    "print(classification_report(y_test,pred))"
   ]
  },
  {
   "cell_type": "markdown",
   "id": "9e0e56a1",
   "metadata": {},
   "source": [
    "Hence we can see that random Forest algorithm is giving highest accuracy 96.58% so we will continue with this model for future prediction for column \"Region\""
   ]
  },
  {
   "cell_type": "markdown",
   "id": "b84668fe",
   "metadata": {},
   "source": [
    "# checking cross validation score"
   ]
  },
  {
   "cell_type": "code",
   "execution_count": 383,
   "id": "5ec1bd13",
   "metadata": {},
   "outputs": [],
   "source": [
    "from sklearn.model_selection import cross_val_score"
   ]
  },
  {
   "cell_type": "code",
   "execution_count": 426,
   "id": "14daa9e4",
   "metadata": {},
   "outputs": [
    {
     "name": "stdout",
     "output_type": "stream",
     "text": [
      "cross vaidation score 0.3084903977320003\n"
     ]
    }
   ],
   "source": [
    "#using cross validation technique\n",
    "from sklearn.model_selection import cross_val_score\n",
    "scr=cross_val_score(dt,x,y1,cv=5)\n",
    "print('cross vaidation score',scr.mean())"
   ]
  },
  {
   "cell_type": "code",
   "execution_count": 428,
   "id": "f8b58914",
   "metadata": {},
   "outputs": [
    {
     "name": "stdout",
     "output_type": "stream",
     "text": [
      "cross vaidation score 0.8154374758033294\n"
     ]
    }
   ],
   "source": [
    "#using cross validation technique\n",
    "from sklearn.model_selection import cross_val_score\n",
    "scr=cross_val_score(knc,x,y1,cv=5)\n",
    "print('cross vaidation score',scr.mean())"
   ]
  },
  {
   "cell_type": "code",
   "execution_count": 427,
   "id": "2a4e6f3f",
   "metadata": {},
   "outputs": [
    {
     "name": "stdout",
     "output_type": "stream",
     "text": [
      "cross vaidation score 0.9568307200929151\n"
     ]
    }
   ],
   "source": [
    "#using cross validation technique\n",
    "#from sklearn.model_selection import cross_val_score\n",
    "scr=cross_val_score(rf1,x,y1,cv=5)\n",
    "print('cross vaidation score',scr.mean())"
   ]
  },
  {
   "cell_type": "markdown",
   "id": "6e5cb67c",
   "metadata": {},
   "source": [
    "Cross validation is used to check the under and over fitting Data if model predict more than 90% accuracy.\n",
    "\n",
    "Here we can see that cross validation for RandomForestClassifier is giving best prediction hence we will finalised this model"
   ]
  },
  {
   "cell_type": "markdown",
   "id": "55571fd9",
   "metadata": {},
   "source": [
    "# Using Hyperparameter tunning"
   ]
  },
  {
   "cell_type": "code",
   "execution_count": 390,
   "id": "9c510cb6",
   "metadata": {},
   "outputs": [
    {
     "name": "stdout",
     "output_type": "stream",
     "text": [
      "best_params: {'criterion': 'entropy', 'max_depth': 10, 'max_features': 'sqrt'}\n",
      "[[ 7  0  0 ...  0  0  0]\n",
      " [ 0  5  0 ...  0  0  0]\n",
      " [ 0  0 15 ...  0  0  0]\n",
      " ...\n",
      " [ 0  0  0 ...  3  0  0]\n",
      " [ 0  0  0 ...  0  2  0]\n",
      " [ 0  0  0 ...  0  0  5]]\n",
      "0.9861111111111112\n"
     ]
    }
   ],
   "source": [
    "from sklearn.model_selection import GridSearchCV\n",
    "rf1= RandomForestClassifier()\n",
    "\n",
    "params={'max_features':['auto','sqrt','log2'],\n",
    "       'max_depth':[10,15],\n",
    "       'criterion':['gini','entropy']\n",
    "       }''\n",
    "\n",
    "grd=GridSearchCV(rf1,param_grid=params,cv=5,scoring='accuracy')\n",
    "\n",
    "grd.fit(x_train,y_train)\n",
    "\n",
    "print('best_params:',grd.best_params_)\n",
    "\n",
    "rf1=grd.best_estimator_\n",
    "\n",
    "rf1.fit(x_train,y_train)\n",
    "\n",
    "y_pred=rf1.predict(x_test)\n",
    "\n",
    "rf_conf_mat=confusion_matrix(y_test,y_pred)\n",
    "\n",
    "print(rf_conf_mat)\n",
    "\n",
    "print(accuracy_score(y_test,y_pred))\n"
   ]
  },
  {
   "cell_type": "markdown",
   "id": "f5751873",
   "metadata": {},
   "source": [
    "# Model selection"
   ]
  },
  {
   "cell_type": "code",
   "execution_count": 464,
   "id": "8650f03b",
   "metadata": {},
   "outputs": [
    {
     "name": "stdout",
     "output_type": "stream",
     "text": [
      "Accuracy Score KNeighborsClassifier() is:\n",
      "0.9768518518518519\n",
      "[[ 7  0  0 ...  0  0  0]\n",
      " [ 0  5  0 ...  0  0  0]\n",
      " [ 0  0 15 ...  0  0  0]\n",
      " ...\n",
      " [ 0  0  0 ...  3  0  0]\n",
      " [ 0  0  0 ...  0  2  0]\n",
      " [ 0  0  0 ...  0  0  5]]\n",
      "[50 41 26 19  9  6 50  8 11  6  6 45 38  9 18 44 19 46 22 23  0  1  4 17\n",
      " 23 44  0  5  7 28 20  2  5 36 42  8 22 49 13 37 44 25 19 11 31 26  4 29\n",
      "  2 12  9 32 15 19 37 39  4 31  4 31 19 21 15 11  6 13  3 44  3  0 28 28\n",
      " 34 15 11 21  6  2  1 44  3  4  2 30  2 23 37  1  2 40 32 35  8  8 41 15\n",
      " 36 42  8 15 47 42  5 19  0 40  0  2 44 22 17 16 47  1  2  6 24  2 38  4\n",
      "  3 33 31 38 27 42 15 38 47  2  7 25 24  0 26 40  2 28  9 19  3  5 19 42\n",
      " 16  9  5 38 16 27  3  3  2  3 23 50 26 50  0  8 11  4  4  5 42 28  3 39\n",
      "  1 31 27 11 12 22 46 46 28 46 17  3  6  4  2 12  5 10 49  5 36 26 13 17\n",
      " 25  9  7  2  9 41 35 15 45 31 12 36 16 26  2 44 45  3 17 27 42  9 39 50]\n",
      "1245    50\n",
      "995     41\n",
      "662     26\n",
      "518     19\n",
      "292      9\n",
      "        ..\n",
      "693     27\n",
      "1032    42\n",
      "269      9\n",
      "974     39\n",
      "1265    50\n",
      "Name: region, Length: 216, dtype: int32\n"
     ]
    }
   ],
   "source": [
    "from sklearn.ensemble import RandomForestClassifier \n",
    "\n",
    "x_train, x_test, y_train, y_test= train_test_split(x,y1,test_size=0.15,random_state=34) \n",
    "rf2=RandomForestClassifier(criterion= 'entropy', max_depth= 10, max_features= 'sqrt')\n",
    "rf2.fit(x_train,y_train)\n",
    "pred2=rf2.predict(x_test)\n",
    "acc2=rf2.score(x_test,y_test)\n",
    "ytest2=y_test\n",
    "ypred=pred2\n",
    "\n",
    "print('Accuracy Score',knc,'is:')\n",
    "print(accuracy_score(y_test,pred2))\n",
    "print(confusion_matrix(y_test,pred2))\n",
    "#print(classification_report(y_test,pred2))\n",
    "\n",
    "print(pred2)\n",
    "print(y_test)"
   ]
  },
  {
   "cell_type": "markdown",
   "id": "257e32bc",
   "metadata": {},
   "source": [
    "The final model for output column \"Region\" we have stored in variable \"rf2\" so for futur input data we can predict the output"
   ]
  },
  {
   "cell_type": "markdown",
   "id": "415cb29f",
   "metadata": {},
   "source": [
    "# plot the ROC corve"
   ]
  },
  {
   "cell_type": "code",
   "execution_count": 441,
   "id": "0223fb5d",
   "metadata": {},
   "outputs": [],
   "source": [
    "#from sklearn.metrics import accuracy_score,confusion_matrix,roc_curve,roc_auc_score\n",
    "#tpr,fpr,thresholds=roc_curve(y_test,y_pred)\n",
    "\n",
    "from sklearn.metrics import roc_curve\n",
    "import matplotlib.pyplot as plt\n",
    "from sklearn.metrics import roc_auc_score\n"
   ]
  },
  {
   "cell_type": "code",
   "execution_count": 446,
   "id": "1f813c25",
   "metadata": {},
   "outputs": [
    {
     "data": {
      "text/plain": [
       "array([0.        , 0.07174124, 0.        , 0.20912465, 0.        ,\n",
       "       0.        , 0.        , 0.        , 0.01      , 0.        ,\n",
       "       0.        , 0.        , 0.        , 0.        , 0.06      ,\n",
       "       0.        , 0.0225    , 0.        , 0.        , 0.09208594,\n",
       "       0.        , 0.79307843, 0.01      , 0.        , 0.080754  ,\n",
       "       0.        , 0.        , 0.        , 0.        , 0.        ,\n",
       "       0.01      , 0.        , 0.        , 0.        , 0.        ,\n",
       "       0.        , 0.        , 0.        , 0.        , 0.        ,\n",
       "       0.        , 0.        , 0.01416667, 0.01      , 0.        ,\n",
       "       0.        , 0.        , 0.18757782, 0.        , 0.        ,\n",
       "       0.        , 0.01      , 0.02      , 0.        , 0.02      ,\n",
       "       0.        , 0.        , 0.        , 0.        , 0.        ,\n",
       "       0.1035    , 0.        , 0.        , 0.        , 0.        ,\n",
       "       0.01      , 0.        , 0.        , 0.0025    , 0.        ,\n",
       "       0.        , 0.        , 0.        , 0.01      , 0.01      ,\n",
       "       0.        , 0.        , 0.        , 0.42298599, 0.01      ,\n",
       "       0.        , 0.01      , 0.        , 0.005     , 0.        ,\n",
       "       0.08377036, 0.        , 0.5771214 , 0.        , 0.        ,\n",
       "       0.02      , 0.        , 0.        , 0.        , 0.        ,\n",
       "       0.        , 0.        , 0.        , 0.        , 0.        ,\n",
       "       0.2572619 , 0.        , 0.        , 0.046     , 0.        ,\n",
       "       0.        , 0.        , 0.        , 0.        , 0.        ,\n",
       "       0.        , 0.01      , 0.02153846, 0.63101425, 0.        ,\n",
       "       0.        , 0.        , 0.        , 0.        , 0.        ,\n",
       "       0.        , 0.        , 0.        , 0.        , 0.03      ,\n",
       "       0.        , 0.        , 0.        , 0.02434892, 0.        ,\n",
       "       0.        , 0.        , 0.        , 0.        , 0.        ,\n",
       "       0.        , 0.        , 0.        , 0.        , 0.07880952,\n",
       "       0.01      , 0.        , 0.016     , 0.        , 0.01      ,\n",
       "       0.        , 0.        , 0.        , 0.        , 0.01      ,\n",
       "       0.        , 0.        , 0.        , 0.        , 0.09473219,\n",
       "       0.        , 0.        , 0.        , 0.        , 0.        ,\n",
       "       0.        , 0.        , 0.        , 0.        , 0.        ,\n",
       "       0.        , 0.        , 0.        , 0.6815692 , 0.        ,\n",
       "       0.        , 0.01      , 0.        , 0.        , 0.        ,\n",
       "       0.        , 0.        , 0.        , 0.        , 0.        ,\n",
       "       0.        , 0.        , 0.        , 0.        , 0.        ,\n",
       "       0.        , 0.        , 0.        , 0.        , 0.01      ,\n",
       "       0.        , 0.        , 0.        , 0.        , 0.        ,\n",
       "       0.        , 0.        , 0.01      , 0.        , 0.02      ,\n",
       "       0.        , 0.01      , 0.        , 0.        , 0.        ,\n",
       "       0.        , 0.        , 0.        , 0.00729412, 0.        ,\n",
       "       0.        , 0.        , 0.        , 0.        , 0.        ,\n",
       "       0.        ])"
      ]
     },
     "execution_count": 446,
     "metadata": {},
     "output_type": "execute_result"
    }
   ],
   "source": [
    "y_preb_prob=rf2.predict_proba(x_test)[:,1]\n",
    "y_preb_prob"
   ]
  },
  {
   "cell_type": "code",
   "execution_count": null,
   "id": "36f2957a",
   "metadata": {},
   "outputs": [],
   "source": [
    "fpr,tpr,thresholds=roc_curve(y_test,y_preb_prob)"
   ]
  },
  {
   "cell_type": "markdown",
   "id": "0725e9af",
   "metadata": {},
   "source": [
    "Here we are getting error for multigroup as Region column is having multiple group hence we can avoid this grapgh"
   ]
  },
  {
   "cell_type": "markdown",
   "id": "6728049a",
   "metadata": {},
   "source": [
    "# Testing Model with Future Data: \"AveragePrice\" Output"
   ]
  },
  {
   "cell_type": "markdown",
   "id": "7b75024a",
   "metadata": {},
   "source": [
    "for prediction i have took one sample data and apply finalised model for AveragePrice output"
   ]
  },
  {
   "cell_type": "code",
   "execution_count": 488,
   "id": "ad6c7f39",
   "metadata": {},
   "outputs": [
    {
     "data": {
      "text/html": [
       "<div>\n",
       "<style scoped>\n",
       "    .dataframe tbody tr th:only-of-type {\n",
       "        vertical-align: middle;\n",
       "    }\n",
       "\n",
       "    .dataframe tbody tr th {\n",
       "        vertical-align: top;\n",
       "    }\n",
       "\n",
       "    .dataframe thead th {\n",
       "        text-align: right;\n",
       "    }\n",
       "</style>\n",
       "<table border=\"1\" class=\"dataframe\">\n",
       "  <thead>\n",
       "    <tr style=\"text-align: right;\">\n",
       "      <th></th>\n",
       "      <th>Date</th>\n",
       "      <th>4046</th>\n",
       "      <th>4225</th>\n",
       "      <th>4770</th>\n",
       "      <th>Small Bags</th>\n",
       "      <th>Large Bags</th>\n",
       "      <th>XLarge Bags</th>\n",
       "      <th>year</th>\n",
       "    </tr>\n",
       "  </thead>\n",
       "  <tbody>\n",
       "    <tr>\n",
       "      <th>0</th>\n",
       "      <td>-0.144566</td>\n",
       "      <td>-0.150854</td>\n",
       "      <td>-0.96657</td>\n",
       "      <td>0.656928</td>\n",
       "      <td>-0.335929</td>\n",
       "      <td>0.229935</td>\n",
       "      <td>-0.846959</td>\n",
       "      <td>1.110223e-16</td>\n",
       "    </tr>\n",
       "  </tbody>\n",
       "</table>\n",
       "</div>"
      ],
      "text/plain": [
       "       Date      4046     4225      4770  Small Bags  Large Bags  XLarge Bags  \\\n",
       "0 -0.144566 -0.150854 -0.96657  0.656928   -0.335929    0.229935    -0.846959   \n",
       "\n",
       "           year  \n",
       "0  1.110223e-16  "
      ]
     },
     "execution_count": 488,
     "metadata": {},
     "output_type": "execute_result"
    }
   ],
   "source": [
    "x[0:1]"
   ]
  },
  {
   "cell_type": "code",
   "execution_count": 489,
   "id": "8743ad8f",
   "metadata": {},
   "outputs": [
    {
     "data": {
      "text/html": [
       "<div>\n",
       "<style scoped>\n",
       "    .dataframe tbody tr th:only-of-type {\n",
       "        vertical-align: middle;\n",
       "    }\n",
       "\n",
       "    .dataframe tbody tr th {\n",
       "        vertical-align: top;\n",
       "    }\n",
       "\n",
       "    .dataframe thead th {\n",
       "        text-align: right;\n",
       "    }\n",
       "</style>\n",
       "<table border=\"1\" class=\"dataframe\">\n",
       "  <thead>\n",
       "    <tr style=\"text-align: right;\">\n",
       "      <th></th>\n",
       "      <th>Date</th>\n",
       "      <th>AveragePrice</th>\n",
       "      <th>Total Volume</th>\n",
       "      <th>4046</th>\n",
       "      <th>4225</th>\n",
       "      <th>4770</th>\n",
       "      <th>Total Bags</th>\n",
       "      <th>Small Bags</th>\n",
       "      <th>Large Bags</th>\n",
       "      <th>XLarge Bags</th>\n",
       "      <th>year</th>\n",
       "      <th>region</th>\n",
       "    </tr>\n",
       "  </thead>\n",
       "  <tbody>\n",
       "    <tr>\n",
       "      <th>1508</th>\n",
       "      <td>43</td>\n",
       "      <td>1.64</td>\n",
       "      <td>144089.12</td>\n",
       "      <td>49399.39</td>\n",
       "      <td>26597.39</td>\n",
       "      <td>22714.68</td>\n",
       "      <td>45377.66</td>\n",
       "      <td>38436.79</td>\n",
       "      <td>6940.87</td>\n",
       "      <td>0.0</td>\n",
       "      <td>2016.0</td>\n",
       "      <td>7</td>\n",
       "    </tr>\n",
       "  </tbody>\n",
       "</table>\n",
       "</div>"
      ],
      "text/plain": [
       "      Date  AveragePrice  Total Volume      4046      4225      4770  \\\n",
       "1508    43          1.64     144089.12  49399.39  26597.39  22714.68   \n",
       "\n",
       "      Total Bags  Small Bags  Large Bags  XLarge Bags    year  region  \n",
       "1508    45377.66    38436.79     6940.87          0.0  2016.0       7  "
      ]
     },
     "execution_count": 489,
     "metadata": {},
     "output_type": "execute_result"
    }
   ],
   "source": [
    "df[0:1]"
   ]
  },
  {
   "cell_type": "code",
   "execution_count": 490,
   "id": "ac96d336",
   "metadata": {},
   "outputs": [
    {
     "data": {
      "text/plain": [
       "1508    7\n",
       "Name: region, dtype: int32"
      ]
     },
     "execution_count": 490,
     "metadata": {},
     "output_type": "execute_result"
    }
   ],
   "source": [
    "y1[0:1]"
   ]
  },
  {
   "cell_type": "code",
   "execution_count": 483,
   "id": "3f043b3a",
   "metadata": {},
   "outputs": [],
   "source": [
    "t=np.array([-0.144566,-0.150854,-0.96657,0.656928,-0.335929,0.229935,-0.846959,2016.0])"
   ]
  },
  {
   "cell_type": "code",
   "execution_count": 484,
   "id": "e373ded1",
   "metadata": {},
   "outputs": [
    {
     "data": {
      "text/plain": [
       "(8,)"
      ]
     },
     "execution_count": 484,
     "metadata": {},
     "output_type": "execute_result"
    }
   ],
   "source": [
    "\n",
    "t.shape"
   ]
  },
  {
   "cell_type": "code",
   "execution_count": 485,
   "id": "2cea9218",
   "metadata": {},
   "outputs": [
    {
     "data": {
      "text/plain": [
       "(1220, 8)"
      ]
     },
     "execution_count": 485,
     "metadata": {},
     "output_type": "execute_result"
    }
   ],
   "source": [
    "x_train.shape"
   ]
  },
  {
   "cell_type": "code",
   "execution_count": 486,
   "id": "e0d8c2ca",
   "metadata": {},
   "outputs": [
    {
     "data": {
      "text/plain": [
       "(1, 8)"
      ]
     },
     "execution_count": 486,
     "metadata": {},
     "output_type": "execute_result"
    }
   ],
   "source": [
    "\n",
    "t=t.reshape(1,-1)\n",
    "t.shape\n"
   ]
  },
  {
   "cell_type": "code",
   "execution_count": 487,
   "id": "4b28f866",
   "metadata": {},
   "outputs": [
    {
     "data": {
      "text/plain": [
       "array([1.3609])"
      ]
     },
     "execution_count": 487,
     "metadata": {},
     "output_type": "execute_result"
    }
   ],
   "source": [
    "rf.predict(t)"
   ]
  },
  {
   "cell_type": "markdown",
   "id": "8a42f965",
   "metadata": {},
   "source": [
    "In above Data also we can see the output is coming as 1.64 and we have prediction 1.36 which is nearly accurate \n",
    "\n",
    "Hence we can say our Model is predicting Well for AveragePrice"
   ]
  },
  {
   "cell_type": "markdown",
   "id": "51630901",
   "metadata": {},
   "source": [
    "# Testing Model with Future Data: \"Region\" Output"
   ]
  },
  {
   "cell_type": "code",
   "execution_count": 491,
   "id": "8729fbe1",
   "metadata": {},
   "outputs": [
    {
     "data": {
      "text/plain": [
       "array([7])"
      ]
     },
     "execution_count": 491,
     "metadata": {},
     "output_type": "execute_result"
    }
   ],
   "source": [
    "rf2.predict(t)"
   ]
  },
  {
   "cell_type": "markdown",
   "id": "0d57b8ba",
   "metadata": {},
   "source": [
    "In above Data also we can see the output is coming as 7 and we have prediction 7 which is accurate. \n",
    "\n",
    "Hence we can say our Model is predicting Well for \"Region\""
   ]
  },
  {
   "cell_type": "markdown",
   "id": "6d902288",
   "metadata": {},
   "source": [
    "# saving the model in pickel format"
   ]
  },
  {
   "cell_type": "code",
   "execution_count": 408,
   "id": "9346a18a",
   "metadata": {},
   "outputs": [
    {
     "data": {
      "text/plain": [
       "['avocado.pk1']"
      ]
     },
     "execution_count": 408,
     "metadata": {},
     "output_type": "execute_result"
    }
   ],
   "source": [
    "import joblib\n",
    "joblib.dump(accuracy_score(y_test, pred)*100,\"avocado.pk1\")"
   ]
  },
  {
   "cell_type": "code",
   "execution_count": null,
   "id": "1a44d0d8",
   "metadata": {},
   "outputs": [],
   "source": []
  }
 ],
 "metadata": {
  "kernelspec": {
   "display_name": "Python 3",
   "language": "python",
   "name": "python3"
  },
  "language_info": {
   "codemirror_mode": {
    "name": "ipython",
    "version": 3
   },
   "file_extension": ".py",
   "mimetype": "text/x-python",
   "name": "python",
   "nbconvert_exporter": "python",
   "pygments_lexer": "ipython3",
   "version": "3.8.8"
  }
 },
 "nbformat": 4,
 "nbformat_minor": 5
}
