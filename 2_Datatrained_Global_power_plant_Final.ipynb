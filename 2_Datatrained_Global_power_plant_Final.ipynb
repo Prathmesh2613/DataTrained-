{
 "cells": [
  {
   "cell_type": "code",
   "execution_count": 4,
   "id": "60586dcf",
   "metadata": {},
   "outputs": [],
   "source": [
    "#Importing Library\n",
    "import numpy as np\n",
    "import pandas as pd\n",
    "import matplotlib.pyplot as plt\n",
    "import seaborn as sns\n",
    "\n",
    "import warnings\n",
    "\n",
    "warnings.filterwarnings('ignore')\n",
    "\n",
    "pd.set_option('display.max_columns',None)\n"
   ]
  },
  {
   "cell_type": "code",
   "execution_count": 2,
   "id": "c8cf8d85",
   "metadata": {},
   "outputs": [],
   "source": [
    "#loading the dataset\n",
    "df=pd.read_csv('https://raw.githubusercontent.com/wri/global-power-plant-database/master/source_databases_csv/database_IND.csv')"
   ]
  },
  {
   "cell_type": "code",
   "execution_count": 5,
   "id": "ee2b39c3",
   "metadata": {},
   "outputs": [
    {
     "data": {
      "text/html": [
       "<div>\n",
       "<style scoped>\n",
       "    .dataframe tbody tr th:only-of-type {\n",
       "        vertical-align: middle;\n",
       "    }\n",
       "\n",
       "    .dataframe tbody tr th {\n",
       "        vertical-align: top;\n",
       "    }\n",
       "\n",
       "    .dataframe thead th {\n",
       "        text-align: right;\n",
       "    }\n",
       "</style>\n",
       "<table border=\"1\" class=\"dataframe\">\n",
       "  <thead>\n",
       "    <tr style=\"text-align: right;\">\n",
       "      <th></th>\n",
       "      <th>country</th>\n",
       "      <th>country_long</th>\n",
       "      <th>name</th>\n",
       "      <th>gppd_idnr</th>\n",
       "      <th>capacity_mw</th>\n",
       "      <th>latitude</th>\n",
       "      <th>longitude</th>\n",
       "      <th>primary_fuel</th>\n",
       "      <th>other_fuel1</th>\n",
       "      <th>other_fuel2</th>\n",
       "      <th>other_fuel3</th>\n",
       "      <th>commissioning_year</th>\n",
       "      <th>owner</th>\n",
       "      <th>source</th>\n",
       "      <th>url</th>\n",
       "      <th>geolocation_source</th>\n",
       "      <th>wepp_id</th>\n",
       "      <th>year_of_capacity_data</th>\n",
       "      <th>generation_gwh_2013</th>\n",
       "      <th>generation_gwh_2014</th>\n",
       "      <th>generation_gwh_2015</th>\n",
       "      <th>generation_gwh_2016</th>\n",
       "      <th>generation_gwh_2017</th>\n",
       "      <th>generation_gwh_2018</th>\n",
       "      <th>generation_gwh_2019</th>\n",
       "      <th>generation_data_source</th>\n",
       "      <th>estimated_generation_gwh</th>\n",
       "    </tr>\n",
       "  </thead>\n",
       "  <tbody>\n",
       "    <tr>\n",
       "      <th>0</th>\n",
       "      <td>IND</td>\n",
       "      <td>India</td>\n",
       "      <td>ACME Solar Tower</td>\n",
       "      <td>WRI1020239</td>\n",
       "      <td>2.5</td>\n",
       "      <td>28.1839</td>\n",
       "      <td>73.2407</td>\n",
       "      <td>Solar</td>\n",
       "      <td>NaN</td>\n",
       "      <td>NaN</td>\n",
       "      <td>NaN</td>\n",
       "      <td>2011.0</td>\n",
       "      <td>Solar Paces</td>\n",
       "      <td>National Renewable Energy Laboratory</td>\n",
       "      <td>http://www.nrel.gov/csp/solarpaces/project_det...</td>\n",
       "      <td>National Renewable Energy Laboratory</td>\n",
       "      <td>NaN</td>\n",
       "      <td>NaN</td>\n",
       "      <td>NaN</td>\n",
       "      <td>NaN</td>\n",
       "      <td>NaN</td>\n",
       "      <td>NaN</td>\n",
       "      <td>NaN</td>\n",
       "      <td>NaN</td>\n",
       "      <td>NaN</td>\n",
       "      <td>NaN</td>\n",
       "      <td>NaN</td>\n",
       "    </tr>\n",
       "    <tr>\n",
       "      <th>1</th>\n",
       "      <td>IND</td>\n",
       "      <td>India</td>\n",
       "      <td>ADITYA CEMENT WORKS</td>\n",
       "      <td>WRI1019881</td>\n",
       "      <td>98.0</td>\n",
       "      <td>24.7663</td>\n",
       "      <td>74.6090</td>\n",
       "      <td>Coal</td>\n",
       "      <td>NaN</td>\n",
       "      <td>NaN</td>\n",
       "      <td>NaN</td>\n",
       "      <td>NaN</td>\n",
       "      <td>Ultratech Cement ltd</td>\n",
       "      <td>Ultratech Cement ltd</td>\n",
       "      <td>http://www.ultratechcement.com/</td>\n",
       "      <td>WRI</td>\n",
       "      <td>NaN</td>\n",
       "      <td>NaN</td>\n",
       "      <td>NaN</td>\n",
       "      <td>NaN</td>\n",
       "      <td>NaN</td>\n",
       "      <td>NaN</td>\n",
       "      <td>NaN</td>\n",
       "      <td>NaN</td>\n",
       "      <td>NaN</td>\n",
       "      <td>NaN</td>\n",
       "      <td>NaN</td>\n",
       "    </tr>\n",
       "    <tr>\n",
       "      <th>2</th>\n",
       "      <td>IND</td>\n",
       "      <td>India</td>\n",
       "      <td>AES Saurashtra Windfarms</td>\n",
       "      <td>WRI1026669</td>\n",
       "      <td>39.2</td>\n",
       "      <td>21.9038</td>\n",
       "      <td>69.3732</td>\n",
       "      <td>Wind</td>\n",
       "      <td>NaN</td>\n",
       "      <td>NaN</td>\n",
       "      <td>NaN</td>\n",
       "      <td>NaN</td>\n",
       "      <td>AES</td>\n",
       "      <td>CDM</td>\n",
       "      <td>https://cdm.unfccc.int/Projects/DB/DNV-CUK1328...</td>\n",
       "      <td>WRI</td>\n",
       "      <td>NaN</td>\n",
       "      <td>NaN</td>\n",
       "      <td>NaN</td>\n",
       "      <td>NaN</td>\n",
       "      <td>NaN</td>\n",
       "      <td>NaN</td>\n",
       "      <td>NaN</td>\n",
       "      <td>NaN</td>\n",
       "      <td>NaN</td>\n",
       "      <td>NaN</td>\n",
       "      <td>NaN</td>\n",
       "    </tr>\n",
       "    <tr>\n",
       "      <th>3</th>\n",
       "      <td>IND</td>\n",
       "      <td>India</td>\n",
       "      <td>AGARTALA GT</td>\n",
       "      <td>IND0000001</td>\n",
       "      <td>135.0</td>\n",
       "      <td>23.8712</td>\n",
       "      <td>91.3602</td>\n",
       "      <td>Gas</td>\n",
       "      <td>NaN</td>\n",
       "      <td>NaN</td>\n",
       "      <td>NaN</td>\n",
       "      <td>2004.0</td>\n",
       "      <td>NaN</td>\n",
       "      <td>Central Electricity Authority</td>\n",
       "      <td>http://www.cea.nic.in/</td>\n",
       "      <td>WRI</td>\n",
       "      <td>NaN</td>\n",
       "      <td>2019.0</td>\n",
       "      <td>NaN</td>\n",
       "      <td>617.789264</td>\n",
       "      <td>843.747</td>\n",
       "      <td>886.004428</td>\n",
       "      <td>663.774500</td>\n",
       "      <td>626.239128</td>\n",
       "      <td>NaN</td>\n",
       "      <td>Central Electricity Authority</td>\n",
       "      <td>NaN</td>\n",
       "    </tr>\n",
       "    <tr>\n",
       "      <th>4</th>\n",
       "      <td>IND</td>\n",
       "      <td>India</td>\n",
       "      <td>AKALTARA TPP</td>\n",
       "      <td>IND0000002</td>\n",
       "      <td>1800.0</td>\n",
       "      <td>21.9603</td>\n",
       "      <td>82.4091</td>\n",
       "      <td>Coal</td>\n",
       "      <td>Oil</td>\n",
       "      <td>NaN</td>\n",
       "      <td>NaN</td>\n",
       "      <td>2015.0</td>\n",
       "      <td>NaN</td>\n",
       "      <td>Central Electricity Authority</td>\n",
       "      <td>http://www.cea.nic.in/</td>\n",
       "      <td>WRI</td>\n",
       "      <td>NaN</td>\n",
       "      <td>2019.0</td>\n",
       "      <td>NaN</td>\n",
       "      <td>3035.550000</td>\n",
       "      <td>5916.370</td>\n",
       "      <td>6243.000000</td>\n",
       "      <td>5385.579736</td>\n",
       "      <td>7279.000000</td>\n",
       "      <td>NaN</td>\n",
       "      <td>Central Electricity Authority</td>\n",
       "      <td>NaN</td>\n",
       "    </tr>\n",
       "  </tbody>\n",
       "</table>\n",
       "</div>"
      ],
      "text/plain": [
       "  country country_long                      name   gppd_idnr  capacity_mw  \\\n",
       "0     IND        India          ACME Solar Tower  WRI1020239          2.5   \n",
       "1     IND        India       ADITYA CEMENT WORKS  WRI1019881         98.0   \n",
       "2     IND        India  AES Saurashtra Windfarms  WRI1026669         39.2   \n",
       "3     IND        India               AGARTALA GT  IND0000001        135.0   \n",
       "4     IND        India              AKALTARA TPP  IND0000002       1800.0   \n",
       "\n",
       "   latitude  longitude primary_fuel other_fuel1 other_fuel2  other_fuel3  \\\n",
       "0   28.1839    73.2407        Solar         NaN         NaN          NaN   \n",
       "1   24.7663    74.6090         Coal         NaN         NaN          NaN   \n",
       "2   21.9038    69.3732         Wind         NaN         NaN          NaN   \n",
       "3   23.8712    91.3602          Gas         NaN         NaN          NaN   \n",
       "4   21.9603    82.4091         Coal         Oil         NaN          NaN   \n",
       "\n",
       "   commissioning_year                 owner  \\\n",
       "0              2011.0           Solar Paces   \n",
       "1                 NaN  Ultratech Cement ltd   \n",
       "2                 NaN                   AES   \n",
       "3              2004.0                   NaN   \n",
       "4              2015.0                   NaN   \n",
       "\n",
       "                                 source  \\\n",
       "0  National Renewable Energy Laboratory   \n",
       "1                  Ultratech Cement ltd   \n",
       "2                                   CDM   \n",
       "3         Central Electricity Authority   \n",
       "4         Central Electricity Authority   \n",
       "\n",
       "                                                 url  \\\n",
       "0  http://www.nrel.gov/csp/solarpaces/project_det...   \n",
       "1                    http://www.ultratechcement.com/   \n",
       "2  https://cdm.unfccc.int/Projects/DB/DNV-CUK1328...   \n",
       "3                             http://www.cea.nic.in/   \n",
       "4                             http://www.cea.nic.in/   \n",
       "\n",
       "                     geolocation_source  wepp_id  year_of_capacity_data  \\\n",
       "0  National Renewable Energy Laboratory      NaN                    NaN   \n",
       "1                                   WRI      NaN                    NaN   \n",
       "2                                   WRI      NaN                    NaN   \n",
       "3                                   WRI      NaN                 2019.0   \n",
       "4                                   WRI      NaN                 2019.0   \n",
       "\n",
       "   generation_gwh_2013  generation_gwh_2014  generation_gwh_2015  \\\n",
       "0                  NaN                  NaN                  NaN   \n",
       "1                  NaN                  NaN                  NaN   \n",
       "2                  NaN                  NaN                  NaN   \n",
       "3                  NaN           617.789264              843.747   \n",
       "4                  NaN          3035.550000             5916.370   \n",
       "\n",
       "   generation_gwh_2016  generation_gwh_2017  generation_gwh_2018  \\\n",
       "0                  NaN                  NaN                  NaN   \n",
       "1                  NaN                  NaN                  NaN   \n",
       "2                  NaN                  NaN                  NaN   \n",
       "3           886.004428           663.774500           626.239128   \n",
       "4          6243.000000          5385.579736          7279.000000   \n",
       "\n",
       "   generation_gwh_2019         generation_data_source  \\\n",
       "0                  NaN                            NaN   \n",
       "1                  NaN                            NaN   \n",
       "2                  NaN                            NaN   \n",
       "3                  NaN  Central Electricity Authority   \n",
       "4                  NaN  Central Electricity Authority   \n",
       "\n",
       "   estimated_generation_gwh  \n",
       "0                       NaN  \n",
       "1                       NaN  \n",
       "2                       NaN  \n",
       "3                       NaN  \n",
       "4                       NaN  "
      ]
     },
     "execution_count": 5,
     "metadata": {},
     "output_type": "execute_result"
    }
   ],
   "source": [
    "df.head()"
   ]
  },
  {
   "cell_type": "markdown",
   "id": "d596ab2f",
   "metadata": {},
   "source": [
    "# EDA "
   ]
  },
  {
   "cell_type": "code",
   "execution_count": 7,
   "id": "928f5772",
   "metadata": {},
   "outputs": [
    {
     "data": {
      "text/html": [
       "<div>\n",
       "<style scoped>\n",
       "    .dataframe tbody tr th:only-of-type {\n",
       "        vertical-align: middle;\n",
       "    }\n",
       "\n",
       "    .dataframe tbody tr th {\n",
       "        vertical-align: top;\n",
       "    }\n",
       "\n",
       "    .dataframe thead th {\n",
       "        text-align: right;\n",
       "    }\n",
       "</style>\n",
       "<table border=\"1\" class=\"dataframe\">\n",
       "  <thead>\n",
       "    <tr style=\"text-align: right;\">\n",
       "      <th></th>\n",
       "      <th>capacity_mw</th>\n",
       "      <th>latitude</th>\n",
       "      <th>longitude</th>\n",
       "      <th>other_fuel3</th>\n",
       "      <th>commissioning_year</th>\n",
       "      <th>wepp_id</th>\n",
       "      <th>year_of_capacity_data</th>\n",
       "      <th>generation_gwh_2013</th>\n",
       "      <th>generation_gwh_2014</th>\n",
       "      <th>generation_gwh_2015</th>\n",
       "      <th>generation_gwh_2016</th>\n",
       "      <th>generation_gwh_2017</th>\n",
       "      <th>generation_gwh_2018</th>\n",
       "      <th>generation_gwh_2019</th>\n",
       "      <th>estimated_generation_gwh</th>\n",
       "    </tr>\n",
       "  </thead>\n",
       "  <tbody>\n",
       "    <tr>\n",
       "      <th>count</th>\n",
       "      <td>907.000000</td>\n",
       "      <td>861.000000</td>\n",
       "      <td>861.000000</td>\n",
       "      <td>0.0</td>\n",
       "      <td>527.000000</td>\n",
       "      <td>0.0</td>\n",
       "      <td>519.0</td>\n",
       "      <td>0.0</td>\n",
       "      <td>398.000000</td>\n",
       "      <td>422.000000</td>\n",
       "      <td>434.000000</td>\n",
       "      <td>440.000000</td>\n",
       "      <td>448.000000</td>\n",
       "      <td>0.0</td>\n",
       "      <td>0.0</td>\n",
       "    </tr>\n",
       "    <tr>\n",
       "      <th>mean</th>\n",
       "      <td>326.223755</td>\n",
       "      <td>21.197918</td>\n",
       "      <td>77.464907</td>\n",
       "      <td>NaN</td>\n",
       "      <td>1997.091082</td>\n",
       "      <td>NaN</td>\n",
       "      <td>2019.0</td>\n",
       "      <td>NaN</td>\n",
       "      <td>2431.823590</td>\n",
       "      <td>2428.226946</td>\n",
       "      <td>2467.936859</td>\n",
       "      <td>2547.759305</td>\n",
       "      <td>2600.804099</td>\n",
       "      <td>NaN</td>\n",
       "      <td>NaN</td>\n",
       "    </tr>\n",
       "    <tr>\n",
       "      <th>std</th>\n",
       "      <td>590.085456</td>\n",
       "      <td>6.239612</td>\n",
       "      <td>4.939316</td>\n",
       "      <td>NaN</td>\n",
       "      <td>17.082868</td>\n",
       "      <td>NaN</td>\n",
       "      <td>0.0</td>\n",
       "      <td>NaN</td>\n",
       "      <td>4026.440035</td>\n",
       "      <td>4194.596959</td>\n",
       "      <td>4162.884308</td>\n",
       "      <td>4196.991169</td>\n",
       "      <td>4314.880456</td>\n",
       "      <td>NaN</td>\n",
       "      <td>NaN</td>\n",
       "    </tr>\n",
       "    <tr>\n",
       "      <th>min</th>\n",
       "      <td>0.000000</td>\n",
       "      <td>8.168900</td>\n",
       "      <td>68.644700</td>\n",
       "      <td>NaN</td>\n",
       "      <td>1927.000000</td>\n",
       "      <td>NaN</td>\n",
       "      <td>2019.0</td>\n",
       "      <td>NaN</td>\n",
       "      <td>0.000000</td>\n",
       "      <td>0.000000</td>\n",
       "      <td>0.000000</td>\n",
       "      <td>0.000000</td>\n",
       "      <td>0.000000</td>\n",
       "      <td>NaN</td>\n",
       "      <td>NaN</td>\n",
       "    </tr>\n",
       "    <tr>\n",
       "      <th>25%</th>\n",
       "      <td>16.725000</td>\n",
       "      <td>16.773900</td>\n",
       "      <td>74.256200</td>\n",
       "      <td>NaN</td>\n",
       "      <td>1988.000000</td>\n",
       "      <td>NaN</td>\n",
       "      <td>2019.0</td>\n",
       "      <td>NaN</td>\n",
       "      <td>223.557672</td>\n",
       "      <td>176.381063</td>\n",
       "      <td>188.285252</td>\n",
       "      <td>177.874930</td>\n",
       "      <td>193.378250</td>\n",
       "      <td>NaN</td>\n",
       "      <td>NaN</td>\n",
       "    </tr>\n",
       "    <tr>\n",
       "      <th>50%</th>\n",
       "      <td>59.200000</td>\n",
       "      <td>21.780000</td>\n",
       "      <td>76.719500</td>\n",
       "      <td>NaN</td>\n",
       "      <td>2001.000000</td>\n",
       "      <td>NaN</td>\n",
       "      <td>2019.0</td>\n",
       "      <td>NaN</td>\n",
       "      <td>801.123775</td>\n",
       "      <td>711.181225</td>\n",
       "      <td>737.205450</td>\n",
       "      <td>817.977250</td>\n",
       "      <td>751.644375</td>\n",
       "      <td>NaN</td>\n",
       "      <td>NaN</td>\n",
       "    </tr>\n",
       "    <tr>\n",
       "      <th>75%</th>\n",
       "      <td>385.250000</td>\n",
       "      <td>25.512400</td>\n",
       "      <td>79.440800</td>\n",
       "      <td>NaN</td>\n",
       "      <td>2012.000000</td>\n",
       "      <td>NaN</td>\n",
       "      <td>2019.0</td>\n",
       "      <td>NaN</td>\n",
       "      <td>3035.306250</td>\n",
       "      <td>3084.121250</td>\n",
       "      <td>3282.861313</td>\n",
       "      <td>3275.690475</td>\n",
       "      <td>3143.535900</td>\n",
       "      <td>NaN</td>\n",
       "      <td>NaN</td>\n",
       "    </tr>\n",
       "    <tr>\n",
       "      <th>max</th>\n",
       "      <td>4760.000000</td>\n",
       "      <td>34.649000</td>\n",
       "      <td>95.408000</td>\n",
       "      <td>NaN</td>\n",
       "      <td>2018.000000</td>\n",
       "      <td>NaN</td>\n",
       "      <td>2019.0</td>\n",
       "      <td>NaN</td>\n",
       "      <td>28127.000000</td>\n",
       "      <td>30539.000000</td>\n",
       "      <td>30015.000000</td>\n",
       "      <td>35116.000000</td>\n",
       "      <td>35136.000000</td>\n",
       "      <td>NaN</td>\n",
       "      <td>NaN</td>\n",
       "    </tr>\n",
       "  </tbody>\n",
       "</table>\n",
       "</div>"
      ],
      "text/plain": [
       "       capacity_mw    latitude   longitude  other_fuel3  commissioning_year  \\\n",
       "count   907.000000  861.000000  861.000000          0.0          527.000000   \n",
       "mean    326.223755   21.197918   77.464907          NaN         1997.091082   \n",
       "std     590.085456    6.239612    4.939316          NaN           17.082868   \n",
       "min       0.000000    8.168900   68.644700          NaN         1927.000000   \n",
       "25%      16.725000   16.773900   74.256200          NaN         1988.000000   \n",
       "50%      59.200000   21.780000   76.719500          NaN         2001.000000   \n",
       "75%     385.250000   25.512400   79.440800          NaN         2012.000000   \n",
       "max    4760.000000   34.649000   95.408000          NaN         2018.000000   \n",
       "\n",
       "       wepp_id  year_of_capacity_data  generation_gwh_2013  \\\n",
       "count      0.0                  519.0                  0.0   \n",
       "mean       NaN                 2019.0                  NaN   \n",
       "std        NaN                    0.0                  NaN   \n",
       "min        NaN                 2019.0                  NaN   \n",
       "25%        NaN                 2019.0                  NaN   \n",
       "50%        NaN                 2019.0                  NaN   \n",
       "75%        NaN                 2019.0                  NaN   \n",
       "max        NaN                 2019.0                  NaN   \n",
       "\n",
       "       generation_gwh_2014  generation_gwh_2015  generation_gwh_2016  \\\n",
       "count           398.000000           422.000000           434.000000   \n",
       "mean           2431.823590          2428.226946          2467.936859   \n",
       "std            4026.440035          4194.596959          4162.884308   \n",
       "min               0.000000             0.000000             0.000000   \n",
       "25%             223.557672           176.381063           188.285252   \n",
       "50%             801.123775           711.181225           737.205450   \n",
       "75%            3035.306250          3084.121250          3282.861313   \n",
       "max           28127.000000         30539.000000         30015.000000   \n",
       "\n",
       "       generation_gwh_2017  generation_gwh_2018  generation_gwh_2019  \\\n",
       "count           440.000000           448.000000                  0.0   \n",
       "mean           2547.759305          2600.804099                  NaN   \n",
       "std            4196.991169          4314.880456                  NaN   \n",
       "min               0.000000             0.000000                  NaN   \n",
       "25%             177.874930           193.378250                  NaN   \n",
       "50%             817.977250           751.644375                  NaN   \n",
       "75%            3275.690475          3143.535900                  NaN   \n",
       "max           35116.000000         35136.000000                  NaN   \n",
       "\n",
       "       estimated_generation_gwh  \n",
       "count                       0.0  \n",
       "mean                        NaN  \n",
       "std                         NaN  \n",
       "min                         NaN  \n",
       "25%                         NaN  \n",
       "50%                         NaN  \n",
       "75%                         NaN  \n",
       "max                         NaN  "
      ]
     },
     "execution_count": 7,
     "metadata": {},
     "output_type": "execute_result"
    }
   ],
   "source": [
    "df.describe()"
   ]
  },
  {
   "cell_type": "code",
   "execution_count": 8,
   "id": "975485a6",
   "metadata": {},
   "outputs": [
    {
     "name": "stdout",
     "output_type": "stream",
     "text": [
      "<class 'pandas.core.frame.DataFrame'>\n",
      "RangeIndex: 907 entries, 0 to 906\n",
      "Data columns (total 27 columns):\n",
      " #   Column                    Non-Null Count  Dtype  \n",
      "---  ------                    --------------  -----  \n",
      " 0   country                   907 non-null    object \n",
      " 1   country_long              907 non-null    object \n",
      " 2   name                      907 non-null    object \n",
      " 3   gppd_idnr                 907 non-null    object \n",
      " 4   capacity_mw               907 non-null    float64\n",
      " 5   latitude                  861 non-null    float64\n",
      " 6   longitude                 861 non-null    float64\n",
      " 7   primary_fuel              907 non-null    object \n",
      " 8   other_fuel1               198 non-null    object \n",
      " 9   other_fuel2               1 non-null      object \n",
      " 10  other_fuel3               0 non-null      float64\n",
      " 11  commissioning_year        527 non-null    float64\n",
      " 12  owner                     342 non-null    object \n",
      " 13  source                    907 non-null    object \n",
      " 14  url                       907 non-null    object \n",
      " 15  geolocation_source        888 non-null    object \n",
      " 16  wepp_id                   0 non-null      float64\n",
      " 17  year_of_capacity_data     519 non-null    float64\n",
      " 18  generation_gwh_2013       0 non-null      float64\n",
      " 19  generation_gwh_2014       398 non-null    float64\n",
      " 20  generation_gwh_2015       422 non-null    float64\n",
      " 21  generation_gwh_2016       434 non-null    float64\n",
      " 22  generation_gwh_2017       440 non-null    float64\n",
      " 23  generation_gwh_2018       448 non-null    float64\n",
      " 24  generation_gwh_2019       0 non-null      float64\n",
      " 25  generation_data_source    449 non-null    object \n",
      " 26  estimated_generation_gwh  0 non-null      float64\n",
      "dtypes: float64(15), object(12)\n",
      "memory usage: 191.4+ KB\n"
     ]
    }
   ],
   "source": [
    "df.info()"
   ]
  },
  {
   "cell_type": "markdown",
   "id": "90f96c0f",
   "metadata": {},
   "source": [
    "Observation : Here we can see we have multiple object columns \n",
    "    \n",
    "    1. we can see the some columns are having distinct values company name and having unique 'gppd_idnr' column so the column can be drop also we can see \"url\" column is also having unique value as per Company hence we will drop this as well\n",
    "    \n",
    "    2.Country and Country_long col is having only one unique value which is not participating much to predict data hence we can drop those col as well\n",
    "    \n",
    "    3.'other_fuel2' and 'other_fuel3' are columns almost having Null value hence it will not contribute much to predict output hence we will check distinct value and will drop column if needed.\n",
    "    \n",
    "    4.generation_gwh_2013,wepp_id,generation_gwh_2019,estimated_generation_gwh is having only NaN value hence we can drop ths columns as well.\n",
    "    \n"
   ]
  },
  {
   "cell_type": "code",
   "execution_count": 25,
   "id": "4209c0d7",
   "metadata": {},
   "outputs": [
    {
     "data": {
      "text/plain": [
       "(907, 27)"
      ]
     },
     "execution_count": 25,
     "metadata": {},
     "output_type": "execute_result"
    }
   ],
   "source": [
    "#checking shape of the dataset\n",
    "df.shape"
   ]
  },
  {
   "cell_type": "code",
   "execution_count": 26,
   "id": "86d39047",
   "metadata": {},
   "outputs": [
    {
     "data": {
      "text/plain": [
       "name                        907\n",
       "gppd_idnr                   907\n",
       "latitude                    836\n",
       "longitude                   827\n",
       "generation_gwh_2018         410\n",
       "generation_gwh_2017         408\n",
       "generation_gwh_2016         403\n",
       "generation_gwh_2015         396\n",
       "generation_gwh_2014         371\n",
       "capacity_mw                 361\n",
       "url                         304\n",
       "owner                       280\n",
       "source                      191\n",
       "commissioning_year           73\n",
       "primary_fuel                  8\n",
       "other_fuel1                   3\n",
       "geolocation_source            3\n",
       "generation_data_source        1\n",
       "country                       1\n",
       "year_of_capacity_data         1\n",
       "country_long                  1\n",
       "other_fuel2                   1\n",
       "generation_gwh_2013           0\n",
       "wepp_id                       0\n",
       "other_fuel3                   0\n",
       "generation_gwh_2019           0\n",
       "estimated_generation_gwh      0\n",
       "dtype: int64"
      ]
     },
     "execution_count": 26,
     "metadata": {},
     "output_type": "execute_result"
    }
   ],
   "source": [
    "#checking unique values\n",
    "df.nunique().sort_values(ascending=False)"
   ]
  },
  {
   "cell_type": "code",
   "execution_count": 23,
   "id": "0762317b",
   "metadata": {},
   "outputs": [
    {
     "name": "stdout",
     "output_type": "stream",
     "text": [
      "country: ['IND']\n",
      "generation_gwh_2013: [nan]\n",
      "wepp_id: [nan]\n",
      "other_fuel3: [nan]\n",
      "generation_gwh_2019: [nan]\n",
      "estimated_generation_gwh: [nan]\n"
     ]
    }
   ],
   "source": [
    "print('country:',df.country.unique())\n",
    "print('generation_gwh_2013:',df.generation_gwh_2013.unique())\n",
    "print('wepp_id:',df.wepp_id.unique())\n",
    "print('other_fuel3:',df.other_fuel3.unique())\n",
    "print('generation_gwh_2019:',df.generation_gwh_2019.unique())\n",
    "print('estimated_generation_gwh:',df.estimated_generation_gwh.unique())"
   ]
  },
  {
   "cell_type": "code",
   "execution_count": 16,
   "id": "d401f6a7",
   "metadata": {},
   "outputs": [
    {
     "name": "stdout",
     "output_type": "stream",
     "text": [
      "IND    907\n",
      "Name: country, dtype: int64\n"
     ]
    },
    {
     "data": {
      "image/png": "[encoded data removed]",
      "text/plain": [
       "<Figure size 432x288 with 1 Axes>"
      ]
     },
     "metadata": {
      "needs_background": "light"
     },
     "output_type": "display_data"
    }
   ],
   "source": [
    "import seaborn as sns\n",
    "ax=sns.countplot(x=\"country\",data=df)\n",
    "print(df[\"country\"].value_counts())"
   ]
  },
  {
   "cell_type": "markdown",
   "id": "973244b4",
   "metadata": {},
   "source": [
    "Only One value present so we will drop this column"
   ]
  },
  {
   "cell_type": "code",
   "execution_count": 17,
   "id": "9d982393",
   "metadata": {},
   "outputs": [
    {
     "name": "stdout",
     "output_type": "stream",
     "text": [
      "Central Electricity Authority    449\n",
      "Name: generation_data_source, dtype: int64\n"
     ]
    },
    {
     "data": {
      "image/png": "[encoded data removed]",
      "text/plain": [
       "<Figure size 432x288 with 1 Axes>"
      ]
     },
     "metadata": {
      "needs_background": "light"
     },
     "output_type": "display_data"
    }
   ],
   "source": [
    "import seaborn as sns\n",
    "ax=sns.countplot(x=\"generation_data_source\",data=df)\n",
    "print(df[\"generation_data_source\"].value_counts())"
   ]
  },
  {
   "cell_type": "markdown",
   "id": "64f07249",
   "metadata": {},
   "source": [
    "Observation: \"generation_data_source\" having one Data with Count 449 rest Data is NaN hence we will not Drop this column"
   ]
  },
  {
   "cell_type": "code",
   "execution_count": 20,
   "id": "736e7ad0",
   "metadata": {},
   "outputs": [
    {
     "name": "stdout",
     "output_type": "stream",
     "text": [
      "Oil    1\n",
      "Name: other_fuel2, dtype: int64\n"
     ]
    },
    {
     "data": {
      "image/png": "[encoded data removed]",
      "text/plain": [
       "<Figure size 432x288 with 1 Axes>"
      ]
     },
     "metadata": {
      "needs_background": "light"
     },
     "output_type": "display_data"
    }
   ],
   "source": [
    "import seaborn as sns\n",
    "ax=sns.countplot(x=\"other_fuel2\",data=df)\n",
    "print(df[\"other_fuel2\"].value_counts())"
   ]
  },
  {
   "cell_type": "markdown",
   "id": "b21fcec5",
   "metadata": {},
   "source": [
    "Observation: \"other_fuel2\" having one Data with Count 1 rest Data is NaN hence we will  Drop this column"
   ]
  },
  {
   "cell_type": "code",
   "execution_count": 18,
   "id": "3d3a3f9f",
   "metadata": {},
   "outputs": [
    {
     "name": "stdout",
     "output_type": "stream",
     "text": [
      "2019.0    519\n",
      "Name: year_of_capacity_data, dtype: int64\n"
     ]
    },
    {
     "data": {
      "image/png": "[encoded data removed]",
      "text/plain": [
       "<Figure size 432x288 with 1 Axes>"
      ]
     },
     "metadata": {
      "needs_background": "light"
     },
     "output_type": "display_data"
    }
   ],
   "source": [
    "import seaborn as sns\n",
    "ax=sns.countplot(x=\"year_of_capacity_data\",data=df)\n",
    "print(df[\"year_of_capacity_data\"].value_counts())"
   ]
  },
  {
   "cell_type": "markdown",
   "id": "edc924a0",
   "metadata": {},
   "source": [
    "Observation: \"year_of_capacity_data\" having one Data with Count 519 rest Data is NaN hence we will not Drop this column"
   ]
  },
  {
   "cell_type": "markdown",
   "id": "15b8375c",
   "metadata": {},
   "source": [
    "# Removing Column which are not required"
   ]
  },
  {
   "cell_type": "code",
   "execution_count": 29,
   "id": "c524f2ed",
   "metadata": {},
   "outputs": [],
   "source": [
    "df.drop(columns=['country','country_long','name','gppd_idnr','other_fuel2','other_fuel3','source','url','wepp_id','year_of_capacity_data','generation_gwh_2013','generation_gwh_2019','estimated_generation_gwh',\n",
    "],inplace=True)"
   ]
  },
  {
   "cell_type": "code",
   "execution_count": 43,
   "id": "1bbdf894",
   "metadata": {},
   "outputs": [
    {
     "name": "stdout",
     "output_type": "stream",
     "text": [
      "<class 'pandas.core.frame.DataFrame'>\n",
      "RangeIndex: 907 entries, 0 to 906\n",
      "Data columns (total 14 columns):\n",
      " #   Column                  Non-Null Count  Dtype  \n",
      "---  ------                  --------------  -----  \n",
      " 0   capacity_mw             907 non-null    float64\n",
      " 1   latitude                861 non-null    float64\n",
      " 2   longitude               861 non-null    float64\n",
      " 3   primary_fuel            907 non-null    object \n",
      " 4   other_fuel1             198 non-null    object \n",
      " 5   commissioning_year      527 non-null    float64\n",
      " 6   owner                   342 non-null    object \n",
      " 7   geolocation_source      888 non-null    object \n",
      " 8   generation_gwh_2014     398 non-null    float64\n",
      " 9   generation_gwh_2015     422 non-null    float64\n",
      " 10  generation_gwh_2016     434 non-null    float64\n",
      " 11  generation_gwh_2017     440 non-null    float64\n",
      " 12  generation_gwh_2018     448 non-null    float64\n",
      " 13  generation_data_source  449 non-null    object \n",
      "dtypes: float64(9), object(5)\n",
      "memory usage: 99.3+ KB\n"
     ]
    }
   ],
   "source": [
    "#checking dtype of columns \n",
    "df.info()"
   ]
  },
  {
   "cell_type": "markdown",
   "id": "c9b422f4",
   "metadata": {},
   "source": [
    "# checking null values "
   ]
  },
  {
   "cell_type": "code",
   "execution_count": 39,
   "id": "c716737e",
   "metadata": {},
   "outputs": [
    {
     "data": {
      "text/html": [
       "<div>\n",
       "<style scoped>\n",
       "    .dataframe tbody tr th:only-of-type {\n",
       "        vertical-align: middle;\n",
       "    }\n",
       "\n",
       "    .dataframe tbody tr th {\n",
       "        vertical-align: top;\n",
       "    }\n",
       "\n",
       "    .dataframe thead th {\n",
       "        text-align: right;\n",
       "    }\n",
       "</style>\n",
       "<table border=\"1\" class=\"dataframe\">\n",
       "  <thead>\n",
       "    <tr style=\"text-align: right;\">\n",
       "      <th></th>\n",
       "      <th>capacity_mw</th>\n",
       "      <th>latitude</th>\n",
       "      <th>longitude</th>\n",
       "      <th>primary_fuel</th>\n",
       "      <th>other_fuel1</th>\n",
       "      <th>commissioning_year</th>\n",
       "      <th>owner</th>\n",
       "      <th>geolocation_source</th>\n",
       "      <th>generation_gwh_2014</th>\n",
       "      <th>generation_gwh_2015</th>\n",
       "      <th>generation_gwh_2016</th>\n",
       "      <th>generation_gwh_2017</th>\n",
       "      <th>generation_gwh_2018</th>\n",
       "      <th>generation_data_source</th>\n",
       "    </tr>\n",
       "  </thead>\n",
       "  <tbody>\n",
       "    <tr>\n",
       "      <th>0</th>\n",
       "      <td>False</td>\n",
       "      <td>False</td>\n",
       "      <td>False</td>\n",
       "      <td>False</td>\n",
       "      <td>True</td>\n",
       "      <td>False</td>\n",
       "      <td>False</td>\n",
       "      <td>False</td>\n",
       "      <td>True</td>\n",
       "      <td>True</td>\n",
       "      <td>True</td>\n",
       "      <td>True</td>\n",
       "      <td>True</td>\n",
       "      <td>True</td>\n",
       "    </tr>\n",
       "    <tr>\n",
       "      <th>1</th>\n",
       "      <td>False</td>\n",
       "      <td>False</td>\n",
       "      <td>False</td>\n",
       "      <td>False</td>\n",
       "      <td>True</td>\n",
       "      <td>True</td>\n",
       "      <td>False</td>\n",
       "      <td>False</td>\n",
       "      <td>True</td>\n",
       "      <td>True</td>\n",
       "      <td>True</td>\n",
       "      <td>True</td>\n",
       "      <td>True</td>\n",
       "      <td>True</td>\n",
       "    </tr>\n",
       "    <tr>\n",
       "      <th>2</th>\n",
       "      <td>False</td>\n",
       "      <td>False</td>\n",
       "      <td>False</td>\n",
       "      <td>False</td>\n",
       "      <td>True</td>\n",
       "      <td>True</td>\n",
       "      <td>False</td>\n",
       "      <td>False</td>\n",
       "      <td>True</td>\n",
       "      <td>True</td>\n",
       "      <td>True</td>\n",
       "      <td>True</td>\n",
       "      <td>True</td>\n",
       "      <td>True</td>\n",
       "    </tr>\n",
       "    <tr>\n",
       "      <th>3</th>\n",
       "      <td>False</td>\n",
       "      <td>False</td>\n",
       "      <td>False</td>\n",
       "      <td>False</td>\n",
       "      <td>True</td>\n",
       "      <td>False</td>\n",
       "      <td>True</td>\n",
       "      <td>False</td>\n",
       "      <td>False</td>\n",
       "      <td>False</td>\n",
       "      <td>False</td>\n",
       "      <td>False</td>\n",
       "      <td>False</td>\n",
       "      <td>False</td>\n",
       "    </tr>\n",
       "    <tr>\n",
       "      <th>4</th>\n",
       "      <td>False</td>\n",
       "      <td>False</td>\n",
       "      <td>False</td>\n",
       "      <td>False</td>\n",
       "      <td>False</td>\n",
       "      <td>False</td>\n",
       "      <td>True</td>\n",
       "      <td>False</td>\n",
       "      <td>False</td>\n",
       "      <td>False</td>\n",
       "      <td>False</td>\n",
       "      <td>False</td>\n",
       "      <td>False</td>\n",
       "      <td>False</td>\n",
       "    </tr>\n",
       "    <tr>\n",
       "      <th>...</th>\n",
       "      <td>...</td>\n",
       "      <td>...</td>\n",
       "      <td>...</td>\n",
       "      <td>...</td>\n",
       "      <td>...</td>\n",
       "      <td>...</td>\n",
       "      <td>...</td>\n",
       "      <td>...</td>\n",
       "      <td>...</td>\n",
       "      <td>...</td>\n",
       "      <td>...</td>\n",
       "      <td>...</td>\n",
       "      <td>...</td>\n",
       "      <td>...</td>\n",
       "    </tr>\n",
       "    <tr>\n",
       "      <th>902</th>\n",
       "      <td>False</td>\n",
       "      <td>False</td>\n",
       "      <td>False</td>\n",
       "      <td>False</td>\n",
       "      <td>False</td>\n",
       "      <td>False</td>\n",
       "      <td>True</td>\n",
       "      <td>False</td>\n",
       "      <td>True</td>\n",
       "      <td>False</td>\n",
       "      <td>False</td>\n",
       "      <td>False</td>\n",
       "      <td>False</td>\n",
       "      <td>False</td>\n",
       "    </tr>\n",
       "    <tr>\n",
       "      <th>903</th>\n",
       "      <td>False</td>\n",
       "      <td>False</td>\n",
       "      <td>False</td>\n",
       "      <td>False</td>\n",
       "      <td>True</td>\n",
       "      <td>True</td>\n",
       "      <td>False</td>\n",
       "      <td>False</td>\n",
       "      <td>True</td>\n",
       "      <td>True</td>\n",
       "      <td>True</td>\n",
       "      <td>True</td>\n",
       "      <td>True</td>\n",
       "      <td>True</td>\n",
       "    </tr>\n",
       "    <tr>\n",
       "      <th>904</th>\n",
       "      <td>False</td>\n",
       "      <td>False</td>\n",
       "      <td>False</td>\n",
       "      <td>False</td>\n",
       "      <td>True</td>\n",
       "      <td>True</td>\n",
       "      <td>True</td>\n",
       "      <td>False</td>\n",
       "      <td>True</td>\n",
       "      <td>True</td>\n",
       "      <td>True</td>\n",
       "      <td>True</td>\n",
       "      <td>True</td>\n",
       "      <td>True</td>\n",
       "    </tr>\n",
       "    <tr>\n",
       "      <th>905</th>\n",
       "      <td>False</td>\n",
       "      <td>False</td>\n",
       "      <td>False</td>\n",
       "      <td>False</td>\n",
       "      <td>True</td>\n",
       "      <td>True</td>\n",
       "      <td>False</td>\n",
       "      <td>False</td>\n",
       "      <td>True</td>\n",
       "      <td>True</td>\n",
       "      <td>True</td>\n",
       "      <td>True</td>\n",
       "      <td>True</td>\n",
       "      <td>True</td>\n",
       "    </tr>\n",
       "    <tr>\n",
       "      <th>906</th>\n",
       "      <td>False</td>\n",
       "      <td>False</td>\n",
       "      <td>False</td>\n",
       "      <td>False</td>\n",
       "      <td>True</td>\n",
       "      <td>True</td>\n",
       "      <td>False</td>\n",
       "      <td>False</td>\n",
       "      <td>True</td>\n",
       "      <td>True</td>\n",
       "      <td>True</td>\n",
       "      <td>True</td>\n",
       "      <td>True</td>\n",
       "      <td>True</td>\n",
       "    </tr>\n",
       "  </tbody>\n",
       "</table>\n",
       "<p>907 rows × 14 columns</p>\n",
       "</div>"
      ],
      "text/plain": [
       "     capacity_mw  latitude  longitude  primary_fuel  other_fuel1  \\\n",
       "0          False     False      False         False         True   \n",
       "1          False     False      False         False         True   \n",
       "2          False     False      False         False         True   \n",
       "3          False     False      False         False         True   \n",
       "4          False     False      False         False        False   \n",
       "..           ...       ...        ...           ...          ...   \n",
       "902        False     False      False         False        False   \n",
       "903        False     False      False         False         True   \n",
       "904        False     False      False         False         True   \n",
       "905        False     False      False         False         True   \n",
       "906        False     False      False         False         True   \n",
       "\n",
       "     commissioning_year  owner  geolocation_source  generation_gwh_2014  \\\n",
       "0                 False  False               False                 True   \n",
       "1                  True  False               False                 True   \n",
       "2                  True  False               False                 True   \n",
       "3                 False   True               False                False   \n",
       "4                 False   True               False                False   \n",
       "..                  ...    ...                 ...                  ...   \n",
       "902               False   True               False                 True   \n",
       "903                True  False               False                 True   \n",
       "904                True   True               False                 True   \n",
       "905                True  False               False                 True   \n",
       "906                True  False               False                 True   \n",
       "\n",
       "     generation_gwh_2015  generation_gwh_2016  generation_gwh_2017  \\\n",
       "0                   True                 True                 True   \n",
       "1                   True                 True                 True   \n",
       "2                   True                 True                 True   \n",
       "3                  False                False                False   \n",
       "4                  False                False                False   \n",
       "..                   ...                  ...                  ...   \n",
       "902                False                False                False   \n",
       "903                 True                 True                 True   \n",
       "904                 True                 True                 True   \n",
       "905                 True                 True                 True   \n",
       "906                 True                 True                 True   \n",
       "\n",
       "     generation_gwh_2018  generation_data_source  \n",
       "0                   True                    True  \n",
       "1                   True                    True  \n",
       "2                   True                    True  \n",
       "3                  False                   False  \n",
       "4                  False                   False  \n",
       "..                   ...                     ...  \n",
       "902                False                   False  \n",
       "903                 True                    True  \n",
       "904                 True                    True  \n",
       "905                 True                    True  \n",
       "906                 True                    True  \n",
       "\n",
       "[907 rows x 14 columns]"
      ]
     },
     "execution_count": 39,
     "metadata": {},
     "output_type": "execute_result"
    }
   ],
   "source": [
    "df.isnull()"
   ]
  },
  {
   "cell_type": "code",
   "execution_count": 42,
   "id": "26dc111c",
   "metadata": {},
   "outputs": [
    {
     "data": {
      "text/plain": [
       "other_fuel1               709\n",
       "owner                     565\n",
       "generation_gwh_2014       509\n",
       "generation_gwh_2015       485\n",
       "generation_gwh_2016       473\n",
       "generation_gwh_2017       467\n",
       "generation_gwh_2018       459\n",
       "generation_data_source    458\n",
       "commissioning_year        380\n",
       "latitude                   46\n",
       "longitude                  46\n",
       "geolocation_source         19\n",
       "capacity_mw                 0\n",
       "primary_fuel                0\n",
       "dtype: int64"
      ]
     },
     "execution_count": 42,
     "metadata": {},
     "output_type": "execute_result"
    }
   ],
   "source": [
    "df.isnull().sum().sort_values(ascending=False)"
   ]
  },
  {
   "cell_type": "markdown",
   "id": "9e5e0519",
   "metadata": {},
   "source": [
    "Here we can see now some of the columns present Null values. Will check using Heatmap Graph"
   ]
  },
  {
   "cell_type": "code",
   "execution_count": 44,
   "id": "4837c3b5",
   "metadata": {},
   "outputs": [
    {
     "data": {
      "text/plain": [
       "<AxesSubplot:>"
      ]
     },
     "execution_count": 44,
     "metadata": {},
     "output_type": "execute_result"
    },
    {
     "data": {
      "image/png": "[encoded data removed]",
      "text/plain": [
       "<Figure size 432x288 with 2 Axes>"
      ]
     },
     "metadata": {
      "needs_background": "light"
     },
     "output_type": "display_data"
    }
   ],
   "source": [
    "sns.heatmap(df.isnull())"
   ]
  },
  {
   "cell_type": "code",
   "execution_count": 45,
   "id": "7b629b04",
   "metadata": {},
   "outputs": [
    {
     "data": {
      "text/plain": [
       "primary_fuel\n",
       "Biomass     50\n",
       "Coal       258\n",
       "Gas         69\n",
       "Hydro      251\n",
       "Nuclear      9\n",
       "Oil         20\n",
       "Solar      127\n",
       "Wind       123\n",
       "dtype: int64"
      ]
     },
     "execution_count": 45,
     "metadata": {},
     "output_type": "execute_result"
    }
   ],
   "source": [
    "df.groupby(['primary_fuel']).size()"
   ]
  },
  {
   "cell_type": "code",
   "execution_count": 46,
   "id": "85536fbb",
   "metadata": {},
   "outputs": [
    {
     "data": {
      "text/plain": [
       "capacity_mw\n",
       "0.0        1\n",
       "1.0       18\n",
       "1.5        3\n",
       "1.7        2\n",
       "1.8        1\n",
       "          ..\n",
       "3300.0     1\n",
       "3960.0     1\n",
       "4000.0     1\n",
       "4620.0     1\n",
       "4760.0     1\n",
       "Length: 361, dtype: int64"
      ]
     },
     "execution_count": 46,
     "metadata": {},
     "output_type": "execute_result"
    }
   ],
   "source": [
    "df.groupby(['capacity_mw']).size()"
   ]
  },
  {
   "cell_type": "code",
   "execution_count": 53,
   "id": "1a2bf6f3",
   "metadata": {},
   "outputs": [
    {
     "data": {
      "text/html": [
       "<div>\n",
       "<style scoped>\n",
       "    .dataframe tbody tr th:only-of-type {\n",
       "        vertical-align: middle;\n",
       "    }\n",
       "\n",
       "    .dataframe tbody tr th {\n",
       "        vertical-align: top;\n",
       "    }\n",
       "\n",
       "    .dataframe thead th {\n",
       "        text-align: right;\n",
       "    }\n",
       "</style>\n",
       "<table border=\"1\" class=\"dataframe\">\n",
       "  <thead>\n",
       "    <tr style=\"text-align: right;\">\n",
       "      <th></th>\n",
       "      <th>capacity_mw</th>\n",
       "      <th>latitude</th>\n",
       "      <th>longitude</th>\n",
       "      <th>primary_fuel</th>\n",
       "      <th>other_fuel1</th>\n",
       "      <th>commissioning_year</th>\n",
       "      <th>owner</th>\n",
       "      <th>geolocation_source</th>\n",
       "      <th>generation_gwh_2014</th>\n",
       "      <th>generation_gwh_2015</th>\n",
       "      <th>generation_gwh_2016</th>\n",
       "      <th>generation_gwh_2017</th>\n",
       "      <th>generation_gwh_2018</th>\n",
       "      <th>generation_data_source</th>\n",
       "    </tr>\n",
       "  </thead>\n",
       "  <tbody>\n",
       "    <tr>\n",
       "      <th>0</th>\n",
       "      <td>2.5</td>\n",
       "      <td>28.1839</td>\n",
       "      <td>73.2407</td>\n",
       "      <td>6</td>\n",
       "      <td>3</td>\n",
       "      <td>2011.0</td>\n",
       "      <td>229</td>\n",
       "      <td>1</td>\n",
       "      <td>NaN</td>\n",
       "      <td>NaN</td>\n",
       "      <td>NaN</td>\n",
       "      <td>NaN</td>\n",
       "      <td>NaN</td>\n",
       "      <td>1</td>\n",
       "    </tr>\n",
       "    <tr>\n",
       "      <th>1</th>\n",
       "      <td>98.0</td>\n",
       "      <td>24.7663</td>\n",
       "      <td>74.6090</td>\n",
       "      <td>1</td>\n",
       "      <td>3</td>\n",
       "      <td>NaN</td>\n",
       "      <td>258</td>\n",
       "      <td>2</td>\n",
       "      <td>NaN</td>\n",
       "      <td>NaN</td>\n",
       "      <td>NaN</td>\n",
       "      <td>NaN</td>\n",
       "      <td>NaN</td>\n",
       "      <td>1</td>\n",
       "    </tr>\n",
       "    <tr>\n",
       "      <th>2</th>\n",
       "      <td>39.2</td>\n",
       "      <td>21.9038</td>\n",
       "      <td>69.3732</td>\n",
       "      <td>7</td>\n",
       "      <td>3</td>\n",
       "      <td>NaN</td>\n",
       "      <td>2</td>\n",
       "      <td>2</td>\n",
       "      <td>NaN</td>\n",
       "      <td>NaN</td>\n",
       "      <td>NaN</td>\n",
       "      <td>NaN</td>\n",
       "      <td>NaN</td>\n",
       "      <td>1</td>\n",
       "    </tr>\n",
       "    <tr>\n",
       "      <th>3</th>\n",
       "      <td>135.0</td>\n",
       "      <td>23.8712</td>\n",
       "      <td>91.3602</td>\n",
       "      <td>2</td>\n",
       "      <td>3</td>\n",
       "      <td>2004.0</td>\n",
       "      <td>280</td>\n",
       "      <td>2</td>\n",
       "      <td>617.789264</td>\n",
       "      <td>843.747</td>\n",
       "      <td>886.004428</td>\n",
       "      <td>663.774500</td>\n",
       "      <td>626.239128</td>\n",
       "      <td>0</td>\n",
       "    </tr>\n",
       "    <tr>\n",
       "      <th>4</th>\n",
       "      <td>1800.0</td>\n",
       "      <td>21.9603</td>\n",
       "      <td>82.4091</td>\n",
       "      <td>1</td>\n",
       "      <td>2</td>\n",
       "      <td>2015.0</td>\n",
       "      <td>280</td>\n",
       "      <td>2</td>\n",
       "      <td>3035.550000</td>\n",
       "      <td>5916.370</td>\n",
       "      <td>6243.000000</td>\n",
       "      <td>5385.579736</td>\n",
       "      <td>7279.000000</td>\n",
       "      <td>0</td>\n",
       "    </tr>\n",
       "  </tbody>\n",
       "</table>\n",
       "</div>"
      ],
      "text/plain": [
       "   capacity_mw  latitude  longitude  primary_fuel  other_fuel1  \\\n",
       "0          2.5   28.1839    73.2407             6            3   \n",
       "1         98.0   24.7663    74.6090             1            3   \n",
       "2         39.2   21.9038    69.3732             7            3   \n",
       "3        135.0   23.8712    91.3602             2            3   \n",
       "4       1800.0   21.9603    82.4091             1            2   \n",
       "\n",
       "   commissioning_year  owner  geolocation_source  generation_gwh_2014  \\\n",
       "0              2011.0    229                   1                  NaN   \n",
       "1                 NaN    258                   2                  NaN   \n",
       "2                 NaN      2                   2                  NaN   \n",
       "3              2004.0    280                   2           617.789264   \n",
       "4              2015.0    280                   2          3035.550000   \n",
       "\n",
       "   generation_gwh_2015  generation_gwh_2016  generation_gwh_2017  \\\n",
       "0                  NaN                  NaN                  NaN   \n",
       "1                  NaN                  NaN                  NaN   \n",
       "2                  NaN                  NaN                  NaN   \n",
       "3              843.747           886.004428           663.774500   \n",
       "4             5916.370          6243.000000          5385.579736   \n",
       "\n",
       "   generation_gwh_2018  generation_data_source  \n",
       "0                  NaN                       1  \n",
       "1                  NaN                       1  \n",
       "2                  NaN                       1  \n",
       "3           626.239128                       0  \n",
       "4          7279.000000                       0  "
      ]
     },
     "execution_count": 53,
     "metadata": {},
     "output_type": "execute_result"
    }
   ],
   "source": [
    "df1=df\n",
    "df1.head() #to avoid confusion"
   ]
  },
  {
   "cell_type": "markdown",
   "id": "a65fd3d4",
   "metadata": {},
   "source": [
    "# Using label Encoder technique To convert Object COlumns in Numeric"
   ]
  },
  {
   "cell_type": "code",
   "execution_count": 49,
   "id": "5f98274e",
   "metadata": {},
   "outputs": [],
   "source": [
    "from sklearn.preprocessing import LabelEncoder"
   ]
  },
  {
   "cell_type": "code",
   "execution_count": 50,
   "id": "9a2a5b80",
   "metadata": {},
   "outputs": [],
   "source": [
    "#by using for loop here we encoded the object columns\n",
    "for col in df1:\n",
    "    if df1[col].dtype==np.number:\n",
    "        continue\n",
    "    df1[col]=LabelEncoder().fit_transform(df1[col])"
   ]
  },
  {
   "cell_type": "code",
   "execution_count": 51,
   "id": "fa2316d3",
   "metadata": {},
   "outputs": [
    {
     "data": {
      "text/html": [
       "<div>\n",
       "<style scoped>\n",
       "    .dataframe tbody tr th:only-of-type {\n",
       "        vertical-align: middle;\n",
       "    }\n",
       "\n",
       "    .dataframe tbody tr th {\n",
       "        vertical-align: top;\n",
       "    }\n",
       "\n",
       "    .dataframe thead th {\n",
       "        text-align: right;\n",
       "    }\n",
       "</style>\n",
       "<table border=\"1\" class=\"dataframe\">\n",
       "  <thead>\n",
       "    <tr style=\"text-align: right;\">\n",
       "      <th></th>\n",
       "      <th>capacity_mw</th>\n",
       "      <th>latitude</th>\n",
       "      <th>longitude</th>\n",
       "      <th>primary_fuel</th>\n",
       "      <th>other_fuel1</th>\n",
       "      <th>commissioning_year</th>\n",
       "      <th>owner</th>\n",
       "      <th>geolocation_source</th>\n",
       "      <th>generation_gwh_2014</th>\n",
       "      <th>generation_gwh_2015</th>\n",
       "      <th>generation_gwh_2016</th>\n",
       "      <th>generation_gwh_2017</th>\n",
       "      <th>generation_gwh_2018</th>\n",
       "      <th>generation_data_source</th>\n",
       "    </tr>\n",
       "  </thead>\n",
       "  <tbody>\n",
       "    <tr>\n",
       "      <th>0</th>\n",
       "      <td>2.5</td>\n",
       "      <td>28.1839</td>\n",
       "      <td>73.2407</td>\n",
       "      <td>6</td>\n",
       "      <td>3</td>\n",
       "      <td>2011.0</td>\n",
       "      <td>229</td>\n",
       "      <td>1</td>\n",
       "      <td>NaN</td>\n",
       "      <td>NaN</td>\n",
       "      <td>NaN</td>\n",
       "      <td>NaN</td>\n",
       "      <td>NaN</td>\n",
       "      <td>1</td>\n",
       "    </tr>\n",
       "    <tr>\n",
       "      <th>1</th>\n",
       "      <td>98.0</td>\n",
       "      <td>24.7663</td>\n",
       "      <td>74.6090</td>\n",
       "      <td>1</td>\n",
       "      <td>3</td>\n",
       "      <td>NaN</td>\n",
       "      <td>258</td>\n",
       "      <td>2</td>\n",
       "      <td>NaN</td>\n",
       "      <td>NaN</td>\n",
       "      <td>NaN</td>\n",
       "      <td>NaN</td>\n",
       "      <td>NaN</td>\n",
       "      <td>1</td>\n",
       "    </tr>\n",
       "    <tr>\n",
       "      <th>2</th>\n",
       "      <td>39.2</td>\n",
       "      <td>21.9038</td>\n",
       "      <td>69.3732</td>\n",
       "      <td>7</td>\n",
       "      <td>3</td>\n",
       "      <td>NaN</td>\n",
       "      <td>2</td>\n",
       "      <td>2</td>\n",
       "      <td>NaN</td>\n",
       "      <td>NaN</td>\n",
       "      <td>NaN</td>\n",
       "      <td>NaN</td>\n",
       "      <td>NaN</td>\n",
       "      <td>1</td>\n",
       "    </tr>\n",
       "    <tr>\n",
       "      <th>3</th>\n",
       "      <td>135.0</td>\n",
       "      <td>23.8712</td>\n",
       "      <td>91.3602</td>\n",
       "      <td>2</td>\n",
       "      <td>3</td>\n",
       "      <td>2004.0</td>\n",
       "      <td>280</td>\n",
       "      <td>2</td>\n",
       "      <td>617.789264</td>\n",
       "      <td>843.747000</td>\n",
       "      <td>886.004428</td>\n",
       "      <td>663.774500</td>\n",
       "      <td>626.239128</td>\n",
       "      <td>0</td>\n",
       "    </tr>\n",
       "    <tr>\n",
       "      <th>4</th>\n",
       "      <td>1800.0</td>\n",
       "      <td>21.9603</td>\n",
       "      <td>82.4091</td>\n",
       "      <td>1</td>\n",
       "      <td>2</td>\n",
       "      <td>2015.0</td>\n",
       "      <td>280</td>\n",
       "      <td>2</td>\n",
       "      <td>3035.550000</td>\n",
       "      <td>5916.370000</td>\n",
       "      <td>6243.000000</td>\n",
       "      <td>5385.579736</td>\n",
       "      <td>7279.000000</td>\n",
       "      <td>0</td>\n",
       "    </tr>\n",
       "    <tr>\n",
       "      <th>...</th>\n",
       "      <td>...</td>\n",
       "      <td>...</td>\n",
       "      <td>...</td>\n",
       "      <td>...</td>\n",
       "      <td>...</td>\n",
       "      <td>...</td>\n",
       "      <td>...</td>\n",
       "      <td>...</td>\n",
       "      <td>...</td>\n",
       "      <td>...</td>\n",
       "      <td>...</td>\n",
       "      <td>...</td>\n",
       "      <td>...</td>\n",
       "      <td>...</td>\n",
       "    </tr>\n",
       "    <tr>\n",
       "      <th>902</th>\n",
       "      <td>1600.0</td>\n",
       "      <td>16.2949</td>\n",
       "      <td>77.3568</td>\n",
       "      <td>1</td>\n",
       "      <td>2</td>\n",
       "      <td>2016.0</td>\n",
       "      <td>280</td>\n",
       "      <td>2</td>\n",
       "      <td>NaN</td>\n",
       "      <td>0.994875</td>\n",
       "      <td>233.596650</td>\n",
       "      <td>865.400000</td>\n",
       "      <td>686.500000</td>\n",
       "      <td>0</td>\n",
       "    </tr>\n",
       "    <tr>\n",
       "      <th>903</th>\n",
       "      <td>3.0</td>\n",
       "      <td>12.8932</td>\n",
       "      <td>78.1654</td>\n",
       "      <td>6</td>\n",
       "      <td>3</td>\n",
       "      <td>NaN</td>\n",
       "      <td>114</td>\n",
       "      <td>0</td>\n",
       "      <td>NaN</td>\n",
       "      <td>NaN</td>\n",
       "      <td>NaN</td>\n",
       "      <td>NaN</td>\n",
       "      <td>NaN</td>\n",
       "      <td>1</td>\n",
       "    </tr>\n",
       "    <tr>\n",
       "      <th>904</th>\n",
       "      <td>25.5</td>\n",
       "      <td>15.2758</td>\n",
       "      <td>75.5811</td>\n",
       "      <td>7</td>\n",
       "      <td>3</td>\n",
       "      <td>NaN</td>\n",
       "      <td>280</td>\n",
       "      <td>2</td>\n",
       "      <td>NaN</td>\n",
       "      <td>NaN</td>\n",
       "      <td>NaN</td>\n",
       "      <td>NaN</td>\n",
       "      <td>NaN</td>\n",
       "      <td>1</td>\n",
       "    </tr>\n",
       "    <tr>\n",
       "      <th>905</th>\n",
       "      <td>80.0</td>\n",
       "      <td>24.3500</td>\n",
       "      <td>73.7477</td>\n",
       "      <td>1</td>\n",
       "      <td>3</td>\n",
       "      <td>NaN</td>\n",
       "      <td>91</td>\n",
       "      <td>2</td>\n",
       "      <td>NaN</td>\n",
       "      <td>NaN</td>\n",
       "      <td>NaN</td>\n",
       "      <td>NaN</td>\n",
       "      <td>NaN</td>\n",
       "      <td>1</td>\n",
       "    </tr>\n",
       "    <tr>\n",
       "      <th>906</th>\n",
       "      <td>16.5</td>\n",
       "      <td>9.9344</td>\n",
       "      <td>77.4768</td>\n",
       "      <td>7</td>\n",
       "      <td>3</td>\n",
       "      <td>NaN</td>\n",
       "      <td>279</td>\n",
       "      <td>2</td>\n",
       "      <td>NaN</td>\n",
       "      <td>NaN</td>\n",
       "      <td>NaN</td>\n",
       "      <td>NaN</td>\n",
       "      <td>NaN</td>\n",
       "      <td>1</td>\n",
       "    </tr>\n",
       "  </tbody>\n",
       "</table>\n",
       "<p>907 rows × 14 columns</p>\n",
       "</div>"
      ],
      "text/plain": [
       "     capacity_mw  latitude  longitude  primary_fuel  other_fuel1  \\\n",
       "0            2.5   28.1839    73.2407             6            3   \n",
       "1           98.0   24.7663    74.6090             1            3   \n",
       "2           39.2   21.9038    69.3732             7            3   \n",
       "3          135.0   23.8712    91.3602             2            3   \n",
       "4         1800.0   21.9603    82.4091             1            2   \n",
       "..           ...       ...        ...           ...          ...   \n",
       "902       1600.0   16.2949    77.3568             1            2   \n",
       "903          3.0   12.8932    78.1654             6            3   \n",
       "904         25.5   15.2758    75.5811             7            3   \n",
       "905         80.0   24.3500    73.7477             1            3   \n",
       "906         16.5    9.9344    77.4768             7            3   \n",
       "\n",
       "     commissioning_year  owner  geolocation_source  generation_gwh_2014  \\\n",
       "0                2011.0    229                   1                  NaN   \n",
       "1                   NaN    258                   2                  NaN   \n",
       "2                   NaN      2                   2                  NaN   \n",
       "3                2004.0    280                   2           617.789264   \n",
       "4                2015.0    280                   2          3035.550000   \n",
       "..                  ...    ...                 ...                  ...   \n",
       "902              2016.0    280                   2                  NaN   \n",
       "903                 NaN    114                   0                  NaN   \n",
       "904                 NaN    280                   2                  NaN   \n",
       "905                 NaN     91                   2                  NaN   \n",
       "906                 NaN    279                   2                  NaN   \n",
       "\n",
       "     generation_gwh_2015  generation_gwh_2016  generation_gwh_2017  \\\n",
       "0                    NaN                  NaN                  NaN   \n",
       "1                    NaN                  NaN                  NaN   \n",
       "2                    NaN                  NaN                  NaN   \n",
       "3             843.747000           886.004428           663.774500   \n",
       "4            5916.370000          6243.000000          5385.579736   \n",
       "..                   ...                  ...                  ...   \n",
       "902             0.994875           233.596650           865.400000   \n",
       "903                  NaN                  NaN                  NaN   \n",
       "904                  NaN                  NaN                  NaN   \n",
       "905                  NaN                  NaN                  NaN   \n",
       "906                  NaN                  NaN                  NaN   \n",
       "\n",
       "     generation_gwh_2018  generation_data_source  \n",
       "0                    NaN                       1  \n",
       "1                    NaN                       1  \n",
       "2                    NaN                       1  \n",
       "3             626.239128                       0  \n",
       "4            7279.000000                       0  \n",
       "..                   ...                     ...  \n",
       "902           686.500000                       0  \n",
       "903                  NaN                       1  \n",
       "904                  NaN                       1  \n",
       "905                  NaN                       1  \n",
       "906                  NaN                       1  \n",
       "\n",
       "[907 rows x 14 columns]"
      ]
     },
     "execution_count": 51,
     "metadata": {},
     "output_type": "execute_result"
    }
   ],
   "source": [
    "df1"
   ]
  },
  {
   "cell_type": "markdown",
   "id": "59c966a7",
   "metadata": {},
   "source": [
    "now all object columns is encoded"
   ]
  },
  {
   "cell_type": "code",
   "execution_count": 52,
   "id": "e20b3f35",
   "metadata": {},
   "outputs": [
    {
     "data": {
      "text/html": [
       "<div>\n",
       "<style scoped>\n",
       "    .dataframe tbody tr th:only-of-type {\n",
       "        vertical-align: middle;\n",
       "    }\n",
       "\n",
       "    .dataframe tbody tr th {\n",
       "        vertical-align: top;\n",
       "    }\n",
       "\n",
       "    .dataframe thead th {\n",
       "        text-align: right;\n",
       "    }\n",
       "</style>\n",
       "<table border=\"1\" class=\"dataframe\">\n",
       "  <thead>\n",
       "    <tr style=\"text-align: right;\">\n",
       "      <th></th>\n",
       "      <th>capacity_mw</th>\n",
       "      <th>latitude</th>\n",
       "      <th>longitude</th>\n",
       "      <th>primary_fuel</th>\n",
       "      <th>other_fuel1</th>\n",
       "      <th>commissioning_year</th>\n",
       "      <th>owner</th>\n",
       "      <th>geolocation_source</th>\n",
       "      <th>generation_gwh_2014</th>\n",
       "      <th>generation_gwh_2015</th>\n",
       "      <th>generation_gwh_2016</th>\n",
       "      <th>generation_gwh_2017</th>\n",
       "      <th>generation_gwh_2018</th>\n",
       "      <th>generation_data_source</th>\n",
       "    </tr>\n",
       "  </thead>\n",
       "  <tbody>\n",
       "    <tr>\n",
       "      <th>count</th>\n",
       "      <td>907.000000</td>\n",
       "      <td>861.000000</td>\n",
       "      <td>861.000000</td>\n",
       "      <td>907.000000</td>\n",
       "      <td>907.000000</td>\n",
       "      <td>527.000000</td>\n",
       "      <td>907.000000</td>\n",
       "      <td>907.000000</td>\n",
       "      <td>398.000000</td>\n",
       "      <td>422.000000</td>\n",
       "      <td>434.000000</td>\n",
       "      <td>440.000000</td>\n",
       "      <td>448.000000</td>\n",
       "      <td>907.000000</td>\n",
       "    </tr>\n",
       "    <tr>\n",
       "      <th>mean</th>\n",
       "      <td>326.223755</td>\n",
       "      <td>21.197918</td>\n",
       "      <td>77.464907</td>\n",
       "      <td>3.206174</td>\n",
       "      <td>2.777288</td>\n",
       "      <td>1997.091082</td>\n",
       "      <td>227.476295</td>\n",
       "      <td>1.754135</td>\n",
       "      <td>2431.823590</td>\n",
       "      <td>2428.226946</td>\n",
       "      <td>2467.936859</td>\n",
       "      <td>2547.759305</td>\n",
       "      <td>2600.804099</td>\n",
       "      <td>0.504961</td>\n",
       "    </tr>\n",
       "    <tr>\n",
       "      <th>std</th>\n",
       "      <td>590.085456</td>\n",
       "      <td>6.239612</td>\n",
       "      <td>4.939316</td>\n",
       "      <td>2.280652</td>\n",
       "      <td>0.429348</td>\n",
       "      <td>17.082868</td>\n",
       "      <td>83.924045</td>\n",
       "      <td>0.700183</td>\n",
       "      <td>4026.440035</td>\n",
       "      <td>4194.596959</td>\n",
       "      <td>4162.884308</td>\n",
       "      <td>4196.991169</td>\n",
       "      <td>4314.880456</td>\n",
       "      <td>0.500251</td>\n",
       "    </tr>\n",
       "    <tr>\n",
       "      <th>min</th>\n",
       "      <td>0.000000</td>\n",
       "      <td>8.168900</td>\n",
       "      <td>68.644700</td>\n",
       "      <td>0.000000</td>\n",
       "      <td>0.000000</td>\n",
       "      <td>1927.000000</td>\n",
       "      <td>0.000000</td>\n",
       "      <td>0.000000</td>\n",
       "      <td>0.000000</td>\n",
       "      <td>0.000000</td>\n",
       "      <td>0.000000</td>\n",
       "      <td>0.000000</td>\n",
       "      <td>0.000000</td>\n",
       "      <td>0.000000</td>\n",
       "    </tr>\n",
       "    <tr>\n",
       "      <th>25%</th>\n",
       "      <td>16.725000</td>\n",
       "      <td>16.773900</td>\n",
       "      <td>74.256200</td>\n",
       "      <td>1.000000</td>\n",
       "      <td>3.000000</td>\n",
       "      <td>1988.000000</td>\n",
       "      <td>188.500000</td>\n",
       "      <td>2.000000</td>\n",
       "      <td>223.557672</td>\n",
       "      <td>176.381063</td>\n",
       "      <td>188.285252</td>\n",
       "      <td>177.874930</td>\n",
       "      <td>193.378250</td>\n",
       "      <td>0.000000</td>\n",
       "    </tr>\n",
       "    <tr>\n",
       "      <th>50%</th>\n",
       "      <td>59.200000</td>\n",
       "      <td>21.780000</td>\n",
       "      <td>76.719500</td>\n",
       "      <td>3.000000</td>\n",
       "      <td>3.000000</td>\n",
       "      <td>2001.000000</td>\n",
       "      <td>280.000000</td>\n",
       "      <td>2.000000</td>\n",
       "      <td>801.123775</td>\n",
       "      <td>711.181225</td>\n",
       "      <td>737.205450</td>\n",
       "      <td>817.977250</td>\n",
       "      <td>751.644375</td>\n",
       "      <td>1.000000</td>\n",
       "    </tr>\n",
       "    <tr>\n",
       "      <th>75%</th>\n",
       "      <td>385.250000</td>\n",
       "      <td>25.512400</td>\n",
       "      <td>79.440800</td>\n",
       "      <td>6.000000</td>\n",
       "      <td>3.000000</td>\n",
       "      <td>2012.000000</td>\n",
       "      <td>280.000000</td>\n",
       "      <td>2.000000</td>\n",
       "      <td>3035.306250</td>\n",
       "      <td>3084.121250</td>\n",
       "      <td>3282.861313</td>\n",
       "      <td>3275.690475</td>\n",
       "      <td>3143.535900</td>\n",
       "      <td>1.000000</td>\n",
       "    </tr>\n",
       "    <tr>\n",
       "      <th>max</th>\n",
       "      <td>4760.000000</td>\n",
       "      <td>34.649000</td>\n",
       "      <td>95.408000</td>\n",
       "      <td>7.000000</td>\n",
       "      <td>3.000000</td>\n",
       "      <td>2018.000000</td>\n",
       "      <td>280.000000</td>\n",
       "      <td>3.000000</td>\n",
       "      <td>28127.000000</td>\n",
       "      <td>30539.000000</td>\n",
       "      <td>30015.000000</td>\n",
       "      <td>35116.000000</td>\n",
       "      <td>35136.000000</td>\n",
       "      <td>1.000000</td>\n",
       "    </tr>\n",
       "  </tbody>\n",
       "</table>\n",
       "</div>"
      ],
      "text/plain": [
       "       capacity_mw    latitude   longitude  primary_fuel  other_fuel1  \\\n",
       "count   907.000000  861.000000  861.000000    907.000000   907.000000   \n",
       "mean    326.223755   21.197918   77.464907      3.206174     2.777288   \n",
       "std     590.085456    6.239612    4.939316      2.280652     0.429348   \n",
       "min       0.000000    8.168900   68.644700      0.000000     0.000000   \n",
       "25%      16.725000   16.773900   74.256200      1.000000     3.000000   \n",
       "50%      59.200000   21.780000   76.719500      3.000000     3.000000   \n",
       "75%     385.250000   25.512400   79.440800      6.000000     3.000000   \n",
       "max    4760.000000   34.649000   95.408000      7.000000     3.000000   \n",
       "\n",
       "       commissioning_year       owner  geolocation_source  \\\n",
       "count          527.000000  907.000000          907.000000   \n",
       "mean          1997.091082  227.476295            1.754135   \n",
       "std             17.082868   83.924045            0.700183   \n",
       "min           1927.000000    0.000000            0.000000   \n",
       "25%           1988.000000  188.500000            2.000000   \n",
       "50%           2001.000000  280.000000            2.000000   \n",
       "75%           2012.000000  280.000000            2.000000   \n",
       "max           2018.000000  280.000000            3.000000   \n",
       "\n",
       "       generation_gwh_2014  generation_gwh_2015  generation_gwh_2016  \\\n",
       "count           398.000000           422.000000           434.000000   \n",
       "mean           2431.823590          2428.226946          2467.936859   \n",
       "std            4026.440035          4194.596959          4162.884308   \n",
       "min               0.000000             0.000000             0.000000   \n",
       "25%             223.557672           176.381063           188.285252   \n",
       "50%             801.123775           711.181225           737.205450   \n",
       "75%            3035.306250          3084.121250          3282.861313   \n",
       "max           28127.000000         30539.000000         30015.000000   \n",
       "\n",
       "       generation_gwh_2017  generation_gwh_2018  generation_data_source  \n",
       "count           440.000000           448.000000              907.000000  \n",
       "mean           2547.759305          2600.804099                0.504961  \n",
       "std            4196.991169          4314.880456                0.500251  \n",
       "min               0.000000             0.000000                0.000000  \n",
       "25%             177.874930           193.378250                0.000000  \n",
       "50%             817.977250           751.644375                1.000000  \n",
       "75%            3275.690475          3143.535900                1.000000  \n",
       "max           35116.000000         35136.000000                1.000000  "
      ]
     },
     "execution_count": 52,
     "metadata": {},
     "output_type": "execute_result"
    }
   ],
   "source": [
    "#checking the overall health of the dataset\n",
    "df1.describe()"
   ]
  },
  {
   "cell_type": "markdown",
   "id": "8532e1ff",
   "metadata": {},
   "source": [
    "Observation:\n",
    "    \n",
    "    1. After removing unwanted column we have encoded data for object column in Numeric\n",
    "    2. Now we can see we have Data with nan values\n",
    "    3. we have skwness pesent in Data as comparing Mean > 50th Percentile\n",
    "    4. we have Putlier present in Data as comparing 75th Percentile and Max\n",
    "\n",
    "We will validate this assumption and based on we will take Action to handle Null Value, Outliers and Skwness"
   ]
  },
  {
   "cell_type": "markdown",
   "id": "1ab763da",
   "metadata": {},
   "source": [
    "# Checking and Handling Null Data"
   ]
  },
  {
   "cell_type": "code",
   "execution_count": 54,
   "id": "293d39c5",
   "metadata": {},
   "outputs": [
    {
     "data": {
      "text/plain": [
       "generation_gwh_2014       509\n",
       "generation_gwh_2015       485\n",
       "generation_gwh_2016       473\n",
       "generation_gwh_2017       467\n",
       "generation_gwh_2018       459\n",
       "commissioning_year        380\n",
       "latitude                   46\n",
       "longitude                  46\n",
       "capacity_mw                 0\n",
       "primary_fuel                0\n",
       "other_fuel1                 0\n",
       "owner                       0\n",
       "geolocation_source          0\n",
       "generation_data_source      0\n",
       "dtype: int64"
      ]
     },
     "execution_count": 54,
     "metadata": {},
     "output_type": "execute_result"
    }
   ],
   "source": [
    "df1.isnull().sum().sort_values(ascending=False)"
   ]
  },
  {
   "cell_type": "markdown",
   "id": "90fb62cc",
   "metadata": {},
   "source": [
    "Here we can see the Null Data count with all columns hence model will not predict well so we will replace all Null values with Mean values so we should not have Null values in the data"
   ]
  },
  {
   "cell_type": "code",
   "execution_count": 57,
   "id": "f99c2cdb",
   "metadata": {},
   "outputs": [],
   "source": [
    "#filling the missing values ny fillna method\n",
    "df1['latitude']=df1['latitude'].fillna(df1['latitude'].mean())\n",
    "df1['longitude']=df1['longitude'].fillna(df1['longitude'].mean())\n",
    "df1['commissioning_year']=df1['commissioning_year'].fillna(df1['commissioning_year'].mean())\n",
    "df1['generation_gwh_2014']=df1['generation_gwh_2014'].fillna(df1['generation_gwh_2014'].mean())\n",
    "df1['generation_gwh_2015']=df1['generation_gwh_2015'].fillna(df1['generation_gwh_2015'].mean())\n",
    "df1['generation_gwh_2016']=df1['generation_gwh_2016'].fillna(df1['generation_gwh_2016'].mean())\n",
    "df1['generation_gwh_2017']=df1['generation_gwh_2017'].fillna(df1['generation_gwh_2017'].mean())\n",
    "df1['generation_gwh_2018']=df1['generation_gwh_2018'].fillna(df1['generation_gwh_2018'].mean())\n"
   ]
  },
  {
   "cell_type": "code",
   "execution_count": 58,
   "id": "81475c82",
   "metadata": {},
   "outputs": [
    {
     "data": {
      "text/plain": [
       "capacity_mw               0\n",
       "latitude                  0\n",
       "longitude                 0\n",
       "primary_fuel              0\n",
       "other_fuel1               0\n",
       "commissioning_year        0\n",
       "owner                     0\n",
       "geolocation_source        0\n",
       "generation_gwh_2014       0\n",
       "generation_gwh_2015       0\n",
       "generation_gwh_2016       0\n",
       "generation_gwh_2017       0\n",
       "generation_gwh_2018       0\n",
       "generation_data_source    0\n",
       "dtype: int64"
      ]
     },
     "execution_count": 58,
     "metadata": {},
     "output_type": "execute_result"
    }
   ],
   "source": [
    "df1.isnull().sum().sort_values(ascending=False)"
   ]
  },
  {
   "cell_type": "markdown",
   "id": "f2274803",
   "metadata": {},
   "source": [
    "Now we dont have any Null Data present in Dataset"
   ]
  },
  {
   "cell_type": "code",
   "execution_count": 59,
   "id": "602f8ca3",
   "metadata": {},
   "outputs": [
    {
     "data": {
      "text/html": [
       "<div>\n",
       "<style scoped>\n",
       "    .dataframe tbody tr th:only-of-type {\n",
       "        vertical-align: middle;\n",
       "    }\n",
       "\n",
       "    .dataframe tbody tr th {\n",
       "        vertical-align: top;\n",
       "    }\n",
       "\n",
       "    .dataframe thead th {\n",
       "        text-align: right;\n",
       "    }\n",
       "</style>\n",
       "<table border=\"1\" class=\"dataframe\">\n",
       "  <thead>\n",
       "    <tr style=\"text-align: right;\">\n",
       "      <th></th>\n",
       "      <th>capacity_mw</th>\n",
       "      <th>latitude</th>\n",
       "      <th>longitude</th>\n",
       "      <th>primary_fuel</th>\n",
       "      <th>other_fuel1</th>\n",
       "      <th>commissioning_year</th>\n",
       "      <th>owner</th>\n",
       "      <th>geolocation_source</th>\n",
       "      <th>generation_gwh_2014</th>\n",
       "      <th>generation_gwh_2015</th>\n",
       "      <th>generation_gwh_2016</th>\n",
       "      <th>generation_gwh_2017</th>\n",
       "      <th>generation_gwh_2018</th>\n",
       "      <th>generation_data_source</th>\n",
       "    </tr>\n",
       "  </thead>\n",
       "  <tbody>\n",
       "    <tr>\n",
       "      <th>count</th>\n",
       "      <td>907.000000</td>\n",
       "      <td>907.000000</td>\n",
       "      <td>907.000000</td>\n",
       "      <td>907.000000</td>\n",
       "      <td>907.000000</td>\n",
       "      <td>907.000000</td>\n",
       "      <td>907.000000</td>\n",
       "      <td>907.000000</td>\n",
       "      <td>907.000000</td>\n",
       "      <td>907.000000</td>\n",
       "      <td>907.000000</td>\n",
       "      <td>907.000000</td>\n",
       "      <td>907.000000</td>\n",
       "      <td>907.000000</td>\n",
       "    </tr>\n",
       "    <tr>\n",
       "      <th>mean</th>\n",
       "      <td>326.223755</td>\n",
       "      <td>21.197918</td>\n",
       "      <td>77.464907</td>\n",
       "      <td>3.206174</td>\n",
       "      <td>2.777288</td>\n",
       "      <td>1997.091082</td>\n",
       "      <td>227.476295</td>\n",
       "      <td>1.754135</td>\n",
       "      <td>2431.823590</td>\n",
       "      <td>2428.226946</td>\n",
       "      <td>2467.936859</td>\n",
       "      <td>2547.759305</td>\n",
       "      <td>2600.804099</td>\n",
       "      <td>0.504961</td>\n",
       "    </tr>\n",
       "    <tr>\n",
       "      <th>std</th>\n",
       "      <td>590.085456</td>\n",
       "      <td>6.079148</td>\n",
       "      <td>4.812291</td>\n",
       "      <td>2.280652</td>\n",
       "      <td>0.429348</td>\n",
       "      <td>13.016360</td>\n",
       "      <td>83.924045</td>\n",
       "      <td>0.700183</td>\n",
       "      <td>2665.338608</td>\n",
       "      <td>2859.349132</td>\n",
       "      <td>2877.890004</td>\n",
       "      <td>2921.502193</td>\n",
       "      <td>3030.808041</td>\n",
       "      <td>0.500251</td>\n",
       "    </tr>\n",
       "    <tr>\n",
       "      <th>min</th>\n",
       "      <td>0.000000</td>\n",
       "      <td>8.168900</td>\n",
       "      <td>68.644700</td>\n",
       "      <td>0.000000</td>\n",
       "      <td>0.000000</td>\n",
       "      <td>1927.000000</td>\n",
       "      <td>0.000000</td>\n",
       "      <td>0.000000</td>\n",
       "      <td>0.000000</td>\n",
       "      <td>0.000000</td>\n",
       "      <td>0.000000</td>\n",
       "      <td>0.000000</td>\n",
       "      <td>0.000000</td>\n",
       "      <td>0.000000</td>\n",
       "    </tr>\n",
       "    <tr>\n",
       "      <th>25%</th>\n",
       "      <td>16.725000</td>\n",
       "      <td>17.072000</td>\n",
       "      <td>74.388900</td>\n",
       "      <td>1.000000</td>\n",
       "      <td>3.000000</td>\n",
       "      <td>1997.091082</td>\n",
       "      <td>188.500000</td>\n",
       "      <td>2.000000</td>\n",
       "      <td>1211.362750</td>\n",
       "      <td>916.000000</td>\n",
       "      <td>896.500214</td>\n",
       "      <td>882.594850</td>\n",
       "      <td>824.842340</td>\n",
       "      <td>0.000000</td>\n",
       "    </tr>\n",
       "    <tr>\n",
       "      <th>50%</th>\n",
       "      <td>59.200000</td>\n",
       "      <td>21.281800</td>\n",
       "      <td>76.979200</td>\n",
       "      <td>3.000000</td>\n",
       "      <td>3.000000</td>\n",
       "      <td>1997.091082</td>\n",
       "      <td>280.000000</td>\n",
       "      <td>2.000000</td>\n",
       "      <td>2431.823590</td>\n",
       "      <td>2428.226946</td>\n",
       "      <td>2467.936859</td>\n",
       "      <td>2547.759305</td>\n",
       "      <td>2600.804099</td>\n",
       "      <td>1.000000</td>\n",
       "    </tr>\n",
       "    <tr>\n",
       "      <th>75%</th>\n",
       "      <td>385.250000</td>\n",
       "      <td>25.176450</td>\n",
       "      <td>79.206100</td>\n",
       "      <td>6.000000</td>\n",
       "      <td>3.000000</td>\n",
       "      <td>2003.000000</td>\n",
       "      <td>280.000000</td>\n",
       "      <td>2.000000</td>\n",
       "      <td>2431.823590</td>\n",
       "      <td>2428.226946</td>\n",
       "      <td>2467.936859</td>\n",
       "      <td>2547.759305</td>\n",
       "      <td>2600.804099</td>\n",
       "      <td>1.000000</td>\n",
       "    </tr>\n",
       "    <tr>\n",
       "      <th>max</th>\n",
       "      <td>4760.000000</td>\n",
       "      <td>34.649000</td>\n",
       "      <td>95.408000</td>\n",
       "      <td>7.000000</td>\n",
       "      <td>3.000000</td>\n",
       "      <td>2018.000000</td>\n",
       "      <td>280.000000</td>\n",
       "      <td>3.000000</td>\n",
       "      <td>28127.000000</td>\n",
       "      <td>30539.000000</td>\n",
       "      <td>30015.000000</td>\n",
       "      <td>35116.000000</td>\n",
       "      <td>35136.000000</td>\n",
       "      <td>1.000000</td>\n",
       "    </tr>\n",
       "  </tbody>\n",
       "</table>\n",
       "</div>"
      ],
      "text/plain": [
       "       capacity_mw    latitude   longitude  primary_fuel  other_fuel1  \\\n",
       "count   907.000000  907.000000  907.000000    907.000000   907.000000   \n",
       "mean    326.223755   21.197918   77.464907      3.206174     2.777288   \n",
       "std     590.085456    6.079148    4.812291      2.280652     0.429348   \n",
       "min       0.000000    8.168900   68.644700      0.000000     0.000000   \n",
       "25%      16.725000   17.072000   74.388900      1.000000     3.000000   \n",
       "50%      59.200000   21.281800   76.979200      3.000000     3.000000   \n",
       "75%     385.250000   25.176450   79.206100      6.000000     3.000000   \n",
       "max    4760.000000   34.649000   95.408000      7.000000     3.000000   \n",
       "\n",
       "       commissioning_year       owner  geolocation_source  \\\n",
       "count          907.000000  907.000000          907.000000   \n",
       "mean          1997.091082  227.476295            1.754135   \n",
       "std             13.016360   83.924045            0.700183   \n",
       "min           1927.000000    0.000000            0.000000   \n",
       "25%           1997.091082  188.500000            2.000000   \n",
       "50%           1997.091082  280.000000            2.000000   \n",
       "75%           2003.000000  280.000000            2.000000   \n",
       "max           2018.000000  280.000000            3.000000   \n",
       "\n",
       "       generation_gwh_2014  generation_gwh_2015  generation_gwh_2016  \\\n",
       "count           907.000000           907.000000           907.000000   \n",
       "mean           2431.823590          2428.226946          2467.936859   \n",
       "std            2665.338608          2859.349132          2877.890004   \n",
       "min               0.000000             0.000000             0.000000   \n",
       "25%            1211.362750           916.000000           896.500214   \n",
       "50%            2431.823590          2428.226946          2467.936859   \n",
       "75%            2431.823590          2428.226946          2467.936859   \n",
       "max           28127.000000         30539.000000         30015.000000   \n",
       "\n",
       "       generation_gwh_2017  generation_gwh_2018  generation_data_source  \n",
       "count           907.000000           907.000000              907.000000  \n",
       "mean           2547.759305          2600.804099                0.504961  \n",
       "std            2921.502193          3030.808041                0.500251  \n",
       "min               0.000000             0.000000                0.000000  \n",
       "25%             882.594850           824.842340                0.000000  \n",
       "50%            2547.759305          2600.804099                1.000000  \n",
       "75%            2547.759305          2600.804099                1.000000  \n",
       "max           35116.000000         35136.000000                1.000000  "
      ]
     },
     "execution_count": 59,
     "metadata": {},
     "output_type": "execute_result"
    }
   ],
   "source": [
    "#now checking the nans is filled or not!!!!!!!!\n",
    "df1.describe()"
   ]
  },
  {
   "cell_type": "code",
   "execution_count": 60,
   "id": "ed9e090a",
   "metadata": {},
   "outputs": [
    {
     "data": {
      "text/plain": [
       "<AxesSubplot:>"
      ]
     },
     "execution_count": 60,
     "metadata": {},
     "output_type": "execute_result"
    },
    {
     "data": {
      "image/png": "[encoded data removed]",
      "text/plain": [
       "<Figure size 432x288 with 2 Axes>"
      ]
     },
     "metadata": {
      "needs_background": "light"
     },
     "output_type": "display_data"
    }
   ],
   "source": [
    "#checking null value by heatmap\n",
    "sns.heatmap(df1.isnull())"
   ]
  },
  {
   "cell_type": "markdown",
   "id": "438394a4",
   "metadata": {},
   "source": [
    "hence we clear that no null values present in the dataset"
   ]
  },
  {
   "cell_type": "markdown",
   "id": "3acda3af",
   "metadata": {},
   "source": [
    "# checking the correlation"
   ]
  },
  {
   "cell_type": "code",
   "execution_count": 61,
   "id": "65f54788",
   "metadata": {},
   "outputs": [
    {
     "data": {
      "image/png": "[encoded data removed]",
      "text/plain": [
       "<Figure size 1440x1080 with 2 Axes>"
      ]
     },
     "metadata": {
      "needs_background": "light"
     },
     "output_type": "display_data"
    }
   ],
   "source": [
    "corr_mat=df1.corr()\n",
    "plt.figure(figsize=[20,15])\n",
    "sns.heatmap(corr_mat,annot=True,cmap='Blues')\n",
    "plt.title('correlation matrix')\n",
    "plt.show()"
   ]
  },
  {
   "cell_type": "markdown",
   "id": "68a063c6",
   "metadata": {},
   "source": [
    "Observation:\n",
    "    \n",
    "    1.Primary fuel Output column are highly correlated with other fuel 1 and generation Data source column\n",
    "    2.Capacity MW output column is highly corelated with all Generation gw columns\n",
    "    3.Here we can see there are multiple columns for \"generation GWH\" are highly corelated with each other hence we need to compare this column with VIF technique to removive multicolinearity. as multicolinearity can imapct the accuracy as all columns are having almost similar data."
   ]
  },
  {
   "cell_type": "markdown",
   "id": "574da845",
   "metadata": {},
   "source": [
    "# Corlelation with Output columns"
   ]
  },
  {
   "cell_type": "code",
   "execution_count": 62,
   "id": "96527283",
   "metadata": {},
   "outputs": [
    {
     "data": {
      "text/plain": [
       "capacity_mw               1.000000\n",
       "generation_gwh_2018       0.773456\n",
       "generation_gwh_2017       0.757585\n",
       "generation_gwh_2016       0.742221\n",
       "generation_gwh_2015       0.711190\n",
       "generation_gwh_2014       0.694350\n",
       "owner                     0.304322\n",
       "commissioning_year        0.274292\n",
       "longitude                 0.195882\n",
       "geolocation_source        0.183419\n",
       "latitude                  0.050984\n",
       "primary_fuel             -0.380395\n",
       "generation_data_source   -0.495833\n",
       "other_fuel1              -0.606289\n",
       "Name: capacity_mw, dtype: float64"
      ]
     },
     "execution_count": 62,
     "metadata": {},
     "output_type": "execute_result"
    }
   ],
   "source": [
    "corr_mat['capacity_mw'].sort_values(ascending=False)"
   ]
  },
  {
   "cell_type": "code",
   "execution_count": 63,
   "id": "fd9f2d6d",
   "metadata": {},
   "outputs": [
    {
     "data": {
      "text/plain": [
       "primary_fuel              1.000000\n",
       "generation_data_source    0.482339\n",
       "other_fuel1               0.476410\n",
       "latitude                 -0.010204\n",
       "generation_gwh_2014      -0.124769\n",
       "generation_gwh_2015      -0.124828\n",
       "commissioning_year       -0.126650\n",
       "generation_gwh_2016      -0.131051\n",
       "generation_gwh_2017      -0.132003\n",
       "generation_gwh_2018      -0.136983\n",
       "owner                    -0.260389\n",
       "longitude                -0.347948\n",
       "capacity_mw              -0.380395\n",
       "geolocation_source       -0.420263\n",
       "Name: primary_fuel, dtype: float64"
      ]
     },
     "execution_count": 63,
     "metadata": {},
     "output_type": "execute_result"
    }
   ],
   "source": [
    "corr_mat['primary_fuel'].sort_values(ascending=False)"
   ]
  },
  {
   "cell_type": "markdown",
   "id": "84cd12ef",
   "metadata": {},
   "source": [
    "Here we can see positive and negative related columns with output Dcolumns.\n",
    "On negative side we dont have such column near to -1 hence we are not going to drop any column based on negative corelation compatision"
   ]
  },
  {
   "cell_type": "markdown",
   "id": "3e0d8f5f",
   "metadata": {},
   "source": [
    "# checking data distribution by dist plot for Skewness"
   ]
  },
  {
   "cell_type": "code",
   "execution_count": 65,
   "id": "5cf786cd",
   "metadata": {},
   "outputs": [
    {
     "data": {
      "image/png": "[encoded data removed]",
      "text/plain": [
       "<Figure size 1584x1080 with 14 Axes>"
      ]
     },
     "metadata": {},
     "output_type": "display_data"
    }
   ],
   "source": [
    "#checking one more time\n",
    "plt.figure(figsize=(22,15),facecolor='pink')\n",
    "plotnumber=1\n",
    "\n",
    "for column in df1:\n",
    "    if plotnumber<=18:\n",
    "        ax=plt.subplot(3,6,plotnumber)\n",
    "        sns.distplot(df1[column])\n",
    "        plt.xlabel(column)\n",
    "        \n",
    "    plotnumber+=1\n",
    "plt.show()"
   ]
  },
  {
   "cell_type": "markdown",
   "id": "bda97462",
   "metadata": {},
   "source": [
    "Skewness Are present as we can not see the Normalised grapgh"
   ]
  },
  {
   "cell_type": "markdown",
   "id": "5f933393",
   "metadata": {},
   "source": [
    "# checking and handling outliers"
   ]
  },
  {
   "cell_type": "code",
   "execution_count": 66,
   "id": "b747abed",
   "metadata": {},
   "outputs": [
    {
     "data": {
      "image/png": "[encoded data removed]",
      "text/plain": [
       "<Figure size 1584x1080 with 14 Axes>"
      ]
     },
     "metadata": {},
     "output_type": "display_data"
    }
   ],
   "source": [
    "plt.figure(figsize=(22,15),facecolor='gray')\n",
    "plotnumber=1\n",
    "\n",
    "for column in df1:\n",
    "    if plotnumber<=18:\n",
    "        ax=plt.subplot(3,6,plotnumber)\n",
    "        plt.boxplot(df1[column])\n",
    "        plt.xlabel(column)\n",
    "        \n",
    "    plotnumber+=1\n",
    "plt.show()"
   ]
  },
  {
   "cell_type": "markdown",
   "id": "bfc438a1",
   "metadata": {},
   "source": [
    "here we can see lots of outliers is present in the almost all the columns so we can remove that by zscore method"
   ]
  },
  {
   "cell_type": "markdown",
   "id": "c48eb1d7",
   "metadata": {},
   "source": [
    "# Using Zsore outlier Removing technique"
   ]
  },
  {
   "cell_type": "code",
   "execution_count": 67,
   "id": "ceec1070",
   "metadata": {},
   "outputs": [],
   "source": [
    "from scipy.stats import zscore "
   ]
  },
  {
   "cell_type": "code",
   "execution_count": 68,
   "id": "41900964",
   "metadata": {},
   "outputs": [
    {
     "data": {
      "text/plain": [
       "array([[5.48907549e-01, 1.14980517e+00, 8.78279731e-01, ...,\n",
       "        1.55741196e-16, 1.50124402e-16, 9.90125924e-01],\n",
       "       [3.86977292e-01, 5.87310989e-01, 5.93788441e-01, ...,\n",
       "        1.55741196e-16, 1.50124402e-16, 9.90125924e-01],\n",
       "       [4.86678853e-01, 1.16179322e-01, 1.68239437e+00, ...,\n",
       "        1.55741196e-16, 1.50124402e-16, 9.90125924e-01],\n",
       "       ...,\n",
       "       [5.09908639e-01, 9.74706510e-01, 3.91673420e-01, ...,\n",
       "        1.55741196e-16, 1.50124402e-16, 9.90125924e-01],\n",
       "       [4.17498178e-01, 5.18793221e-01, 7.72866383e-01, ...,\n",
       "        1.55741196e-16, 1.50124402e-16, 9.90125924e-01],\n",
       "       [5.25169082e-01, 1.85383409e+00, 2.47270171e-03, ...,\n",
       "        1.55741196e-16, 1.50124402e-16, 9.90125924e-01]])"
      ]
     },
     "execution_count": 68,
     "metadata": {},
     "output_type": "execute_result"
    }
   ],
   "source": [
    "z=np.abs(zscore(df1))\n",
    "z"
   ]
  },
  {
   "cell_type": "code",
   "execution_count": 69,
   "id": "5ab4ec39",
   "metadata": {},
   "outputs": [
    {
     "name": "stdout",
     "output_type": "stream",
     "text": [
      "(array([ 15,  15,  15,  15,  15, 143, 143, 143, 143, 143, 143, 147, 158,\n",
      "       179, 183, 209, 209, 209, 209, 209, 209, 222, 244, 308, 308, 308,\n",
      "       308, 308, 308, 323, 333, 340, 342, 360, 363, 364, 364, 364, 364,\n",
      "       364, 364, 371, 375, 416, 427, 444, 454, 478, 482, 484, 493, 493,\n",
      "       493, 493, 493, 493, 494, 494, 494, 494, 494, 494, 499, 519, 538,\n",
      "       541, 546, 573, 577, 583, 592, 601, 621, 638, 648, 648, 648, 648,\n",
      "       648, 648, 657, 657, 657, 657, 657, 657, 695, 695, 695, 695, 695,\n",
      "       695, 706, 709, 721, 721, 721, 721, 724, 724, 724, 724, 724, 726,\n",
      "       726, 726, 726, 726, 726, 728, 767, 786, 786, 786, 786, 786, 786,\n",
      "       788, 807, 808, 808, 808, 808, 808, 808, 811, 813, 817, 818, 847,\n",
      "       848, 880, 880, 880, 880, 880, 880], dtype=int64), array([ 0,  9, 10, 11, 12,  0,  8,  9, 10, 11, 12,  0,  8,  2,  2,  0,  8,\n",
      "        9, 10, 11, 12,  5,  2,  0,  8,  9, 10, 11, 12,  2,  2,  2,  5,  2,\n",
      "        0,  0,  8,  9, 10, 11, 12,  5,  0,  2,  2,  5,  5,  5,  0,  5,  0,\n",
      "        8,  9, 10, 11, 12,  0,  8,  9, 10, 11, 12,  2,  2,  5,  5,  2,  5,\n",
      "        2,  5,  5,  5,  5,  2,  0,  8,  9, 10, 11, 12,  0,  8,  9, 10, 11,\n",
      "       12,  0,  8,  9, 10, 11, 12,  5,  5,  8,  9, 10, 12,  8,  9, 10, 11,\n",
      "       12,  0,  8,  9, 10, 11, 12,  5,  0,  0,  8,  9, 10, 11, 12,  0,  5,\n",
      "        0,  8,  9, 10, 11, 12,  4,  4,  4,  2,  2,  5,  0,  8,  9, 10, 11,\n",
      "       12], dtype=int64))\n"
     ]
    }
   ],
   "source": [
    "threshold=3\n",
    "print(np.where(z>3))"
   ]
  },
  {
   "cell_type": "code",
   "execution_count": 70,
   "id": "1ecd7520",
   "metadata": {},
   "outputs": [],
   "source": [
    "df1_new=df1[(z<3).all(axis=1)]"
   ]
  },
  {
   "cell_type": "code",
   "execution_count": 71,
   "id": "41c3e200",
   "metadata": {},
   "outputs": [
    {
     "data": {
      "text/html": [
       "<div>\n",
       "<style scoped>\n",
       "    .dataframe tbody tr th:only-of-type {\n",
       "        vertical-align: middle;\n",
       "    }\n",
       "\n",
       "    .dataframe tbody tr th {\n",
       "        vertical-align: top;\n",
       "    }\n",
       "\n",
       "    .dataframe thead th {\n",
       "        text-align: right;\n",
       "    }\n",
       "</style>\n",
       "<table border=\"1\" class=\"dataframe\">\n",
       "  <thead>\n",
       "    <tr style=\"text-align: right;\">\n",
       "      <th></th>\n",
       "      <th>capacity_mw</th>\n",
       "      <th>latitude</th>\n",
       "      <th>longitude</th>\n",
       "      <th>primary_fuel</th>\n",
       "      <th>other_fuel1</th>\n",
       "      <th>commissioning_year</th>\n",
       "      <th>owner</th>\n",
       "      <th>geolocation_source</th>\n",
       "      <th>generation_gwh_2014</th>\n",
       "      <th>generation_gwh_2015</th>\n",
       "      <th>generation_gwh_2016</th>\n",
       "      <th>generation_gwh_2017</th>\n",
       "      <th>generation_gwh_2018</th>\n",
       "      <th>generation_data_source</th>\n",
       "    </tr>\n",
       "  </thead>\n",
       "  <tbody>\n",
       "    <tr>\n",
       "      <th>0</th>\n",
       "      <td>2.5</td>\n",
       "      <td>28.1839</td>\n",
       "      <td>73.2407</td>\n",
       "      <td>6</td>\n",
       "      <td>3</td>\n",
       "      <td>2011.000000</td>\n",
       "      <td>229</td>\n",
       "      <td>1</td>\n",
       "      <td>2431.823590</td>\n",
       "      <td>2428.226946</td>\n",
       "      <td>2467.936859</td>\n",
       "      <td>2547.759305</td>\n",
       "      <td>2600.804099</td>\n",
       "      <td>1</td>\n",
       "    </tr>\n",
       "    <tr>\n",
       "      <th>1</th>\n",
       "      <td>98.0</td>\n",
       "      <td>24.7663</td>\n",
       "      <td>74.6090</td>\n",
       "      <td>1</td>\n",
       "      <td>3</td>\n",
       "      <td>1997.091082</td>\n",
       "      <td>258</td>\n",
       "      <td>2</td>\n",
       "      <td>2431.823590</td>\n",
       "      <td>2428.226946</td>\n",
       "      <td>2467.936859</td>\n",
       "      <td>2547.759305</td>\n",
       "      <td>2600.804099</td>\n",
       "      <td>1</td>\n",
       "    </tr>\n",
       "    <tr>\n",
       "      <th>2</th>\n",
       "      <td>39.2</td>\n",
       "      <td>21.9038</td>\n",
       "      <td>69.3732</td>\n",
       "      <td>7</td>\n",
       "      <td>3</td>\n",
       "      <td>1997.091082</td>\n",
       "      <td>2</td>\n",
       "      <td>2</td>\n",
       "      <td>2431.823590</td>\n",
       "      <td>2428.226946</td>\n",
       "      <td>2467.936859</td>\n",
       "      <td>2547.759305</td>\n",
       "      <td>2600.804099</td>\n",
       "      <td>1</td>\n",
       "    </tr>\n",
       "    <tr>\n",
       "      <th>3</th>\n",
       "      <td>135.0</td>\n",
       "      <td>23.8712</td>\n",
       "      <td>91.3602</td>\n",
       "      <td>2</td>\n",
       "      <td>3</td>\n",
       "      <td>2004.000000</td>\n",
       "      <td>280</td>\n",
       "      <td>2</td>\n",
       "      <td>617.789264</td>\n",
       "      <td>843.747000</td>\n",
       "      <td>886.004428</td>\n",
       "      <td>663.774500</td>\n",
       "      <td>626.239128</td>\n",
       "      <td>0</td>\n",
       "    </tr>\n",
       "    <tr>\n",
       "      <th>4</th>\n",
       "      <td>1800.0</td>\n",
       "      <td>21.9603</td>\n",
       "      <td>82.4091</td>\n",
       "      <td>1</td>\n",
       "      <td>2</td>\n",
       "      <td>2015.000000</td>\n",
       "      <td>280</td>\n",
       "      <td>2</td>\n",
       "      <td>3035.550000</td>\n",
       "      <td>5916.370000</td>\n",
       "      <td>6243.000000</td>\n",
       "      <td>5385.579736</td>\n",
       "      <td>7279.000000</td>\n",
       "      <td>0</td>\n",
       "    </tr>\n",
       "    <tr>\n",
       "      <th>...</th>\n",
       "      <td>...</td>\n",
       "      <td>...</td>\n",
       "      <td>...</td>\n",
       "      <td>...</td>\n",
       "      <td>...</td>\n",
       "      <td>...</td>\n",
       "      <td>...</td>\n",
       "      <td>...</td>\n",
       "      <td>...</td>\n",
       "      <td>...</td>\n",
       "      <td>...</td>\n",
       "      <td>...</td>\n",
       "      <td>...</td>\n",
       "      <td>...</td>\n",
       "    </tr>\n",
       "    <tr>\n",
       "      <th>902</th>\n",
       "      <td>1600.0</td>\n",
       "      <td>16.2949</td>\n",
       "      <td>77.3568</td>\n",
       "      <td>1</td>\n",
       "      <td>2</td>\n",
       "      <td>2016.000000</td>\n",
       "      <td>280</td>\n",
       "      <td>2</td>\n",
       "      <td>2431.823590</td>\n",
       "      <td>0.994875</td>\n",
       "      <td>233.596650</td>\n",
       "      <td>865.400000</td>\n",
       "      <td>686.500000</td>\n",
       "      <td>0</td>\n",
       "    </tr>\n",
       "    <tr>\n",
       "      <th>903</th>\n",
       "      <td>3.0</td>\n",
       "      <td>12.8932</td>\n",
       "      <td>78.1654</td>\n",
       "      <td>6</td>\n",
       "      <td>3</td>\n",
       "      <td>1997.091082</td>\n",
       "      <td>114</td>\n",
       "      <td>0</td>\n",
       "      <td>2431.823590</td>\n",
       "      <td>2428.226946</td>\n",
       "      <td>2467.936859</td>\n",
       "      <td>2547.759305</td>\n",
       "      <td>2600.804099</td>\n",
       "      <td>1</td>\n",
       "    </tr>\n",
       "    <tr>\n",
       "      <th>904</th>\n",
       "      <td>25.5</td>\n",
       "      <td>15.2758</td>\n",
       "      <td>75.5811</td>\n",
       "      <td>7</td>\n",
       "      <td>3</td>\n",
       "      <td>1997.091082</td>\n",
       "      <td>280</td>\n",
       "      <td>2</td>\n",
       "      <td>2431.823590</td>\n",
       "      <td>2428.226946</td>\n",
       "      <td>2467.936859</td>\n",
       "      <td>2547.759305</td>\n",
       "      <td>2600.804099</td>\n",
       "      <td>1</td>\n",
       "    </tr>\n",
       "    <tr>\n",
       "      <th>905</th>\n",
       "      <td>80.0</td>\n",
       "      <td>24.3500</td>\n",
       "      <td>73.7477</td>\n",
       "      <td>1</td>\n",
       "      <td>3</td>\n",
       "      <td>1997.091082</td>\n",
       "      <td>91</td>\n",
       "      <td>2</td>\n",
       "      <td>2431.823590</td>\n",
       "      <td>2428.226946</td>\n",
       "      <td>2467.936859</td>\n",
       "      <td>2547.759305</td>\n",
       "      <td>2600.804099</td>\n",
       "      <td>1</td>\n",
       "    </tr>\n",
       "    <tr>\n",
       "      <th>906</th>\n",
       "      <td>16.5</td>\n",
       "      <td>9.9344</td>\n",
       "      <td>77.4768</td>\n",
       "      <td>7</td>\n",
       "      <td>3</td>\n",
       "      <td>1997.091082</td>\n",
       "      <td>279</td>\n",
       "      <td>2</td>\n",
       "      <td>2431.823590</td>\n",
       "      <td>2428.226946</td>\n",
       "      <td>2467.936859</td>\n",
       "      <td>2547.759305</td>\n",
       "      <td>2600.804099</td>\n",
       "      <td>1</td>\n",
       "    </tr>\n",
       "  </tbody>\n",
       "</table>\n",
       "<p>846 rows × 14 columns</p>\n",
       "</div>"
      ],
      "text/plain": [
       "     capacity_mw  latitude  longitude  primary_fuel  other_fuel1  \\\n",
       "0            2.5   28.1839    73.2407             6            3   \n",
       "1           98.0   24.7663    74.6090             1            3   \n",
       "2           39.2   21.9038    69.3732             7            3   \n",
       "3          135.0   23.8712    91.3602             2            3   \n",
       "4         1800.0   21.9603    82.4091             1            2   \n",
       "..           ...       ...        ...           ...          ...   \n",
       "902       1600.0   16.2949    77.3568             1            2   \n",
       "903          3.0   12.8932    78.1654             6            3   \n",
       "904         25.5   15.2758    75.5811             7            3   \n",
       "905         80.0   24.3500    73.7477             1            3   \n",
       "906         16.5    9.9344    77.4768             7            3   \n",
       "\n",
       "     commissioning_year  owner  geolocation_source  generation_gwh_2014  \\\n",
       "0           2011.000000    229                   1          2431.823590   \n",
       "1           1997.091082    258                   2          2431.823590   \n",
       "2           1997.091082      2                   2          2431.823590   \n",
       "3           2004.000000    280                   2           617.789264   \n",
       "4           2015.000000    280                   2          3035.550000   \n",
       "..                  ...    ...                 ...                  ...   \n",
       "902         2016.000000    280                   2          2431.823590   \n",
       "903         1997.091082    114                   0          2431.823590   \n",
       "904         1997.091082    280                   2          2431.823590   \n",
       "905         1997.091082     91                   2          2431.823590   \n",
       "906         1997.091082    279                   2          2431.823590   \n",
       "\n",
       "     generation_gwh_2015  generation_gwh_2016  generation_gwh_2017  \\\n",
       "0            2428.226946          2467.936859          2547.759305   \n",
       "1            2428.226946          2467.936859          2547.759305   \n",
       "2            2428.226946          2467.936859          2547.759305   \n",
       "3             843.747000           886.004428           663.774500   \n",
       "4            5916.370000          6243.000000          5385.579736   \n",
       "..                   ...                  ...                  ...   \n",
       "902             0.994875           233.596650           865.400000   \n",
       "903          2428.226946          2467.936859          2547.759305   \n",
       "904          2428.226946          2467.936859          2547.759305   \n",
       "905          2428.226946          2467.936859          2547.759305   \n",
       "906          2428.226946          2467.936859          2547.759305   \n",
       "\n",
       "     generation_gwh_2018  generation_data_source  \n",
       "0            2600.804099                       1  \n",
       "1            2600.804099                       1  \n",
       "2            2600.804099                       1  \n",
       "3             626.239128                       0  \n",
       "4            7279.000000                       0  \n",
       "..                   ...                     ...  \n",
       "902           686.500000                       0  \n",
       "903          2600.804099                       1  \n",
       "904          2600.804099                       1  \n",
       "905          2600.804099                       1  \n",
       "906          2600.804099                       1  \n",
       "\n",
       "[846 rows x 14 columns]"
      ]
     },
     "execution_count": 71,
     "metadata": {},
     "output_type": "execute_result"
    }
   ],
   "source": [
    "df1_new"
   ]
  },
  {
   "cell_type": "code",
   "execution_count": 73,
   "id": "f2c2ffee",
   "metadata": {},
   "outputs": [
    {
     "data": {
      "image/png": "[encoded data removed]",
      "text/plain": [
       "<Figure size 1584x1080 with 14 Axes>"
      ]
     },
     "metadata": {},
     "output_type": "display_data"
    }
   ],
   "source": [
    "#checking wether outliers is removed or not!!!!! by box plot\n",
    "plt.figure(figsize=(22,15),facecolor='pink')\n",
    "plotnumber=1\n",
    "\n",
    "for column in df1_new:\n",
    "    if plotnumber<=18:\n",
    "        ax=plt.subplot(3,6,plotnumber)\n",
    "        plt.boxplot(df1_new[column])\n",
    "        plt.xlabel(column)\n",
    "        \n",
    "    plotnumber+=1\n",
    ";plt.show()"
   ]
  },
  {
   "cell_type": "markdown",
   "id": "11ea23e6",
   "metadata": {},
   "source": [
    "Here we can see the outlier are still present but now we cant remove outlier as it is not best practise to apply z score method twice on data due to data loss which is suggested by shankar sir."
   ]
  },
  {
   "cell_type": "code",
   "execution_count": 74,
   "id": "5bc3d366",
   "metadata": {},
   "outputs": [
    {
     "data": {
      "text/html": [
       "<div>\n",
       "<style scoped>\n",
       "    .dataframe tbody tr th:only-of-type {\n",
       "        vertical-align: middle;\n",
       "    }\n",
       "\n",
       "    .dataframe tbody tr th {\n",
       "        vertical-align: top;\n",
       "    }\n",
       "\n",
       "    .dataframe thead th {\n",
       "        text-align: right;\n",
       "    }\n",
       "</style>\n",
       "<table border=\"1\" class=\"dataframe\">\n",
       "  <thead>\n",
       "    <tr style=\"text-align: right;\">\n",
       "      <th></th>\n",
       "      <th>capacity_mw</th>\n",
       "      <th>latitude</th>\n",
       "      <th>longitude</th>\n",
       "      <th>primary_fuel</th>\n",
       "      <th>other_fuel1</th>\n",
       "      <th>commissioning_year</th>\n",
       "      <th>owner</th>\n",
       "      <th>geolocation_source</th>\n",
       "      <th>generation_gwh_2014</th>\n",
       "      <th>generation_gwh_2015</th>\n",
       "      <th>generation_gwh_2016</th>\n",
       "      <th>generation_gwh_2017</th>\n",
       "      <th>generation_gwh_2018</th>\n",
       "      <th>generation_data_source</th>\n",
       "    </tr>\n",
       "  </thead>\n",
       "  <tbody>\n",
       "    <tr>\n",
       "      <th>count</th>\n",
       "      <td>846.000000</td>\n",
       "      <td>846.000000</td>\n",
       "      <td>846.000000</td>\n",
       "      <td>846.000000</td>\n",
       "      <td>846.000000</td>\n",
       "      <td>846.000000</td>\n",
       "      <td>846.000000</td>\n",
       "      <td>846.000000</td>\n",
       "      <td>846.000000</td>\n",
       "      <td>846.000000</td>\n",
       "      <td>846.000000</td>\n",
       "      <td>846.000000</td>\n",
       "      <td>846.000000</td>\n",
       "      <td>846.000000</td>\n",
       "    </tr>\n",
       "    <tr>\n",
       "      <th>mean</th>\n",
       "      <td>268.556727</td>\n",
       "      <td>21.116391</td>\n",
       "      <td>77.060117</td>\n",
       "      <td>3.274232</td>\n",
       "      <td>2.797872</td>\n",
       "      <td>1997.936785</td>\n",
       "      <td>223.833333</td>\n",
       "      <td>1.738771</td>\n",
       "      <td>2185.449191</td>\n",
       "      <td>2152.586283</td>\n",
       "      <td>2190.919311</td>\n",
       "      <td>2257.941826</td>\n",
       "      <td>2290.858532</td>\n",
       "      <td>0.528369</td>\n",
       "    </tr>\n",
       "    <tr>\n",
       "      <th>std</th>\n",
       "      <td>424.327486</td>\n",
       "      <td>6.117216</td>\n",
       "      <td>4.305353</td>\n",
       "      <td>2.325668</td>\n",
       "      <td>0.401824</td>\n",
       "      <td>11.101507</td>\n",
       "      <td>85.655160</td>\n",
       "      <td>0.719359</td>\n",
       "      <td>1490.489046</td>\n",
       "      <td>1530.582335</td>\n",
       "      <td>1588.211519</td>\n",
       "      <td>1630.263952</td>\n",
       "      <td>1676.727656</td>\n",
       "      <td>0.499490</td>\n",
       "    </tr>\n",
       "    <tr>\n",
       "      <th>min</th>\n",
       "      <td>0.000000</td>\n",
       "      <td>8.168900</td>\n",
       "      <td>68.644700</td>\n",
       "      <td>0.000000</td>\n",
       "      <td>2.000000</td>\n",
       "      <td>1959.000000</td>\n",
       "      <td>0.000000</td>\n",
       "      <td>0.000000</td>\n",
       "      <td>0.000000</td>\n",
       "      <td>0.000000</td>\n",
       "      <td>0.000000</td>\n",
       "      <td>0.000000</td>\n",
       "      <td>0.000000</td>\n",
       "      <td>0.000000</td>\n",
       "    </tr>\n",
       "    <tr>\n",
       "      <th>25%</th>\n",
       "      <td>16.125000</td>\n",
       "      <td>16.926400</td>\n",
       "      <td>74.275300</td>\n",
       "      <td>1.000000</td>\n",
       "      <td>3.000000</td>\n",
       "      <td>1997.091082</td>\n",
       "      <td>177.000000</td>\n",
       "      <td>2.000000</td>\n",
       "      <td>1288.251375</td>\n",
       "      <td>1058.189525</td>\n",
       "      <td>1000.404000</td>\n",
       "      <td>1014.721113</td>\n",
       "      <td>944.183763</td>\n",
       "      <td>0.000000</td>\n",
       "    </tr>\n",
       "    <tr>\n",
       "      <th>50%</th>\n",
       "      <td>50.400000</td>\n",
       "      <td>21.208800</td>\n",
       "      <td>76.748800</td>\n",
       "      <td>3.000000</td>\n",
       "      <td>3.000000</td>\n",
       "      <td>1997.091082</td>\n",
       "      <td>280.000000</td>\n",
       "      <td>2.000000</td>\n",
       "      <td>2431.823590</td>\n",
       "      <td>2428.226946</td>\n",
       "      <td>2467.936859</td>\n",
       "      <td>2547.759305</td>\n",
       "      <td>2600.804099</td>\n",
       "      <td>1.000000</td>\n",
       "    </tr>\n",
       "    <tr>\n",
       "      <th>75%</th>\n",
       "      <td>330.000000</td>\n",
       "      <td>25.136350</td>\n",
       "      <td>78.930850</td>\n",
       "      <td>6.000000</td>\n",
       "      <td>3.000000</td>\n",
       "      <td>2003.000000</td>\n",
       "      <td>280.000000</td>\n",
       "      <td>2.000000</td>\n",
       "      <td>2431.823590</td>\n",
       "      <td>2428.226946</td>\n",
       "      <td>2467.936859</td>\n",
       "      <td>2547.759305</td>\n",
       "      <td>2600.804099</td>\n",
       "      <td>1.000000</td>\n",
       "    </tr>\n",
       "    <tr>\n",
       "      <th>max</th>\n",
       "      <td>2000.000000</td>\n",
       "      <td>34.649000</td>\n",
       "      <td>91.823900</td>\n",
       "      <td>7.000000</td>\n",
       "      <td>3.000000</td>\n",
       "      <td>2018.000000</td>\n",
       "      <td>280.000000</td>\n",
       "      <td>3.000000</td>\n",
       "      <td>10063.180000</td>\n",
       "      <td>10422.690000</td>\n",
       "      <td>10503.882000</td>\n",
       "      <td>9833.690000</td>\n",
       "      <td>9859.500000</td>\n",
       "      <td>1.000000</td>\n",
       "    </tr>\n",
       "  </tbody>\n",
       "</table>\n",
       "</div>"
      ],
      "text/plain": [
       "       capacity_mw    latitude   longitude  primary_fuel  other_fuel1  \\\n",
       "count   846.000000  846.000000  846.000000    846.000000   846.000000   \n",
       "mean    268.556727   21.116391   77.060117      3.274232     2.797872   \n",
       "std     424.327486    6.117216    4.305353      2.325668     0.401824   \n",
       "min       0.000000    8.168900   68.644700      0.000000     2.000000   \n",
       "25%      16.125000   16.926400   74.275300      1.000000     3.000000   \n",
       "50%      50.400000   21.208800   76.748800      3.000000     3.000000   \n",
       "75%     330.000000   25.136350   78.930850      6.000000     3.000000   \n",
       "max    2000.000000   34.649000   91.823900      7.000000     3.000000   \n",
       "\n",
       "       commissioning_year       owner  geolocation_source  \\\n",
       "count          846.000000  846.000000          846.000000   \n",
       "mean          1997.936785  223.833333            1.738771   \n",
       "std             11.101507   85.655160            0.719359   \n",
       "min           1959.000000    0.000000            0.000000   \n",
       "25%           1997.091082  177.000000            2.000000   \n",
       "50%           1997.091082  280.000000            2.000000   \n",
       "75%           2003.000000  280.000000            2.000000   \n",
       "max           2018.000000  280.000000            3.000000   \n",
       "\n",
       "       generation_gwh_2014  generation_gwh_2015  generation_gwh_2016  \\\n",
       "count           846.000000           846.000000           846.000000   \n",
       "mean           2185.449191          2152.586283          2190.919311   \n",
       "std            1490.489046          1530.582335          1588.211519   \n",
       "min               0.000000             0.000000             0.000000   \n",
       "25%            1288.251375          1058.189525          1000.404000   \n",
       "50%            2431.823590          2428.226946          2467.936859   \n",
       "75%            2431.823590          2428.226946          2467.936859   \n",
       "max           10063.180000         10422.690000         10503.882000   \n",
       "\n",
       "       generation_gwh_2017  generation_gwh_2018  generation_data_source  \n",
       "count           846.000000           846.000000              846.000000  \n",
       "mean           2257.941826          2290.858532                0.528369  \n",
       "std            1630.263952          1676.727656                0.499490  \n",
       "min               0.000000             0.000000                0.000000  \n",
       "25%            1014.721113           944.183763                0.000000  \n",
       "50%            2547.759305          2600.804099                1.000000  \n",
       "75%            2547.759305          2600.804099                1.000000  \n",
       "max            9833.690000          9859.500000                1.000000  "
      ]
     },
     "execution_count": 74,
     "metadata": {},
     "output_type": "execute_result"
    }
   ],
   "source": [
    "df1_new.describe()"
   ]
  },
  {
   "cell_type": "markdown",
   "id": "961ff5be",
   "metadata": {},
   "source": [
    "Observation: Std dev is high in multiple columns hence possibilies are present for skwness in Data.\n",
    "    Need to remove skwness from all columns with using Power transform technique.\n",
    "    It also convert the data in same format hence we can further avoid standard scaler"
   ]
  },
  {
   "cell_type": "markdown",
   "id": "7eaa2a37",
   "metadata": {},
   "source": [
    "# Creating feature and labels"
   ]
  },
  {
   "cell_type": "code",
   "execution_count": 76,
   "id": "a05aaa54",
   "metadata": {},
   "outputs": [],
   "source": [
    "X=df1_new.drop(columns=['primary_fuel','capacity_mw'])\n",
    "\n",
    "y=df1_new.capacity_mw          \n",
    "\n",
    "y1=df1_new.primary_fuel           "
   ]
  },
  {
   "cell_type": "code",
   "execution_count": 78,
   "id": "41c9a0a4",
   "metadata": {},
   "outputs": [
    {
     "data": {
      "text/plain": [
       "0         2.5\n",
       "1        98.0\n",
       "2        39.2\n",
       "3       135.0\n",
       "4      1800.0\n",
       "        ...  \n",
       "902    1600.0\n",
       "903       3.0\n",
       "904      25.5\n",
       "905      80.0\n",
       "906      16.5\n",
       "Name: capacity_mw, Length: 846, dtype: float64"
      ]
     },
     "execution_count": 78,
     "metadata": {},
     "output_type": "execute_result"
    }
   ],
   "source": [
    "y # Capacity MW is having increment Data hence we will use Regression Model for prediction"
   ]
  },
  {
   "cell_type": "code",
   "execution_count": 79,
   "id": "b66691c1",
   "metadata": {},
   "outputs": [
    {
     "data": {
      "text/plain": [
       "0      6\n",
       "1      1\n",
       "2      7\n",
       "3      2\n",
       "4      1\n",
       "      ..\n",
       "902    1\n",
       "903    6\n",
       "904    7\n",
       "905    1\n",
       "906    7\n",
       "Name: primary_fuel, Length: 846, dtype: int32"
      ]
     },
     "execution_count": 79,
     "metadata": {},
     "output_type": "execute_result"
    }
   ],
   "source": [
    "y1 # primary_fuel is having categorical Data hence we will use classifier Model for prediction"
   ]
  },
  {
   "cell_type": "markdown",
   "id": "5e52c5a9",
   "metadata": {},
   "source": [
    "# checking skewness with skew method"
   ]
  },
  {
   "cell_type": "code",
   "execution_count": 81,
   "id": "95eb5c8d",
   "metadata": {},
   "outputs": [
    {
     "data": {
      "text/plain": [
       "generation_gwh_2014       1.528119\n",
       "generation_gwh_2016       1.415654\n",
       "generation_gwh_2015       1.393389\n",
       "generation_gwh_2018       1.317157\n",
       "generation_gwh_2017       1.278736\n",
       "longitude                 0.918369\n",
       "generation_data_source   -0.113860\n",
       "latitude                 -0.114572\n",
       "commissioning_year       -0.839580\n",
       "owner                    -1.273628\n",
       "other_fuel1              -1.486112\n",
       "geolocation_source       -1.820332\n",
       "dtype: float64"
      ]
     },
     "execution_count": 81,
     "metadata": {},
     "output_type": "execute_result"
    }
   ],
   "source": [
    "X.skew().sort_values(ascending=False) # having high skewness "
   ]
  },
  {
   "cell_type": "markdown",
   "id": "cf4e452d",
   "metadata": {},
   "source": [
    "# Removing skewness by power transform method"
   ]
  },
  {
   "cell_type": "code",
   "execution_count": 82,
   "id": "589738a8",
   "metadata": {},
   "outputs": [],
   "source": [
    "from sklearn.preprocessing import power_transform"
   ]
  },
  {
   "cell_type": "code",
   "execution_count": 83,
   "id": "5f29e7b6",
   "metadata": {},
   "outputs": [],
   "source": [
    "x_new=power_transform(X)"
   ]
  },
  {
   "cell_type": "code",
   "execution_count": 84,
   "id": "3a7594e6",
   "metadata": {},
   "outputs": [
    {
     "data": {
      "text/plain": [
       "3     0.031951\n",
       "1    -0.000234\n",
       "0    -0.070666\n",
       "5    -0.078291\n",
       "11   -0.113860\n",
       "6    -0.237727\n",
       "8    -0.298196\n",
       "7    -0.300544\n",
       "9    -0.336118\n",
       "10   -0.345208\n",
       "4    -0.958173\n",
       "2    -1.486112\n",
       "dtype: float64"
      ]
     },
     "execution_count": 84,
     "metadata": {},
     "output_type": "execute_result"
    }
   ],
   "source": [
    "pd.DataFrame(x_new).skew().sort_values(ascending=False)"
   ]
  },
  {
   "cell_type": "code",
   "execution_count": 85,
   "id": "3211e4a0",
   "metadata": {},
   "outputs": [
    {
     "data": {
      "text/plain": [
       "commissioning_year        0.031951\n",
       "longitude                -0.000234\n",
       "latitude                 -0.070666\n",
       "geolocation_source       -0.078291\n",
       "generation_data_source   -0.113860\n",
       "generation_gwh_2014      -0.237727\n",
       "generation_gwh_2016      -0.298196\n",
       "generation_gwh_2015      -0.300544\n",
       "generation_gwh_2017      -0.336118\n",
       "generation_gwh_2018      -0.345208\n",
       "owner                    -0.958173\n",
       "other_fuel1              -1.486112\n",
       "dtype: float64"
      ]
     },
     "execution_count": 85,
     "metadata": {},
     "output_type": "execute_result"
    }
   ],
   "source": [
    "pd.DataFrame(x_new,columns=X.columns).skew().sort_values(ascending=False)"
   ]
  },
  {
   "cell_type": "code",
   "execution_count": 86,
   "id": "d5e29be7",
   "metadata": {},
   "outputs": [],
   "source": [
    "x1=pd.DataFrame(x_new,columns=X.columns)"
   ]
  },
  {
   "cell_type": "code",
   "execution_count": 87,
   "id": "ab614e5d",
   "metadata": {},
   "outputs": [
    {
     "data": {
      "text/plain": [
       "commissioning_year        0.031951\n",
       "longitude                -0.000234\n",
       "latitude                 -0.070666\n",
       "geolocation_source       -0.078291\n",
       "generation_data_source   -0.113860\n",
       "generation_gwh_2014      -0.237727\n",
       "generation_gwh_2016      -0.298196\n",
       "generation_gwh_2015      -0.300544\n",
       "generation_gwh_2017      -0.336118\n",
       "generation_gwh_2018      -0.345208\n",
       "owner                    -0.958173\n",
       "other_fuel1              -1.486112\n",
       "dtype: float64"
      ]
     },
     "execution_count": 87,
     "metadata": {},
     "output_type": "execute_result"
    }
   ],
   "source": [
    "x1.skew().sort_values(ascending=False)"
   ]
  },
  {
   "cell_type": "markdown",
   "id": "6785771f",
   "metadata": {},
   "source": [
    "from All column Skwness got removed except Other_fuel1.\n",
    "\n",
    "This \"Other_fuel1\" column we cant handle by Boxcox method as well as it performs on positive Data.\n",
    "\n"
   ]
  },
  {
   "cell_type": "markdown",
   "id": "f06bb2f0",
   "metadata": {},
   "source": [
    "# USing VIF (Variance inflation Factor) to handle Multicolinearity"
   ]
  },
  {
   "cell_type": "markdown",
   "id": "581441c5",
   "metadata": {},
   "source": [
    "we can see columns'generation_gwh' are highly correlated with each other so we will check VIF score for all columns and will remove high VIF score values columns as if columns are highly corelated with each other it impact the prediction as model will not understand which column contributing more to predict the data\n",
    "\n",
    "\n",
    "VIF score is greater than 5 then we can drop this column \n",
    "\n"
   ]
  },
  {
   "cell_type": "code",
   "execution_count": 88,
   "id": "0b952a74",
   "metadata": {},
   "outputs": [
    {
     "data": {
      "text/html": [
       "<div>\n",
       "<style scoped>\n",
       "    .dataframe tbody tr th:only-of-type {\n",
       "        vertical-align: middle;\n",
       "    }\n",
       "\n",
       "    .dataframe tbody tr th {\n",
       "        vertical-align: top;\n",
       "    }\n",
       "\n",
       "    .dataframe thead th {\n",
       "        text-align: right;\n",
       "    }\n",
       "</style>\n",
       "<table border=\"1\" class=\"dataframe\">\n",
       "  <thead>\n",
       "    <tr style=\"text-align: right;\">\n",
       "      <th></th>\n",
       "      <th>feature</th>\n",
       "      <th>vif</th>\n",
       "    </tr>\n",
       "  </thead>\n",
       "  <tbody>\n",
       "    <tr>\n",
       "      <th>10</th>\n",
       "      <td>generation_gwh_2018</td>\n",
       "      <td>12.960386</td>\n",
       "    </tr>\n",
       "    <tr>\n",
       "      <th>9</th>\n",
       "      <td>generation_gwh_2017</td>\n",
       "      <td>12.618095</td>\n",
       "    </tr>\n",
       "    <tr>\n",
       "      <th>8</th>\n",
       "      <td>generation_gwh_2016</td>\n",
       "      <td>11.872752</td>\n",
       "    </tr>\n",
       "    <tr>\n",
       "      <th>7</th>\n",
       "      <td>generation_gwh_2015</td>\n",
       "      <td>7.992261</td>\n",
       "    </tr>\n",
       "    <tr>\n",
       "      <th>6</th>\n",
       "      <td>generation_gwh_2014</td>\n",
       "      <td>4.235273</td>\n",
       "    </tr>\n",
       "    <tr>\n",
       "      <th>11</th>\n",
       "      <td>generation_data_source</td>\n",
       "      <td>3.216520</td>\n",
       "    </tr>\n",
       "    <tr>\n",
       "      <th>2</th>\n",
       "      <td>other_fuel1</td>\n",
       "      <td>2.199146</td>\n",
       "    </tr>\n",
       "    <tr>\n",
       "      <th>4</th>\n",
       "      <td>owner</td>\n",
       "      <td>1.905415</td>\n",
       "    </tr>\n",
       "    <tr>\n",
       "      <th>1</th>\n",
       "      <td>longitude</td>\n",
       "      <td>1.326024</td>\n",
       "    </tr>\n",
       "    <tr>\n",
       "      <th>3</th>\n",
       "      <td>commissioning_year</td>\n",
       "      <td>1.257473</td>\n",
       "    </tr>\n",
       "    <tr>\n",
       "      <th>5</th>\n",
       "      <td>geolocation_source</td>\n",
       "      <td>1.192322</td>\n",
       "    </tr>\n",
       "    <tr>\n",
       "      <th>0</th>\n",
       "      <td>latitude</td>\n",
       "      <td>1.078482</td>\n",
       "    </tr>\n",
       "  </tbody>\n",
       "</table>\n",
       "</div>"
      ],
      "text/plain": [
       "                   feature        vif\n",
       "10     generation_gwh_2018  12.960386\n",
       "9      generation_gwh_2017  12.618095\n",
       "8      generation_gwh_2016  11.872752\n",
       "7      generation_gwh_2015   7.992261\n",
       "6      generation_gwh_2014   4.235273\n",
       "11  generation_data_source   3.216520\n",
       "2              other_fuel1   2.199146\n",
       "4                    owner   1.905415\n",
       "1                longitude   1.326024\n",
       "3       commissioning_year   1.257473\n",
       "5       geolocation_source   1.192322\n",
       "0                 latitude   1.078482"
      ]
     },
     "execution_count": 88,
     "metadata": {},
     "output_type": "execute_result"
    }
   ],
   "source": [
    "from statsmodels.stats.outliers_influence import variance_inflation_factor\n",
    "vif=pd.DataFrame()\n",
    "vif['feature']=x1.columns\n",
    "vif['vif']=[variance_inflation_factor(x1.values,i)for i in range(x1.shape[1])]\n",
    "vif.sort_values(by='vif',ascending=False)"
   ]
  },
  {
   "cell_type": "markdown",
   "id": "738ca084",
   "metadata": {},
   "source": [
    "here we can see generation_gwh_2018 columns has high VIF value so we can drop this column"
   ]
  },
  {
   "cell_type": "code",
   "execution_count": 89,
   "id": "7a098e3a",
   "metadata": {},
   "outputs": [],
   "source": [
    "x1.drop(columns='generation_gwh_2018',axis=1,inplace=True)"
   ]
  },
  {
   "cell_type": "markdown",
   "id": "c62e0d01",
   "metadata": {},
   "source": [
    "Applying multicollinearity again to remove another column if it is highly corelated"
   ]
  },
  {
   "cell_type": "code",
   "execution_count": 90,
   "id": "f4f28133",
   "metadata": {},
   "outputs": [
    {
     "data": {
      "text/html": [
       "<div>\n",
       "<style scoped>\n",
       "    .dataframe tbody tr th:only-of-type {\n",
       "        vertical-align: middle;\n",
       "    }\n",
       "\n",
       "    .dataframe tbody tr th {\n",
       "        vertical-align: top;\n",
       "    }\n",
       "\n",
       "    .dataframe thead th {\n",
       "        text-align: right;\n",
       "    }\n",
       "</style>\n",
       "<table border=\"1\" class=\"dataframe\">\n",
       "  <thead>\n",
       "    <tr style=\"text-align: right;\">\n",
       "      <th></th>\n",
       "      <th>feature</th>\n",
       "      <th>vif</th>\n",
       "    </tr>\n",
       "  </thead>\n",
       "  <tbody>\n",
       "    <tr>\n",
       "      <th>8</th>\n",
       "      <td>generation_gwh_2016</td>\n",
       "      <td>11.156978</td>\n",
       "    </tr>\n",
       "    <tr>\n",
       "      <th>7</th>\n",
       "      <td>generation_gwh_2015</td>\n",
       "      <td>7.977147</td>\n",
       "    </tr>\n",
       "    <tr>\n",
       "      <th>9</th>\n",
       "      <td>generation_gwh_2017</td>\n",
       "      <td>5.879231</td>\n",
       "    </tr>\n",
       "    <tr>\n",
       "      <th>6</th>\n",
       "      <td>generation_gwh_2014</td>\n",
       "      <td>4.209589</td>\n",
       "    </tr>\n",
       "    <tr>\n",
       "      <th>10</th>\n",
       "      <td>generation_data_source</td>\n",
       "      <td>3.199206</td>\n",
       "    </tr>\n",
       "    <tr>\n",
       "      <th>2</th>\n",
       "      <td>other_fuel1</td>\n",
       "      <td>2.196801</td>\n",
       "    </tr>\n",
       "    <tr>\n",
       "      <th>4</th>\n",
       "      <td>owner</td>\n",
       "      <td>1.905408</td>\n",
       "    </tr>\n",
       "    <tr>\n",
       "      <th>1</th>\n",
       "      <td>longitude</td>\n",
       "      <td>1.324688</td>\n",
       "    </tr>\n",
       "    <tr>\n",
       "      <th>3</th>\n",
       "      <td>commissioning_year</td>\n",
       "      <td>1.255654</td>\n",
       "    </tr>\n",
       "    <tr>\n",
       "      <th>5</th>\n",
       "      <td>geolocation_source</td>\n",
       "      <td>1.192319</td>\n",
       "    </tr>\n",
       "    <tr>\n",
       "      <th>0</th>\n",
       "      <td>latitude</td>\n",
       "      <td>1.078101</td>\n",
       "    </tr>\n",
       "  </tbody>\n",
       "</table>\n",
       "</div>"
      ],
      "text/plain": [
       "                   feature        vif\n",
       "8      generation_gwh_2016  11.156978\n",
       "7      generation_gwh_2015   7.977147\n",
       "9      generation_gwh_2017   5.879231\n",
       "6      generation_gwh_2014   4.209589\n",
       "10  generation_data_source   3.199206\n",
       "2              other_fuel1   2.196801\n",
       "4                    owner   1.905408\n",
       "1                longitude   1.324688\n",
       "3       commissioning_year   1.255654\n",
       "5       geolocation_source   1.192319\n",
       "0                 latitude   1.078101"
      ]
     },
     "execution_count": 90,
     "metadata": {},
     "output_type": "execute_result"
    }
   ],
   "source": [
    "from statsmodels.stats.outliers_influence import variance_inflation_factor\n",
    "vif=pd.DataFrame()\n",
    "vif['feature']=x1.columns\n",
    "vif['vif']=[variance_inflation_factor(x1.values,i)for i in range(x1.shape[1])]\n",
    "vif.sort_values(by='vif',ascending=False)"
   ]
  },
  {
   "cell_type": "markdown",
   "id": "43859da9",
   "metadata": {},
   "source": [
    "here we can see generation_gwh_2016 columns has high VIF value so we can drop this column"
   ]
  },
  {
   "cell_type": "code",
   "execution_count": 91,
   "id": "6d65828e",
   "metadata": {},
   "outputs": [],
   "source": [
    "x1.drop(columns='generation_gwh_2016',axis=1,inplace=True)"
   ]
  },
  {
   "cell_type": "markdown",
   "id": "70e2bcaf",
   "metadata": {},
   "source": [
    "Applying multicollinearity again to remove another column if it is highly corelated"
   ]
  },
  {
   "cell_type": "code",
   "execution_count": 92,
   "id": "83279fde",
   "metadata": {},
   "outputs": [
    {
     "data": {
      "text/html": [
       "<div>\n",
       "<style scoped>\n",
       "    .dataframe tbody tr th:only-of-type {\n",
       "        vertical-align: middle;\n",
       "    }\n",
       "\n",
       "    .dataframe tbody tr th {\n",
       "        vertical-align: top;\n",
       "    }\n",
       "\n",
       "    .dataframe thead th {\n",
       "        text-align: right;\n",
       "    }\n",
       "</style>\n",
       "<table border=\"1\" class=\"dataframe\">\n",
       "  <thead>\n",
       "    <tr style=\"text-align: right;\">\n",
       "      <th></th>\n",
       "      <th>feature</th>\n",
       "      <th>vif</th>\n",
       "    </tr>\n",
       "  </thead>\n",
       "  <tbody>\n",
       "    <tr>\n",
       "      <th>7</th>\n",
       "      <td>generation_gwh_2015</td>\n",
       "      <td>5.207010</td>\n",
       "    </tr>\n",
       "    <tr>\n",
       "      <th>6</th>\n",
       "      <td>generation_gwh_2014</td>\n",
       "      <td>4.209403</td>\n",
       "    </tr>\n",
       "    <tr>\n",
       "      <th>8</th>\n",
       "      <td>generation_gwh_2017</td>\n",
       "      <td>3.234718</td>\n",
       "    </tr>\n",
       "    <tr>\n",
       "      <th>9</th>\n",
       "      <td>generation_data_source</td>\n",
       "      <td>3.180330</td>\n",
       "    </tr>\n",
       "    <tr>\n",
       "      <th>2</th>\n",
       "      <td>other_fuel1</td>\n",
       "      <td>2.190367</td>\n",
       "    </tr>\n",
       "    <tr>\n",
       "      <th>4</th>\n",
       "      <td>owner</td>\n",
       "      <td>1.905180</td>\n",
       "    </tr>\n",
       "    <tr>\n",
       "      <th>1</th>\n",
       "      <td>longitude</td>\n",
       "      <td>1.317191</td>\n",
       "    </tr>\n",
       "    <tr>\n",
       "      <th>3</th>\n",
       "      <td>commissioning_year</td>\n",
       "      <td>1.243604</td>\n",
       "    </tr>\n",
       "    <tr>\n",
       "      <th>5</th>\n",
       "      <td>geolocation_source</td>\n",
       "      <td>1.192201</td>\n",
       "    </tr>\n",
       "    <tr>\n",
       "      <th>0</th>\n",
       "      <td>latitude</td>\n",
       "      <td>1.076447</td>\n",
       "    </tr>\n",
       "  </tbody>\n",
       "</table>\n",
       "</div>"
      ],
      "text/plain": [
       "                  feature       vif\n",
       "7     generation_gwh_2015  5.207010\n",
       "6     generation_gwh_2014  4.209403\n",
       "8     generation_gwh_2017  3.234718\n",
       "9  generation_data_source  3.180330\n",
       "2             other_fuel1  2.190367\n",
       "4                   owner  1.905180\n",
       "1               longitude  1.317191\n",
       "3      commissioning_year  1.243604\n",
       "5      geolocation_source  1.192201\n",
       "0                latitude  1.076447"
      ]
     },
     "execution_count": 92,
     "metadata": {},
     "output_type": "execute_result"
    }
   ],
   "source": [
    "from statsmodels.stats.outliers_influence import variance_inflation_factor\n",
    "vif=pd.DataFrame()\n",
    "vif['feature']=x1.columns\n",
    "vif['vif']=[variance_inflation_factor(x1.values,i)for i in range(x1.shape[1])]\n",
    "vif.sort_values(by='vif',ascending=False)"
   ]
  },
  {
   "cell_type": "markdown",
   "id": "f46a0260",
   "metadata": {},
   "source": [
    "Now all columns are near and less than VIF score 5 hence further we will not drop any column as to prevent Data loss"
   ]
  },
  {
   "cell_type": "code",
   "execution_count": 93,
   "id": "0cb33ae2",
   "metadata": {},
   "outputs": [
    {
     "data": {
      "text/plain": [
       "(846, 10)"
      ]
     },
     "execution_count": 93,
     "metadata": {},
     "output_type": "execute_result"
    }
   ],
   "source": [
    "x1.shape"
   ]
  },
  {
   "cell_type": "code",
   "execution_count": 94,
   "id": "0d514be6",
   "metadata": {},
   "outputs": [
    {
     "data": {
      "text/plain": [
       "(846,)"
      ]
     },
     "execution_count": 94,
     "metadata": {},
     "output_type": "execute_result"
    }
   ],
   "source": [
    "y.shape"
   ]
  },
  {
   "cell_type": "code",
   "execution_count": 95,
   "id": "8c0838db",
   "metadata": {},
   "outputs": [
    {
     "data": {
      "text/plain": [
       "(846,)"
      ]
     },
     "execution_count": 95,
     "metadata": {},
     "output_type": "execute_result"
    }
   ],
   "source": [
    "y1.shape"
   ]
  },
  {
   "cell_type": "code",
   "execution_count": null,
   "id": "3ec31bde",
   "metadata": {},
   "outputs": [],
   "source": []
  },
  {
   "cell_type": "markdown",
   "id": "74773ac3",
   "metadata": {},
   "source": [
    "# Output Column: Capacity MW"
   ]
  },
  {
   "cell_type": "markdown",
   "id": "ca5ffb66",
   "metadata": {},
   "source": [
    "# Using Linear Regression Algorithm"
   ]
  },
  {
   "cell_type": "code",
   "execution_count": 125,
   "id": "73d2a2bb",
   "metadata": {},
   "outputs": [
    {
     "name": "stdout",
     "output_type": "stream",
     "text": [
      "accuracy 0.7805742864451615 Random state 0.1\n",
      "accuracy 0.8467296468703088 Random state 0.11\n",
      "accuracy 0.8507313007519999 Random state 0.36\n",
      "Best accuracy is 85.07313007519998 on Random state 0.36\n"
     ]
    }
   ],
   "source": [
    "#To get best Test size number from 1 to 40%\n",
    "from sklearn.linear_model import LinearRegression\n",
    "from sklearn.ensemble import RandomForestRegressor \n",
    "from sklearn.neighbors import KNeighborsRegressor\n",
    "from sklearn.svm import SVR\n",
    "#from sklearn.naive_bayes import MultinomialNB\n",
    "from sklearn.metrics import accuracy_score\n",
    "from sklearn.metrics import confusion_matrix,classification_report\n",
    "from sklearn.metrics import mean_squared_error,mean_absolute_error\n",
    "from sklearn.model_selection import train_test_split\n",
    "\n",
    "\n",
    "maxAcc = 0\n",
    "maxRs=0\n",
    "\n",
    "for i in range(10,41):\n",
    "    i1=i*0.010\n",
    "    x_train, x_test, y_train, y_test= train_test_split(x1,y,test_size=i1)\n",
    "    lr=LinearRegression()\n",
    "    lr.fit(x_train,y_train)\n",
    "    pred=lr.predict(x_test)\n",
    "    acc=lr.score(x_test,y_test)\n",
    "    #print('accuracy',acc,'Random state',i)\n",
    "    \n",
    "    if acc>maxAcc:\n",
    "        maxAcc=acc\n",
    "        maxRs=i1\n",
    "        print('accuracy',maxAcc,'Random state',i1)\n",
    "print(\"Best accuracy is\",maxAcc*100,\"on Random state\",maxRs)"
   ]
  },
  {
   "cell_type": "code",
   "execution_count": 126,
   "id": "ac25f93c",
   "metadata": {},
   "outputs": [
    {
     "name": "stdout",
     "output_type": "stream",
     "text": [
      "accuracy 0.7936167484660386 Random state 1\n",
      "accuracy 0.7983241998012134 Random state 3\n",
      "accuracy 0.8175594569534052 Random state 21\n",
      "accuracy 0.8218975809040223 Random state 61\n",
      "accuracy 0.8242494162636109 Random state 126\n",
      "Best accuracy is 82.42494162636109 on Random state 126\n"
     ]
    }
   ],
   "source": [
    "maxAcc = 0\n",
    "maxRs=0\n",
    "\n",
    "for i in range(1,500):\n",
    "    x_train, x_test, y_train, y_test= train_test_split(x1,y,test_size=0.36,random_state=i) \n",
    "    lr=LinearRegression()\n",
    "    lr.fit(x_train,y_train)\n",
    "    pred=lr.predict(x_test)\n",
    "    acc=lr.score(x_test,y_test)\n",
    "    #print('accuracy',acc,'Random state',i)\n",
    "    \n",
    "    if acc>maxAcc:\n",
    "        maxAcc=acc\n",
    "        maxRs=i\n",
    "        print('accuracy',maxAcc,'Random state',i)\n",
    "        \n",
    "print(\"Best accuracy is\",maxAcc*100,\"on Random state\",maxRs) "
   ]
  },
  {
   "cell_type": "markdown",
   "id": "fa18a87f",
   "metadata": {},
   "source": [
    "# Using train_test_split¶"
   ]
  },
  {
   "cell_type": "code",
   "execution_count": 129,
   "id": "fe60af71",
   "metadata": {},
   "outputs": [
    {
     "data": {
      "text/plain": [
       "(82.42494162636109, 106.37300618196805, 182.16443256315537)"
      ]
     },
     "execution_count": 129,
     "metadata": {},
     "output_type": "execute_result"
    }
   ],
   "source": [
    "from sklearn.metrics import r2_score\n",
    "from sklearn.metrics import mean_squared_error,mean_absolute_error\n",
    "from sklearn.model_selection import train_test_split\n",
    "from sklearn.metrics import accuracy_score\n",
    "from sklearn.metrics import confusion_matrix,classification_report\n",
    "\n",
    "x_train, x_test, y_train, y_test= train_test_split(x1,y,test_size=0.36,random_state=126)\n",
    "lr=LinearRegression()\n",
    "lr.fit(x_train,y_train)\n",
    "pred=lr.predict(x_test)\n",
    "acc=lr.score(x_test,y_test)\n",
    "\n",
    "\n",
    "#print(\"predicted values\",pred)\n",
    "#print(\"predicted values\",y_test)\n",
    "r2_score(y_test, pred)*100, mean_absolute_error(y_test, pred), np.sqrt(mean_squared_error(y_test, pred))"
   ]
  },
  {
   "cell_type": "markdown",
   "id": "7a02daed",
   "metadata": {},
   "source": [
    "The Linear regression is giving 82.42% acuracy"
   ]
  },
  {
   "cell_type": "markdown",
   "id": "f94c987e",
   "metadata": {},
   "source": [
    "# USing Decision Tree Regressor algorithm"
   ]
  },
  {
   "cell_type": "code",
   "execution_count": 133,
   "id": "2fff46c1",
   "metadata": {},
   "outputs": [
    {
     "name": "stdout",
     "output_type": "stream",
     "text": [
      "accuracy 0.3573649124211855 Random state 0.1\n",
      "accuracy 0.6108288428982676 Random state 0.11\n",
      "accuracy 0.7217429790625469 Random state 0.12\n",
      "accuracy 0.7525977689407225 Random state 0.18\n",
      "accuracy 0.7623934219107414 Random state 0.26\n",
      "accuracy 0.7990157460951348 Random state 0.27\n",
      "Best accuracy is 79.90157460951349 on Random state 0.27\n"
     ]
    }
   ],
   "source": [
    "#finding best testsize \n",
    "from sklearn.tree import DecisionTreeRegressor\n",
    "\n",
    "maxAcc = 0\n",
    "maxRs=0\n",
    "\n",
    "for i in range(10,41):\n",
    "    i1=i*0.010\n",
    "    x_train, x_test, y_train, y_test= train_test_split(x1,y,test_size=i1)\n",
    "    dt=DecisionTreeRegressor()\n",
    "    dt.fit(x_train,y_train)\n",
    "    pred=dt.predict(x_test)\n",
    "    acc=dt.score(x_test,y_test)\n",
    "    #print('accuracy',acc,'Random state',i)\n",
    "    \n",
    "    if acc>maxAcc:\n",
    "        maxAcc=acc\n",
    "        maxRs=i1\n",
    "        print('accuracy',maxAcc,'Random state',i1)\n",
    "print(\"Best accuracy is\",maxAcc*100,\"on Random state\",maxRs)"
   ]
  },
  {
   "cell_type": "markdown",
   "id": "a275f0ae",
   "metadata": {},
   "source": [
    "# finding best random state"
   ]
  },
  {
   "cell_type": "code",
   "execution_count": 134,
   "id": "465d7cfd",
   "metadata": {},
   "outputs": [
    {
     "name": "stdout",
     "output_type": "stream",
     "text": [
      "accuracy 0.6567404920168223 Random state 1\n",
      "accuracy 0.7673453679503219 Random state 3\n",
      "accuracy 0.7750607589990095 Random state 194\n",
      "accuracy 0.7769474095893258 Random state 444\n",
      "Best accuracy is 77.69474095893258 on Random state 444\n"
     ]
    }
   ],
   "source": [
    "#finding best random state\n",
    "maxAcc = 0\n",
    "maxRs=0\n",
    "\n",
    "for i in range(1,500):\n",
    "    x_train, x_test, y_train, y_test= train_test_split(x1,y,test_size=0.27,random_state=i) #12 - 77.41\n",
    "    dt=DecisionTreeRegressor()\n",
    "    dt.fit(x_train,y_train)\n",
    "    pred=dt.predict(x_test)\n",
    "    acc=dt.score(x_test,y_test)\n",
    "    #print('accuracy',acc,'Random state',i)\n",
    "    \n",
    "    if acc>maxAcc:\n",
    "        maxAcc=acc\n",
    "        maxRs=i\n",
    "        print('accuracy',maxAcc,'Random state',i)\n",
    "        \n",
    "print(\"Best accuracy is\",maxAcc*100,\"on Random state\",maxRs) "
   ]
  },
  {
   "cell_type": "markdown",
   "id": "dc3a9463",
   "metadata": {},
   "source": [
    "# checking accuracy"
   ]
  },
  {
   "cell_type": "code",
   "execution_count": 135,
   "id": "599599b3",
   "metadata": {},
   "outputs": [
    {
     "data": {
      "text/plain": [
       "(78.78949862355486, 103.30316812227073, 187.30748126043372)"
      ]
     },
     "execution_count": 135,
     "metadata": {},
     "output_type": "execute_result"
    }
   ],
   "source": [
    "from sklearn.metrics import r2_score\n",
    "from sklearn.metrics import mean_squared_error,mean_absolute_error\n",
    "from sklearn.model_selection import train_test_split\n",
    "from sklearn.metrics import accuracy_score\n",
    "from sklearn.metrics import confusion_matrix,classification_report\n",
    "\n",
    "x_train, x_test, y_train, y_test= train_test_split(x1,y,test_size=0.27,random_state=444) \n",
    "dt=DecisionTreeRegressor()\n",
    "dt.fit(x_train,y_train)\n",
    "pred=dt.predict(x_test)\n",
    "acc=dt.score(x_test,y_test)\n",
    "\n",
    "\n",
    "#print(\"predicted values\",pred)\n",
    "#print(\"predicted values\",y_test)\n",
    "r2_score(y_test, pred)*100, mean_absolute_error(y_test, pred), np.sqrt(mean_squared_error(y_test, pred))"
   ]
  },
  {
   "cell_type": "markdown",
   "id": "bec65b51",
   "metadata": {},
   "source": [
    "descision tree regressor is giving 78.78 accuracy"
   ]
  },
  {
   "cell_type": "markdown",
   "id": "1eb6ef42",
   "metadata": {},
   "source": [
    "# Using Random Forest Regressor algorithm"
   ]
  },
  {
   "cell_type": "code",
   "execution_count": 98,
   "id": "60618180",
   "metadata": {},
   "outputs": [
    {
     "name": "stdout",
     "output_type": "stream",
     "text": [
      "accuracy 0.8405573038359802 Random state 0.09\n",
      "accuracy 0.8472232593806817 Random state 0.1\n",
      "Best accuracy is 84.72232593806817 on Random state 0.1\n"
     ]
    }
   ],
   "source": [
    "from sklearn.metrics import r2_score\n",
    "from sklearn.metrics import mean_squared_error,mean_absolute_error\n",
    "from sklearn.model_selection import train_test_split\n",
    "from sklearn.metrics import accuracy_score\n",
    "from sklearn.metrics import confusion_matrix,classification_report\n",
    "\n",
    "#finding best testsize \n",
    "from sklearn.ensemble import RandomForestRegressor \n",
    "\n",
    "maxAcc = 0\n",
    "maxRs=0\n",
    "\n",
    "for i in range(9,41):\n",
    "    i1=i*0.01\n",
    "    x_train, x_test, y_train, y_test= train_test_split(x1,y,test_size=i1)\n",
    "    rf=RandomForestRegressor()\n",
    "    rf.fit(x_train,y_train)\n",
    "    pred=rf.predict(x_test)\n",
    "    acc=rf.score(x_test,y_test)\n",
    "    #print('accuracy',acc,'Random state',i)\n",
    "    \n",
    "    if acc>maxAcc:\n",
    "        maxAcc=acc\n",
    "        maxRs=i1\n",
    "        print('accuracy',maxAcc,'Random state',i1)\n",
    "print(\"Best accuracy is\",maxAcc*100,\"on Random state\",maxRs)"
   ]
  },
  {
   "cell_type": "markdown",
   "id": "a54ef1f8",
   "metadata": {},
   "source": [
    "# finding best random state"
   ]
  },
  {
   "cell_type": "code",
   "execution_count": 99,
   "id": "a5bf6aff",
   "metadata": {},
   "outputs": [
    {
     "name": "stdout",
     "output_type": "stream",
     "text": [
      "accuracy 0.8160546278840892 Random state 1\n",
      "accuracy 0.8654370934780999 Random state 3\n",
      "accuracy 0.8718958338385908 Random state 273\n",
      "Best accuracy is 87.18958338385909 on Random state 273\n"
     ]
    }
   ],
   "source": [
    "#finding best random state\n",
    "maxAcc = 0\n",
    "maxRs=0\n",
    "\n",
    "for i in range(1,400):\n",
    "    x_train, x_test, y_train, y_test= train_test_split(x1,y,test_size=0.28,random_state=i)\n",
    "    rf=RandomForestRegressor()\n",
    "    rf.fit(x_train,y_train)\n",
    "    pred=rf.predict(x_test)\n",
    "    acc=rf.score(x_test,y_test)\n",
    "    #print('accuracy',acc,'Random state',i)\n",
    "    \n",
    "    if acc>maxAcc:\n",
    "        maxAcc=acc\n",
    "        maxRs=i\n",
    "        print('accuracy',maxAcc,'Random state',i)\n",
    "        \n",
    "print(\"Best accuracy is\",maxAcc*100,\"on Random state\",maxRs) "
   ]
  },
  {
   "cell_type": "markdown",
   "id": "19901d43",
   "metadata": {},
   "source": [
    "# checking accuracy"
   ]
  },
  {
   "cell_type": "code",
   "execution_count": 100,
   "id": "20556f76",
   "metadata": {},
   "outputs": [
    {
     "data": {
      "text/plain": [
       "(87.30590312316555, 95.55521455495278, 161.9284024123667)"
      ]
     },
     "execution_count": 100,
     "metadata": {},
     "output_type": "execute_result"
    }
   ],
   "source": [
    "from sklearn.metrics import r2_score\n",
    "from sklearn.metrics import mean_squared_error,mean_absolute_error\n",
    "from sklearn.model_selection import train_test_split\n",
    "from sklearn.metrics import accuracy_score\n",
    "from sklearn.metrics import confusion_matrix,classification_report\n",
    "\n",
    "x_train, x_test, y_train, y_test= train_test_split(x1,y,test_size=0.28,random_state=273) \n",
    "rf=RandomForestRegressor()\n",
    "rf.fit(x_train,y_train)\n",
    "pred=rf.predict(x_test)\n",
    "acc=rf.score(x_test,y_test)\n",
    "pred_f=y_test\n",
    "\n",
    "\n",
    "#print(\"predicted values\",pred)\n",
    "#print(\"predicted values\",y_test)\n",
    "r2_score(y_test, pred)*100, mean_absolute_error(y_test, pred), np.sqrt(mean_squared_error(y_test, pred))"
   ]
  },
  {
   "cell_type": "markdown",
   "id": "f825ba26",
   "metadata": {},
   "source": [
    "Random algorithm will giving    86.78 % accuracy"
   ]
  },
  {
   "cell_type": "markdown",
   "id": "686eecc3",
   "metadata": {},
   "source": [
    "# using Knneighborsregressor"
   ]
  },
  {
   "cell_type": "code",
   "execution_count": 140,
   "id": "9224078d",
   "metadata": {},
   "outputs": [
    {
     "name": "stdout",
     "output_type": "stream",
     "text": [
      "accuracy 0.7594547129655124 Random state 0.1\n",
      "accuracy 0.800438733271357 Random state 0.12\n",
      "accuracy 0.8818465061688159 Random state 0.18\n",
      "accuracy 0.8819936514029902 Random state 0.2\n",
      "Best accuracy is 88.19936514029902 on Random state 0.2\n"
     ]
    }
   ],
   "source": [
    "#To get best Test size number from 1 to 40%\n",
    "from sklearn.linear_model import LinearRegression\n",
    "from sklearn.ensemble import RandomForestRegressor \n",
    "from sklearn.neighbors import KNeighborsRegressor\n",
    "from sklearn.svm import SVR\n",
    "#from sklearn.naive_bayes import MultinomialNB\n",
    "from sklearn.metrics import accuracy_score\n",
    "from sklearn.metrics import confusion_matrix,classification_report\n",
    "from sklearn.metrics import mean_squared_error,mean_absolute_error\n",
    "from sklearn.model_selection import train_test_split\n",
    "\n",
    "\n",
    "maxAcc = 0\n",
    "maxRs=0\n",
    "\n",
    "for i in range(10,41):\n",
    "    i1=i*0.010\n",
    "    x_train, x_test, y_train, y_test= train_test_split(x1,y,test_size=i1)\n",
    "    knr=KNeighborsRegressor()\n",
    "    knr.fit(x_train,y_train)\n",
    "    pred=knr.predict(x_test)\n",
    "    acc=knr.score(x_test,y_test)\n",
    "    #print('accuracy',acc,'Random state',i)\n",
    "    \n",
    "    if acc>maxAcc:\n",
    "        maxAcc=acc\n",
    "        maxRs=i1\n",
    "        print('accuracy',maxAcc,'Random state',i1)\n",
    "print(\"Best accuracy is\",maxAcc*100,\"on Random state\",maxRs)"
   ]
  },
  {
   "cell_type": "markdown",
   "id": "679599ac",
   "metadata": {},
   "source": [
    "# finding best random state¶"
   ]
  },
  {
   "cell_type": "code",
   "execution_count": 141,
   "id": "447d7969",
   "metadata": {},
   "outputs": [
    {
     "name": "stdout",
     "output_type": "stream",
     "text": [
      "accuracy 0.8005309383847925 Random state 1\n",
      "accuracy 0.8260425743162915 Random state 3\n",
      "accuracy 0.8267668056240749 Random state 21\n",
      "accuracy 0.8333594607307422 Random state 22\n",
      "accuracy 0.8606563604108539 Random state 31\n",
      "accuracy 0.8679253785040782 Random state 198\n",
      "accuracy 0.8693533318476638 Random state 270\n",
      "accuracy 0.8765477528878864 Random state 334\n",
      "Best accuracy is 87.65477528878864 on Random state 334\n"
     ]
    }
   ],
   "source": [
    "#finding best random state\n",
    "maxAcc = 0\n",
    "maxRs=0\n",
    "\n",
    "for i in range(1,400):\n",
    "    x_train, x_test, y_train, y_test= train_test_split(x1,y,test_size=0.2,random_state=i) \n",
    "    knr=KNeighborsRegressor()\n",
    "    knr.fit(x_train,y_train)\n",
    "    pred=knr.predict(x_test)\n",
    "    acc=knr.score(x_test,y_test)\n",
    "    #print('accuracy',acc,'Random state',i)\n",
    "    \n",
    "    if acc>maxAcc:\n",
    "        maxAcc=acc\n",
    "        maxRs=i\n",
    "        print('accuracy',maxAcc,'Random state',i)\n",
    "        \n",
    "print(\"Best accuracy is\",maxAcc*100,\"on Random state\",maxRs) "
   ]
  },
  {
   "cell_type": "markdown",
   "id": "12e074a6",
   "metadata": {},
   "source": [
    "# checking accuracy"
   ]
  },
  {
   "cell_type": "code",
   "execution_count": 142,
   "id": "82094e2a",
   "metadata": {},
   "outputs": [
    {
     "data": {
      "text/plain": [
       "(87.65477528878864, 81.47007647058824, 149.40341744531187)"
      ]
     },
     "execution_count": 142,
     "metadata": {},
     "output_type": "execute_result"
    }
   ],
   "source": [
    "from sklearn.metrics import r2_score\n",
    "from sklearn.metrics import mean_squared_error,mean_absolute_error\n",
    "from sklearn.model_selection import train_test_split\n",
    "from sklearn.metrics import accuracy_score\n",
    "from sklearn.metrics import confusion_matrix,classification_report\n",
    "\n",
    "x_train, x_test, y_train, y_test= train_test_split(x1,y,test_size=0.2,random_state=334) \n",
    "knr=KNeighborsRegressor()\n",
    "knr.fit(x_train,y_train)\n",
    "pred=knr.predict(x_test)\n",
    "acc=knr.score(x_test,y_test)\n",
    "pred_f=y_test\n",
    "\n",
    "\n",
    "#print(\"predicted values\",pred)\n",
    "#print(\"predicted values\",y_test)\n",
    "r2_score(y_test, pred)*100, mean_absolute_error(y_test, pred), np.sqrt(mean_squared_error(y_test, pred))"
   ]
  },
  {
   "cell_type": "markdown",
   "id": "6dcf5f55",
   "metadata": {},
   "source": [
    "KNeighborsRegressor is giving 87.65% acccuracy"
   ]
  },
  {
   "cell_type": "markdown",
   "id": "6e881100",
   "metadata": {},
   "source": [
    "as we can see we have multiple model which are predicting Good so to check final accuracy we will apply cross validation to check overfitting and underfitting Data."
   ]
  },
  {
   "cell_type": "markdown",
   "id": "b074ad57",
   "metadata": {},
   "source": [
    "# checking cross validation for all algorithms"
   ]
  },
  {
   "cell_type": "code",
   "execution_count": 102,
   "id": "f2a82b81",
   "metadata": {},
   "outputs": [],
   "source": [
    "from sklearn.model_selection import cross_val_score"
   ]
  },
  {
   "cell_type": "code",
   "execution_count": 144,
   "id": "eb0b42ea",
   "metadata": {},
   "outputs": [
    {
     "name": "stdout",
     "output_type": "stream",
     "text": [
      "cross validation score 0.742277681801538\n"
     ]
    }
   ],
   "source": [
    "#linear regression\n",
    "scr=cross_val_score(lr,x1,y)\n",
    "print('cross validation score',scr.mean())"
   ]
  },
  {
   "cell_type": "code",
   "execution_count": 145,
   "id": "a79aa930",
   "metadata": {},
   "outputs": [
    {
     "name": "stdout",
     "output_type": "stream",
     "text": [
      "cross validation score 0.528046616746497\n"
     ]
    }
   ],
   "source": [
    "#desicion treeregressor\n",
    "scr=cross_val_score(dt,x1,y)\n",
    "print('cross validation score',scr.mean())"
   ]
  },
  {
   "cell_type": "code",
   "execution_count": 103,
   "id": "dd67cf89",
   "metadata": {},
   "outputs": [
    {
     "name": "stdout",
     "output_type": "stream",
     "text": [
      "cross validation score 0.772901614777975\n"
     ]
    }
   ],
   "source": [
    "#random forest regressor\n",
    "scr=cross_val_score(rf,x1,y)\n",
    "print('cross validation score',scr.mean())"
   ]
  },
  {
   "cell_type": "code",
   "execution_count": 147,
   "id": "205bec85",
   "metadata": {},
   "outputs": [
    {
     "name": "stdout",
     "output_type": "stream",
     "text": [
      "cross validation score 0.7469807131529818\n"
     ]
    }
   ],
   "source": [
    "#Knregressor\n",
    "scr=cross_val_score(knr,x1,y)\n",
    "print('cross validation score',scr.mean())"
   ]
  },
  {
   "cell_type": "markdown",
   "id": "04fb02f7",
   "metadata": {},
   "source": [
    "# Final Conclusion: Random Forest is giving Highest Accuracy"
   ]
  },
  {
   "cell_type": "markdown",
   "id": "39d08dab",
   "metadata": {},
   "source": [
    "hence we will use Hyper parameter tunning to run model on mutilple parameter and will select the best combination for model to predict highest and most accurate prediction"
   ]
  },
  {
   "cell_type": "markdown",
   "id": "40588983",
   "metadata": {},
   "source": [
    "# Using hyperparameter tunning"
   ]
  },
  {
   "cell_type": "code",
   "execution_count": 163,
   "id": "b59e4c1f",
   "metadata": {},
   "outputs": [
    {
     "name": "stdout",
     "output_type": "stream",
     "text": [
      "best_params: {'criterion': 'mae', 'max_depth': 10, 'max_features': 'auto', 'n_estimators': 5}\n",
      "0.8560748964235134\n",
      "CV: 2\n",
      "best_params: {'criterion': 'mae', 'max_depth': 10, 'max_features': 'auto', 'n_estimators': 5}\n",
      "0.8406226325109208\n",
      "CV: 3\n",
      "best_params: {'criterion': 'mae', 'max_depth': 10, 'max_features': 'auto', 'n_estimators': 5}\n",
      "0.83703253099427\n",
      "CV: 4\n",
      "best_params: {'criterion': 'mae', 'max_depth': 10, 'max_features': 'auto', 'n_estimators': 5}\n",
      "0.8586189089985136\n",
      "CV: 5\n",
      "best_params: {'criterion': 'mae', 'max_depth': 10, 'max_features': 'auto', 'n_estimators': 5}\n",
      "0.8525387493720229\n",
      "CV: 6\n",
      "best_params: {'criterion': 'mae', 'max_depth': 10, 'max_features': 'auto', 'n_estimators': 5}\n",
      "0.8475001753547224\n",
      "CV: 7\n",
      "best_params: {'criterion': 'mae', 'max_depth': 10, 'max_features': 'auto', 'n_estimators': 5}\n",
      "0.8248663688700762\n",
      "CV: 8\n",
      "best_params: {'criterion': 'mae', 'max_depth': 10, 'max_features': 'auto', 'n_estimators': 5}\n",
      "0.8195782545236924\n",
      "CV: 9\n",
      "best_params: {'criterion': 'mae', 'max_depth': 10, 'max_features': 'auto', 'n_estimators': 5}\n",
      "0.8563879098520142\n",
      "CV: 10\n",
      "best_params: {'criterion': 'mae', 'max_depth': 10, 'max_features': 'auto', 'n_estimators': 5}\n",
      "0.8492820721682394\n",
      "CV: 11\n",
      "best_params: {'criterion': 'mae', 'max_depth': 10, 'max_features': 'auto', 'n_estimators': 5}\n",
      "0.8141478850715881\n",
      "CV: 12\n",
      "best_params: {'criterion': 'mae', 'max_depth': 10, 'max_features': 'auto', 'n_estimators': 5}\n",
      "0.8302042141175738\n",
      "CV: 13\n",
      "best_params: {'criterion': 'mae', 'max_depth': 10, 'max_features': 'auto', 'n_estimators': 5}\n",
      "0.843542275216625\n",
      "CV: 14\n"
     ]
    }
   ],
   "source": [
    "\n",
    "\n",
    "from sklearn.model_selection import GridSearchCV\n",
    "clf = RandomForestRegressor()\n",
    "\n",
    "params={'max_features':['auto','sqrt','log2'],\n",
    "       'max_depth':[10,15],\n",
    "       'criterion':['mae','mse'],\n",
    "        'n_estimators':[5,10,15]\n",
    "       }\n",
    "\n",
    "for j in range(2,15):\n",
    "    grd=GridSearchCV(clf,param_grid=params,cv=j,scoring='accuracy')\n",
    "    grd.fit(x_train,y_train)\n",
    "    print('best_params:',grd.best_params_)\n",
    "    grd=grd.best_estimator_\n",
    "    grd.fit(x_train,y_train)\n",
    "    y_pred=grd.predict(x_test)\n",
    "    print(r2_score(y_test,y_pred))\n",
    "    print('CV:',j)\n",
    "\n"
   ]
  },
  {
   "cell_type": "markdown",
   "id": "e0363f2a",
   "metadata": {},
   "source": [
    "Best Parameter: 'criterion': 'mae', 'max_depth': 10, 'max_features': 'auto', 'n_estimators'/CV: 5"
   ]
  },
  {
   "cell_type": "markdown",
   "id": "286e539f",
   "metadata": {},
   "source": [
    "# Final Model To Predict first output column \"Capacity MW\""
   ]
  },
  {
   "cell_type": "code",
   "execution_count": 114,
   "id": "8cafaf93",
   "metadata": {},
   "outputs": [
    {
     "data": {
      "text/plain": [
       "(86.9432866137683, 96.11726558149306, 164.2249212826099)"
      ]
     },
     "execution_count": 114,
     "metadata": {},
     "output_type": "execute_result"
    }
   ],
   "source": [
    "#from sklearn.ensemble import RandomForestClassifier \n",
    "\n",
    "x_train, x_test, y_train, y_test= train_test_split(x1,y,test_size=0.28,random_state=273) \n",
    "rf2=RandomForestRegressor(criterion= 'mae', max_depth= 10, max_features= 'auto',n_estimators=5)\n",
    "rf2=RandomForestRegressor()\n",
    "rf2.fit(x_train,y_train)\n",
    "pred=rf2.predict(x_test)\n",
    "acc=rf2.score(x_test,y_test)\n",
    "pred_f=y_test\n",
    "\n",
    "r2_score(y_test, pred)*100, mean_absolute_error(y_test, pred), np.sqrt(mean_squared_error(y_test, pred))"
   ]
  },
  {
   "cell_type": "markdown",
   "id": "4160b5f4",
   "metadata": {},
   "source": [
    "# second output column primary_fuel"
   ]
  },
  {
   "cell_type": "markdown",
   "id": "6b7ca378",
   "metadata": {},
   "source": [
    "# DecisionTreeClassifier()"
   ]
  },
  {
   "cell_type": "code",
   "execution_count": 115,
   "id": "1f352263",
   "metadata": {},
   "outputs": [
    {
     "data": {
      "text/plain": [
       "(846,)"
      ]
     },
     "execution_count": 115,
     "metadata": {},
     "output_type": "execute_result"
    }
   ],
   "source": [
    "y1.shape"
   ]
  },
  {
   "cell_type": "code",
   "execution_count": 116,
   "id": "11076895",
   "metadata": {},
   "outputs": [
    {
     "data": {
      "text/plain": [
       "(846, 10)"
      ]
     },
     "execution_count": 116,
     "metadata": {},
     "output_type": "execute_result"
    }
   ],
   "source": [
    "x1.shape"
   ]
  },
  {
   "cell_type": "code",
   "execution_count": 166,
   "id": "3170d5c6",
   "metadata": {},
   "outputs": [
    {
     "name": "stdout",
     "output_type": "stream",
     "text": [
      "accuracy 0.8470588235294118 Random state 0.1\n",
      "accuracy 0.851063829787234 Random state 0.11\n",
      "accuracy 0.8921568627450981 Random state 0.12\n",
      "Best accuracy is 89.2156862745098 on Random state 0.12\n"
     ]
    }
   ],
   "source": [
    "#To get best Test size number from 1 to 40%\n",
    "#from sklearn.linear_model import LinearRegression\n",
    "from sklearn.ensemble import RandomForestClassifier \n",
    "from sklearn.tree import DecisionTreeClassifier\n",
    "from sklearn.neighbors import KNeighborsClassifier\n",
    "from sklearn.svm import SVC\n",
    "#from sklearn.naive_bayes import MultinomialNB\n",
    "from sklearn.metrics import accuracy_score\n",
    "from sklearn.metrics import confusion_matrix,classification_report\n",
    "from sklearn.metrics import mean_squared_error,mean_absolute_error\n",
    "from sklearn.model_selection import train_test_split\n",
    "\n",
    "\n",
    "maxAcc = 0\n",
    "maxRs=0\n",
    "\n",
    "for i in range(10,41):\n",
    "    i1=i*0.010\n",
    "    x_train, x_test, y_train, y_test= train_test_split(x1,y1,test_size=i1)\n",
    "    dt1=DecisionTreeClassifier()\n",
    "    dt1.fit(x_train,y_train)\n",
    "    pred=dt1.predict(x_test)\n",
    "    acc=dt1.score(x_test,y_test)\n",
    "    #print('accuracy',acc,'Random state',i)\n",
    "    \n",
    "    if acc>maxAcc:\n",
    "        maxAcc=acc\n",
    "        maxRs=i1\n",
    "        print('accuracy',maxAcc,'Random state',i1)\n",
    "print(\"Best accuracy is\",maxAcc*100,\"on Random state\",maxRs)"
   ]
  },
  {
   "cell_type": "markdown",
   "id": "a0527014",
   "metadata": {},
   "source": [
    "# finding the best random state¶"
   ]
  },
  {
   "cell_type": "code",
   "execution_count": 167,
   "id": "80914564",
   "metadata": {},
   "outputs": [
    {
     "name": "stdout",
     "output_type": "stream",
     "text": [
      "accuracy 0.7941176470588235 Random state 1\n",
      "accuracy 0.8333333333333334 Random state 3\n",
      "accuracy 0.8627450980392157 Random state 6\n",
      "accuracy 0.8921568627450981 Random state 8\n",
      "accuracy 0.9313725490196079 Random state 10\n",
      "Best accuracy is 93.13725490196079 on Random state 10\n"
     ]
    }
   ],
   "source": [
    "#finding best random state\n",
    "maxAcc = 0\n",
    "maxRs=0\n",
    "\n",
    "for i in range(1,200):\n",
    "    x_train, x_test, y_train, y_test= train_test_split(x1,y1,test_size=0.12,random_state=i) \n",
    "    dt1=DecisionTreeClassifier()\n",
    "    dt1.fit(x_train,y_train)\n",
    "    pred=dt1.predict(x_test)\n",
    "    acc=dt1.score(x_test,y_test)\n",
    "    #print('accuracy',acc,'Random state',i)\n",
    "    \n",
    "    if acc>maxAcc:\n",
    "        maxAcc=acc\n",
    "        maxRs=i\n",
    "        print('accuracy',maxAcc,'Random state',i)\n",
    "        \n",
    "print(\"Best accuracy is\",maxAcc*100,\"on Random state\",maxRs) "
   ]
  },
  {
   "cell_type": "code",
   "execution_count": 168,
   "id": "bf2314f9",
   "metadata": {},
   "outputs": [
    {
     "name": "stdout",
     "output_type": "stream",
     "text": [
      "Accuracy Score DecisionTreeClassifier() is:\n",
      "0.9313725490196079\n",
      "[[ 1  1  0  0  0  0  0  0]\n",
      " [ 0 25  1  0  0  1  0  0]\n",
      " [ 0  0  4  0  0  0  0  0]\n",
      " [ 0  0  1 23  0  0  0  0]\n",
      " [ 0  0  0  0  1  0  0  0]\n",
      " [ 0  0  0  1  0  0  0  0]\n",
      " [ 0  0  0  0  0  0 28  0]\n",
      " [ 0  1  0  1  0  0  0 13]]\n",
      "              precision    recall  f1-score   support\n",
      "\n",
      "           0       1.00      0.50      0.67         2\n",
      "           1       0.93      0.93      0.93        27\n",
      "           2       0.67      1.00      0.80         4\n",
      "           3       0.92      0.96      0.94        24\n",
      "           4       1.00      1.00      1.00         1\n",
      "           5       0.00      0.00      0.00         1\n",
      "           6       1.00      1.00      1.00        28\n",
      "           7       1.00      0.87      0.93        15\n",
      "\n",
      "    accuracy                           0.93       102\n",
      "   macro avg       0.81      0.78      0.78       102\n",
      "weighted avg       0.94      0.93      0.93       102\n",
      "\n"
     ]
    }
   ],
   "source": [
    "from sklearn.metrics import r2_score\n",
    "from sklearn.metrics import mean_squared_error,mean_absolute_error\n",
    "from sklearn.model_selection import train_test_split\n",
    "from sklearn.metrics import accuracy_score\n",
    "from sklearn.metrics import confusion_matrix,classification_report\n",
    "\n",
    "x_train, x_test, y_train, y_test= train_test_split(x1,y1,test_size=0.12,random_state=10) \n",
    "dt1=DecisionTreeClassifier()\n",
    "dt1.fit(x_train,y_train)\n",
    "pred=dt1.predict(x_test)\n",
    "acc=dt1.score(x_test,y_test)\n",
    "\n",
    "\n",
    "#print(\"predicted values\",pred)\n",
    "#print(\"predicted values\",y_test)\n",
    "#r2_score(y_test, pred)*100, mean_absolute_error(y_test, pred), np.sqrt(mean_squared_error(y_test, pred))\n",
    "#pred_test=dt1.predict(x_test)\n",
    "print('Accuracy Score',dt1,'is:')\n",
    "print(accuracy_score(y_test,pred))\n",
    "print(confusion_matrix(y_test,pred))\n",
    "print(classification_report(y_test,pred))"
   ]
  },
  {
   "cell_type": "markdown",
   "id": "f8542b18",
   "metadata": {},
   "source": [
    "DecisionTreeClassifier is giving 94.4% accuracy "
   ]
  },
  {
   "cell_type": "markdown",
   "id": "22c4a992",
   "metadata": {},
   "source": [
    "# Using KNeighborsClassifier algorithm¶"
   ]
  },
  {
   "cell_type": "code",
   "execution_count": 169,
   "id": "53c52cf7",
   "metadata": {},
   "outputs": [
    {
     "name": "stdout",
     "output_type": "stream",
     "text": [
      "accuracy 0.7529411764705882 Random state 0.1\n",
      "accuracy 0.8404255319148937 Random state 0.11\n",
      "accuracy 0.8431372549019608 Random state 0.12\n",
      "Best accuracy is 84.31372549019608 on Random state 0.12\n"
     ]
    }
   ],
   "source": [
    "\n",
    "from sklearn.neighbors import KNeighborsClassifier\n",
    "\n",
    "\n",
    "\n",
    "maxAcc = 0\n",
    "maxRs=0\n",
    "\n",
    "for i in range(10,41):\n",
    "    i1=i*0.01\n",
    "    x_train, x_test, y_train, y_test= train_test_split(x1,y1,test_size=i1)\n",
    "    knc=KNeighborsClassifier()\n",
    "    knc.fit(x_train,y_train)\n",
    "    pred=knc.predict(x_test)\n",
    "    acc=knc.score(x_test,y_test)\n",
    "    #print('accuracy',acc,'Random state',i)\n",
    "    \n",
    "    if acc>maxAcc:\n",
    "        maxAcc=acc\n",
    "        maxRs=i1\n",
    "        print('accuracy',maxAcc,'Random state',i1)\n",
    "print(\"Best accuracy is\",maxAcc*100,\"on Random state\",maxRs)"
   ]
  },
  {
   "cell_type": "code",
   "execution_count": 170,
   "id": "d1f94bbc",
   "metadata": {},
   "outputs": [
    {
     "name": "stdout",
     "output_type": "stream",
     "text": [
      "accuracy 0.7941176470588235 Random state 1\n",
      "accuracy 0.803921568627451 Random state 3\n",
      "accuracy 0.8137254901960784 Random state 5\n",
      "accuracy 0.8235294117647058 Random state 7\n",
      "accuracy 0.8725490196078431 Random state 8\n",
      "accuracy 0.8823529411764706 Random state 9\n",
      "accuracy 0.9215686274509803 Random state 10\n",
      "Best accuracy is 92.15686274509804 on Random state 10\n"
     ]
    }
   ],
   "source": [
    "#finding best random state\n",
    "maxAcc = 0\n",
    "maxRs=0\n",
    "\n",
    "for i in range(1,100):\n",
    "    x_train, x_test, y_train, y_test= train_test_split(x1,y1,test_size=0.12,random_state=i) \n",
    "    knc=KNeighborsClassifier()\n",
    "    knc.fit(x_train,y_train)\n",
    "    pred=knc.predict(x_test)\n",
    "    acc=knc.score(x_test,y_test)\n",
    "    #print('accuracy',acc,'Random state',i)\n",
    "    \n",
    "    if acc>maxAcc:\n",
    "        maxAcc=acc\n",
    "        maxRs=i\n",
    "        print('accuracy',maxAcc,'Random state',i)\n",
    "        \n",
    "print(\"Best accuracy is\",maxAcc*100,\"on Random state\",maxRs) "
   ]
  },
  {
   "cell_type": "code",
   "execution_count": 171,
   "id": "bd3d155f",
   "metadata": {},
   "outputs": [
    {
     "name": "stdout",
     "output_type": "stream",
     "text": [
      "Accuracy Score KNeighborsClassifier() is:\n",
      "0.9215686274509803\n",
      "[[ 1  0  0  0  0  0  0  1]\n",
      " [ 1 26  0  0  0  0  0  0]\n",
      " [ 0  0  3  1  0  0  0  0]\n",
      " [ 0  0  0 24  0  0  0  0]\n",
      " [ 0  0  1  0  0  0  0  0]\n",
      " [ 0  0  0  1  0  0  0  0]\n",
      " [ 0  0  0  0  0  0 28  0]\n",
      " [ 3  0  0  0  0  0  0 12]]\n",
      "              precision    recall  f1-score   support\n",
      "\n",
      "           0       0.20      0.50      0.29         2\n",
      "           1       1.00      0.96      0.98        27\n",
      "           2       0.75      0.75      0.75         4\n",
      "           3       0.92      1.00      0.96        24\n",
      "           4       0.00      0.00      0.00         1\n",
      "           5       0.00      0.00      0.00         1\n",
      "           6       1.00      1.00      1.00        28\n",
      "           7       0.92      0.80      0.86        15\n",
      "\n",
      "    accuracy                           0.92       102\n",
      "   macro avg       0.60      0.63      0.60       102\n",
      "weighted avg       0.93      0.92      0.92       102\n",
      "\n"
     ]
    }
   ],
   "source": [
    "from sklearn.metrics import r2_score\n",
    "from sklearn.metrics import mean_squared_error,mean_absolute_error\n",
    "from sklearn.model_selection import train_test_split\n",
    "from sklearn.metrics import accuracy_score\n",
    "from sklearn.metrics import confusion_matrix,classification_report\n",
    "\n",
    "x_train, x_test, y_train, y_test= train_test_split(x1,y1,test_size=0.12,random_state=10) \n",
    "knc=KNeighborsClassifier()\n",
    "knc.fit(x_train,y_train)\n",
    "pred=knc.predict(x_test)\n",
    "acc=knc.score(x_test,y_test)\n",
    "\n",
    "print('Accuracy Score',knc,'is:')\n",
    "print(accuracy_score(y_test,pred))\n",
    "print(confusion_matrix(y_test,pred))\n",
    "print(classification_report(y_test,pred))"
   ]
  },
  {
   "cell_type": "markdown",
   "id": "6ac9408c",
   "metadata": {},
   "source": [
    "KNeighborsClassifier algorithm is giving 92.15% accuracy"
   ]
  },
  {
   "cell_type": "markdown",
   "id": "c9a56de8",
   "metadata": {},
   "source": [
    "# Using RandomForestClassifier algorithm¶"
   ]
  },
  {
   "cell_type": "code",
   "execution_count": 121,
   "id": "25d2cb7d",
   "metadata": {},
   "outputs": [
    {
     "name": "stdout",
     "output_type": "stream",
     "text": [
      "accuracy 0.8941176470588236 Random state 0.1\n",
      "accuracy 0.9181818181818182 Random state 0.13\n",
      "Best accuracy is 91.81818181818183 on Random state 0.13\n"
     ]
    }
   ],
   "source": [
    "#To get best Test size number from 1 to 40%\n",
    "#from sklearn.linear_model import LinearRegression\n",
    "from sklearn.ensemble import RandomForestClassifier \n",
    "from sklearn.tree import DecisionTreeClassifier\n",
    "from sklearn.neighbors import KNeighborsClassifier\n",
    "from sklearn.svm import SVC\n",
    "#from sklearn.naive_bayes import MultinomialNB\n",
    "from sklearn.metrics import accuracy_score\n",
    "from sklearn.metrics import confusion_matrix,classification_report\n",
    "from sklearn.metrics import mean_squared_error,mean_absolute_error\n",
    "from sklearn.model_selection import train_test_split\n",
    "\n",
    "\n",
    "maxAcc = 0\n",
    "maxRs=0\n",
    "\n",
    "for i in range(10,41):\n",
    "    i1=i*0.010\n",
    "    x_train, x_test, y_train, y_test= train_test_split(x1,y1,test_size=i1)\n",
    "    rf1=RandomForestClassifier()\n",
    "    rf1.fit(x_train,y_train)\n",
    "    pred=rf1.predict(x_test)\n",
    "    acc=rf1.score(x_test,y_test)\n",
    "    #print('accuracy',acc,'Random state',i)\n",
    "    \n",
    "    if acc>maxAcc:\n",
    "        maxAcc=acc\n",
    "        maxRs=i1\n",
    "        print('accuracy',maxAcc,'Random state',i1)\n",
    "print(\"Best accuracy is\",maxAcc*100,\"on Random state\",maxRs)"
   ]
  },
  {
   "cell_type": "code",
   "execution_count": 122,
   "id": "7d0774ee",
   "metadata": {},
   "outputs": [
    {
     "name": "stdout",
     "output_type": "stream",
     "text": [
      "accuracy 0.8818181818181818 Random state 1\n",
      "accuracy 0.9 Random state 2\n",
      "accuracy 0.9090909090909091 Random state 8\n",
      "accuracy 0.9454545454545454 Random state 10\n",
      "Best accuracy is 94.54545454545455 on Random state 10\n"
     ]
    }
   ],
   "source": [
    "#finding best random state\n",
    "maxAcc = 0\n",
    "maxRs=0\n",
    "\n",
    "for i in range(1,100):\n",
    "    x_train, x_test, y_train, y_test= train_test_split(x1,y1,test_size=0.13,random_state=i) \n",
    "    rf1=RandomForestClassifier()\n",
    "    rf1.fit(x_train,y_train)\n",
    "    pred=rf1.predict(x_test)\n",
    "    acc=rf1.score(x_test,y_test)\n",
    "    #print('accuracy',acc,'Random state',i)\n",
    "    \n",
    "    if acc>maxAcc:\n",
    "        maxAcc=acc\n",
    "        maxRs=i\n",
    "        print('accuracy',maxAcc,'Random state',i)\n",
    "        \n",
    "print(\"Best accuracy is\",maxAcc*100,\"on Random state\",maxRs)"
   ]
  },
  {
   "cell_type": "code",
   "execution_count": 123,
   "id": "4e45f204",
   "metadata": {},
   "outputs": [
    {
     "name": "stdout",
     "output_type": "stream",
     "text": [
      "Accuracy Score RandomForestClassifier() is:\n",
      "0.9545454545454546\n",
      "[[ 1  0  0  0  0  0  0  1]\n",
      " [ 0 28  0  0  0  1  0  0]\n",
      " [ 0  0  5  0  0  0  0  0]\n",
      " [ 0  0  1 25  0  0  0  0]\n",
      " [ 0  0  1  0  0  0  0  0]\n",
      " [ 0  0  1  0  0  0  0  0]\n",
      " [ 0  0  0  0  0  0 30  0]\n",
      " [ 0  0  0  0  0  0  0 16]]\n",
      "              precision    recall  f1-score   support\n",
      "\n",
      "           0       1.00      0.50      0.67         2\n",
      "           1       1.00      0.97      0.98        29\n",
      "           2       0.62      1.00      0.77         5\n",
      "           3       1.00      0.96      0.98        26\n",
      "           4       0.00      0.00      0.00         1\n",
      "           5       0.00      0.00      0.00         1\n",
      "           6       1.00      1.00      1.00        30\n",
      "           7       0.94      1.00      0.97        16\n",
      "\n",
      "    accuracy                           0.95       110\n",
      "   macro avg       0.70      0.68      0.67       110\n",
      "weighted avg       0.96      0.95      0.95       110\n",
      "\n"
     ]
    }
   ],
   "source": [
    "from sklearn.metrics import r2_score\n",
    "from sklearn.metrics import mean_squared_error,mean_absolute_error\n",
    "from sklearn.model_selection import train_test_split\n",
    "from sklearn.metrics import accuracy_score\n",
    "from sklearn.metrics import confusion_matrix,classification_report\n",
    "\n",
    "x_train, x_test, y_train, y_test= train_test_split(x1,y1,test_size=0.13,random_state=10) \n",
    "rf1=RandomForestClassifier()\n",
    "rf1.fit(x_train,y_train)\n",
    "pred=rf1.predict(x_test)\n",
    "acc=rf1.score(x_test,y_test)\n",
    "\n",
    "print('Accuracy Score',rf1,'is:')\n",
    "print(accuracy_score(y_test,pred))\n",
    "print(confusion_matrix(y_test,pred))\n",
    "print(classification_report(y_test,pred))"
   ]
  },
  {
   "cell_type": "markdown",
   "id": "bf0866e5",
   "metadata": {},
   "source": [
    "Random Forst Algorith is giving 95.45%"
   ]
  },
  {
   "cell_type": "markdown",
   "id": "89b78476",
   "metadata": {},
   "source": [
    "# SVC"
   ]
  },
  {
   "cell_type": "code",
   "execution_count": 179,
   "id": "61fbba45",
   "metadata": {},
   "outputs": [
    {
     "name": "stdout",
     "output_type": "stream",
     "text": [
      "accuracy 0.8 Random state 0.1\n",
      "accuracy 0.8235294117647058 Random state 0.14\n",
      "Best accuracy is 82.35294117647058 on Random state 0.14\n"
     ]
    }
   ],
   "source": [
    "#To get best Test size number from 1 to 40%\n",
    "#from sklearn.linear_model import LinearRegression\n",
    "from sklearn.ensemble import RandomForestClassifier \n",
    "from sklearn.tree import DecisionTreeClassifier\n",
    "from sklearn.neighbors import KNeighborsClassifier\n",
    "from sklearn.svm import SVC\n",
    "#from sklearn.naive_bayes import MultinomialNB\n",
    "from sklearn.metrics import accuracy_score\n",
    "from sklearn.metrics import confusion_matrix,classification_report\n",
    "from sklearn.metrics import mean_squared_error,mean_absolute_error\n",
    "from sklearn.model_selection import train_test_split\n",
    "\n",
    "\n",
    "maxAcc = 0\n",
    "maxRs=0\n",
    "\n",
    "for i in range(10,41):\n",
    "    i1=i*0.010\n",
    "    x_train, x_test, y_train, y_test= train_test_split(x1,y1,test_size=i1)\n",
    "    svc=SVC()\n",
    "    svc.fit(x_train,y_train)\n",
    "    pred=svc.predict(x_test)\n",
    "    acc=svc.score(x_test,y_test)\n",
    "    #print('accuracy',acc,'Random state',i)\n",
    "    \n",
    "    if acc>maxAcc:\n",
    "        maxAcc=acc\n",
    "        maxRs=i1\n",
    "        print('accuracy',maxAcc,'Random state',i1)\n",
    "print(\"Best accuracy is\",maxAcc*100,\"on Random state\",maxRs)"
   ]
  },
  {
   "cell_type": "code",
   "execution_count": 181,
   "id": "987e3eec",
   "metadata": {},
   "outputs": [
    {
     "name": "stdout",
     "output_type": "stream",
     "text": [
      "accuracy 0.8067226890756303 Random state 1\n",
      "accuracy 0.865546218487395 Random state 8\n",
      "Best accuracy is 86.5546218487395 on Random state 8\n"
     ]
    }
   ],
   "source": [
    "maxAcc = 0\n",
    "maxRs=0\n",
    "\n",
    "for i in range(1,100):\n",
    "    x_train, x_test, y_train, y_test= train_test_split(x1,y1,test_size=0.14,random_state=i)\n",
    "    svc=SVC()\n",
    "    svc.fit(x_train,y_train)\n",
    "    pred=svc.predict(x_test)\n",
    "    acc=svc.score(x_test,y_test)\n",
    "    #print('accuracy',acc,'Random state',i)\n",
    "    \n",
    "    if acc>maxAcc:\n",
    "        maxAcc=acc\n",
    "        maxRs=i\n",
    "        print('accuracy',maxAcc,'Random state',i)\n",
    "print(\"Best accuracy is\",maxAcc*100,\"on Random state\",maxRs)"
   ]
  },
  {
   "cell_type": "code",
   "execution_count": 183,
   "id": "b0b171fc",
   "metadata": {},
   "outputs": [
    {
     "name": "stdout",
     "output_type": "stream",
     "text": [
      "Accuracy Score SVC() is:\n",
      "0.865546218487395\n",
      "[[ 3  1  0  0  0  0  0  3]\n",
      " [ 1 31  0  0  0  0  0  0]\n",
      " [ 0  1  3  2  0  0  0  0]\n",
      " [ 0  0  0 32  0  0  0  2]\n",
      " [ 0  0  0  2  0  0  0  0]\n",
      " [ 0  0  0  1  0  0  0  1]\n",
      " [ 0  0  0  0  0  0 23  0]\n",
      " [ 2  0  0  0  0  0  0 11]]\n",
      "              precision    recall  f1-score   support\n",
      "\n",
      "           0       0.50      0.43      0.46         7\n",
      "           1       0.94      0.97      0.95        32\n",
      "           2       1.00      0.50      0.67         6\n",
      "           3       0.86      0.94      0.90        34\n",
      "           4       0.00      0.00      0.00         2\n",
      "           5       0.00      0.00      0.00         2\n",
      "           6       1.00      1.00      1.00        23\n",
      "           7       0.65      0.85      0.73        13\n",
      "\n",
      "    accuracy                           0.87       119\n",
      "   macro avg       0.62      0.59      0.59       119\n",
      "weighted avg       0.84      0.87      0.85       119\n",
      "\n"
     ]
    }
   ],
   "source": [
    "x_train, x_test, y_train, y_test= train_test_split(x1,y1,test_size=0.14,random_state=8) \n",
    "svc=SVC()\n",
    "svc.fit(x_train,y_train)\n",
    "pred=svc.predict(x_test)\n",
    "acc=svc.score(x_test,y_test)\n",
    "\n",
    "print('Accuracy Score',svc,'is:')\n",
    "print(accuracy_score(y_test,pred))\n",
    "print(confusion_matrix(y_test,pred))\n",
    "print(classification_report(y_test,pred))"
   ]
  },
  {
   "cell_type": "markdown",
   "id": "d6d1cab6",
   "metadata": {},
   "source": [
    "SVC is giving 86.55 % accuracy"
   ]
  },
  {
   "cell_type": "markdown",
   "id": "e737cb8a",
   "metadata": {},
   "source": [
    "Random forest classifier is giving 92.55% accuracy Hence first we will cross validate the data then we will select final model for hyper parameter technique"
   ]
  },
  {
   "cell_type": "markdown",
   "id": "9f75b3f5",
   "metadata": {},
   "source": [
    "# checking cross validation score"
   ]
  },
  {
   "cell_type": "code",
   "execution_count": 119,
   "id": "216f4126",
   "metadata": {},
   "outputs": [],
   "source": [
    "from sklearn.model_selection import cross_val_score"
   ]
  },
  {
   "cell_type": "code",
   "execution_count": 176,
   "id": "82b28aa1",
   "metadata": {},
   "outputs": [
    {
     "name": "stdout",
     "output_type": "stream",
     "text": [
      "cross vaidation score 0.8227218934911242\n"
     ]
    }
   ],
   "source": [
    "#using cross validation technique\n",
    "from sklearn.model_selection import cross_val_score\n",
    "scr=cross_val_score(dt1,x1,y1)\n",
    "print('cross vaidation score',scr.mean())"
   ]
  },
  {
   "cell_type": "code",
   "execution_count": 177,
   "id": "25f9fc79",
   "metadata": {},
   "outputs": [
    {
     "name": "stdout",
     "output_type": "stream",
     "text": [
      "cross vaidation score 0.8014131569787677\n"
     ]
    }
   ],
   "source": [
    "#using cross validation technique\n",
    "from sklearn.model_selection import cross_val_score\n",
    "scr=cross_val_score(knc,x1,y1)\n",
    "print('cross vaidation score',scr.mean())"
   ]
  },
  {
   "cell_type": "code",
   "execution_count": 124,
   "id": "440e3365",
   "metadata": {},
   "outputs": [
    {
     "name": "stdout",
     "output_type": "stream",
     "text": [
      "cross vaidation score 0.8841489731987471\n"
     ]
    }
   ],
   "source": [
    "#using cross validation technique\n",
    "from sklearn.model_selection import cross_val_score\n",
    "scr=cross_val_score(rf1,x1,y1)\n",
    "print('cross vaidation score',scr.mean())"
   ]
  },
  {
   "cell_type": "code",
   "execution_count": 184,
   "id": "3117d620",
   "metadata": {},
   "outputs": [
    {
     "name": "stdout",
     "output_type": "stream",
     "text": [
      "cross vaidation score 0.7730873651235642\n"
     ]
    }
   ],
   "source": [
    "#using cross validation technique\n",
    "from sklearn.model_selection import cross_val_score\n",
    "scr=cross_val_score(svc,x1,y1)\n",
    "print('cross vaidation score',scr.mean())"
   ]
  },
  {
   "cell_type": "markdown",
   "id": "8abbed48",
   "metadata": {},
   "source": [
    "Here Random FOrest algorithm is giving Highest accuracy i.e. 88.41 with Cross validation hence we will check hyper parameter tunning to select best combination of parameter for prediction"
   ]
  },
  {
   "cell_type": "markdown",
   "id": "671a73a4",
   "metadata": {},
   "source": [
    "# Using Hyperparameter tunning"
   ]
  },
  {
   "cell_type": "code",
   "execution_count": 186,
   "id": "67d04d46",
   "metadata": {},
   "outputs": [
    {
     "name": "stdout",
     "output_type": "stream",
     "text": [
      "best_params: {'criterion': 'gini', 'max_depth': 15, 'max_features': 'auto'}\n",
      "[[ 7  0  0  0  0  0  0  0]\n",
      " [ 0 32  0  0  0  0  0  0]\n",
      " [ 0  1  3  2  0  0  0  0]\n",
      " [ 0  0  0 34  0  0  0  0]\n",
      " [ 0  0  1  0  1  0  0  0]\n",
      " [ 0  0  0  0  0  2  0  0]\n",
      " [ 0  0  0  0  0  0 23  0]\n",
      " [ 4  0  0  0  0  0  0  9]]\n",
      "0.9327731092436975\n",
      "CV: 2\n",
      "best_params: {'criterion': 'gini', 'max_depth': 15, 'max_features': 'auto'}\n",
      "[[ 7  0  0  0  0  0  0  0]\n",
      " [ 1 31  0  0  0  0  0  0]\n",
      " [ 0  1  3  2  0  0  0  0]\n",
      " [ 0  0  0 34  0  0  0  0]\n",
      " [ 0  0  1  1  0  0  0  0]\n",
      " [ 0  0  0  0  0  2  0  0]\n",
      " [ 0  0  0  0  0  0 23  0]\n",
      " [ 2  2  0  0  0  0  0  9]]\n",
      "0.9159663865546218\n",
      "CV: 3\n",
      "best_params: {'criterion': 'gini', 'max_depth': 15, 'max_features': 'auto'}\n",
      "[[ 7  0  0  0  0  0  0  0]\n",
      " [ 1 31  0  0  0  0  0  0]\n",
      " [ 0  1  3  2  0  0  0  0]\n",
      " [ 0  0  0 34  0  0  0  0]\n",
      " [ 0  0  1  0  1  0  0  0]\n",
      " [ 0  0  0  0  0  2  0  0]\n",
      " [ 0  0  0  0  0  0 23  0]\n",
      " [ 4  0  0  0  0  0  0  9]]\n",
      "0.9243697478991597\n",
      "CV: 4\n"
     ]
    }
   ],
   "source": [
    "from sklearn.model_selection import GridSearchCV\n",
    "rf1= RandomForestClassifier()\n",
    "\n",
    "params={'max_features':['auto','sqrt','log2'],\n",
    "       'max_depth':[10,15],\n",
    "       'criterion':['gini','entropy']\n",
    "       }\n",
    "for j in range(2,15):\n",
    "    grd=GridSearchCV(rf1,param_grid=params,cv=j,scoring='accuracy')\n",
    "\n",
    "    grd.fit(x_train,y_train)\n",
    "\n",
    "    print('best_params:',grd.best_params_)\n",
    "\n",
    "    rf1=grd.best_estimator_\n",
    "\n",
    "    rf1.fit(x_train,y_train)\n",
    "\n",
    "    y_pred=rf1.predict(x_test)\n",
    "\n",
    "    rf_conf_mat=confusion_matrix(y_test,y_pred)\n",
    "\n",
    "    print(rf_conf_mat)\n",
    "\n",
    "    print(accuracy_score(y_test,y_pred))\n",
    "    \n",
    "    print('CV:',j)\n"
   ]
  },
  {
   "cell_type": "markdown",
   "id": "029beb8e",
   "metadata": {},
   "source": [
    "# Final Model selection: RandomForestClassifier for \"Primary Fuel\""
   ]
  },
  {
   "cell_type": "code",
   "execution_count": 126,
   "id": "d5db19db",
   "metadata": {},
   "outputs": [
    {
     "name": "stdout",
     "output_type": "stream",
     "text": [
      "0.9454545454545454\n",
      "[[ 1  0  0  0  0  0  0  1]\n",
      " [ 1 27  0  0  0  0  0  1]\n",
      " [ 0  0  5  0  0  0  0  0]\n",
      " [ 0  0  1 25  0  0  0  0]\n",
      " [ 0  0  1  0  0  0  0  0]\n",
      " [ 0  0  0  0  0  1  0  0]\n",
      " [ 0  0  0  0  0  0 30  0]\n",
      " [ 1  0  0  0  0  0  0 15]]\n",
      "[6 2 1 1 7 7 1 6 3 3 1 1 1 1 3 6 3 5 3 6 6 3 6 1 3 1 1 6 3 6 3 0 7 6 2 7 1\n",
      " 1 1 6 7 6 6 2 6 7 3 1 7 7 6 1 6 3 7 3 3 7 6 1 3 3 7 0 3 1 1 6 6 3 6 3 1 7\n",
      " 1 3 1 6 0 3 7 2 1 3 6 3 6 6 1 2 1 7 3 1 6 6 6 2 6 6 7 1 2 7 3 1 6 3 6 7]\n",
      "603    6\n",
      "372    2\n",
      "888    1\n",
      "678    1\n",
      "439    7\n",
      "      ..\n",
      "167    1\n",
      "197    6\n",
      "65     3\n",
      "283    6\n",
      "122    7\n",
      "Name: primary_fuel, Length: 110, dtype: int32\n"
     ]
    }
   ],
   "source": [
    "from sklearn.ensemble import RandomForestClassifier \n",
    "\n",
    "x_train, x_test, y_train, y_test= train_test_split(x1,y1,test_size=0.13,random_state=10) \n",
    "rf1=RandomForestClassifier(criterion= 'gini', max_depth= 15, max_features= 'auto')\n",
    "rf1.fit(x_train,y_train)\n",
    "pred2=rf1.predict(x_test)\n",
    "acc2=rf1.score(x_test,y_test)\n",
    "ytest2=y_test\n",
    "ypred=pred2\n",
    "\n",
    "#print('Accuracy Score',knc,'is:')\n",
    "print(accuracy_score(y_test,pred2))\n",
    "print(confusion_matrix(y_test,pred2))\n",
    "#print(classification_report(y_test,pred2))\n",
    "\n",
    "print(pred2)\n",
    "print(y_test)"
   ]
  },
  {
   "cell_type": "markdown",
   "id": "0d2d7408",
   "metadata": {},
   "source": [
    "# plot the ROC corve"
   ]
  },
  {
   "cell_type": "code",
   "execution_count": 127,
   "id": "5bc9318f",
   "metadata": {},
   "outputs": [],
   "source": [
    "#from sklearn.metrics import accuracy_score,confusion_matrix,roc_curve,roc_auc_score\n",
    "#tpr,fpr,thresholds=roc_curve(y_test,y_pred)\n",
    "\n",
    "from sklearn.metrics import roc_curve\n",
    "import matplotlib.pyplot as plt\n",
    "from sklearn.metrics import roc_auc_score"
   ]
  },
  {
   "cell_type": "code",
   "execution_count": 128,
   "id": "6a86da4b",
   "metadata": {},
   "outputs": [
    {
     "data": {
      "text/plain": [
       "array([0.        , 0.01      , 0.47168997, 0.97      , 0.        ,\n",
       "       0.13200699, 1.        , 0.01      , 0.02      , 0.01      ,\n",
       "       1.        , 0.97      , 0.99      , 0.96269976, 0.08      ,\n",
       "       0.03      , 0.        , 0.        , 0.        , 0.        ,\n",
       "       0.        , 0.02      , 0.01      , 0.94      , 0.        ,\n",
       "       0.5225    , 0.7105    , 0.02      , 0.        , 0.        ,\n",
       "       0.        , 0.31351262, 0.        , 0.        , 0.01      ,\n",
       "       0.        , 0.99      , 0.73978632, 0.95466667, 0.01      ,\n",
       "       0.0875    , 0.04      , 0.01      , 0.02      , 0.        ,\n",
       "       0.05666667, 0.01      , 0.99      , 0.        , 0.09      ,\n",
       "       0.        , 0.96      , 0.01      , 0.        , 0.13      ,\n",
       "       0.        , 0.        , 0.01      , 0.02      , 0.99      ,\n",
       "       0.        , 0.03      , 0.04855811, 0.02384383, 0.        ,\n",
       "       0.95      , 0.98      , 0.01      , 0.02      , 0.        ,\n",
       "       0.04      , 0.        , 0.91      , 0.05461538, 0.68      ,\n",
       "       0.        , 0.7       , 0.        , 0.02841686, 0.02      ,\n",
       "       0.25423077, 0.        , 1.        , 0.        , 0.        ,\n",
       "       0.        , 0.        , 0.        , 0.96      , 0.04      ,\n",
       "       0.98      , 0.07875   , 0.        , 0.98      , 0.02      ,\n",
       "       0.02      , 0.        , 0.02      , 0.02      , 0.01      ,\n",
       "       0.01      , 0.59      , 0.01987179, 0.2952607 , 0.01090909,\n",
       "       1.        , 0.01      , 0.        , 0.01      , 0.02      ])"
      ]
     },
     "execution_count": 128,
     "metadata": {},
     "output_type": "execute_result"
    }
   ],
   "source": [
    "y_preb_prob=rf1.predict_proba(x_test)[:,1]\n",
    "y_preb_prob"
   ]
  },
  {
   "cell_type": "code",
   "execution_count": null,
   "id": "d435292a",
   "metadata": {},
   "outputs": [],
   "source": [
    "fpr,tpr,thresholds=roc_curve(y_test,y_preb_prob)"
   ]
  },
  {
   "cell_type": "markdown",
   "id": "dfed0798",
   "metadata": {},
   "source": [
    "Here we are getting error for multigroup as Region column is having multiple group hence we can avoid this grapgh"
   ]
  },
  {
   "cell_type": "markdown",
   "id": "e92448ee",
   "metadata": {},
   "source": [
    "# saving the model in pickel format"
   ]
  },
  {
   "cell_type": "code",
   "execution_count": 130,
   "id": "c4f2040f",
   "metadata": {},
   "outputs": [
    {
     "data": {
      "text/plain": [
       "['globalpowerplant.pk1']"
      ]
     },
     "execution_count": 130,
     "metadata": {},
     "output_type": "execute_result"
    }
   ],
   "source": [
    "import joblib\n",
    "joblib.dump(accuracy_score(y_test, pred)*100,\"globalpowerplant.pk1\")"
   ]
  },
  {
   "cell_type": "markdown",
   "id": "5311562a",
   "metadata": {},
   "source": [
    "# Testing Model with Future Data for both Output columns"
   ]
  },
  {
   "cell_type": "code",
   "execution_count": 157,
   "id": "7f99ff6d",
   "metadata": {},
   "outputs": [
    {
     "data": {
      "text/plain": [
       "latitude                  0.592221\n",
       "longitude                -0.511794\n",
       "other_fuel1               0.503322\n",
       "commissioning_year       -0.185356\n",
       "owner                     0.319780\n",
       "geolocation_source        0.257730\n",
       "generation_gwh_2014       0.323743\n",
       "generation_gwh_2015       0.351937\n",
       "generation_gwh_2017       0.357832\n",
       "generation_data_source    0.944784\n",
       "Name: 1, dtype: float64"
      ]
     },
     "execution_count": 157,
     "metadata": {},
     "output_type": "execute_result"
    }
   ],
   "source": [
    "x1.iloc[1]"
   ]
  },
  {
   "cell_type": "code",
   "execution_count": 158,
   "id": "060a45b0",
   "metadata": {},
   "outputs": [
    {
     "data": {
      "text/plain": [
       "98.0"
      ]
     },
     "execution_count": 158,
     "metadata": {},
     "output_type": "execute_result"
    }
   ],
   "source": [
    "y.iloc[1]"
   ]
  },
  {
   "cell_type": "code",
   "execution_count": 159,
   "id": "eedf10d9",
   "metadata": {},
   "outputs": [
    {
     "data": {
      "text/plain": [
       "1"
      ]
     },
     "execution_count": 159,
     "metadata": {},
     "output_type": "execute_result"
    }
   ],
   "source": [
    "y1.iloc[1]"
   ]
  },
  {
   "cell_type": "markdown",
   "id": "7fa32d5e",
   "metadata": {},
   "source": [
    "we will take exist data as sample data to compare predict output"
   ]
  },
  {
   "cell_type": "code",
   "execution_count": 145,
   "id": "ba0fd750",
   "metadata": {},
   "outputs": [],
   "source": [
    "t=np.array([0.592221,-0.511794,0.503322,-0.185356,0.319780,0.257730,0.323743,0.351937,0.357832,0.944784])"
   ]
  },
  {
   "cell_type": "code",
   "execution_count": 146,
   "id": "1d0e1619",
   "metadata": {},
   "outputs": [
    {
     "data": {
      "text/plain": [
       "(10,)"
      ]
     },
     "execution_count": 146,
     "metadata": {},
     "output_type": "execute_result"
    }
   ],
   "source": [
    "\n",
    "t.shape"
   ]
  },
  {
   "cell_type": "code",
   "execution_count": 136,
   "id": "ac057031",
   "metadata": {},
   "outputs": [
    {
     "data": {
      "text/plain": [
       "(736, 10)"
      ]
     },
     "execution_count": 136,
     "metadata": {},
     "output_type": "execute_result"
    }
   ],
   "source": [
    "x_train.shape"
   ]
  },
  {
   "cell_type": "code",
   "execution_count": 147,
   "id": "da9a81fa",
   "metadata": {},
   "outputs": [
    {
     "data": {
      "text/plain": [
       "(1, 10)"
      ]
     },
     "execution_count": 147,
     "metadata": {},
     "output_type": "execute_result"
    }
   ],
   "source": [
    "t=t.reshape(1,-1)\n",
    "t.shape\n"
   ]
  },
  {
   "cell_type": "code",
   "execution_count": 148,
   "id": "09cd396a",
   "metadata": {},
   "outputs": [
    {
     "data": {
      "text/plain": [
       "array([1])"
      ]
     },
     "execution_count": 148,
     "metadata": {},
     "output_type": "execute_result"
    }
   ],
   "source": [
    "rf1.predict(t)"
   ]
  },
  {
   "cell_type": "code",
   "execution_count": 149,
   "id": "89c91fbe",
   "metadata": {},
   "outputs": [
    {
     "data": {
      "text/plain": [
       "array([76.9175])"
      ]
     },
     "execution_count": 149,
     "metadata": {},
     "output_type": "execute_result"
    }
   ],
   "source": [
    "rf2.predict(t)"
   ]
  },
  {
   "cell_type": "markdown",
   "id": "247b608e",
   "metadata": {},
   "source": [
    "The predicted Output for Primary fuel is matching with Actual otput and predicted output for Capacity MW is nearly matching as original ouput is 98.0 and predicted is 76.91"
   ]
  }
 ],
 "metadata": {
  "kernelspec": {
   "display_name": "Python 3",
   "language": "python",
   "name": "python3"
  },
  "language_info": {
   "codemirror_mode": {
    "name": "ipython",
    "version": 3
   },
   "file_extension": ".py",
   "mimetype": "text/x-python",
   "name": "python",
   "nbconvert_exporter": "python",
   "pygments_lexer": "ipython3",
   "version": "3.8.8"
  }
 },
 "nbformat": 4,
 "nbformat_minor": 5
}
