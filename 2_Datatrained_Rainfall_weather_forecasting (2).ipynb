{
 "cells": [
  {
   "cell_type": "code",
   "execution_count": 1,
   "id": "4df2c46e",
   "metadata": {},
   "outputs": [],
   "source": [
    "import pandas as pd\n",
    "pd.set_option('display.max_columns',None)\n",
    "import seaborn as sns\n",
    "#importing necessary libraries\n",
    "import pandas as pd\n",
    "import numpy as np\n",
    "import pandas as pd\n",
    "import matplotlib.pyplot as plt\n",
    "import seaborn as sns\n",
    "\n",
    "import warnings\n",
    "\n",
    "warnings.filterwarnings('ignore')"
   ]
  },
  {
   "cell_type": "code",
   "execution_count": 2,
   "id": "8ce45f37",
   "metadata": {},
   "outputs": [],
   "source": [
    "#importing dataset\n",
    "df=pd.read_csv('https://raw.githubusercontent.com/dsrscientist/dataset3/main/weatherAUS.csv')"
   ]
  },
  {
   "cell_type": "code",
   "execution_count": 3,
   "id": "7307955f",
   "metadata": {},
   "outputs": [
    {
     "data": {
      "text/html": [
       "<div>\n",
       "<style scoped>\n",
       "    .dataframe tbody tr th:only-of-type {\n",
       "        vertical-align: middle;\n",
       "    }\n",
       "\n",
       "    .dataframe tbody tr th {\n",
       "        vertical-align: top;\n",
       "    }\n",
       "\n",
       "    .dataframe thead th {\n",
       "        text-align: right;\n",
       "    }\n",
       "</style>\n",
       "<table border=\"1\" class=\"dataframe\">\n",
       "  <thead>\n",
       "    <tr style=\"text-align: right;\">\n",
       "      <th></th>\n",
       "      <th>Date</th>\n",
       "      <th>Location</th>\n",
       "      <th>MinTemp</th>\n",
       "      <th>MaxTemp</th>\n",
       "      <th>Rainfall</th>\n",
       "      <th>Evaporation</th>\n",
       "      <th>Sunshine</th>\n",
       "      <th>WindGustDir</th>\n",
       "      <th>WindGustSpeed</th>\n",
       "      <th>WindDir9am</th>\n",
       "      <th>WindDir3pm</th>\n",
       "      <th>WindSpeed9am</th>\n",
       "      <th>WindSpeed3pm</th>\n",
       "      <th>Humidity9am</th>\n",
       "      <th>Humidity3pm</th>\n",
       "      <th>Pressure9am</th>\n",
       "      <th>Pressure3pm</th>\n",
       "      <th>Cloud9am</th>\n",
       "      <th>Cloud3pm</th>\n",
       "      <th>Temp9am</th>\n",
       "      <th>Temp3pm</th>\n",
       "      <th>RainToday</th>\n",
       "      <th>RainTomorrow</th>\n",
       "    </tr>\n",
       "  </thead>\n",
       "  <tbody>\n",
       "    <tr>\n",
       "      <th>0</th>\n",
       "      <td>2008-12-01</td>\n",
       "      <td>Albury</td>\n",
       "      <td>13.4</td>\n",
       "      <td>22.9</td>\n",
       "      <td>0.6</td>\n",
       "      <td>NaN</td>\n",
       "      <td>NaN</td>\n",
       "      <td>W</td>\n",
       "      <td>44.0</td>\n",
       "      <td>W</td>\n",
       "      <td>WNW</td>\n",
       "      <td>20.0</td>\n",
       "      <td>24.0</td>\n",
       "      <td>71.0</td>\n",
       "      <td>22.0</td>\n",
       "      <td>1007.7</td>\n",
       "      <td>1007.1</td>\n",
       "      <td>8.0</td>\n",
       "      <td>NaN</td>\n",
       "      <td>16.9</td>\n",
       "      <td>21.8</td>\n",
       "      <td>No</td>\n",
       "      <td>No</td>\n",
       "    </tr>\n",
       "    <tr>\n",
       "      <th>1</th>\n",
       "      <td>2008-12-02</td>\n",
       "      <td>Albury</td>\n",
       "      <td>7.4</td>\n",
       "      <td>25.1</td>\n",
       "      <td>0.0</td>\n",
       "      <td>NaN</td>\n",
       "      <td>NaN</td>\n",
       "      <td>WNW</td>\n",
       "      <td>44.0</td>\n",
       "      <td>NNW</td>\n",
       "      <td>WSW</td>\n",
       "      <td>4.0</td>\n",
       "      <td>22.0</td>\n",
       "      <td>44.0</td>\n",
       "      <td>25.0</td>\n",
       "      <td>1010.6</td>\n",
       "      <td>1007.8</td>\n",
       "      <td>NaN</td>\n",
       "      <td>NaN</td>\n",
       "      <td>17.2</td>\n",
       "      <td>24.3</td>\n",
       "      <td>No</td>\n",
       "      <td>No</td>\n",
       "    </tr>\n",
       "    <tr>\n",
       "      <th>2</th>\n",
       "      <td>2008-12-03</td>\n",
       "      <td>Albury</td>\n",
       "      <td>12.9</td>\n",
       "      <td>25.7</td>\n",
       "      <td>0.0</td>\n",
       "      <td>NaN</td>\n",
       "      <td>NaN</td>\n",
       "      <td>WSW</td>\n",
       "      <td>46.0</td>\n",
       "      <td>W</td>\n",
       "      <td>WSW</td>\n",
       "      <td>19.0</td>\n",
       "      <td>26.0</td>\n",
       "      <td>38.0</td>\n",
       "      <td>30.0</td>\n",
       "      <td>1007.6</td>\n",
       "      <td>1008.7</td>\n",
       "      <td>NaN</td>\n",
       "      <td>2.0</td>\n",
       "      <td>21.0</td>\n",
       "      <td>23.2</td>\n",
       "      <td>No</td>\n",
       "      <td>No</td>\n",
       "    </tr>\n",
       "    <tr>\n",
       "      <th>3</th>\n",
       "      <td>2008-12-04</td>\n",
       "      <td>Albury</td>\n",
       "      <td>9.2</td>\n",
       "      <td>28.0</td>\n",
       "      <td>0.0</td>\n",
       "      <td>NaN</td>\n",
       "      <td>NaN</td>\n",
       "      <td>NE</td>\n",
       "      <td>24.0</td>\n",
       "      <td>SE</td>\n",
       "      <td>E</td>\n",
       "      <td>11.0</td>\n",
       "      <td>9.0</td>\n",
       "      <td>45.0</td>\n",
       "      <td>16.0</td>\n",
       "      <td>1017.6</td>\n",
       "      <td>1012.8</td>\n",
       "      <td>NaN</td>\n",
       "      <td>NaN</td>\n",
       "      <td>18.1</td>\n",
       "      <td>26.5</td>\n",
       "      <td>No</td>\n",
       "      <td>No</td>\n",
       "    </tr>\n",
       "    <tr>\n",
       "      <th>4</th>\n",
       "      <td>2008-12-05</td>\n",
       "      <td>Albury</td>\n",
       "      <td>17.5</td>\n",
       "      <td>32.3</td>\n",
       "      <td>1.0</td>\n",
       "      <td>NaN</td>\n",
       "      <td>NaN</td>\n",
       "      <td>W</td>\n",
       "      <td>41.0</td>\n",
       "      <td>ENE</td>\n",
       "      <td>NW</td>\n",
       "      <td>7.0</td>\n",
       "      <td>20.0</td>\n",
       "      <td>82.0</td>\n",
       "      <td>33.0</td>\n",
       "      <td>1010.8</td>\n",
       "      <td>1006.0</td>\n",
       "      <td>7.0</td>\n",
       "      <td>8.0</td>\n",
       "      <td>17.8</td>\n",
       "      <td>29.7</td>\n",
       "      <td>No</td>\n",
       "      <td>No</td>\n",
       "    </tr>\n",
       "    <tr>\n",
       "      <th>5</th>\n",
       "      <td>2008-12-06</td>\n",
       "      <td>Albury</td>\n",
       "      <td>14.6</td>\n",
       "      <td>29.7</td>\n",
       "      <td>0.2</td>\n",
       "      <td>NaN</td>\n",
       "      <td>NaN</td>\n",
       "      <td>WNW</td>\n",
       "      <td>56.0</td>\n",
       "      <td>W</td>\n",
       "      <td>W</td>\n",
       "      <td>19.0</td>\n",
       "      <td>24.0</td>\n",
       "      <td>55.0</td>\n",
       "      <td>23.0</td>\n",
       "      <td>1009.2</td>\n",
       "      <td>1005.4</td>\n",
       "      <td>NaN</td>\n",
       "      <td>NaN</td>\n",
       "      <td>20.6</td>\n",
       "      <td>28.9</td>\n",
       "      <td>No</td>\n",
       "      <td>No</td>\n",
       "    </tr>\n",
       "    <tr>\n",
       "      <th>6</th>\n",
       "      <td>2008-12-07</td>\n",
       "      <td>Albury</td>\n",
       "      <td>14.3</td>\n",
       "      <td>25.0</td>\n",
       "      <td>0.0</td>\n",
       "      <td>NaN</td>\n",
       "      <td>NaN</td>\n",
       "      <td>W</td>\n",
       "      <td>50.0</td>\n",
       "      <td>SW</td>\n",
       "      <td>W</td>\n",
       "      <td>20.0</td>\n",
       "      <td>24.0</td>\n",
       "      <td>49.0</td>\n",
       "      <td>19.0</td>\n",
       "      <td>1009.6</td>\n",
       "      <td>1008.2</td>\n",
       "      <td>1.0</td>\n",
       "      <td>NaN</td>\n",
       "      <td>18.1</td>\n",
       "      <td>24.6</td>\n",
       "      <td>No</td>\n",
       "      <td>No</td>\n",
       "    </tr>\n",
       "    <tr>\n",
       "      <th>7</th>\n",
       "      <td>2008-12-08</td>\n",
       "      <td>Albury</td>\n",
       "      <td>7.7</td>\n",
       "      <td>26.7</td>\n",
       "      <td>0.0</td>\n",
       "      <td>NaN</td>\n",
       "      <td>NaN</td>\n",
       "      <td>W</td>\n",
       "      <td>35.0</td>\n",
       "      <td>SSE</td>\n",
       "      <td>W</td>\n",
       "      <td>6.0</td>\n",
       "      <td>17.0</td>\n",
       "      <td>48.0</td>\n",
       "      <td>19.0</td>\n",
       "      <td>1013.4</td>\n",
       "      <td>1010.1</td>\n",
       "      <td>NaN</td>\n",
       "      <td>NaN</td>\n",
       "      <td>16.3</td>\n",
       "      <td>25.5</td>\n",
       "      <td>No</td>\n",
       "      <td>No</td>\n",
       "    </tr>\n",
       "    <tr>\n",
       "      <th>8</th>\n",
       "      <td>2008-12-09</td>\n",
       "      <td>Albury</td>\n",
       "      <td>9.7</td>\n",
       "      <td>31.9</td>\n",
       "      <td>0.0</td>\n",
       "      <td>NaN</td>\n",
       "      <td>NaN</td>\n",
       "      <td>NNW</td>\n",
       "      <td>80.0</td>\n",
       "      <td>SE</td>\n",
       "      <td>NW</td>\n",
       "      <td>7.0</td>\n",
       "      <td>28.0</td>\n",
       "      <td>42.0</td>\n",
       "      <td>9.0</td>\n",
       "      <td>1008.9</td>\n",
       "      <td>1003.6</td>\n",
       "      <td>NaN</td>\n",
       "      <td>NaN</td>\n",
       "      <td>18.3</td>\n",
       "      <td>30.2</td>\n",
       "      <td>No</td>\n",
       "      <td>Yes</td>\n",
       "    </tr>\n",
       "    <tr>\n",
       "      <th>9</th>\n",
       "      <td>2008-12-10</td>\n",
       "      <td>Albury</td>\n",
       "      <td>13.1</td>\n",
       "      <td>30.1</td>\n",
       "      <td>1.4</td>\n",
       "      <td>NaN</td>\n",
       "      <td>NaN</td>\n",
       "      <td>W</td>\n",
       "      <td>28.0</td>\n",
       "      <td>S</td>\n",
       "      <td>SSE</td>\n",
       "      <td>15.0</td>\n",
       "      <td>11.0</td>\n",
       "      <td>58.0</td>\n",
       "      <td>27.0</td>\n",
       "      <td>1007.0</td>\n",
       "      <td>1005.7</td>\n",
       "      <td>NaN</td>\n",
       "      <td>NaN</td>\n",
       "      <td>20.1</td>\n",
       "      <td>28.2</td>\n",
       "      <td>Yes</td>\n",
       "      <td>No</td>\n",
       "    </tr>\n",
       "  </tbody>\n",
       "</table>\n",
       "</div>"
      ],
      "text/plain": [
       "         Date Location  MinTemp  MaxTemp  Rainfall  Evaporation  Sunshine  \\\n",
       "0  2008-12-01   Albury     13.4     22.9       0.6          NaN       NaN   \n",
       "1  2008-12-02   Albury      7.4     25.1       0.0          NaN       NaN   \n",
       "2  2008-12-03   Albury     12.9     25.7       0.0          NaN       NaN   \n",
       "3  2008-12-04   Albury      9.2     28.0       0.0          NaN       NaN   \n",
       "4  2008-12-05   Albury     17.5     32.3       1.0          NaN       NaN   \n",
       "5  2008-12-06   Albury     14.6     29.7       0.2          NaN       NaN   \n",
       "6  2008-12-07   Albury     14.3     25.0       0.0          NaN       NaN   \n",
       "7  2008-12-08   Albury      7.7     26.7       0.0          NaN       NaN   \n",
       "8  2008-12-09   Albury      9.7     31.9       0.0          NaN       NaN   \n",
       "9  2008-12-10   Albury     13.1     30.1       1.4          NaN       NaN   \n",
       "\n",
       "  WindGustDir  WindGustSpeed WindDir9am WindDir3pm  WindSpeed9am  \\\n",
       "0           W           44.0          W        WNW          20.0   \n",
       "1         WNW           44.0        NNW        WSW           4.0   \n",
       "2         WSW           46.0          W        WSW          19.0   \n",
       "3          NE           24.0         SE          E          11.0   \n",
       "4           W           41.0        ENE         NW           7.0   \n",
       "5         WNW           56.0          W          W          19.0   \n",
       "6           W           50.0         SW          W          20.0   \n",
       "7           W           35.0        SSE          W           6.0   \n",
       "8         NNW           80.0         SE         NW           7.0   \n",
       "9           W           28.0          S        SSE          15.0   \n",
       "\n",
       "   WindSpeed3pm  Humidity9am  Humidity3pm  Pressure9am  Pressure3pm  Cloud9am  \\\n",
       "0          24.0         71.0         22.0       1007.7       1007.1       8.0   \n",
       "1          22.0         44.0         25.0       1010.6       1007.8       NaN   \n",
       "2          26.0         38.0         30.0       1007.6       1008.7       NaN   \n",
       "3           9.0         45.0         16.0       1017.6       1012.8       NaN   \n",
       "4          20.0         82.0         33.0       1010.8       1006.0       7.0   \n",
       "5          24.0         55.0         23.0       1009.2       1005.4       NaN   \n",
       "6          24.0         49.0         19.0       1009.6       1008.2       1.0   \n",
       "7          17.0         48.0         19.0       1013.4       1010.1       NaN   \n",
       "8          28.0         42.0          9.0       1008.9       1003.6       NaN   \n",
       "9          11.0         58.0         27.0       1007.0       1005.7       NaN   \n",
       "\n",
       "   Cloud3pm  Temp9am  Temp3pm RainToday RainTomorrow  \n",
       "0       NaN     16.9     21.8        No           No  \n",
       "1       NaN     17.2     24.3        No           No  \n",
       "2       2.0     21.0     23.2        No           No  \n",
       "3       NaN     18.1     26.5        No           No  \n",
       "4       8.0     17.8     29.7        No           No  \n",
       "5       NaN     20.6     28.9        No           No  \n",
       "6       NaN     18.1     24.6        No           No  \n",
       "7       NaN     16.3     25.5        No           No  \n",
       "8       NaN     18.3     30.2        No          Yes  \n",
       "9       NaN     20.1     28.2       Yes           No  "
      ]
     },
     "execution_count": 3,
     "metadata": {},
     "output_type": "execute_result"
    }
   ],
   "source": [
    "df.head(10)"
   ]
  },
  {
   "cell_type": "markdown",
   "id": "4582a495",
   "metadata": {},
   "source": [
    "Here we can see some pf the Data is having object values hence we will convet that data into numeric"
   ]
  },
  {
   "cell_type": "markdown",
   "id": "1a4ec317",
   "metadata": {},
   "source": [
    "# EDA"
   ]
  },
  {
   "cell_type": "code",
   "execution_count": 4,
   "id": "f1b543fe",
   "metadata": {},
   "outputs": [
    {
     "data": {
      "text/plain": [
       "(8425, 23)"
      ]
     },
     "execution_count": 4,
     "metadata": {},
     "output_type": "execute_result"
    }
   ],
   "source": [
    "#checking shape of the dataset\n",
    "df.shape"
   ]
  },
  {
   "cell_type": "code",
   "execution_count": 5,
   "id": "3462815f",
   "metadata": {},
   "outputs": [
    {
     "data": {
      "text/plain": [
       "No     6195\n",
       "Yes    1991\n",
       "Name: RainTomorrow, dtype: int64"
      ]
     },
     "execution_count": 5,
     "metadata": {},
     "output_type": "execute_result"
    }
   ],
   "source": [
    "#checking value count of label\n",
    "df.RainTomorrow.value_counts()"
   ]
  },
  {
   "cell_type": "markdown",
   "id": "8aa82c5d",
   "metadata": {},
   "source": [
    "Here we can see the Output data is unbalanced hence we should use SMOTE technique to balance the data which can predicte well by the model"
   ]
  },
  {
   "cell_type": "code",
   "execution_count": 6,
   "id": "f8187da3",
   "metadata": {},
   "outputs": [
    {
     "name": "stdout",
     "output_type": "stream",
     "text": [
      "<class 'pandas.core.frame.DataFrame'>\n",
      "RangeIndex: 8425 entries, 0 to 8424\n",
      "Data columns (total 23 columns):\n",
      " #   Column         Non-Null Count  Dtype  \n",
      "---  ------         --------------  -----  \n",
      " 0   Date           8425 non-null   object \n",
      " 1   Location       8425 non-null   object \n",
      " 2   MinTemp        8350 non-null   float64\n",
      " 3   MaxTemp        8365 non-null   float64\n",
      " 4   Rainfall       8185 non-null   float64\n",
      " 5   Evaporation    4913 non-null   float64\n",
      " 6   Sunshine       4431 non-null   float64\n",
      " 7   WindGustDir    7434 non-null   object \n",
      " 8   WindGustSpeed  7434 non-null   float64\n",
      " 9   WindDir9am     7596 non-null   object \n",
      " 10  WindDir3pm     8117 non-null   object \n",
      " 11  WindSpeed9am   8349 non-null   float64\n",
      " 12  WindSpeed3pm   8318 non-null   float64\n",
      " 13  Humidity9am    8366 non-null   float64\n",
      " 14  Humidity3pm    8323 non-null   float64\n",
      " 15  Pressure9am    7116 non-null   float64\n",
      " 16  Pressure3pm    7113 non-null   float64\n",
      " 17  Cloud9am       6004 non-null   float64\n",
      " 18  Cloud3pm       5970 non-null   float64\n",
      " 19  Temp9am        8369 non-null   float64\n",
      " 20  Temp3pm        8329 non-null   float64\n",
      " 21  RainToday      8185 non-null   object \n",
      " 22  RainTomorrow   8186 non-null   object \n",
      "dtypes: float64(16), object(7)\n",
      "memory usage: 1.5+ MB\n"
     ]
    }
   ],
   "source": [
    "df.info()"
   ]
  },
  {
   "cell_type": "code",
   "execution_count": 7,
   "id": "a5eac715",
   "metadata": {},
   "outputs": [
    {
     "data": {
      "text/plain": [
       "Date             3004\n",
       "Pressure9am       384\n",
       "Pressure3pm       374\n",
       "MaxTemp           331\n",
       "Temp3pm           328\n",
       "Temp9am           304\n",
       "MinTemp           285\n",
       "Rainfall          250\n",
       "Sunshine          140\n",
       "Evaporation       116\n",
       "Humidity3pm        94\n",
       "Humidity9am        90\n",
       "WindGustSpeed      52\n",
       "WindSpeed3pm       35\n",
       "WindSpeed9am       34\n",
       "WindDir3pm         16\n",
       "WindDir9am         16\n",
       "WindGustDir        16\n",
       "Location           12\n",
       "Cloud9am            9\n",
       "Cloud3pm            9\n",
       "RainToday           2\n",
       "RainTomorrow        2\n",
       "dtype: int64"
      ]
     },
     "execution_count": 7,
     "metadata": {},
     "output_type": "execute_result"
    }
   ],
   "source": [
    "#checking unique values\n",
    "df.nunique().sort_values(ascending=False)"
   ]
  },
  {
   "cell_type": "markdown",
   "id": "dcce3635",
   "metadata": {},
   "source": [
    "# Checking Distinct Data in columns"
   ]
  },
  {
   "cell_type": "markdown",
   "id": "a6e4bb8b",
   "metadata": {},
   "source": [
    "we will check for columns which is having object as data type"
   ]
  },
  {
   "cell_type": "code",
   "execution_count": 8,
   "id": "b3d232c8",
   "metadata": {},
   "outputs": [
    {
     "data": {
      "text/plain": [
       "Date              object\n",
       "WindGustDir       object\n",
       "RainToday         object\n",
       "Location          object\n",
       "WindDir3pm        object\n",
       "WindDir9am        object\n",
       "RainTomorrow      object\n",
       "Sunshine         float64\n",
       "WindGustSpeed    float64\n",
       "Evaporation      float64\n",
       "Rainfall         float64\n",
       "MaxTemp          float64\n",
       "WindSpeed3pm     float64\n",
       "Humidity9am      float64\n",
       "Humidity3pm      float64\n",
       "Pressure9am      float64\n",
       "Pressure3pm      float64\n",
       "Cloud9am         float64\n",
       "Cloud3pm         float64\n",
       "Temp9am          float64\n",
       "Temp3pm          float64\n",
       "MinTemp          float64\n",
       "WindSpeed9am     float64\n",
       "dtype: object"
      ]
     },
     "execution_count": 8,
     "metadata": {},
     "output_type": "execute_result"
    }
   ],
   "source": [
    "df.dtypes.sort_values(ascending=False)"
   ]
  },
  {
   "cell_type": "code",
   "execution_count": 10,
   "id": "36128489",
   "metadata": {},
   "outputs": [
    {
     "name": "stdout",
     "output_type": "stream",
     "text": [
      "N      713\n",
      "SSE    578\n",
      "S      577\n",
      "SW     572\n",
      "E      557\n",
      "WNW    531\n",
      "W      507\n",
      "WSW    504\n",
      "SE     484\n",
      "ENE    415\n",
      "SSW    396\n",
      "NW     383\n",
      "NE     353\n",
      "NNE    343\n",
      "ESE    302\n",
      "NNW    219\n",
      "Name: WindGustDir, dtype: int64\n"
     ]
    },
    {
     "data": {
      "image/png": "[encoded data removed]",
      "text/plain": [
       "<Figure size 432x288 with 1 Axes>"
      ]
     },
     "metadata": {
      "needs_background": "light"
     },
     "output_type": "display_data"
    }
   ],
   "source": [
    "import seaborn as sns\n",
    "ax=sns.countplot(x=\"WindGustDir\",data=df)\n",
    "print(df[\"WindGustDir\"].value_counts())"
   ]
  },
  {
   "cell_type": "code",
   "execution_count": 11,
   "id": "95b42b06",
   "metadata": {},
   "outputs": [
    {
     "name": "stdout",
     "output_type": "stream",
     "text": [
      "No     6195\n",
      "Yes    1990\n",
      "Name: RainToday, dtype: int64\n"
     ]
    },
    {
     "data": {
      "image/png": "[encoded data removed]",
      "text/plain": [
       "<Figure size 432x288 with 1 Axes>"
      ]
     },
     "metadata": {
      "needs_background": "light"
     },
     "output_type": "display_data"
    }
   ],
   "source": [
    "import seaborn as sns\n",
    "ax=sns.countplot(x=\"RainToday\",data=df)\n",
    "print(df[\"RainToday\"].value_counts())"
   ]
  },
  {
   "cell_type": "code",
   "execution_count": 12,
   "id": "a6e8ae35",
   "metadata": {},
   "outputs": [
    {
     "name": "stdout",
     "output_type": "stream",
     "text": [
      "Melbourne       1622\n",
      "Williamtown     1230\n",
      "PerthAirport    1204\n",
      "Albury           907\n",
      "Newcastle        822\n",
      "CoffsHarbour     611\n",
      "Brisbane         579\n",
      "Penrith          482\n",
      "Wollongong       474\n",
      "Darwin           250\n",
      "Adelaide         205\n",
      "Uluru             39\n",
      "Name: Location, dtype: int64\n"
     ]
    },
    {
     "data": {
      "image/png": "[encoded data removed]",
      "text/plain": [
       "<Figure size 432x288 with 1 Axes>"
      ]
     },
     "metadata": {
      "needs_background": "light"
     },
     "output_type": "display_data"
    }
   ],
   "source": [
    "import seaborn as sns\n",
    "ax=sns.countplot(x=\"Location\",data=df)\n",
    "print(df[\"Location\"].value_counts())"
   ]
  },
  {
   "cell_type": "code",
   "execution_count": 13,
   "id": "7cf045e2",
   "metadata": {},
   "outputs": [
    {
     "name": "stdout",
     "output_type": "stream",
     "text": [
      "SE     813\n",
      "S      742\n",
      "SSE    623\n",
      "WSW    580\n",
      "NE     544\n",
      "N      524\n",
      "SW     494\n",
      "WNW    487\n",
      "NW     468\n",
      "W      462\n",
      "ESE    462\n",
      "E      460\n",
      "ENE    417\n",
      "SSW    370\n",
      "NNE    365\n",
      "NNW    306\n",
      "Name: WindDir3pm, dtype: int64\n"
     ]
    },
    {
     "data": {
      "image/png": "[encoded data removed]",
      "text/plain": [
       "<Figure size 432x288 with 1 Axes>"
      ]
     },
     "metadata": {
      "needs_background": "light"
     },
     "output_type": "display_data"
    }
   ],
   "source": [
    "import seaborn as sns\n",
    "ax=sns.countplot(x=\"WindDir3pm\",data=df)\n",
    "print(df[\"WindDir3pm\"].value_counts())"
   ]
  },
  {
   "cell_type": "code",
   "execution_count": 14,
   "id": "ea70c57e",
   "metadata": {},
   "outputs": [
    {
     "name": "stdout",
     "output_type": "stream",
     "text": [
      "N      906\n",
      "SW     704\n",
      "NW     625\n",
      "WSW    543\n",
      "SE     505\n",
      "WNW    480\n",
      "SSW    467\n",
      "ENE    433\n",
      "NNE    430\n",
      "W      414\n",
      "NE     409\n",
      "S      402\n",
      "E      380\n",
      "SSE    365\n",
      "NNW    280\n",
      "ESE    253\n",
      "Name: WindDir9am, dtype: int64\n"
     ]
    },
    {
     "data": {
      "image/png": "[encoded data removed]",
      "text/plain": [
       "<Figure size 432x288 with 1 Axes>"
      ]
     },
     "metadata": {
      "needs_background": "light"
     },
     "output_type": "display_data"
    }
   ],
   "source": [
    "import seaborn as sns\n",
    "ax=sns.countplot(x=\"WindDir9am\",data=df)\n",
    "print(df[\"WindDir9am\"].value_counts())"
   ]
  },
  {
   "cell_type": "code",
   "execution_count": 15,
   "id": "d70626bd",
   "metadata": {},
   "outputs": [
    {
     "name": "stdout",
     "output_type": "stream",
     "text": [
      "No     6195\n",
      "Yes    1991\n",
      "Name: RainTomorrow, dtype: int64\n"
     ]
    },
    {
     "data": {
      "image/png": "[encoded data removed]",
      "text/plain": [
       "<Figure size 432x288 with 1 Axes>"
      ]
     },
     "metadata": {
      "needs_background": "light"
     },
     "output_type": "display_data"
    }
   ],
   "source": [
    "import seaborn as sns\n",
    "ax=sns.countplot(x=\"RainTomorrow\",data=df)\n",
    "print(df[\"RainTomorrow\"].value_counts())"
   ]
  },
  {
   "cell_type": "markdown",
   "id": "b612b4fb",
   "metadata": {},
   "source": [
    "# To Convert Object into Numeric"
   ]
  },
  {
   "cell_type": "code",
   "execution_count": 133,
   "id": "8582de5a",
   "metadata": {},
   "outputs": [],
   "source": [
    "from sklearn.preprocessing import LabelEncoder"
   ]
  },
  {
   "cell_type": "code",
   "execution_count": 162,
   "id": "b17565a5",
   "metadata": {},
   "outputs": [],
   "source": [
    "#by using for loop here we encoded the object columns\n",
    "for col in df:\n",
    "    if df[col].dtype==np.number:\n",
    "        continue\n",
    "    df[col]=LabelEncoder().fit_transform(df[col])"
   ]
  },
  {
   "cell_type": "code",
   "execution_count": 163,
   "id": "71ed4e09",
   "metadata": {},
   "outputs": [
    {
     "data": {
      "text/html": [
       "<div>\n",
       "<style scoped>\n",
       "    .dataframe tbody tr th:only-of-type {\n",
       "        vertical-align: middle;\n",
       "    }\n",
       "\n",
       "    .dataframe tbody tr th {\n",
       "        vertical-align: top;\n",
       "    }\n",
       "\n",
       "    .dataframe thead th {\n",
       "        text-align: right;\n",
       "    }\n",
       "</style>\n",
       "<table border=\"1\" class=\"dataframe\">\n",
       "  <thead>\n",
       "    <tr style=\"text-align: right;\">\n",
       "      <th></th>\n",
       "      <th>Date</th>\n",
       "      <th>Location</th>\n",
       "      <th>MinTemp</th>\n",
       "      <th>MaxTemp</th>\n",
       "      <th>Rainfall</th>\n",
       "      <th>Evaporation</th>\n",
       "      <th>Sunshine</th>\n",
       "      <th>WindGustDir</th>\n",
       "      <th>WindGustSpeed</th>\n",
       "      <th>WindDir9am</th>\n",
       "      <th>WindDir3pm</th>\n",
       "      <th>WindSpeed9am</th>\n",
       "      <th>WindSpeed3pm</th>\n",
       "      <th>Humidity9am</th>\n",
       "      <th>Humidity3pm</th>\n",
       "      <th>Pressure9am</th>\n",
       "      <th>Pressure3pm</th>\n",
       "      <th>Cloud9am</th>\n",
       "      <th>Cloud3pm</th>\n",
       "      <th>Temp9am</th>\n",
       "      <th>Temp3pm</th>\n",
       "      <th>RainToday</th>\n",
       "      <th>RainTomorrow</th>\n",
       "    </tr>\n",
       "  </thead>\n",
       "  <tbody>\n",
       "    <tr>\n",
       "      <th>0</th>\n",
       "      <td>0</td>\n",
       "      <td>1</td>\n",
       "      <td>13.4</td>\n",
       "      <td>22.9</td>\n",
       "      <td>0.6</td>\n",
       "      <td>NaN</td>\n",
       "      <td>NaN</td>\n",
       "      <td>13</td>\n",
       "      <td>44.0</td>\n",
       "      <td>13</td>\n",
       "      <td>14</td>\n",
       "      <td>20.0</td>\n",
       "      <td>24.0</td>\n",
       "      <td>71.0</td>\n",
       "      <td>22.0</td>\n",
       "      <td>1007.7</td>\n",
       "      <td>1007.1</td>\n",
       "      <td>8.0</td>\n",
       "      <td>NaN</td>\n",
       "      <td>16.9</td>\n",
       "      <td>21.8</td>\n",
       "      <td>0</td>\n",
       "      <td>0</td>\n",
       "    </tr>\n",
       "    <tr>\n",
       "      <th>1</th>\n",
       "      <td>1</td>\n",
       "      <td>1</td>\n",
       "      <td>7.4</td>\n",
       "      <td>25.1</td>\n",
       "      <td>0.0</td>\n",
       "      <td>NaN</td>\n",
       "      <td>NaN</td>\n",
       "      <td>14</td>\n",
       "      <td>44.0</td>\n",
       "      <td>6</td>\n",
       "      <td>15</td>\n",
       "      <td>4.0</td>\n",
       "      <td>22.0</td>\n",
       "      <td>44.0</td>\n",
       "      <td>25.0</td>\n",
       "      <td>1010.6</td>\n",
       "      <td>1007.8</td>\n",
       "      <td>NaN</td>\n",
       "      <td>NaN</td>\n",
       "      <td>17.2</td>\n",
       "      <td>24.3</td>\n",
       "      <td>0</td>\n",
       "      <td>0</td>\n",
       "    </tr>\n",
       "    <tr>\n",
       "      <th>2</th>\n",
       "      <td>2</td>\n",
       "      <td>1</td>\n",
       "      <td>12.9</td>\n",
       "      <td>25.7</td>\n",
       "      <td>0.0</td>\n",
       "      <td>NaN</td>\n",
       "      <td>NaN</td>\n",
       "      <td>15</td>\n",
       "      <td>46.0</td>\n",
       "      <td>13</td>\n",
       "      <td>15</td>\n",
       "      <td>19.0</td>\n",
       "      <td>26.0</td>\n",
       "      <td>38.0</td>\n",
       "      <td>30.0</td>\n",
       "      <td>1007.6</td>\n",
       "      <td>1008.7</td>\n",
       "      <td>NaN</td>\n",
       "      <td>2.0</td>\n",
       "      <td>21.0</td>\n",
       "      <td>23.2</td>\n",
       "      <td>0</td>\n",
       "      <td>0</td>\n",
       "    </tr>\n",
       "    <tr>\n",
       "      <th>3</th>\n",
       "      <td>3</td>\n",
       "      <td>1</td>\n",
       "      <td>9.2</td>\n",
       "      <td>28.0</td>\n",
       "      <td>0.0</td>\n",
       "      <td>NaN</td>\n",
       "      <td>NaN</td>\n",
       "      <td>4</td>\n",
       "      <td>24.0</td>\n",
       "      <td>9</td>\n",
       "      <td>0</td>\n",
       "      <td>11.0</td>\n",
       "      <td>9.0</td>\n",
       "      <td>45.0</td>\n",
       "      <td>16.0</td>\n",
       "      <td>1017.6</td>\n",
       "      <td>1012.8</td>\n",
       "      <td>NaN</td>\n",
       "      <td>NaN</td>\n",
       "      <td>18.1</td>\n",
       "      <td>26.5</td>\n",
       "      <td>0</td>\n",
       "      <td>0</td>\n",
       "    </tr>\n",
       "    <tr>\n",
       "      <th>4</th>\n",
       "      <td>4</td>\n",
       "      <td>1</td>\n",
       "      <td>17.5</td>\n",
       "      <td>32.3</td>\n",
       "      <td>1.0</td>\n",
       "      <td>NaN</td>\n",
       "      <td>NaN</td>\n",
       "      <td>13</td>\n",
       "      <td>41.0</td>\n",
       "      <td>1</td>\n",
       "      <td>7</td>\n",
       "      <td>7.0</td>\n",
       "      <td>20.0</td>\n",
       "      <td>82.0</td>\n",
       "      <td>33.0</td>\n",
       "      <td>1010.8</td>\n",
       "      <td>1006.0</td>\n",
       "      <td>7.0</td>\n",
       "      <td>8.0</td>\n",
       "      <td>17.8</td>\n",
       "      <td>29.7</td>\n",
       "      <td>0</td>\n",
       "      <td>0</td>\n",
       "    </tr>\n",
       "  </tbody>\n",
       "</table>\n",
       "</div>"
      ],
      "text/plain": [
       "   Date  Location  MinTemp  MaxTemp  Rainfall  Evaporation  Sunshine  \\\n",
       "0     0         1     13.4     22.9       0.6          NaN       NaN   \n",
       "1     1         1      7.4     25.1       0.0          NaN       NaN   \n",
       "2     2         1     12.9     25.7       0.0          NaN       NaN   \n",
       "3     3         1      9.2     28.0       0.0          NaN       NaN   \n",
       "4     4         1     17.5     32.3       1.0          NaN       NaN   \n",
       "\n",
       "   WindGustDir  WindGustSpeed  WindDir9am  WindDir3pm  WindSpeed9am  \\\n",
       "0           13           44.0          13          14          20.0   \n",
       "1           14           44.0           6          15           4.0   \n",
       "2           15           46.0          13          15          19.0   \n",
       "3            4           24.0           9           0          11.0   \n",
       "4           13           41.0           1           7           7.0   \n",
       "\n",
       "   WindSpeed3pm  Humidity9am  Humidity3pm  Pressure9am  Pressure3pm  Cloud9am  \\\n",
       "0          24.0         71.0         22.0       1007.7       1007.1       8.0   \n",
       "1          22.0         44.0         25.0       1010.6       1007.8       NaN   \n",
       "2          26.0         38.0         30.0       1007.6       1008.7       NaN   \n",
       "3           9.0         45.0         16.0       1017.6       1012.8       NaN   \n",
       "4          20.0         82.0         33.0       1010.8       1006.0       7.0   \n",
       "\n",
       "   Cloud3pm  Temp9am  Temp3pm  RainToday  RainTomorrow  \n",
       "0       NaN     16.9     21.8          0             0  \n",
       "1       NaN     17.2     24.3          0             0  \n",
       "2       2.0     21.0     23.2          0             0  \n",
       "3       NaN     18.1     26.5          0             0  \n",
       "4       8.0     17.8     29.7          0             0  "
      ]
     },
     "execution_count": 163,
     "metadata": {},
     "output_type": "execute_result"
    }
   ],
   "source": [
    "df.head()"
   ]
  },
  {
   "cell_type": "code",
   "execution_count": 164,
   "id": "ec9295ee",
   "metadata": {},
   "outputs": [
    {
     "name": "stdout",
     "output_type": "stream",
     "text": [
      "<class 'pandas.core.frame.DataFrame'>\n",
      "RangeIndex: 8425 entries, 0 to 8424\n",
      "Data columns (total 23 columns):\n",
      " #   Column         Non-Null Count  Dtype  \n",
      "---  ------         --------------  -----  \n",
      " 0   Date           8425 non-null   int32  \n",
      " 1   Location       8425 non-null   int32  \n",
      " 2   MinTemp        8350 non-null   float64\n",
      " 3   MaxTemp        8365 non-null   float64\n",
      " 4   Rainfall       8185 non-null   float64\n",
      " 5   Evaporation    4913 non-null   float64\n",
      " 6   Sunshine       4431 non-null   float64\n",
      " 7   WindGustDir    8425 non-null   int32  \n",
      " 8   WindGustSpeed  7434 non-null   float64\n",
      " 9   WindDir9am     8425 non-null   int32  \n",
      " 10  WindDir3pm     8425 non-null   int32  \n",
      " 11  WindSpeed9am   8349 non-null   float64\n",
      " 12  WindSpeed3pm   8318 non-null   float64\n",
      " 13  Humidity9am    8366 non-null   float64\n",
      " 14  Humidity3pm    8323 non-null   float64\n",
      " 15  Pressure9am    7116 non-null   float64\n",
      " 16  Pressure3pm    7113 non-null   float64\n",
      " 17  Cloud9am       6004 non-null   float64\n",
      " 18  Cloud3pm       5970 non-null   float64\n",
      " 19  Temp9am        8369 non-null   float64\n",
      " 20  Temp3pm        8329 non-null   float64\n",
      " 21  RainToday      8425 non-null   int32  \n",
      " 22  RainTomorrow   8425 non-null   int32  \n",
      "dtypes: float64(16), int32(7)\n",
      "memory usage: 1.3 MB\n"
     ]
    }
   ],
   "source": [
    "df.info()"
   ]
  },
  {
   "cell_type": "markdown",
   "id": "cee57e59",
   "metadata": {},
   "source": [
    "All Data converted into Numeric form"
   ]
  },
  {
   "cell_type": "markdown",
   "id": "5ebe6a56",
   "metadata": {},
   "source": [
    "# Checking Null values"
   ]
  },
  {
   "cell_type": "code",
   "execution_count": 165,
   "id": "87a4321a",
   "metadata": {},
   "outputs": [
    {
     "data": {
      "text/plain": [
       "Sunshine         3994\n",
       "Evaporation      3512\n",
       "Cloud3pm         2455\n",
       "Cloud9am         2421\n",
       "Pressure3pm      1312\n",
       "Pressure9am      1309\n",
       "WindGustSpeed     991\n",
       "Rainfall          240\n",
       "WindSpeed3pm      107\n",
       "Humidity3pm       102\n",
       "Temp3pm            96\n",
       "WindSpeed9am       76\n",
       "MinTemp            75\n",
       "MaxTemp            60\n",
       "Humidity9am        59\n",
       "Temp9am            56\n",
       "RainToday           0\n",
       "Date                0\n",
       "Location            0\n",
       "WindDir3pm          0\n",
       "WindDir9am          0\n",
       "WindGustDir         0\n",
       "RainTomorrow        0\n",
       "dtype: int64"
      ]
     },
     "execution_count": 165,
     "metadata": {},
     "output_type": "execute_result"
    }
   ],
   "source": [
    "#checking null values \n",
    "df.isnull().sum().sort_values(ascending=False)"
   ]
  },
  {
   "cell_type": "markdown",
   "id": "6903c6bf",
   "metadata": {},
   "source": [
    "Here we can see the Null values are more in some columns hence suggested by sir we can remove those columns whose having mre than 40% of Null values."
   ]
  },
  {
   "cell_type": "code",
   "execution_count": 166,
   "id": "0fa6986a",
   "metadata": {},
   "outputs": [
    {
     "data": {
      "text/plain": [
       "Date              0.000000\n",
       "Location          0.000000\n",
       "MinTemp           0.890208\n",
       "MaxTemp           0.712166\n",
       "Rainfall          2.848665\n",
       "Evaporation      41.685460\n",
       "Sunshine         47.406528\n",
       "WindGustDir       0.000000\n",
       "WindGustSpeed    11.762611\n",
       "WindDir9am        0.000000\n",
       "WindDir3pm        0.000000\n",
       "WindSpeed9am      0.902077\n",
       "WindSpeed3pm      1.270030\n",
       "Humidity9am       0.700297\n",
       "Humidity3pm       1.210682\n",
       "Pressure9am      15.537092\n",
       "Pressure3pm      15.572700\n",
       "Cloud9am         28.735905\n",
       "Cloud3pm         29.139466\n",
       "Temp9am           0.664688\n",
       "Temp3pm           1.139466\n",
       "RainToday         0.000000\n",
       "RainTomorrow      0.000000\n",
       "dtype: float64"
      ]
     },
     "execution_count": 166,
     "metadata": {},
     "output_type": "execute_result"
    }
   ],
   "source": [
    "df.isnull().sum()/df.shape[0]*100"
   ]
  },
  {
   "cell_type": "markdown",
   "id": "ce14378d",
   "metadata": {},
   "source": [
    "we can see that Evaporation and Sunshine columns are having more than 40% of Null values hence we can remove those two columns so model can predict well"
   ]
  },
  {
   "cell_type": "markdown",
   "id": "a4cf31d0",
   "metadata": {},
   "source": [
    "# Removing Columns having >40% of null values"
   ]
  },
  {
   "cell_type": "code",
   "execution_count": 167,
   "id": "aa10891a",
   "metadata": {},
   "outputs": [],
   "source": [
    "df.drop(columns=['Evaporation','Sunshine'],axis=1,inplace=True)"
   ]
  },
  {
   "cell_type": "code",
   "execution_count": 168,
   "id": "96791c73",
   "metadata": {},
   "outputs": [
    {
     "name": "stdout",
     "output_type": "stream",
     "text": [
      "<class 'pandas.core.frame.DataFrame'>\n",
      "RangeIndex: 8425 entries, 0 to 8424\n",
      "Data columns (total 21 columns):\n",
      " #   Column         Non-Null Count  Dtype  \n",
      "---  ------         --------------  -----  \n",
      " 0   Date           8425 non-null   int32  \n",
      " 1   Location       8425 non-null   int32  \n",
      " 2   MinTemp        8350 non-null   float64\n",
      " 3   MaxTemp        8365 non-null   float64\n",
      " 4   Rainfall       8185 non-null   float64\n",
      " 5   WindGustDir    8425 non-null   int32  \n",
      " 6   WindGustSpeed  7434 non-null   float64\n",
      " 7   WindDir9am     8425 non-null   int32  \n",
      " 8   WindDir3pm     8425 non-null   int32  \n",
      " 9   WindSpeed9am   8349 non-null   float64\n",
      " 10  WindSpeed3pm   8318 non-null   float64\n",
      " 11  Humidity9am    8366 non-null   float64\n",
      " 12  Humidity3pm    8323 non-null   float64\n",
      " 13  Pressure9am    7116 non-null   float64\n",
      " 14  Pressure3pm    7113 non-null   float64\n",
      " 15  Cloud9am       6004 non-null   float64\n",
      " 16  Cloud3pm       5970 non-null   float64\n",
      " 17  Temp9am        8369 non-null   float64\n",
      " 18  Temp3pm        8329 non-null   float64\n",
      " 19  RainToday      8425 non-null   int32  \n",
      " 20  RainTomorrow   8425 non-null   int32  \n",
      "dtypes: float64(14), int32(7)\n",
      "memory usage: 1.1 MB\n"
     ]
    }
   ],
   "source": [
    "df.info()"
   ]
  },
  {
   "cell_type": "markdown",
   "id": "fd4c636c",
   "metadata": {},
   "source": [
    "# Removing Null values"
   ]
  },
  {
   "cell_type": "code",
   "execution_count": 169,
   "id": "3002e0d3",
   "metadata": {},
   "outputs": [],
   "source": [
    "#filling the null values by fillna methid\n",
    "df['MinTemp']=df['MinTemp'].fillna(df['MinTemp'].mean())\n",
    "df['MaxTemp']=df['MaxTemp'].fillna(df['MaxTemp'].mean())\n",
    "df['WindGustSpeed']=df['WindGustSpeed'].fillna(df['WindGustSpeed'].mean())\n",
    "df['WindSpeed9am']=df['WindSpeed9am'].fillna(df['WindSpeed9am'].mean())\n",
    "df['WindSpeed3pm']=df['WindSpeed3pm'].fillna(df['WindSpeed3pm'].mean())\n",
    "df['Humidity9am']=df['Humidity9am'].fillna(df['Humidity9am'].mean())\n",
    "df['Humidity3pm']=df['Humidity3pm'].fillna(df['Humidity3pm'].mean())\n",
    "df['Pressure9am']=df['Pressure9am'].fillna(df['Pressure9am'].mean())\n",
    "df['Pressure3pm']=df['Pressure3pm'].fillna(df['Pressure3pm'].mean())\n",
    "df['Cloud3pm']=df['Cloud3pm'].fillna(df['Cloud3pm'].mean())\n",
    "df['Cloud9am']=df['Cloud9am'].fillna(df['Cloud9am'].mean())\n",
    "df['Temp3pm']=df['Temp3pm'].fillna(df['Temp3pm'].mean())\n",
    "df['Temp9am']=df['Temp9am'].fillna(df['Temp9am'].mean())\n",
    "df['Rainfall']=df['Rainfall'].fillna(df['Rainfall'].mean())"
   ]
  },
  {
   "cell_type": "code",
   "execution_count": 170,
   "id": "91a9e0e5",
   "metadata": {},
   "outputs": [
    {
     "data": {
      "text/plain": [
       "Date             0\n",
       "Location         0\n",
       "MinTemp          0\n",
       "MaxTemp          0\n",
       "Rainfall         0\n",
       "WindGustDir      0\n",
       "WindGustSpeed    0\n",
       "WindDir9am       0\n",
       "WindDir3pm       0\n",
       "WindSpeed9am     0\n",
       "WindSpeed3pm     0\n",
       "Humidity9am      0\n",
       "Humidity3pm      0\n",
       "Pressure9am      0\n",
       "Pressure3pm      0\n",
       "Cloud9am         0\n",
       "Cloud3pm         0\n",
       "Temp9am          0\n",
       "Temp3pm          0\n",
       "RainToday        0\n",
       "RainTomorrow     0\n",
       "dtype: int64"
      ]
     },
     "execution_count": 170,
     "metadata": {},
     "output_type": "execute_result"
    }
   ],
   "source": [
    "df.isnull().sum()"
   ]
  },
  {
   "cell_type": "markdown",
   "id": "bec22d52",
   "metadata": {},
   "source": [
    "Now Null values has been removed successfully.\n",
    "\n",
    "wil check with heatmap "
   ]
  },
  {
   "cell_type": "code",
   "execution_count": 171,
   "id": "2f3f629b",
   "metadata": {},
   "outputs": [
    {
     "data": {
      "text/plain": [
       "<AxesSubplot:>"
      ]
     },
     "execution_count": 171,
     "metadata": {},
     "output_type": "execute_result"
    },
    {
     "data": {
      "image/png": "[encoded data removed]",
      "text/plain": [
       "<Figure size 432x288 with 2 Axes>"
      ]
     },
     "metadata": {
      "needs_background": "light"
     },
     "output_type": "display_data"
    }
   ],
   "source": [
    "sns.heatmap(df.isnull())"
   ]
  },
  {
   "cell_type": "markdown",
   "id": "5594ee0f",
   "metadata": {},
   "source": [
    "# Describe Data"
   ]
  },
  {
   "cell_type": "code",
   "execution_count": 172,
   "id": "64a97f91",
   "metadata": {},
   "outputs": [
    {
     "data": {
      "text/html": [
       "<div>\n",
       "<style scoped>\n",
       "    .dataframe tbody tr th:only-of-type {\n",
       "        vertical-align: middle;\n",
       "    }\n",
       "\n",
       "    .dataframe tbody tr th {\n",
       "        vertical-align: top;\n",
       "    }\n",
       "\n",
       "    .dataframe thead th {\n",
       "        text-align: right;\n",
       "    }\n",
       "</style>\n",
       "<table border=\"1\" class=\"dataframe\">\n",
       "  <thead>\n",
       "    <tr style=\"text-align: right;\">\n",
       "      <th></th>\n",
       "      <th>Date</th>\n",
       "      <th>Location</th>\n",
       "      <th>MinTemp</th>\n",
       "      <th>MaxTemp</th>\n",
       "      <th>Rainfall</th>\n",
       "      <th>WindGustDir</th>\n",
       "      <th>WindGustSpeed</th>\n",
       "      <th>WindDir9am</th>\n",
       "      <th>WindDir3pm</th>\n",
       "      <th>WindSpeed9am</th>\n",
       "      <th>WindSpeed3pm</th>\n",
       "      <th>Humidity9am</th>\n",
       "      <th>Humidity3pm</th>\n",
       "      <th>Pressure9am</th>\n",
       "      <th>Pressure3pm</th>\n",
       "      <th>Cloud9am</th>\n",
       "      <th>Cloud3pm</th>\n",
       "      <th>Temp9am</th>\n",
       "      <th>Temp3pm</th>\n",
       "      <th>RainToday</th>\n",
       "      <th>RainTomorrow</th>\n",
       "    </tr>\n",
       "  </thead>\n",
       "  <tbody>\n",
       "    <tr>\n",
       "      <th>count</th>\n",
       "      <td>8425.000000</td>\n",
       "      <td>8425.000000</td>\n",
       "      <td>8425.000000</td>\n",
       "      <td>8425.000000</td>\n",
       "      <td>8425.000000</td>\n",
       "      <td>8425.000000</td>\n",
       "      <td>8425.000000</td>\n",
       "      <td>8425.000000</td>\n",
       "      <td>8425.000000</td>\n",
       "      <td>8425.000000</td>\n",
       "      <td>8425.000000</td>\n",
       "      <td>8425.000000</td>\n",
       "      <td>8425.000000</td>\n",
       "      <td>8425.000000</td>\n",
       "      <td>8425.000000</td>\n",
       "      <td>8425.000000</td>\n",
       "      <td>8425.000000</td>\n",
       "      <td>8425.000000</td>\n",
       "      <td>8425.000000</td>\n",
       "      <td>8425.000000</td>\n",
       "      <td>8425.000000</td>\n",
       "    </tr>\n",
       "    <tr>\n",
       "      <th>mean</th>\n",
       "      <td>1296.570564</td>\n",
       "      <td>5.793591</td>\n",
       "      <td>13.193305</td>\n",
       "      <td>23.859976</td>\n",
       "      <td>2.805913</td>\n",
       "      <td>8.746944</td>\n",
       "      <td>40.174469</td>\n",
       "      <td>8.546588</td>\n",
       "      <td>8.066350</td>\n",
       "      <td>13.847646</td>\n",
       "      <td>18.533662</td>\n",
       "      <td>67.822496</td>\n",
       "      <td>51.249790</td>\n",
       "      <td>1017.640233</td>\n",
       "      <td>1015.236075</td>\n",
       "      <td>4.566622</td>\n",
       "      <td>4.503183</td>\n",
       "      <td>17.762015</td>\n",
       "      <td>22.442934</td>\n",
       "      <td>0.293175</td>\n",
       "      <td>0.293056</td>\n",
       "    </tr>\n",
       "    <tr>\n",
       "      <th>std</th>\n",
       "      <td>854.249434</td>\n",
       "      <td>3.162654</td>\n",
       "      <td>5.379488</td>\n",
       "      <td>6.114516</td>\n",
       "      <td>10.309308</td>\n",
       "      <td>5.172665</td>\n",
       "      <td>13.776101</td>\n",
       "      <td>5.012591</td>\n",
       "      <td>4.686287</td>\n",
       "      <td>10.128579</td>\n",
       "      <td>9.704759</td>\n",
       "      <td>16.774231</td>\n",
       "      <td>18.311894</td>\n",
       "      <td>6.275759</td>\n",
       "      <td>6.217451</td>\n",
       "      <td>2.429205</td>\n",
       "      <td>2.299419</td>\n",
       "      <td>5.608301</td>\n",
       "      <td>5.945849</td>\n",
       "      <td>0.514031</td>\n",
       "      <td>0.513752</td>\n",
       "    </tr>\n",
       "    <tr>\n",
       "      <th>min</th>\n",
       "      <td>0.000000</td>\n",
       "      <td>0.000000</td>\n",
       "      <td>-2.000000</td>\n",
       "      <td>8.200000</td>\n",
       "      <td>0.000000</td>\n",
       "      <td>0.000000</td>\n",
       "      <td>7.000000</td>\n",
       "      <td>0.000000</td>\n",
       "      <td>0.000000</td>\n",
       "      <td>0.000000</td>\n",
       "      <td>0.000000</td>\n",
       "      <td>10.000000</td>\n",
       "      <td>6.000000</td>\n",
       "      <td>989.800000</td>\n",
       "      <td>982.900000</td>\n",
       "      <td>0.000000</td>\n",
       "      <td>0.000000</td>\n",
       "      <td>1.900000</td>\n",
       "      <td>7.300000</td>\n",
       "      <td>0.000000</td>\n",
       "      <td>0.000000</td>\n",
       "    </tr>\n",
       "    <tr>\n",
       "      <th>25%</th>\n",
       "      <td>589.000000</td>\n",
       "      <td>3.000000</td>\n",
       "      <td>9.300000</td>\n",
       "      <td>19.300000</td>\n",
       "      <td>0.000000</td>\n",
       "      <td>4.000000</td>\n",
       "      <td>31.000000</td>\n",
       "      <td>4.000000</td>\n",
       "      <td>4.000000</td>\n",
       "      <td>6.000000</td>\n",
       "      <td>11.000000</td>\n",
       "      <td>56.000000</td>\n",
       "      <td>39.000000</td>\n",
       "      <td>1014.000000</td>\n",
       "      <td>1011.400000</td>\n",
       "      <td>3.000000</td>\n",
       "      <td>3.000000</td>\n",
       "      <td>13.800000</td>\n",
       "      <td>18.100000</td>\n",
       "      <td>0.000000</td>\n",
       "      <td>0.000000</td>\n",
       "    </tr>\n",
       "    <tr>\n",
       "      <th>50%</th>\n",
       "      <td>1088.000000</td>\n",
       "      <td>6.000000</td>\n",
       "      <td>13.200000</td>\n",
       "      <td>23.300000</td>\n",
       "      <td>0.000000</td>\n",
       "      <td>9.000000</td>\n",
       "      <td>40.174469</td>\n",
       "      <td>9.000000</td>\n",
       "      <td>8.000000</td>\n",
       "      <td>13.000000</td>\n",
       "      <td>19.000000</td>\n",
       "      <td>68.000000</td>\n",
       "      <td>51.000000</td>\n",
       "      <td>1017.640233</td>\n",
       "      <td>1015.236075</td>\n",
       "      <td>4.566622</td>\n",
       "      <td>4.503183</td>\n",
       "      <td>17.762015</td>\n",
       "      <td>22.000000</td>\n",
       "      <td>0.000000</td>\n",
       "      <td>0.000000</td>\n",
       "    </tr>\n",
       "    <tr>\n",
       "      <th>75%</th>\n",
       "      <td>2021.000000</td>\n",
       "      <td>8.000000</td>\n",
       "      <td>17.300000</td>\n",
       "      <td>28.000000</td>\n",
       "      <td>1.400000</td>\n",
       "      <td>13.000000</td>\n",
       "      <td>48.000000</td>\n",
       "      <td>13.000000</td>\n",
       "      <td>12.000000</td>\n",
       "      <td>20.000000</td>\n",
       "      <td>24.000000</td>\n",
       "      <td>80.000000</td>\n",
       "      <td>63.000000</td>\n",
       "      <td>1021.300000</td>\n",
       "      <td>1018.800000</td>\n",
       "      <td>7.000000</td>\n",
       "      <td>7.000000</td>\n",
       "      <td>21.900000</td>\n",
       "      <td>26.300000</td>\n",
       "      <td>1.000000</td>\n",
       "      <td>1.000000</td>\n",
       "    </tr>\n",
       "    <tr>\n",
       "      <th>max</th>\n",
       "      <td>3003.000000</td>\n",
       "      <td>11.000000</td>\n",
       "      <td>28.500000</td>\n",
       "      <td>45.500000</td>\n",
       "      <td>371.000000</td>\n",
       "      <td>16.000000</td>\n",
       "      <td>107.000000</td>\n",
       "      <td>16.000000</td>\n",
       "      <td>16.000000</td>\n",
       "      <td>63.000000</td>\n",
       "      <td>83.000000</td>\n",
       "      <td>100.000000</td>\n",
       "      <td>99.000000</td>\n",
       "      <td>1039.000000</td>\n",
       "      <td>1036.000000</td>\n",
       "      <td>8.000000</td>\n",
       "      <td>8.000000</td>\n",
       "      <td>39.400000</td>\n",
       "      <td>44.100000</td>\n",
       "      <td>2.000000</td>\n",
       "      <td>2.000000</td>\n",
       "    </tr>\n",
       "  </tbody>\n",
       "</table>\n",
       "</div>"
      ],
      "text/plain": [
       "              Date     Location      MinTemp      MaxTemp     Rainfall  \\\n",
       "count  8425.000000  8425.000000  8425.000000  8425.000000  8425.000000   \n",
       "mean   1296.570564     5.793591    13.193305    23.859976     2.805913   \n",
       "std     854.249434     3.162654     5.379488     6.114516    10.309308   \n",
       "min       0.000000     0.000000    -2.000000     8.200000     0.000000   \n",
       "25%     589.000000     3.000000     9.300000    19.300000     0.000000   \n",
       "50%    1088.000000     6.000000    13.200000    23.300000     0.000000   \n",
       "75%    2021.000000     8.000000    17.300000    28.000000     1.400000   \n",
       "max    3003.000000    11.000000    28.500000    45.500000   371.000000   \n",
       "\n",
       "       WindGustDir  WindGustSpeed   WindDir9am   WindDir3pm  WindSpeed9am  \\\n",
       "count  8425.000000    8425.000000  8425.000000  8425.000000   8425.000000   \n",
       "mean      8.746944      40.174469     8.546588     8.066350     13.847646   \n",
       "std       5.172665      13.776101     5.012591     4.686287     10.128579   \n",
       "min       0.000000       7.000000     0.000000     0.000000      0.000000   \n",
       "25%       4.000000      31.000000     4.000000     4.000000      6.000000   \n",
       "50%       9.000000      40.174469     9.000000     8.000000     13.000000   \n",
       "75%      13.000000      48.000000    13.000000    12.000000     20.000000   \n",
       "max      16.000000     107.000000    16.000000    16.000000     63.000000   \n",
       "\n",
       "       WindSpeed3pm  Humidity9am  Humidity3pm  Pressure9am  Pressure3pm  \\\n",
       "count   8425.000000  8425.000000  8425.000000  8425.000000  8425.000000   \n",
       "mean      18.533662    67.822496    51.249790  1017.640233  1015.236075   \n",
       "std        9.704759    16.774231    18.311894     6.275759     6.217451   \n",
       "min        0.000000    10.000000     6.000000   989.800000   982.900000   \n",
       "25%       11.000000    56.000000    39.000000  1014.000000  1011.400000   \n",
       "50%       19.000000    68.000000    51.000000  1017.640233  1015.236075   \n",
       "75%       24.000000    80.000000    63.000000  1021.300000  1018.800000   \n",
       "max       83.000000   100.000000    99.000000  1039.000000  1036.000000   \n",
       "\n",
       "          Cloud9am     Cloud3pm      Temp9am      Temp3pm    RainToday  \\\n",
       "count  8425.000000  8425.000000  8425.000000  8425.000000  8425.000000   \n",
       "mean      4.566622     4.503183    17.762015    22.442934     0.293175   \n",
       "std       2.429205     2.299419     5.608301     5.945849     0.514031   \n",
       "min       0.000000     0.000000     1.900000     7.300000     0.000000   \n",
       "25%       3.000000     3.000000    13.800000    18.100000     0.000000   \n",
       "50%       4.566622     4.503183    17.762015    22.000000     0.000000   \n",
       "75%       7.000000     7.000000    21.900000    26.300000     1.000000   \n",
       "max       8.000000     8.000000    39.400000    44.100000     2.000000   \n",
       "\n",
       "       RainTomorrow  \n",
       "count   8425.000000  \n",
       "mean       0.293056  \n",
       "std        0.513752  \n",
       "min        0.000000  \n",
       "25%        0.000000  \n",
       "50%        0.000000  \n",
       "75%        1.000000  \n",
       "max        2.000000  "
      ]
     },
     "execution_count": 172,
     "metadata": {},
     "output_type": "execute_result"
    }
   ],
   "source": [
    "df.describe()"
   ]
  },
  {
   "cell_type": "markdown",
   "id": "26f28f87",
   "metadata": {},
   "source": [
    "Observation : \n",
    "    \n",
    "    1. Here we can see std dev is more than +-1 in many columns hence we can say skewness and outliers are present\n",
    "    2. Comparison in Mean and 50% : we can see mean value is greater than 50% means skewness are present.\n",
    "    3. Comparison in 75% and Max : we can see the diff is high within 75% and ma value hence we can say that outliers are present."
   ]
  },
  {
   "cell_type": "markdown",
   "id": "f121fdb9",
   "metadata": {},
   "source": [
    "# Checking Outliers"
   ]
  },
  {
   "cell_type": "code",
   "execution_count": 173,
   "id": "0e8990b3",
   "metadata": {},
   "outputs": [
    {
     "data": {
      "image/png": "[encoded data removed]",
      "text/plain": [
       "<Figure size 1440x1080 with 20 Axes>"
      ]
     },
     "metadata": {},
     "output_type": "display_data"
    }
   ],
   "source": [
    "#boxplot to check ouliers\n",
    "plt.figure(figsize=(20,15),facecolor='pink')\n",
    "plotnumber=1\n",
    "\n",
    "for column in df:\n",
    "    if plotnumber<=20:\n",
    "        ax = plt.subplot(4,5,plotnumber)\n",
    "        plt.boxplot(df[column])\n",
    "        plt.xlabel(column,fontsize=8)\n",
    "    \n",
    "    \n",
    "    plotnumber+=1\n",
    "plt.tight_layout()"
   ]
  },
  {
   "cell_type": "markdown",
   "id": "ca978e30",
   "metadata": {},
   "source": [
    "we can see that some columns are having Outliers hence we will remove those outliers using Z score method"
   ]
  },
  {
   "cell_type": "markdown",
   "id": "bfde47ec",
   "metadata": {},
   "source": [
    "# Removing outliers by zscore method"
   ]
  },
  {
   "cell_type": "code",
   "execution_count": 174,
   "id": "b16961b4",
   "metadata": {},
   "outputs": [],
   "source": [
    "from scipy.stats import zscore"
   ]
  },
  {
   "cell_type": "code",
   "execution_count": 175,
   "id": "7fc951b8",
   "metadata": {},
   "outputs": [
    {
     "data": {
      "text/plain": [
       "array([[1.51787928, 1.51577598, 0.03842501, ..., 0.10813805, 0.57037872,\n",
       "        0.57045719],\n",
       "       [1.5167086 , 1.51577598, 1.07698898, ..., 0.31234833, 0.57037872,\n",
       "        0.57045719],\n",
       "       [1.51553791, 1.51577598, 0.05452616, ..., 0.12733432, 0.57037872,\n",
       "        0.57045719],\n",
       "       ...,\n",
       "       [1.99535467, 1.01389522, 1.44879364, ..., 0.61509853, 0.57037872,\n",
       "        0.57045719],\n",
       "       [1.99652536, 1.01389522, 1.00262804, ..., 0.59827907, 0.57037872,\n",
       "        0.57045719],\n",
       "       [1.99769605, 1.01389522, 0.31727851, ..., 0.25951315, 0.57037872,\n",
       "        3.3226994 ]])"
      ]
     },
     "execution_count": 175,
     "metadata": {},
     "output_type": "execute_result"
    }
   ],
   "source": [
    "z=np.abs(zscore(df))\n",
    "z"
   ]
  },
  {
   "cell_type": "code",
   "execution_count": 176,
   "id": "f5193bbc",
   "metadata": {},
   "outputs": [
    {
     "name": "stdout",
     "output_type": "stream",
     "text": [
      "(array([  12,   12,   14,   15,   44,   44,   52,   52,   60,   60,   61,\n",
      "         61,   62,   62,   62,   67,   68,   68,  123,  267,  283,  284,\n",
      "        296,  381,  381,  405,  406,  407,  407,  431,  435,  436,  437,\n",
      "        438,  443,  444,  452,  453,  455,  456,  462,  464,  465,  563,\n",
      "        568,  568,  569,  602,  611,  612,  683,  683,  699,  713,  748,\n",
      "        748,  770,  796,  797,  802,  928,  928,  929,  935,  949,  979,\n",
      "        980,  980,  980, 1008, 1009, 1011, 1138, 1148, 1149, 1151, 1189,\n",
      "       1202, 1203, 1237, 1241, 1264, 1265, 1357, 1411, 1412, 1413, 1479,\n",
      "       1480, 1481, 1513, 1535, 1587, 1644, 1661, 1665, 1673, 1680, 1774,\n",
      "       1811, 1812, 1812, 1813, 1813, 1814, 1814, 1815, 1815, 1816, 1816,\n",
      "       1817, 1817, 1818, 1819, 1873, 1898, 1903, 1945, 2016, 2028, 2043,\n",
      "       2063, 2068, 2069, 2074, 2108, 2116, 2163, 2164, 2164, 2165, 2165,\n",
      "       2166, 2166, 2167, 2186, 2198, 2199, 2199, 2200, 2201, 2219, 2219,\n",
      "       2230, 2231, 2265, 2429, 2459, 2460, 2488, 2500, 2505, 2505, 2506,\n",
      "       2527, 2527, 2541, 2593, 2676, 2677, 2678, 2679, 2735, 2824, 2825,\n",
      "       2825, 2826, 2838, 2839, 2839, 2840, 2845, 2846, 2846, 2847, 2847,\n",
      "       2848, 2849, 2859, 2890, 2898, 2900, 2901, 2909, 2971, 2972, 2972,\n",
      "       2973, 2973, 2974, 3003, 3006, 3007, 3007, 3008, 3051, 3051, 3058,\n",
      "       3059, 3059, 3060, 3066, 3067, 3067, 3067, 3068, 3070, 3082, 3082,\n",
      "       3082, 3089, 3089, 3099, 3099, 3141, 3153, 3167, 3172, 3210, 3211,\n",
      "       3211, 3212, 3212, 3212, 3229, 3230, 3230, 3231, 3231, 3232, 3232,\n",
      "       3233, 3233, 3234, 3234, 3234, 3235, 3235, 3236, 3236, 3237, 3237,\n",
      "       3238, 3238, 3239, 3239, 3240, 3240, 3241, 3241, 3242, 3242, 3243,\n",
      "       3243, 3244, 3244, 3245, 3245, 3246, 3246, 3247, 3248, 3252, 3253,\n",
      "       3253, 3254, 3254, 3255, 3256, 3257, 3257, 3258, 3258, 3259, 3271,\n",
      "       3278, 3278, 3291, 3291, 3302, 3302, 3303, 3350, 3419, 3421, 3430,\n",
      "       3437, 3437, 3438, 3438, 3439, 3449, 3449, 3449, 3449, 3450, 3450,\n",
      "       3458, 3471, 3491, 3557, 3571, 3602, 3603, 3607, 3613, 3614, 3617,\n",
      "       3621, 3676, 3677, 3677, 3678, 3690, 3691, 3691, 3692, 3697, 3698,\n",
      "       3698, 3699, 3699, 3700, 3701, 3711, 3742, 3750, 3752, 3753, 3761,\n",
      "       3823, 3824, 3824, 3825, 3825, 3826, 3855, 3858, 3859, 3859, 3860,\n",
      "       3903, 3903, 3910, 3911, 3911, 3912, 3918, 3919, 3919, 3919, 3920,\n",
      "       3922, 3934, 3934, 3934, 3941, 3941, 3951, 3951, 3993, 4005, 4019,\n",
      "       4024, 4062, 4063, 4063, 4064, 4064, 4064, 4081, 4082, 4082, 4083,\n",
      "       4083, 4084, 4084, 4085, 4085, 4086, 4086, 4086, 4087, 4087, 4088,\n",
      "       4088, 4089, 4089, 4090, 4090, 4091, 4091, 4092, 4092, 4093, 4093,\n",
      "       4094, 4094, 4095, 4095, 4096, 4096, 4097, 4097, 4098, 4098, 4099,\n",
      "       4100, 4104, 4105, 4105, 4106, 4106, 4107, 4108, 4109, 4109, 4110,\n",
      "       4110, 4111, 4123, 4130, 4130, 4143, 4143, 4154, 4154, 4155, 4202,\n",
      "       4271, 4273, 4282, 4289, 4289, 4290, 4290, 4291, 4301, 4301, 4301,\n",
      "       4301, 4302, 4302, 4310, 4323, 4343, 4409, 4423, 4454, 4455, 4459,\n",
      "       4465, 4466, 4469, 4473, 4528, 4528, 4535, 4566, 4568, 4568, 4618,\n",
      "       4618, 4638, 4650, 4657, 4672, 4673, 4678, 4678, 4731, 4775, 4779,\n",
      "       4780, 4780, 4798, 4814, 4833, 4833, 4837, 4843, 4854, 4854, 4854,\n",
      "       4855, 4859, 4886, 4892, 4895, 4895, 4911, 4918, 4934, 4956, 4960,\n",
      "       4960, 4979, 5007, 5008, 5008, 5009, 5010, 5014, 5015, 5015, 5016,\n",
      "       5021, 5022, 5022, 5023, 5026, 5027, 5027, 5028, 5038, 5096, 5097,\n",
      "       5097, 5098, 5101, 5102, 5103, 5104, 5104, 5105, 5105, 5106, 5110,\n",
      "       5111, 5111, 5112, 5122, 5122, 5123, 5131, 5132, 5132, 5133, 5133,\n",
      "       5134, 5138, 5145, 5146, 5146, 5147, 5149, 5150, 5155, 5159, 5160,\n",
      "       5160, 5161, 5166, 5167, 5167, 5168, 5175, 5176, 5176, 5179, 5180,\n",
      "       5181, 5181, 5182, 5188, 5188, 5201, 5202, 5204, 5204, 5207, 5207,\n",
      "       5211, 5212, 5212, 5213, 5214, 5214, 5214, 5215, 5216, 5216, 5217,\n",
      "       5222, 5223, 5223, 5224, 5229, 5230, 5230, 5231, 5235, 5236, 5237,\n",
      "       5237, 5238, 5243, 5243, 5244, 5244, 5245, 5246, 5247, 5250, 5251,\n",
      "       5251, 5252, 5252, 5257, 5258, 5258, 5259, 5264, 5264, 5265, 5265,\n",
      "       5266, 5268, 5269, 5271, 5272, 5272, 5273, 5274, 5275, 5285, 5286,\n",
      "       5286, 5287, 5288, 5299, 5300, 5300, 5301, 5301, 5301, 5302, 5302,\n",
      "       5303, 5307, 5314, 5314, 5315, 5318, 5320, 5321, 5321, 5322, 5323,\n",
      "       5324, 5333, 5334, 5334, 5335, 5335, 5336, 5339, 5339, 5346, 5377,\n",
      "       5379, 5379, 5429, 5429, 5449, 5461, 5468, 5483, 5484, 5489, 5489,\n",
      "       5542, 5586, 5590, 5591, 5591, 5609, 5625, 5644, 5644, 5648, 5654,\n",
      "       5665, 5665, 5665, 5666, 5670, 5697, 5703, 5706, 5706, 5722, 5729,\n",
      "       5745, 5767, 5771, 5771, 5790, 5818, 5819, 5819, 5820, 5821, 5825,\n",
      "       5826, 5826, 5827, 5832, 5833, 5833, 5834, 5837, 5838, 5838, 5839,\n",
      "       5849, 5907, 5908, 5908, 5909, 5912, 5913, 5914, 5915, 5915, 5916,\n",
      "       5916, 5917, 5921, 5922, 5922, 5923, 5933, 5933, 5934, 5942, 5943,\n",
      "       5943, 5944, 5944, 5945, 5949, 5956, 5957, 5957, 5958, 5960, 5961,\n",
      "       5966, 5970, 5971, 5971, 5972, 5977, 5978, 5978, 5979, 5986, 5987,\n",
      "       5987, 5990, 5991, 5992, 5992, 5993, 5999, 5999, 6012, 6013, 6015,\n",
      "       6015, 6018, 6018, 6022, 6023, 6023, 6024, 6025, 6025, 6025, 6026,\n",
      "       6027, 6027, 6028, 6033, 6034, 6034, 6035, 6040, 6041, 6041, 6042,\n",
      "       6046, 6047, 6048, 6048, 6049, 6054, 6054, 6055, 6055, 6056, 6057,\n",
      "       6058, 6061, 6062, 6062, 6063, 6063, 6068, 6069, 6069, 6070, 6075,\n",
      "       6075, 6076, 6076, 6077, 6079, 6080, 6082, 6083, 6083, 6084, 6085,\n",
      "       6086, 6096, 6097, 6097, 6098, 6099, 6110, 6111, 6111, 6112, 6112,\n",
      "       6112, 6113, 6113, 6114, 6118, 6125, 6125, 6126, 6129, 6131, 6132,\n",
      "       6132, 6133, 6134, 6135, 6144, 6145, 6145, 6146, 6146, 6147, 6149,\n",
      "       6182, 6202, 6203, 6257, 6258, 6294, 6295, 6431, 6432, 6441, 6480,\n",
      "       6481, 6489, 6495, 6496, 6520, 6583, 6584, 6758, 6786, 6786, 6793,\n",
      "       6794, 6794, 6848, 6848, 6860, 6863, 6880, 6880, 6881, 6886, 6903,\n",
      "       6908, 6909, 6909, 6910, 6915, 6916, 6933, 6934, 6960, 6978, 6993,\n",
      "       7111, 7162, 7169, 7186, 7187, 7187, 7188, 7282, 7303, 7326, 7366,\n",
      "       7371, 7402, 7462, 7462, 7565, 7575, 7602, 7633, 7633, 7633, 7735,\n",
      "       7735, 7827, 7857, 7872, 7983, 7983, 7984, 7984, 7984, 8100, 8136,\n",
      "       8144, 8145, 8145, 8185, 8424], dtype=int64), array([13, 14, 20, 19,  3, 18,  6, 10,  3, 18,  3, 18,  3,  6, 18, 18,  3,\n",
      "       18,  6,  6, 20, 19, 13,  6, 10, 18, 18,  3, 18,  4, 20, 19, 20, 19,\n",
      "       20, 19, 20, 19, 20, 19,  4, 20, 19,  6, 13, 14, 13, 14, 20, 19, 13,\n",
      "       14,  4,  4, 13, 14,  4,  4,  4,  4,  4, 20, 19,  4,  4,  4,  4,  6,\n",
      "        9,  4,  4,  4,  4,  4,  4,  4, 10,  4,  4,  4,  4,  4,  4,  4,  4,\n",
      "        4,  4,  4,  4,  4,  4,  9, 10, 10,  4, 10,  4,  4,  4, 20, 19, 20,\n",
      "       19, 20, 19, 20, 19, 20, 19, 20, 19, 20, 19,  4,  4, 10,  9,  9,  9,\n",
      "       10, 10,  4, 20, 19,  9,  4,  4, 20, 19, 20, 19, 20, 19, 20, 19,  9,\n",
      "       20, 19, 20, 19,  4,  9, 10, 10,  4,  4,  4, 20, 19,  4,  6,  6, 20,\n",
      "       19,  3, 18,  4,  4,  4,  4, 20, 19,  4, 20, 19, 20, 19, 20, 19, 20,\n",
      "       19, 20, 19, 20, 19, 20, 19,  4, 18,  4,  4,  4,  4,  4, 20, 19, 20,\n",
      "       19, 20, 19,  4, 20, 19, 20, 19,  4, 14, 14, 13, 14, 13,  6,  6,  9,\n",
      "       10,  9,  6,  6,  9, 10,  6,  9,  6, 10, 10, 10, 14, 10, 20, 19, 20,\n",
      "       10, 14, 19, 20, 19, 20, 19, 20, 19, 20, 19, 20,  6, 19, 20, 19, 20,\n",
      "       19, 20, 19, 20, 19, 20, 19, 20, 19, 20, 19, 20, 19, 20, 19, 20, 19,\n",
      "       20, 19, 20, 19, 20, 19,  4, 20, 19, 20, 19, 20, 19, 20, 19, 20, 19,\n",
      "       20, 19, 18,  3, 17,  3, 18,  3, 18, 14,  4,  4,  4,  4, 19, 20, 19,\n",
      "       20, 19,  4,  6, 13, 14,  6, 13, 10, 10,  6,  9,  4,  6,  6,  4, 20,\n",
      "       19, 10,  4, 20, 19, 20, 19, 20, 19, 20, 19, 20, 19, 20, 19, 20, 19,\n",
      "        4, 18,  4,  4,  4,  4,  4, 20, 19, 20, 19, 20, 19,  4, 20, 19, 20,\n",
      "       19,  4, 14, 14, 13, 14, 13,  6,  6,  9, 10,  9,  6,  6,  9, 10,  6,\n",
      "        9,  6, 10, 10, 10, 14, 10, 20, 19, 20, 10, 14, 19, 20, 19, 20, 19,\n",
      "       20, 19, 20, 19, 20,  6, 19, 20, 19, 20, 19, 20, 19, 20, 19, 20, 19,\n",
      "       20, 19, 20, 19, 20, 19, 20, 19, 20, 19, 20, 19, 20, 19, 20, 19,  4,\n",
      "       20, 19, 20, 19, 20, 19, 20, 19, 20, 19, 20, 19, 18,  3, 17,  3, 18,\n",
      "        3, 18, 14,  4,  4,  4,  4, 19, 20, 19, 20, 19,  4,  6, 13, 14,  6,\n",
      "       13, 10, 10,  6,  9,  4,  6,  6,  4, 20, 19, 10,  4, 13, 14,  9,  6,\n",
      "        4, 13,  3, 18,  9,  4,  9,  6,  4, 13, 14,  9,  6, 14, 13, 14, 10,\n",
      "       14,  6,  9,  6, 10, 10, 13, 14,  6,  9, 10,  9, 13, 14,  4,  9,  9,\n",
      "        9, 13, 14,  9, 20, 19, 20, 19,  4, 20, 19, 20, 19, 20, 19, 20, 19,\n",
      "       20, 19, 20, 19,  9, 20, 19, 20, 19, 20, 19, 20, 19, 20, 19, 20, 19,\n",
      "       20, 19, 20, 19, 13, 14, 13, 20, 19, 20, 19, 20, 19, 13, 20, 19, 20,\n",
      "       19, 20, 19,  9, 20, 19, 20, 19, 20, 19, 20, 19, 14, 13, 14,  9, 20,\n",
      "       19, 20, 19,  6,  9,  9, 10,  6,  9,  9, 10,  9,  9, 10,  9,  4, 13,\n",
      "       14, 20, 19, 20, 19, 20, 19, 20, 19, 20, 19, 20, 19,  9, 20, 19, 20,\n",
      "       19,  9, 20, 19, 20, 19, 20, 19, 20, 19, 20,  9, 19, 20, 19, 20, 19,\n",
      "        6, 20, 19, 20, 19, 20, 19, 20, 19, 20, 19,  4,  9, 20, 19, 20, 19,\n",
      "        4, 20, 19, 20,  6, 19, 20, 19, 20, 19,  9,  9, 20, 19,  9, 20, 19,\n",
      "       20, 19,  9,  9, 20, 19, 20, 19, 20, 19, 13, 14,  9,  6,  4, 13,  3,\n",
      "       18,  9,  4,  9,  6,  4, 13, 14,  9,  6, 14, 13, 14, 10, 14,  6,  9,\n",
      "        6, 10, 10, 13, 14,  6,  9, 10,  9, 13, 14,  4,  9,  9,  9, 13, 14,\n",
      "        9, 20, 19, 20, 19,  4, 20, 19, 20, 19, 20, 19, 20, 19, 20, 19, 20,\n",
      "       19,  9, 20, 19, 20, 19, 20, 19, 20, 19, 20, 19, 20, 19, 20, 19, 20,\n",
      "       19, 13, 14, 13, 20, 19, 20, 19, 20, 19, 13, 20, 19, 20, 19, 20, 19,\n",
      "        9, 20, 19, 20, 19, 20, 19, 20, 19, 14, 13, 14,  9, 20, 19, 20, 19,\n",
      "        6,  9,  9, 10,  6,  9,  9, 10,  9,  9, 10,  9,  4, 13, 14, 20, 19,\n",
      "       20, 19, 20, 19, 20, 19, 20, 19, 20, 19,  9, 20, 19, 20, 19,  9, 20,\n",
      "       19, 20, 19, 20, 19, 20, 19, 20,  9, 19, 20, 19, 20, 19,  6, 20, 19,\n",
      "       20, 19, 20, 19, 20, 19, 20, 19,  4,  9, 20, 19, 20, 19,  4, 20, 19,\n",
      "       20,  6, 19, 20, 19, 20, 19,  9,  9, 20, 19,  9, 20, 19, 20, 19,  9,\n",
      "        9, 20, 19, 20, 19, 20, 19,  4,  4, 20, 19, 20, 19, 20, 19, 20, 19,\n",
      "        4,  4,  4,  4, 20, 19,  4,  4,  4, 14, 13, 14, 14, 13, 14,  6, 11,\n",
      "       11, 11, 11, 20, 19, 11, 11, 20, 19, 20, 19, 20, 19, 11, 11,  6, 13,\n",
      "       17,  4, 10,  4, 13, 13, 14, 13,  4,  6, 18, 11, 18, 11,  6, 13,  6,\n",
      "       11, 11,  6, 10, 14, 13, 14,  4,  4,  6,  3, 18,  3, 11, 17,  4,  4,\n",
      "        4,  4,  6,  4, 20], dtype=int64))\n"
     ]
    }
   ],
   "source": [
    "threshold=3\n",
    "print(np.where(z>3))"
   ]
  },
  {
   "cell_type": "code",
   "execution_count": 177,
   "id": "75f43387",
   "metadata": {},
   "outputs": [
    {
     "data": {
      "text/html": [
       "<div>\n",
       "<style scoped>\n",
       "    .dataframe tbody tr th:only-of-type {\n",
       "        vertical-align: middle;\n",
       "    }\n",
       "\n",
       "    .dataframe tbody tr th {\n",
       "        vertical-align: top;\n",
       "    }\n",
       "\n",
       "    .dataframe thead th {\n",
       "        text-align: right;\n",
       "    }\n",
       "</style>\n",
       "<table border=\"1\" class=\"dataframe\">\n",
       "  <thead>\n",
       "    <tr style=\"text-align: right;\">\n",
       "      <th></th>\n",
       "      <th>Date</th>\n",
       "      <th>Location</th>\n",
       "      <th>MinTemp</th>\n",
       "      <th>MaxTemp</th>\n",
       "      <th>Rainfall</th>\n",
       "      <th>WindGustDir</th>\n",
       "      <th>WindGustSpeed</th>\n",
       "      <th>WindDir9am</th>\n",
       "      <th>WindDir3pm</th>\n",
       "      <th>WindSpeed9am</th>\n",
       "      <th>WindSpeed3pm</th>\n",
       "      <th>Humidity9am</th>\n",
       "      <th>Humidity3pm</th>\n",
       "      <th>Pressure9am</th>\n",
       "      <th>Pressure3pm</th>\n",
       "      <th>Cloud9am</th>\n",
       "      <th>Cloud3pm</th>\n",
       "      <th>Temp9am</th>\n",
       "      <th>Temp3pm</th>\n",
       "      <th>RainToday</th>\n",
       "      <th>RainTomorrow</th>\n",
       "    </tr>\n",
       "  </thead>\n",
       "  <tbody>\n",
       "    <tr>\n",
       "      <th>0</th>\n",
       "      <td>0</td>\n",
       "      <td>1</td>\n",
       "      <td>13.4</td>\n",
       "      <td>22.9</td>\n",
       "      <td>0.6</td>\n",
       "      <td>13</td>\n",
       "      <td>44.0</td>\n",
       "      <td>13</td>\n",
       "      <td>14</td>\n",
       "      <td>20.0</td>\n",
       "      <td>24.0</td>\n",
       "      <td>71.0</td>\n",
       "      <td>22.0</td>\n",
       "      <td>1007.7</td>\n",
       "      <td>1007.1</td>\n",
       "      <td>8.000000</td>\n",
       "      <td>4.503183</td>\n",
       "      <td>16.9</td>\n",
       "      <td>21.8</td>\n",
       "      <td>0</td>\n",
       "      <td>0</td>\n",
       "    </tr>\n",
       "    <tr>\n",
       "      <th>1</th>\n",
       "      <td>1</td>\n",
       "      <td>1</td>\n",
       "      <td>7.4</td>\n",
       "      <td>25.1</td>\n",
       "      <td>0.0</td>\n",
       "      <td>14</td>\n",
       "      <td>44.0</td>\n",
       "      <td>6</td>\n",
       "      <td>15</td>\n",
       "      <td>4.0</td>\n",
       "      <td>22.0</td>\n",
       "      <td>44.0</td>\n",
       "      <td>25.0</td>\n",
       "      <td>1010.6</td>\n",
       "      <td>1007.8</td>\n",
       "      <td>4.566622</td>\n",
       "      <td>4.503183</td>\n",
       "      <td>17.2</td>\n",
       "      <td>24.3</td>\n",
       "      <td>0</td>\n",
       "      <td>0</td>\n",
       "    </tr>\n",
       "    <tr>\n",
       "      <th>2</th>\n",
       "      <td>2</td>\n",
       "      <td>1</td>\n",
       "      <td>12.9</td>\n",
       "      <td>25.7</td>\n",
       "      <td>0.0</td>\n",
       "      <td>15</td>\n",
       "      <td>46.0</td>\n",
       "      <td>13</td>\n",
       "      <td>15</td>\n",
       "      <td>19.0</td>\n",
       "      <td>26.0</td>\n",
       "      <td>38.0</td>\n",
       "      <td>30.0</td>\n",
       "      <td>1007.6</td>\n",
       "      <td>1008.7</td>\n",
       "      <td>4.566622</td>\n",
       "      <td>2.000000</td>\n",
       "      <td>21.0</td>\n",
       "      <td>23.2</td>\n",
       "      <td>0</td>\n",
       "      <td>0</td>\n",
       "    </tr>\n",
       "    <tr>\n",
       "      <th>3</th>\n",
       "      <td>3</td>\n",
       "      <td>1</td>\n",
       "      <td>9.2</td>\n",
       "      <td>28.0</td>\n",
       "      <td>0.0</td>\n",
       "      <td>4</td>\n",
       "      <td>24.0</td>\n",
       "      <td>9</td>\n",
       "      <td>0</td>\n",
       "      <td>11.0</td>\n",
       "      <td>9.0</td>\n",
       "      <td>45.0</td>\n",
       "      <td>16.0</td>\n",
       "      <td>1017.6</td>\n",
       "      <td>1012.8</td>\n",
       "      <td>4.566622</td>\n",
       "      <td>4.503183</td>\n",
       "      <td>18.1</td>\n",
       "      <td>26.5</td>\n",
       "      <td>0</td>\n",
       "      <td>0</td>\n",
       "    </tr>\n",
       "    <tr>\n",
       "      <th>4</th>\n",
       "      <td>4</td>\n",
       "      <td>1</td>\n",
       "      <td>17.5</td>\n",
       "      <td>32.3</td>\n",
       "      <td>1.0</td>\n",
       "      <td>13</td>\n",
       "      <td>41.0</td>\n",
       "      <td>1</td>\n",
       "      <td>7</td>\n",
       "      <td>7.0</td>\n",
       "      <td>20.0</td>\n",
       "      <td>82.0</td>\n",
       "      <td>33.0</td>\n",
       "      <td>1010.8</td>\n",
       "      <td>1006.0</td>\n",
       "      <td>7.000000</td>\n",
       "      <td>8.000000</td>\n",
       "      <td>17.8</td>\n",
       "      <td>29.7</td>\n",
       "      <td>0</td>\n",
       "      <td>0</td>\n",
       "    </tr>\n",
       "    <tr>\n",
       "      <th>...</th>\n",
       "      <td>...</td>\n",
       "      <td>...</td>\n",
       "      <td>...</td>\n",
       "      <td>...</td>\n",
       "      <td>...</td>\n",
       "      <td>...</td>\n",
       "      <td>...</td>\n",
       "      <td>...</td>\n",
       "      <td>...</td>\n",
       "      <td>...</td>\n",
       "      <td>...</td>\n",
       "      <td>...</td>\n",
       "      <td>...</td>\n",
       "      <td>...</td>\n",
       "      <td>...</td>\n",
       "      <td>...</td>\n",
       "      <td>...</td>\n",
       "      <td>...</td>\n",
       "      <td>...</td>\n",
       "      <td>...</td>\n",
       "      <td>...</td>\n",
       "    </tr>\n",
       "    <tr>\n",
       "      <th>8419</th>\n",
       "      <td>2998</td>\n",
       "      <td>9</td>\n",
       "      <td>3.5</td>\n",
       "      <td>21.8</td>\n",
       "      <td>0.0</td>\n",
       "      <td>0</td>\n",
       "      <td>31.0</td>\n",
       "      <td>2</td>\n",
       "      <td>0</td>\n",
       "      <td>15.0</td>\n",
       "      <td>13.0</td>\n",
       "      <td>59.0</td>\n",
       "      <td>27.0</td>\n",
       "      <td>1024.7</td>\n",
       "      <td>1021.2</td>\n",
       "      <td>4.566622</td>\n",
       "      <td>4.503183</td>\n",
       "      <td>9.4</td>\n",
       "      <td>20.9</td>\n",
       "      <td>0</td>\n",
       "      <td>0</td>\n",
       "    </tr>\n",
       "    <tr>\n",
       "      <th>8420</th>\n",
       "      <td>2999</td>\n",
       "      <td>9</td>\n",
       "      <td>2.8</td>\n",
       "      <td>23.4</td>\n",
       "      <td>0.0</td>\n",
       "      <td>0</td>\n",
       "      <td>31.0</td>\n",
       "      <td>9</td>\n",
       "      <td>1</td>\n",
       "      <td>13.0</td>\n",
       "      <td>11.0</td>\n",
       "      <td>51.0</td>\n",
       "      <td>24.0</td>\n",
       "      <td>1024.6</td>\n",
       "      <td>1020.3</td>\n",
       "      <td>4.566622</td>\n",
       "      <td>4.503183</td>\n",
       "      <td>10.1</td>\n",
       "      <td>22.4</td>\n",
       "      <td>0</td>\n",
       "      <td>0</td>\n",
       "    </tr>\n",
       "    <tr>\n",
       "      <th>8421</th>\n",
       "      <td>3000</td>\n",
       "      <td>9</td>\n",
       "      <td>3.6</td>\n",
       "      <td>25.3</td>\n",
       "      <td>0.0</td>\n",
       "      <td>6</td>\n",
       "      <td>22.0</td>\n",
       "      <td>9</td>\n",
       "      <td>3</td>\n",
       "      <td>13.0</td>\n",
       "      <td>9.0</td>\n",
       "      <td>56.0</td>\n",
       "      <td>21.0</td>\n",
       "      <td>1023.5</td>\n",
       "      <td>1019.1</td>\n",
       "      <td>4.566622</td>\n",
       "      <td>4.503183</td>\n",
       "      <td>10.9</td>\n",
       "      <td>24.5</td>\n",
       "      <td>0</td>\n",
       "      <td>0</td>\n",
       "    </tr>\n",
       "    <tr>\n",
       "      <th>8422</th>\n",
       "      <td>3001</td>\n",
       "      <td>9</td>\n",
       "      <td>5.4</td>\n",
       "      <td>26.9</td>\n",
       "      <td>0.0</td>\n",
       "      <td>3</td>\n",
       "      <td>37.0</td>\n",
       "      <td>9</td>\n",
       "      <td>14</td>\n",
       "      <td>9.0</td>\n",
       "      <td>9.0</td>\n",
       "      <td>53.0</td>\n",
       "      <td>24.0</td>\n",
       "      <td>1021.0</td>\n",
       "      <td>1016.8</td>\n",
       "      <td>4.566622</td>\n",
       "      <td>4.503183</td>\n",
       "      <td>12.5</td>\n",
       "      <td>26.1</td>\n",
       "      <td>0</td>\n",
       "      <td>0</td>\n",
       "    </tr>\n",
       "    <tr>\n",
       "      <th>8423</th>\n",
       "      <td>3002</td>\n",
       "      <td>9</td>\n",
       "      <td>7.8</td>\n",
       "      <td>27.0</td>\n",
       "      <td>0.0</td>\n",
       "      <td>9</td>\n",
       "      <td>28.0</td>\n",
       "      <td>10</td>\n",
       "      <td>3</td>\n",
       "      <td>13.0</td>\n",
       "      <td>7.0</td>\n",
       "      <td>51.0</td>\n",
       "      <td>24.0</td>\n",
       "      <td>1019.4</td>\n",
       "      <td>1016.5</td>\n",
       "      <td>3.000000</td>\n",
       "      <td>2.000000</td>\n",
       "      <td>15.1</td>\n",
       "      <td>26.0</td>\n",
       "      <td>0</td>\n",
       "      <td>0</td>\n",
       "    </tr>\n",
       "  </tbody>\n",
       "</table>\n",
       "<p>7732 rows × 21 columns</p>\n",
       "</div>"
      ],
      "text/plain": [
       "      Date  Location  MinTemp  MaxTemp  Rainfall  WindGustDir  WindGustSpeed  \\\n",
       "0        0         1     13.4     22.9       0.6           13           44.0   \n",
       "1        1         1      7.4     25.1       0.0           14           44.0   \n",
       "2        2         1     12.9     25.7       0.0           15           46.0   \n",
       "3        3         1      9.2     28.0       0.0            4           24.0   \n",
       "4        4         1     17.5     32.3       1.0           13           41.0   \n",
       "...    ...       ...      ...      ...       ...          ...            ...   \n",
       "8419  2998         9      3.5     21.8       0.0            0           31.0   \n",
       "8420  2999         9      2.8     23.4       0.0            0           31.0   \n",
       "8421  3000         9      3.6     25.3       0.0            6           22.0   \n",
       "8422  3001         9      5.4     26.9       0.0            3           37.0   \n",
       "8423  3002         9      7.8     27.0       0.0            9           28.0   \n",
       "\n",
       "      WindDir9am  WindDir3pm  WindSpeed9am  WindSpeed3pm  Humidity9am  \\\n",
       "0             13          14          20.0          24.0         71.0   \n",
       "1              6          15           4.0          22.0         44.0   \n",
       "2             13          15          19.0          26.0         38.0   \n",
       "3              9           0          11.0           9.0         45.0   \n",
       "4              1           7           7.0          20.0         82.0   \n",
       "...          ...         ...           ...           ...          ...   \n",
       "8419           2           0          15.0          13.0         59.0   \n",
       "8420           9           1          13.0          11.0         51.0   \n",
       "8421           9           3          13.0           9.0         56.0   \n",
       "8422           9          14           9.0           9.0         53.0   \n",
       "8423          10           3          13.0           7.0         51.0   \n",
       "\n",
       "      Humidity3pm  Pressure9am  Pressure3pm  Cloud9am  Cloud3pm  Temp9am  \\\n",
       "0            22.0       1007.7       1007.1  8.000000  4.503183     16.9   \n",
       "1            25.0       1010.6       1007.8  4.566622  4.503183     17.2   \n",
       "2            30.0       1007.6       1008.7  4.566622  2.000000     21.0   \n",
       "3            16.0       1017.6       1012.8  4.566622  4.503183     18.1   \n",
       "4            33.0       1010.8       1006.0  7.000000  8.000000     17.8   \n",
       "...           ...          ...          ...       ...       ...      ...   \n",
       "8419         27.0       1024.7       1021.2  4.566622  4.503183      9.4   \n",
       "8420         24.0       1024.6       1020.3  4.566622  4.503183     10.1   \n",
       "8421         21.0       1023.5       1019.1  4.566622  4.503183     10.9   \n",
       "8422         24.0       1021.0       1016.8  4.566622  4.503183     12.5   \n",
       "8423         24.0       1019.4       1016.5  3.000000  2.000000     15.1   \n",
       "\n",
       "      Temp3pm  RainToday  RainTomorrow  \n",
       "0        21.8          0             0  \n",
       "1        24.3          0             0  \n",
       "2        23.2          0             0  \n",
       "3        26.5          0             0  \n",
       "4        29.7          0             0  \n",
       "...       ...        ...           ...  \n",
       "8419     20.9          0             0  \n",
       "8420     22.4          0             0  \n",
       "8421     24.5          0             0  \n",
       "8422     26.1          0             0  \n",
       "8423     26.0          0             0  \n",
       "\n",
       "[7732 rows x 21 columns]"
      ]
     },
     "execution_count": 177,
     "metadata": {},
     "output_type": "execute_result"
    }
   ],
   "source": [
    "df=df[(z<3).all(axis=1)]\n",
    "df"
   ]
  },
  {
   "cell_type": "code",
   "execution_count": 178,
   "id": "c5541c48",
   "metadata": {},
   "outputs": [
    {
     "data": {
      "image/png": "[encoded data removed]",
      "text/plain": [
       "<Figure size 1440x1080 with 20 Axes>"
      ]
     },
     "metadata": {},
     "output_type": "display_data"
    }
   ],
   "source": [
    "#boxplot to check ouliers\n",
    "plt.figure(figsize=(20,15),facecolor='pink')\n",
    "plotnumber=1\n",
    "\n",
    "for column in df:\n",
    "    if plotnumber<=20:\n",
    "        ax = plt.subplot(4,5,plotnumber)\n",
    "        plt.boxplot(df[column])\n",
    "        plt.xlabel(column,fontsize=8)\n",
    "    \n",
    "    \n",
    "    plotnumber+=1\n",
    "plt.tight_layout()"
   ]
  },
  {
   "cell_type": "markdown",
   "id": "a1683cd4",
   "metadata": {},
   "source": [
    "we can see outlier is still present but we cant use Z score twice as to avoid Data loss"
   ]
  },
  {
   "cell_type": "markdown",
   "id": "5f2bf1f8",
   "metadata": {},
   "source": [
    "# Cheking Skwness"
   ]
  },
  {
   "cell_type": "code",
   "execution_count": 211,
   "id": "2422c719",
   "metadata": {},
   "outputs": [
    {
     "data": {
      "image/png": "[encoded data removed]",
      "text/plain": [
       "<Figure size 1440x1080 with 18 Axes>"
      ]
     },
     "metadata": {},
     "output_type": "display_data"
    }
   ],
   "source": [
    "plt.figure(figsize=(20,15),facecolor='pink')\n",
    "plotnumber=1\n",
    "\n",
    "for column in df:\n",
    "    if plotnumber<=18:\n",
    "        ax = plt.subplot(4,5,plotnumber)\n",
    "        sns.distplot(df[column])\n",
    "        plt.xlabel(column,fontsize=10)\n",
    "    \n",
    "    \n",
    "    plotnumber+=1\n",
    "plt.tight_layout()"
   ]
  },
  {
   "cell_type": "code",
   "execution_count": 179,
   "id": "932f24fd",
   "metadata": {},
   "outputs": [
    {
     "data": {
      "text/plain": [
       "Rainfall         3.458686\n",
       "RainTomorrow     1.290693\n",
       "RainToday        1.266474\n",
       "WindSpeed9am     0.721048\n",
       "WindGustSpeed    0.529418\n",
       "Date             0.376609\n",
       "Temp3pm          0.324939\n",
       "MaxTemp          0.311067\n",
       "WindSpeed3pm     0.304754\n",
       "Humidity3pm      0.130018\n",
       "Pressure3pm      0.055795\n",
       "Pressure9am      0.022329\n",
       "Temp9am         -0.045019\n",
       "Location        -0.053794\n",
       "WindDir3pm      -0.066848\n",
       "MinTemp         -0.076130\n",
       "WindDir9am      -0.085729\n",
       "WindGustDir     -0.185597\n",
       "Humidity9am     -0.223895\n",
       "Cloud3pm        -0.254424\n",
       "Cloud9am        -0.339914\n",
       "dtype: float64"
      ]
     },
     "execution_count": 179,
     "metadata": {},
     "output_type": "execute_result"
    }
   ],
   "source": [
    "#checking skewness for handling the null values\n",
    "df.skew().sort_values(ascending=False)"
   ]
  },
  {
   "cell_type": "markdown",
   "id": "62c4be00",
   "metadata": {},
   "source": [
    "we can see the RainToday is having skewness more than +-1 hence we can use Box Cox method to remove skewness"
   ]
  },
  {
   "cell_type": "code",
   "execution_count": 180,
   "id": "49104650",
   "metadata": {},
   "outputs": [
    {
     "data": {
      "text/plain": [
       "[]"
      ]
     },
     "execution_count": 180,
     "metadata": {},
     "output_type": "execute_result"
    },
    {
     "data": {
      "image/png": "[encoded data removed]",
      "text/plain": [
       "<Figure size 432x288 with 1 Axes>"
      ]
     },
     "metadata": {
      "needs_background": "light"
     },
     "output_type": "display_data"
    }
   ],
   "source": [
    "df['RainToday'].hist().plot()"
   ]
  },
  {
   "cell_type": "code",
   "execution_count": null,
   "id": "e528cabe",
   "metadata": {},
   "outputs": [],
   "source": [
    "from scipy.stats import boxcox\n",
    "df['RainToday']=boxcox(df['RainToday'],0)"
   ]
  },
  {
   "cell_type": "code",
   "execution_count": 181,
   "id": "4bb9776d",
   "metadata": {},
   "outputs": [],
   "source": [
    "df1=df"
   ]
  },
  {
   "cell_type": "code",
   "execution_count": 195,
   "id": "f8eb8ead",
   "metadata": {},
   "outputs": [],
   "source": [
    "#df=df1"
   ]
  },
  {
   "cell_type": "code",
   "execution_count": 197,
   "id": "ad265c03",
   "metadata": {},
   "outputs": [
    {
     "data": {
      "text/plain": [
       "0    5934\n",
       "1    1798\n",
       "Name: RainToday, dtype: int64"
      ]
     },
     "execution_count": 197,
     "metadata": {},
     "output_type": "execute_result"
    }
   ],
   "source": [
    "df.RainToday.value_counts(ascending=False)"
   ]
  },
  {
   "cell_type": "raw",
   "id": "013508f6",
   "metadata": {},
   "source": [
    "df=np.sqrt(df['RainToday'])\n",
    "df.skew()"
   ]
  },
  {
   "cell_type": "code",
   "execution_count": 203,
   "id": "47c7df6a",
   "metadata": {},
   "outputs": [
    {
     "data": {
      "text/plain": [
       "Rainfall         3.458686\n",
       "RainTomorrow     1.290693\n",
       "RainToday        1.266474\n",
       "WindSpeed9am     0.721048\n",
       "WindGustSpeed    0.529418\n",
       "Date             0.376609\n",
       "Temp3pm          0.324939\n",
       "MaxTemp          0.311067\n",
       "WindSpeed3pm     0.304754\n",
       "Humidity3pm      0.130018\n",
       "Pressure3pm      0.055795\n",
       "Pressure9am      0.022329\n",
       "Temp9am         -0.045019\n",
       "Location        -0.053794\n",
       "WindDir3pm      -0.066848\n",
       "MinTemp         -0.076130\n",
       "WindDir9am      -0.085729\n",
       "WindGustDir     -0.185597\n",
       "Humidity9am     -0.223895\n",
       "Cloud3pm        -0.254424\n",
       "Cloud9am        -0.339914\n",
       "dtype: float64"
      ]
     },
     "execution_count": 203,
     "metadata": {},
     "output_type": "execute_result"
    }
   ],
   "source": [
    "df.skew().sort_values(ascending=False)"
   ]
  },
  {
   "cell_type": "markdown",
   "id": "158f0583",
   "metadata": {},
   "source": [
    "we cant use BOXCOX method as it is not positive Data. hence we have used sqrt method but still we can see the skewness is not got removed"
   ]
  },
  {
   "cell_type": "markdown",
   "id": "f619bfec",
   "metadata": {},
   "source": [
    "# Train and Test Data"
   ]
  },
  {
   "cell_type": "code",
   "execution_count": 295,
   "id": "4e31c24c",
   "metadata": {},
   "outputs": [],
   "source": [
    "X=df.drop(columns=['RainTomorrow']) #,'Rainfall'\n",
    "#y=df.Rainfall\n",
    "y1=df.RainTomorrow"
   ]
  },
  {
   "cell_type": "code",
   "execution_count": 296,
   "id": "db3bdc0b",
   "metadata": {},
   "outputs": [
    {
     "data": {
      "text/plain": [
       "Rainfall         3.458686\n",
       "RainToday        1.266474\n",
       "WindSpeed9am     0.721048\n",
       "WindGustSpeed    0.529418\n",
       "Date             0.376609\n",
       "Temp3pm          0.324939\n",
       "MaxTemp          0.311067\n",
       "WindSpeed3pm     0.304754\n",
       "Humidity3pm      0.130018\n",
       "Pressure3pm      0.055795\n",
       "Pressure9am      0.022329\n",
       "Temp9am         -0.045019\n",
       "Location        -0.053794\n",
       "WindDir3pm      -0.066848\n",
       "MinTemp         -0.076130\n",
       "WindDir9am      -0.085729\n",
       "WindGustDir     -0.185597\n",
       "Humidity9am     -0.223895\n",
       "Cloud3pm        -0.254424\n",
       "Cloud9am        -0.339914\n",
       "dtype: float64"
      ]
     },
     "execution_count": 296,
     "metadata": {},
     "output_type": "execute_result"
    }
   ],
   "source": [
    "X.skew().sort_values(ascending=False)"
   ]
  },
  {
   "cell_type": "markdown",
   "id": "ad9f7ec1",
   "metadata": {},
   "source": [
    "# Checking Corelation with Output column"
   ]
  },
  {
   "cell_type": "code",
   "execution_count": 273,
   "id": "842b90db",
   "metadata": {},
   "outputs": [
    {
     "data": {
      "image/png": "[encoded data removed]",
      "text/plain": [
       "<Figure size 1440x1080 with 2 Axes>"
      ]
     },
     "metadata": {
      "needs_background": "light"
     },
     "output_type": "display_data"
    }
   ],
   "source": [
    "corr_mat=df.corr()\n",
    "plt.figure(figsize=[20,15])\n",
    "sns.heatmap(corr_mat,annot=True,cmap='Blues')\n",
    "plt.title('correlation matrix')\n",
    "plt.show()"
   ]
  },
  {
   "cell_type": "code",
   "execution_count": 297,
   "id": "909020ca",
   "metadata": {},
   "outputs": [
    {
     "data": {
      "text/plain": [
       "Rainfall         1.000000\n",
       "RainToday        0.697201\n",
       "Humidity9am      0.296706\n",
       "Humidity3pm      0.292169\n",
       "RainTomorrow     0.279285\n",
       "Cloud9am         0.222540\n",
       "Cloud3pm         0.185407\n",
       "WindDir9am       0.117284\n",
       "WindGustSpeed    0.095367\n",
       "MinTemp          0.091039\n",
       "WindGustDir      0.080909\n",
       "WindDir3pm       0.076687\n",
       "WindSpeed9am     0.059197\n",
       "WindSpeed3pm     0.039055\n",
       "Location         0.021911\n",
       "Date             0.007989\n",
       "Temp9am         -0.034451\n",
       "Pressure3pm     -0.045047\n",
       "Pressure9am     -0.106796\n",
       "MaxTemp         -0.141123\n",
       "Temp3pm         -0.149211\n",
       "Name: Rainfall, dtype: float64"
      ]
     },
     "execution_count": 297,
     "metadata": {},
     "output_type": "execute_result"
    }
   ],
   "source": [
    "corr_mat['Rainfall'].sort_values(ascending=False)"
   ]
  },
  {
   "cell_type": "markdown",
   "id": "23fd5357",
   "metadata": {},
   "source": [
    "we can see that Rainfall is positively corelated with Rain Today and negatively corelated with Temp3pm.\n",
    "Temp3pm is negatively corelated with -0.1 hence we will not drop this column as it is not near to -1 "
   ]
  },
  {
   "cell_type": "code",
   "execution_count": 298,
   "id": "b16e8345",
   "metadata": {},
   "outputs": [
    {
     "data": {
      "text/plain": [
       "RainTomorrow     1.000000\n",
       "Humidity3pm      0.462666\n",
       "Cloud3pm         0.348826\n",
       "RainToday        0.307800\n",
       "Cloud9am         0.280250\n",
       "Rainfall         0.279285\n",
       "Humidity9am      0.278872\n",
       "WindGustSpeed    0.180795\n",
       "MinTemp          0.097476\n",
       "WindSpeed9am     0.053480\n",
       "WindGustDir      0.041326\n",
       "WindSpeed3pm     0.035154\n",
       "WindDir9am       0.016594\n",
       "WindDir3pm       0.014953\n",
       "Location         0.010652\n",
       "Date             0.001057\n",
       "Temp9am         -0.018574\n",
       "Pressure3pm     -0.133474\n",
       "MaxTemp         -0.150278\n",
       "Pressure9am     -0.159533\n",
       "Temp3pm         -0.194984\n",
       "Name: RainTomorrow, dtype: float64"
      ]
     },
     "execution_count": 298,
     "metadata": {},
     "output_type": "execute_result"
    }
   ],
   "source": [
    "corr_mat['RainTomorrow'].sort_values(ascending=False)"
   ]
  },
  {
   "cell_type": "markdown",
   "id": "347bf1d2",
   "metadata": {},
   "source": [
    "we can see that RainTomorrow is positively corelated with RainTomorrow and negatively corelated with Temp3pm.\n",
    "Temp3pm is negatively corelated with -0.1 hence we will not drop this column as it is not near to -1 "
   ]
  },
  {
   "cell_type": "markdown",
   "id": "66889df3",
   "metadata": {},
   "source": [
    "# Data Balancing"
   ]
  },
  {
   "cell_type": "code",
   "execution_count": 299,
   "id": "4e031512",
   "metadata": {},
   "outputs": [
    {
     "data": {
      "text/plain": [
       "0    5962\n",
       "1    1770\n",
       "Name: RainTomorrow, dtype: int64"
      ]
     },
     "execution_count": 299,
     "metadata": {},
     "output_type": "execute_result"
    }
   ],
   "source": [
    "y1.value_counts()"
   ]
  },
  {
   "cell_type": "markdown",
   "id": "d4939bfd",
   "metadata": {},
   "source": [
    "we can see the output column RainTomorrow is having unbalace data hence we can apply SMOTE technique to balance the data"
   ]
  },
  {
   "cell_type": "code",
   "execution_count": 300,
   "id": "cf1effae",
   "metadata": {},
   "outputs": [],
   "source": [
    "from imblearn.over_sampling  import SMOTE"
   ]
  },
  {
   "cell_type": "code",
   "execution_count": 301,
   "id": "028a73a2",
   "metadata": {},
   "outputs": [],
   "source": [
    "smt=SMOTE()"
   ]
  },
  {
   "cell_type": "code",
   "execution_count": 302,
   "id": "852566bb",
   "metadata": {},
   "outputs": [],
   "source": [
    "trainx,trainy1=smt.fit_resample(X,y1)"
   ]
  },
  {
   "cell_type": "code",
   "execution_count": 303,
   "id": "9e31a128",
   "metadata": {},
   "outputs": [
    {
     "data": {
      "text/plain": [
       "0    5962\n",
       "1    5962\n",
       "Name: RainTomorrow, dtype: int64"
      ]
     },
     "execution_count": 303,
     "metadata": {},
     "output_type": "execute_result"
    }
   ],
   "source": [
    "trainy1.value_counts()"
   ]
  },
  {
   "cell_type": "code",
   "execution_count": 309,
   "id": "4db208e1",
   "metadata": {},
   "outputs": [],
   "source": [
    "x=trainx\n",
    "y1=trainy1"
   ]
  },
  {
   "cell_type": "code",
   "execution_count": 310,
   "id": "6988ceec",
   "metadata": {},
   "outputs": [],
   "source": [
    "y=x.Rainfall #we are splitting \"Rainfall\" in y for second pediction column"
   ]
  },
  {
   "cell_type": "code",
   "execution_count": 311,
   "id": "fdea22ba",
   "metadata": {},
   "outputs": [
    {
     "data": {
      "text/plain": [
       "0    5962\n",
       "1    5962\n",
       "Name: RainTomorrow, dtype: int64"
      ]
     },
     "execution_count": 311,
     "metadata": {},
     "output_type": "execute_result"
    }
   ],
   "source": [
    "y1.value_counts()"
   ]
  },
  {
   "cell_type": "code",
   "execution_count": 312,
   "id": "4348d0b9",
   "metadata": {},
   "outputs": [
    {
     "name": "stdout",
     "output_type": "stream",
     "text": [
      "(11924, 20)\n",
      "(11924,)\n",
      "(11924,)\n"
     ]
    }
   ],
   "source": [
    "print(x.shape)\n",
    "print(y.shape)\n",
    "print(y1.shape)"
   ]
  },
  {
   "cell_type": "markdown",
   "id": "da93bd61",
   "metadata": {},
   "source": [
    "# PCA"
   ]
  },
  {
   "cell_type": "code",
   "execution_count": 316,
   "id": "42540dcc",
   "metadata": {},
   "outputs": [
    {
     "data": {
      "text/html": [
       "<div>\n",
       "<style scoped>\n",
       "    .dataframe tbody tr th:only-of-type {\n",
       "        vertical-align: middle;\n",
       "    }\n",
       "\n",
       "    .dataframe tbody tr th {\n",
       "        vertical-align: top;\n",
       "    }\n",
       "\n",
       "    .dataframe thead th {\n",
       "        text-align: right;\n",
       "    }\n",
       "</style>\n",
       "<table border=\"1\" class=\"dataframe\">\n",
       "  <thead>\n",
       "    <tr style=\"text-align: right;\">\n",
       "      <th></th>\n",
       "      <th>Date</th>\n",
       "      <th>Location</th>\n",
       "      <th>MinTemp</th>\n",
       "      <th>MaxTemp</th>\n",
       "      <th>Rainfall</th>\n",
       "      <th>WindGustDir</th>\n",
       "      <th>WindGustSpeed</th>\n",
       "      <th>WindDir9am</th>\n",
       "      <th>WindDir3pm</th>\n",
       "      <th>WindSpeed9am</th>\n",
       "      <th>WindSpeed3pm</th>\n",
       "      <th>Humidity9am</th>\n",
       "      <th>Humidity3pm</th>\n",
       "      <th>Pressure9am</th>\n",
       "      <th>Pressure3pm</th>\n",
       "      <th>Cloud9am</th>\n",
       "      <th>Cloud3pm</th>\n",
       "      <th>Temp9am</th>\n",
       "      <th>Temp3pm</th>\n",
       "      <th>RainToday</th>\n",
       "    </tr>\n",
       "  </thead>\n",
       "  <tbody>\n",
       "    <tr>\n",
       "      <th>0</th>\n",
       "      <td>0</td>\n",
       "      <td>1</td>\n",
       "      <td>13.400000</td>\n",
       "      <td>22.900000</td>\n",
       "      <td>0.600000</td>\n",
       "      <td>13</td>\n",
       "      <td>44.000000</td>\n",
       "      <td>13</td>\n",
       "      <td>14</td>\n",
       "      <td>20.000000</td>\n",
       "      <td>24.000000</td>\n",
       "      <td>71.000000</td>\n",
       "      <td>22.000000</td>\n",
       "      <td>1007.700000</td>\n",
       "      <td>1007.100000</td>\n",
       "      <td>8.000000</td>\n",
       "      <td>4.503183</td>\n",
       "      <td>16.900000</td>\n",
       "      <td>21.800000</td>\n",
       "      <td>0</td>\n",
       "    </tr>\n",
       "    <tr>\n",
       "      <th>1</th>\n",
       "      <td>1</td>\n",
       "      <td>1</td>\n",
       "      <td>7.400000</td>\n",
       "      <td>25.100000</td>\n",
       "      <td>0.000000</td>\n",
       "      <td>14</td>\n",
       "      <td>44.000000</td>\n",
       "      <td>6</td>\n",
       "      <td>15</td>\n",
       "      <td>4.000000</td>\n",
       "      <td>22.000000</td>\n",
       "      <td>44.000000</td>\n",
       "      <td>25.000000</td>\n",
       "      <td>1010.600000</td>\n",
       "      <td>1007.800000</td>\n",
       "      <td>4.566622</td>\n",
       "      <td>4.503183</td>\n",
       "      <td>17.200000</td>\n",
       "      <td>24.300000</td>\n",
       "      <td>0</td>\n",
       "    </tr>\n",
       "    <tr>\n",
       "      <th>2</th>\n",
       "      <td>2</td>\n",
       "      <td>1</td>\n",
       "      <td>12.900000</td>\n",
       "      <td>25.700000</td>\n",
       "      <td>0.000000</td>\n",
       "      <td>15</td>\n",
       "      <td>46.000000</td>\n",
       "      <td>13</td>\n",
       "      <td>15</td>\n",
       "      <td>19.000000</td>\n",
       "      <td>26.000000</td>\n",
       "      <td>38.000000</td>\n",
       "      <td>30.000000</td>\n",
       "      <td>1007.600000</td>\n",
       "      <td>1008.700000</td>\n",
       "      <td>4.566622</td>\n",
       "      <td>2.000000</td>\n",
       "      <td>21.000000</td>\n",
       "      <td>23.200000</td>\n",
       "      <td>0</td>\n",
       "    </tr>\n",
       "    <tr>\n",
       "      <th>3</th>\n",
       "      <td>3</td>\n",
       "      <td>1</td>\n",
       "      <td>9.200000</td>\n",
       "      <td>28.000000</td>\n",
       "      <td>0.000000</td>\n",
       "      <td>4</td>\n",
       "      <td>24.000000</td>\n",
       "      <td>9</td>\n",
       "      <td>0</td>\n",
       "      <td>11.000000</td>\n",
       "      <td>9.000000</td>\n",
       "      <td>45.000000</td>\n",
       "      <td>16.000000</td>\n",
       "      <td>1017.600000</td>\n",
       "      <td>1012.800000</td>\n",
       "      <td>4.566622</td>\n",
       "      <td>4.503183</td>\n",
       "      <td>18.100000</td>\n",
       "      <td>26.500000</td>\n",
       "      <td>0</td>\n",
       "    </tr>\n",
       "    <tr>\n",
       "      <th>4</th>\n",
       "      <td>4</td>\n",
       "      <td>1</td>\n",
       "      <td>17.500000</td>\n",
       "      <td>32.300000</td>\n",
       "      <td>1.000000</td>\n",
       "      <td>13</td>\n",
       "      <td>41.000000</td>\n",
       "      <td>1</td>\n",
       "      <td>7</td>\n",
       "      <td>7.000000</td>\n",
       "      <td>20.000000</td>\n",
       "      <td>82.000000</td>\n",
       "      <td>33.000000</td>\n",
       "      <td>1010.800000</td>\n",
       "      <td>1006.000000</td>\n",
       "      <td>7.000000</td>\n",
       "      <td>8.000000</td>\n",
       "      <td>17.800000</td>\n",
       "      <td>29.700000</td>\n",
       "      <td>0</td>\n",
       "    </tr>\n",
       "    <tr>\n",
       "      <th>...</th>\n",
       "      <td>...</td>\n",
       "      <td>...</td>\n",
       "      <td>...</td>\n",
       "      <td>...</td>\n",
       "      <td>...</td>\n",
       "      <td>...</td>\n",
       "      <td>...</td>\n",
       "      <td>...</td>\n",
       "      <td>...</td>\n",
       "      <td>...</td>\n",
       "      <td>...</td>\n",
       "      <td>...</td>\n",
       "      <td>...</td>\n",
       "      <td>...</td>\n",
       "      <td>...</td>\n",
       "      <td>...</td>\n",
       "      <td>...</td>\n",
       "      <td>...</td>\n",
       "      <td>...</td>\n",
       "      <td>...</td>\n",
       "    </tr>\n",
       "    <tr>\n",
       "      <th>11919</th>\n",
       "      <td>805</td>\n",
       "      <td>2</td>\n",
       "      <td>21.703865</td>\n",
       "      <td>28.078906</td>\n",
       "      <td>3.572945</td>\n",
       "      <td>2</td>\n",
       "      <td>21.961350</td>\n",
       "      <td>9</td>\n",
       "      <td>12</td>\n",
       "      <td>4.000000</td>\n",
       "      <td>3.634458</td>\n",
       "      <td>80.557158</td>\n",
       "      <td>78.365542</td>\n",
       "      <td>1015.286472</td>\n",
       "      <td>1013.019162</td>\n",
       "      <td>7.000000</td>\n",
       "      <td>5.653783</td>\n",
       "      <td>24.965542</td>\n",
       "      <td>25.813528</td>\n",
       "      <td>1</td>\n",
       "    </tr>\n",
       "    <tr>\n",
       "      <th>11920</th>\n",
       "      <td>2865</td>\n",
       "      <td>10</td>\n",
       "      <td>22.346435</td>\n",
       "      <td>29.046435</td>\n",
       "      <td>3.340123</td>\n",
       "      <td>2</td>\n",
       "      <td>48.329939</td>\n",
       "      <td>0</td>\n",
       "      <td>3</td>\n",
       "      <td>13.000000</td>\n",
       "      <td>29.185338</td>\n",
       "      <td>88.855399</td>\n",
       "      <td>68.350307</td>\n",
       "      <td>1020.108147</td>\n",
       "      <td>1019.805092</td>\n",
       "      <td>7.433598</td>\n",
       "      <td>7.505092</td>\n",
       "      <td>24.678411</td>\n",
       "      <td>27.362932</td>\n",
       "      <td>0</td>\n",
       "    </tr>\n",
       "    <tr>\n",
       "      <th>11921</th>\n",
       "      <td>2367</td>\n",
       "      <td>6</td>\n",
       "      <td>14.707041</td>\n",
       "      <td>18.059150</td>\n",
       "      <td>12.194355</td>\n",
       "      <td>16</td>\n",
       "      <td>40.174469</td>\n",
       "      <td>16</td>\n",
       "      <td>16</td>\n",
       "      <td>0.000000</td>\n",
       "      <td>18.533662</td>\n",
       "      <td>96.535205</td>\n",
       "      <td>51.249790</td>\n",
       "      <td>1017.640233</td>\n",
       "      <td>1015.236075</td>\n",
       "      <td>8.000000</td>\n",
       "      <td>4.503183</td>\n",
       "      <td>15.422534</td>\n",
       "      <td>22.442934</td>\n",
       "      <td>1</td>\n",
       "    </tr>\n",
       "    <tr>\n",
       "      <th>11922</th>\n",
       "      <td>1640</td>\n",
       "      <td>8</td>\n",
       "      <td>9.553238</td>\n",
       "      <td>20.350190</td>\n",
       "      <td>0.000000</td>\n",
       "      <td>4</td>\n",
       "      <td>44.494286</td>\n",
       "      <td>1</td>\n",
       "      <td>5</td>\n",
       "      <td>10.482858</td>\n",
       "      <td>28.490477</td>\n",
       "      <td>69.988572</td>\n",
       "      <td>49.007619</td>\n",
       "      <td>1011.746762</td>\n",
       "      <td>1008.095810</td>\n",
       "      <td>4.011428</td>\n",
       "      <td>7.000000</td>\n",
       "      <td>14.551333</td>\n",
       "      <td>19.550952</td>\n",
       "      <td>0</td>\n",
       "    </tr>\n",
       "    <tr>\n",
       "      <th>11923</th>\n",
       "      <td>2107</td>\n",
       "      <td>7</td>\n",
       "      <td>18.500000</td>\n",
       "      <td>29.408257</td>\n",
       "      <td>9.408970</td>\n",
       "      <td>4</td>\n",
       "      <td>36.804277</td>\n",
       "      <td>10</td>\n",
       "      <td>13</td>\n",
       "      <td>5.759430</td>\n",
       "      <td>11.044848</td>\n",
       "      <td>78.082566</td>\n",
       "      <td>69.240570</td>\n",
       "      <td>1017.640233</td>\n",
       "      <td>1015.236075</td>\n",
       "      <td>4.566622</td>\n",
       "      <td>4.503183</td>\n",
       "      <td>21.607544</td>\n",
       "      <td>23.375943</td>\n",
       "      <td>1</td>\n",
       "    </tr>\n",
       "  </tbody>\n",
       "</table>\n",
       "<p>11924 rows × 20 columns</p>\n",
       "</div>"
      ],
      "text/plain": [
       "       Date  Location    MinTemp    MaxTemp   Rainfall  WindGustDir  \\\n",
       "0         0         1  13.400000  22.900000   0.600000           13   \n",
       "1         1         1   7.400000  25.100000   0.000000           14   \n",
       "2         2         1  12.900000  25.700000   0.000000           15   \n",
       "3         3         1   9.200000  28.000000   0.000000            4   \n",
       "4         4         1  17.500000  32.300000   1.000000           13   \n",
       "...     ...       ...        ...        ...        ...          ...   \n",
       "11919   805         2  21.703865  28.078906   3.572945            2   \n",
       "11920  2865        10  22.346435  29.046435   3.340123            2   \n",
       "11921  2367         6  14.707041  18.059150  12.194355           16   \n",
       "11922  1640         8   9.553238  20.350190   0.000000            4   \n",
       "11923  2107         7  18.500000  29.408257   9.408970            4   \n",
       "\n",
       "       WindGustSpeed  WindDir9am  WindDir3pm  WindSpeed9am  WindSpeed3pm  \\\n",
       "0          44.000000          13          14     20.000000     24.000000   \n",
       "1          44.000000           6          15      4.000000     22.000000   \n",
       "2          46.000000          13          15     19.000000     26.000000   \n",
       "3          24.000000           9           0     11.000000      9.000000   \n",
       "4          41.000000           1           7      7.000000     20.000000   \n",
       "...              ...         ...         ...           ...           ...   \n",
       "11919      21.961350           9          12      4.000000      3.634458   \n",
       "11920      48.329939           0           3     13.000000     29.185338   \n",
       "11921      40.174469          16          16      0.000000     18.533662   \n",
       "11922      44.494286           1           5     10.482858     28.490477   \n",
       "11923      36.804277          10          13      5.759430     11.044848   \n",
       "\n",
       "       Humidity9am  Humidity3pm  Pressure9am  Pressure3pm  Cloud9am  Cloud3pm  \\\n",
       "0        71.000000    22.000000  1007.700000  1007.100000  8.000000  4.503183   \n",
       "1        44.000000    25.000000  1010.600000  1007.800000  4.566622  4.503183   \n",
       "2        38.000000    30.000000  1007.600000  1008.700000  4.566622  2.000000   \n",
       "3        45.000000    16.000000  1017.600000  1012.800000  4.566622  4.503183   \n",
       "4        82.000000    33.000000  1010.800000  1006.000000  7.000000  8.000000   \n",
       "...            ...          ...          ...          ...       ...       ...   \n",
       "11919    80.557158    78.365542  1015.286472  1013.019162  7.000000  5.653783   \n",
       "11920    88.855399    68.350307  1020.108147  1019.805092  7.433598  7.505092   \n",
       "11921    96.535205    51.249790  1017.640233  1015.236075  8.000000  4.503183   \n",
       "11922    69.988572    49.007619  1011.746762  1008.095810  4.011428  7.000000   \n",
       "11923    78.082566    69.240570  1017.640233  1015.236075  4.566622  4.503183   \n",
       "\n",
       "         Temp9am    Temp3pm  RainToday  \n",
       "0      16.900000  21.800000          0  \n",
       "1      17.200000  24.300000          0  \n",
       "2      21.000000  23.200000          0  \n",
       "3      18.100000  26.500000          0  \n",
       "4      17.800000  29.700000          0  \n",
       "...          ...        ...        ...  \n",
       "11919  24.965542  25.813528          1  \n",
       "11920  24.678411  27.362932          0  \n",
       "11921  15.422534  22.442934          1  \n",
       "11922  14.551333  19.550952          0  \n",
       "11923  21.607544  23.375943          1  \n",
       "\n",
       "[11924 rows x 20 columns]"
      ]
     },
     "execution_count": 316,
     "metadata": {},
     "output_type": "execute_result"
    }
   ],
   "source": [
    "x"
   ]
  },
  {
   "cell_type": "markdown",
   "id": "8ee75c77",
   "metadata": {},
   "source": [
    "as we can see we have many columns and most of the columns are likely to be multicolinear like Pressure9am,Pressure3am,Temp3pm,MaxTemp\n",
    "hence we will use PCA where it will combine columns with best similarities and also model can predict well"
   ]
  },
  {
   "cell_type": "code",
   "execution_count": 317,
   "id": "7a5c00f1",
   "metadata": {},
   "outputs": [],
   "source": [
    "from sklearn.decomposition import PCA\n",
    "pca=PCA(n_components=10)"
   ]
  },
  {
   "cell_type": "code",
   "execution_count": 318,
   "id": "90172b71",
   "metadata": {},
   "outputs": [],
   "source": [
    "xpca=pca.fit_transform(x)"
   ]
  },
  {
   "cell_type": "code",
   "execution_count": 323,
   "id": "8f7c076f",
   "metadata": {},
   "outputs": [],
   "source": [
    "X=xpca"
   ]
  },
  {
   "cell_type": "code",
   "execution_count": 331,
   "id": "878a0ba0",
   "metadata": {},
   "outputs": [],
   "source": [
    "x=pd.DataFrame(X)"
   ]
  },
  {
   "cell_type": "code",
   "execution_count": 332,
   "id": "9beda034",
   "metadata": {},
   "outputs": [
    {
     "data": {
      "text/html": [
       "<div>\n",
       "<style scoped>\n",
       "    .dataframe tbody tr th:only-of-type {\n",
       "        vertical-align: middle;\n",
       "    }\n",
       "\n",
       "    .dataframe tbody tr th {\n",
       "        vertical-align: top;\n",
       "    }\n",
       "\n",
       "    .dataframe thead th {\n",
       "        text-align: right;\n",
       "    }\n",
       "</style>\n",
       "<table border=\"1\" class=\"dataframe\">\n",
       "  <thead>\n",
       "    <tr style=\"text-align: right;\">\n",
       "      <th></th>\n",
       "      <th>0</th>\n",
       "      <th>1</th>\n",
       "      <th>2</th>\n",
       "      <th>3</th>\n",
       "      <th>4</th>\n",
       "      <th>5</th>\n",
       "      <th>6</th>\n",
       "      <th>7</th>\n",
       "      <th>8</th>\n",
       "      <th>9</th>\n",
       "    </tr>\n",
       "  </thead>\n",
       "  <tbody>\n",
       "    <tr>\n",
       "      <th>0</th>\n",
       "      <td>-1287.130321</td>\n",
       "      <td>26.602735</td>\n",
       "      <td>-5.365696</td>\n",
       "      <td>9.862713</td>\n",
       "      <td>21.535568</td>\n",
       "      <td>6.925820</td>\n",
       "      <td>-10.733788</td>\n",
       "      <td>5.609022</td>\n",
       "      <td>7.585097</td>\n",
       "      <td>-5.279707</td>\n",
       "    </tr>\n",
       "    <tr>\n",
       "      <th>1</th>\n",
       "      <td>-1286.153210</td>\n",
       "      <td>39.525392</td>\n",
       "      <td>-10.446282</td>\n",
       "      <td>1.294335</td>\n",
       "      <td>3.425249</td>\n",
       "      <td>17.209699</td>\n",
       "      <td>-0.237025</td>\n",
       "      <td>7.084321</td>\n",
       "      <td>-3.904439</td>\n",
       "      <td>1.934848</td>\n",
       "    </tr>\n",
       "    <tr>\n",
       "      <th>2</th>\n",
       "      <td>-1285.192667</td>\n",
       "      <td>42.309411</td>\n",
       "      <td>1.228624</td>\n",
       "      <td>-1.218709</td>\n",
       "      <td>-4.237927</td>\n",
       "      <td>12.622579</td>\n",
       "      <td>-4.191267</td>\n",
       "      <td>9.236745</td>\n",
       "      <td>5.585606</td>\n",
       "      <td>-1.219533</td>\n",
       "    </tr>\n",
       "    <tr>\n",
       "      <th>3</th>\n",
       "      <td>-1284.126093</td>\n",
       "      <td>42.167564</td>\n",
       "      <td>-32.262121</td>\n",
       "      <td>-1.761071</td>\n",
       "      <td>0.286704</td>\n",
       "      <td>0.205337</td>\n",
       "      <td>-6.125490</td>\n",
       "      <td>-4.056485</td>\n",
       "      <td>-0.379233</td>\n",
       "      <td>3.996917</td>\n",
       "    </tr>\n",
       "    <tr>\n",
       "      <th>4</th>\n",
       "      <td>-1283.092744</td>\n",
       "      <td>12.214218</td>\n",
       "      <td>-10.627154</td>\n",
       "      <td>-4.543510</td>\n",
       "      <td>29.385060</td>\n",
       "      <td>2.500253</td>\n",
       "      <td>-4.318402</td>\n",
       "      <td>1.915108</td>\n",
       "      <td>-1.420813</td>\n",
       "      <td>-4.209584</td>\n",
       "    </tr>\n",
       "    <tr>\n",
       "      <th>...</th>\n",
       "      <td>...</td>\n",
       "      <td>...</td>\n",
       "      <td>...</td>\n",
       "      <td>...</td>\n",
       "      <td>...</td>\n",
       "      <td>...</td>\n",
       "      <td>...</td>\n",
       "      <td>...</td>\n",
       "      <td>...</td>\n",
       "      <td>...</td>\n",
       "    </tr>\n",
       "    <tr>\n",
       "      <th>11919</th>\n",
       "      <td>-482.133298</td>\n",
       "      <td>-25.959967</td>\n",
       "      <td>-15.022588</td>\n",
       "      <td>-22.718508</td>\n",
       "      <td>-3.222064</td>\n",
       "      <td>-0.848654</td>\n",
       "      <td>-1.728667</td>\n",
       "      <td>-2.033888</td>\n",
       "      <td>3.087136</td>\n",
       "      <td>-0.504612</td>\n",
       "    </tr>\n",
       "    <tr>\n",
       "      <th>11920</th>\n",
       "      <td>1577.832984</td>\n",
       "      <td>-14.475224</td>\n",
       "      <td>16.617618</td>\n",
       "      <td>-7.328096</td>\n",
       "      <td>9.648974</td>\n",
       "      <td>-17.527178</td>\n",
       "      <td>5.390062</td>\n",
       "      <td>0.329449</td>\n",
       "      <td>-7.429233</td>\n",
       "      <td>0.225709</td>\n",
       "    </tr>\n",
       "    <tr>\n",
       "      <th>11921</th>\n",
       "      <td>1079.909052</td>\n",
       "      <td>-15.437685</td>\n",
       "      <td>-6.193626</td>\n",
       "      <td>8.822720</td>\n",
       "      <td>20.547585</td>\n",
       "      <td>6.846001</td>\n",
       "      <td>3.375062</td>\n",
       "      <td>8.767429</td>\n",
       "      <td>6.220320</td>\n",
       "      <td>5.337158</td>\n",
       "    </tr>\n",
       "    <tr>\n",
       "      <th>11922</th>\n",
       "      <td>352.818499</td>\n",
       "      <td>7.615168</td>\n",
       "      <td>5.580507</td>\n",
       "      <td>4.373183</td>\n",
       "      <td>4.993016</td>\n",
       "      <td>1.184452</td>\n",
       "      <td>-7.625363</td>\n",
       "      <td>2.187043</td>\n",
       "      <td>-14.143724</td>\n",
       "      <td>2.085421</td>\n",
       "    </tr>\n",
       "    <tr>\n",
       "      <th>11923</th>\n",
       "      <td>819.854226</td>\n",
       "      <td>-15.029298</td>\n",
       "      <td>-1.779103</td>\n",
       "      <td>-11.695887</td>\n",
       "      <td>-0.153815</td>\n",
       "      <td>0.178545</td>\n",
       "      <td>3.466233</td>\n",
       "      <td>-1.567893</td>\n",
       "      <td>3.139570</td>\n",
       "      <td>5.464305</td>\n",
       "    </tr>\n",
       "  </tbody>\n",
       "</table>\n",
       "<p>11924 rows × 10 columns</p>\n",
       "</div>"
      ],
      "text/plain": [
       "                 0          1          2          3          4          5  \\\n",
       "0     -1287.130321  26.602735  -5.365696   9.862713  21.535568   6.925820   \n",
       "1     -1286.153210  39.525392 -10.446282   1.294335   3.425249  17.209699   \n",
       "2     -1285.192667  42.309411   1.228624  -1.218709  -4.237927  12.622579   \n",
       "3     -1284.126093  42.167564 -32.262121  -1.761071   0.286704   0.205337   \n",
       "4     -1283.092744  12.214218 -10.627154  -4.543510  29.385060   2.500253   \n",
       "...            ...        ...        ...        ...        ...        ...   \n",
       "11919  -482.133298 -25.959967 -15.022588 -22.718508  -3.222064  -0.848654   \n",
       "11920  1577.832984 -14.475224  16.617618  -7.328096   9.648974 -17.527178   \n",
       "11921  1079.909052 -15.437685  -6.193626   8.822720  20.547585   6.846001   \n",
       "11922   352.818499   7.615168   5.580507   4.373183   4.993016   1.184452   \n",
       "11923   819.854226 -15.029298  -1.779103 -11.695887  -0.153815   0.178545   \n",
       "\n",
       "               6         7          8         9  \n",
       "0     -10.733788  5.609022   7.585097 -5.279707  \n",
       "1      -0.237025  7.084321  -3.904439  1.934848  \n",
       "2      -4.191267  9.236745   5.585606 -1.219533  \n",
       "3      -6.125490 -4.056485  -0.379233  3.996917  \n",
       "4      -4.318402  1.915108  -1.420813 -4.209584  \n",
       "...          ...       ...        ...       ...  \n",
       "11919  -1.728667 -2.033888   3.087136 -0.504612  \n",
       "11920   5.390062  0.329449  -7.429233  0.225709  \n",
       "11921   3.375062  8.767429   6.220320  5.337158  \n",
       "11922  -7.625363  2.187043 -14.143724  2.085421  \n",
       "11923   3.466233 -1.567893   3.139570  5.464305  \n",
       "\n",
       "[11924 rows x 10 columns]"
      ]
     },
     "execution_count": 332,
     "metadata": {},
     "output_type": "execute_result"
    }
   ],
   "source": [
    "x"
   ]
  },
  {
   "cell_type": "code",
   "execution_count": 334,
   "id": "c9955a4f",
   "metadata": {},
   "outputs": [
    {
     "name": "stdout",
     "output_type": "stream",
     "text": [
      "(11924, 10)\n",
      "(11924,)\n",
      "(11924,)\n"
     ]
    }
   ],
   "source": [
    "print(x.shape)\n",
    "print(y.shape)\n",
    "print(y1.shape)"
   ]
  },
  {
   "cell_type": "markdown",
   "id": "0398c21e",
   "metadata": {},
   "source": [
    "# Multicolinearity: VIF"
   ]
  },
  {
   "cell_type": "markdown",
   "id": "55198dbb",
   "metadata": {},
   "source": [
    "as the Data is having more than 20 columns we can check colinear columns and remove which is having highest postive corlation"
   ]
  },
  {
   "cell_type": "code",
   "execution_count": 333,
   "id": "24b3b42c",
   "metadata": {},
   "outputs": [
    {
     "data": {
      "text/html": [
       "<div>\n",
       "<style scoped>\n",
       "    .dataframe tbody tr th:only-of-type {\n",
       "        vertical-align: middle;\n",
       "    }\n",
       "\n",
       "    .dataframe tbody tr th {\n",
       "        vertical-align: top;\n",
       "    }\n",
       "\n",
       "    .dataframe thead th {\n",
       "        text-align: right;\n",
       "    }\n",
       "</style>\n",
       "<table border=\"1\" class=\"dataframe\">\n",
       "  <thead>\n",
       "    <tr style=\"text-align: right;\">\n",
       "      <th></th>\n",
       "      <th>feature</th>\n",
       "      <th>vif</th>\n",
       "    </tr>\n",
       "  </thead>\n",
       "  <tbody>\n",
       "    <tr>\n",
       "      <th>2</th>\n",
       "      <td>2</td>\n",
       "      <td>1.0</td>\n",
       "    </tr>\n",
       "    <tr>\n",
       "      <th>1</th>\n",
       "      <td>1</td>\n",
       "      <td>1.0</td>\n",
       "    </tr>\n",
       "    <tr>\n",
       "      <th>4</th>\n",
       "      <td>4</td>\n",
       "      <td>1.0</td>\n",
       "    </tr>\n",
       "    <tr>\n",
       "      <th>7</th>\n",
       "      <td>7</td>\n",
       "      <td>1.0</td>\n",
       "    </tr>\n",
       "    <tr>\n",
       "      <th>3</th>\n",
       "      <td>3</td>\n",
       "      <td>1.0</td>\n",
       "    </tr>\n",
       "    <tr>\n",
       "      <th>6</th>\n",
       "      <td>6</td>\n",
       "      <td>1.0</td>\n",
       "    </tr>\n",
       "    <tr>\n",
       "      <th>9</th>\n",
       "      <td>9</td>\n",
       "      <td>1.0</td>\n",
       "    </tr>\n",
       "    <tr>\n",
       "      <th>0</th>\n",
       "      <td>0</td>\n",
       "      <td>1.0</td>\n",
       "    </tr>\n",
       "    <tr>\n",
       "      <th>5</th>\n",
       "      <td>5</td>\n",
       "      <td>1.0</td>\n",
       "    </tr>\n",
       "    <tr>\n",
       "      <th>8</th>\n",
       "      <td>8</td>\n",
       "      <td>1.0</td>\n",
       "    </tr>\n",
       "  </tbody>\n",
       "</table>\n",
       "</div>"
      ],
      "text/plain": [
       "   feature  vif\n",
       "2        2  1.0\n",
       "1        1  1.0\n",
       "4        4  1.0\n",
       "7        7  1.0\n",
       "3        3  1.0\n",
       "6        6  1.0\n",
       "9        9  1.0\n",
       "0        0  1.0\n",
       "5        5  1.0\n",
       "8        8  1.0"
      ]
     },
     "execution_count": 333,
     "metadata": {},
     "output_type": "execute_result"
    }
   ],
   "source": [
    "from statsmodels.stats.outliers_influence import variance_inflation_factor\n",
    "vif=pd.DataFrame()\n",
    "vif['feature']=x.columns\n",
    "vif['vif']=[variance_inflation_factor(x.values,i)for i in range(x.shape[1])]\n",
    "vif.sort_values(by='vif',ascending=False)"
   ]
  },
  {
   "cell_type": "markdown",
   "id": "0d57bd9c",
   "metadata": {},
   "source": [
    "as we can see that all columns VIF is under 5 hence we will not drop any columns"
   ]
  },
  {
   "cell_type": "markdown",
   "id": "b1ee7775",
   "metadata": {},
   "source": [
    "# Model Prediction for RainTomorrow column"
   ]
  },
  {
   "cell_type": "markdown",
   "id": "8ca5d315",
   "metadata": {},
   "source": [
    "# Logistic Regression"
   ]
  },
  {
   "cell_type": "code",
   "execution_count": 335,
   "id": "32a1bc5a",
   "metadata": {},
   "outputs": [],
   "source": [
    "from sklearn.preprocessing import MinMaxScaler\n",
    "mms=MinMaxScaler()\n",
    "from sklearn.linear_model import LogisticRegression\n",
    "from sklearn.tree import DecisionTreeClassifier\n",
    "from sklearn.ensemble import RandomForestClassifier\n",
    "from sklearn.naive_bayes import MultinomialNB\n",
    "from sklearn.metrics import accuracy_score\n",
    "from sklearn.metrics import confusion_matrix,classification_report\n",
    "from sklearn.metrics import mean_squared_error,mean_absolute_error\n",
    "from sklearn.model_selection import train_test_split\n",
    "from sklearn.svm import SVC\n",
    "from sklearn.neighbors import KNeighborsClassifier\n",
    "from sklearn.naive_bayes import MultinomialNB\n",
    "#clf = MultinomialNB()\n",
    "from sklearn.preprocessing import StandardScaler\n",
    "\n",
    "from sklearn.metrics import r2_score\n",
    "from sklearn.metrics import mean_squared_error,mean_absolute_error\n",
    "from sklearn.model_selection import train_test_split\n",
    "from sklearn.metrics import accuracy_score\n",
    "from sklearn.metrics import confusion_matrix,classification_report"
   ]
  },
  {
   "cell_type": "code",
   "execution_count": 336,
   "id": "4db77aa4",
   "metadata": {},
   "outputs": [
    {
     "name": "stdout",
     "output_type": "stream",
     "text": [
      "accuracy 0.5555555555555556 random_state 9\n",
      "accuracy 0.7 random_state 10\n",
      "accuracy 0.8181818181818182 random_state 11\n",
      "accuracy 0.9166666666666666 random_state 12\n",
      "best_accuracy is  91.66666666666666 random_state 12\n"
     ]
    }
   ],
   "source": [
    "# to calculate the best test_size\n",
    "maxAcc=0\n",
    "maxRS=0\n",
    "\n",
    "for i in range(9,40):\n",
    "    i1=i*0.01\n",
    "    x_train,x_test,y_train,y_test=train_test_split(x,y1,test_size=i)\n",
    "    lr=LogisticRegression()\n",
    "    lr.fit(x_train,y_train)\n",
    "    pred=lr.predict(x_test)\n",
    "    acc=lr.score(x_test,y_test)\n",
    "    \n",
    "    if acc>maxAcc:\n",
    "        maxAcc=acc\n",
    "        maxRS=i\n",
    "        print('accuracy',maxAcc,'random_state',i)\n",
    "print(\"best_accuracy is \",maxAcc*100,'random_state',maxRS)      "
   ]
  },
  {
   "cell_type": "code",
   "execution_count": 337,
   "id": "d77b8bee",
   "metadata": {},
   "outputs": [
    {
     "name": "stdout",
     "output_type": "stream",
     "text": [
      "accuracy 0.7442348008385744 Random state 1\n",
      "accuracy 0.7700908455625437 Random state 2\n",
      "accuracy 0.7714884696016772 Random state 5\n",
      "accuracy 0.7889587700908456 Random state 12\n",
      "accuracy 0.7938504542278128 Random state 137\n",
      "Best accuracy is 79.38504542278127 on Random state 137\n"
     ]
    }
   ],
   "source": [
    "# finding the best random state \n",
    "maxAcc = 0\n",
    "maxRs=0\n",
    "\n",
    "for i in range(1,500):\n",
    "    x_train, x_test, y_train, y_test= train_test_split(x,y1,test_size=0.12,random_state=i)\n",
    "    lr=LogisticRegression()\n",
    "    lr.fit(x_train,y_train)\n",
    "    pred=lr.predict(x_test)\n",
    "    acc=lr.score(x_test,y_test)\n",
    "    #print('accuracy',acc,'Random state',i)\n",
    "    \n",
    "    if acc>maxAcc:\n",
    "        maxAcc=acc\n",
    "        maxRs=i\n",
    "        print('accuracy',maxAcc,'Random state',i)\n",
    "print(\"Best accuracy is\",maxAcc*100,\"on Random state\",maxRs)"
   ]
  },
  {
   "cell_type": "code",
   "execution_count": 338,
   "id": "da2f7d5c",
   "metadata": {},
   "outputs": [
    {
     "name": "stdout",
     "output_type": "stream",
     "text": [
      "Accuracy 79.38504542278127\n",
      "[[57500 13000]\n",
      " [16500 56100]]\n"
     ]
    }
   ],
   "source": [
    "x_train, x_test, y_train, y_test= train_test_split(x,y1,test_size=0.12,random_state=137)\n",
    "lr=LogisticRegression()\n",
    "lr.fit(x_train,y_train)\n",
    "pred=lr.predict(x_test)\n",
    "acc=lr.score(x_test,y_test)\n",
    "\n",
    "print(\"Accuracy\",accuracy_score(y_test,pred)*100)\n",
    "print(confusion_matrix(y_test,pred)*100)\n",
    "#print(classification_report(y_test,predrf)*100)"
   ]
  },
  {
   "cell_type": "markdown",
   "id": "01bc0f42",
   "metadata": {},
   "source": [
    "# Decision Tree classifier"
   ]
  },
  {
   "cell_type": "code",
   "execution_count": 339,
   "id": "b7ddd103",
   "metadata": {},
   "outputs": [
    {
     "name": "stdout",
     "output_type": "stream",
     "text": [
      "accuracy 0.8605182926829268 Random state 0.11\n",
      "accuracy 0.8640718562874251 Random state 0.14\n",
      "accuracy 0.8642557651991615 Random state 0.16\n",
      "Best accuracy is 86.42557651991615 on Random state 0.16\n"
     ]
    }
   ],
   "source": [
    "#finding best test_size \n",
    "maxAcc = 0\n",
    "maxRs=0\n",
    "\n",
    "for i in range(11,41):\n",
    "    i1=i*0.010\n",
    "    x_train, x_test, y_train, y_test= train_test_split(x,y1,test_size=i1)\n",
    "    dt1=DecisionTreeClassifier()\n",
    "    dt1.fit(x_train,y_train)\n",
    "    pred=dt1.predict(x_test)\n",
    "    acc=dt1.score(x_test,y_test)\n",
    "    #print('accuracy',acc,'Random state',i)\n",
    "    \n",
    "    if acc>maxAcc:\n",
    "        maxAcc=acc\n",
    "        maxRs=i1\n",
    "        print('accuracy',maxAcc,'Random state',i1)\n",
    "print(\"Best accuracy is\",maxAcc*100,\"on Random state\",maxRs)"
   ]
  },
  {
   "cell_type": "code",
   "execution_count": 340,
   "id": "8079324a",
   "metadata": {},
   "outputs": [
    {
     "name": "stdout",
     "output_type": "stream",
     "text": [
      "accuracy 0.8558700209643606 Random state 1\n",
      "accuracy 0.860587002096436 Random state 2\n",
      "accuracy 0.8616352201257862 Random state 6\n",
      "accuracy 0.8626834381551363 Random state 17\n",
      "accuracy 0.8637316561844863 Random state 23\n",
      "accuracy 0.8658280922431866 Random state 37\n",
      "accuracy 0.8663522012578616 Random state 42\n",
      "accuracy 0.8773584905660378 Random state 86\n",
      "Best accuracy is 87.73584905660378 on Random state 86\n"
     ]
    }
   ],
   "source": [
    "#finding best random state\n",
    "maxAcc = 0\n",
    "maxRs=0\n",
    "\n",
    "for i in range(1,200):\n",
    "    x_train, x_test, y_train, y_test= train_test_split(x,y1,test_size=0.16,random_state=i) \n",
    "    dt1=DecisionTreeClassifier()\n",
    "    dt1.fit(x_train,y_train)\n",
    "    pred=dt1.predict(x_test)\n",
    "    acc=dt1.score(x_test,y_test)\n",
    "    #print('accuracy',acc,'Random state',i)\n",
    "    \n",
    "    if acc>maxAcc:\n",
    "        maxAcc=acc\n",
    "        maxRs=i\n",
    "        print('accuracy',maxAcc,'Random state',i)\n",
    "        \n",
    "print(\"Best accuracy is\",maxAcc*100,\"on Random state\",maxRs) "
   ]
  },
  {
   "cell_type": "code",
   "execution_count": 343,
   "id": "3552d599",
   "metadata": {},
   "outputs": [
    {
     "name": "stdout",
     "output_type": "stream",
     "text": [
      "Accuracy Score DecisionTreeClassifier() is:\n",
      "0.8731656184486373\n",
      "[[824 127]\n",
      " [115 842]]\n",
      "              precision    recall  f1-score   support\n",
      "\n",
      "           0       0.88      0.87      0.87       951\n",
      "           1       0.87      0.88      0.87       957\n",
      "\n",
      "    accuracy                           0.87      1908\n",
      "   macro avg       0.87      0.87      0.87      1908\n",
      "weighted avg       0.87      0.87      0.87      1908\n",
      "\n"
     ]
    }
   ],
   "source": [
    "from sklearn.metrics import r2_score\n",
    "from sklearn.metrics import mean_squared_error,mean_absolute_error\n",
    "from sklearn.model_selection import train_test_split\n",
    "from sklearn.metrics import accuracy_score\n",
    "from sklearn.metrics import confusion_matrix,classification_report\n",
    "\n",
    "x_train, x_test, y_train, y_test= train_test_split(x,y1,test_size=0.16,random_state=86) \n",
    "dt1=DecisionTreeClassifier()\n",
    "dt1.fit(x_train,y_train)\n",
    "pred=dt1.predict(x_test)\n",
    "acc=dt1.score(x_test,y_test)\n",
    "\n",
    "\n",
    "print('Accuracy Score',dt1,'is:')\n",
    "print(accuracy_score(y_test,pred))\n",
    "print(confusion_matrix(y_test,pred))\n",
    "print(classification_report(y_test,pred))"
   ]
  },
  {
   "cell_type": "markdown",
   "id": "3c6e89fb",
   "metadata": {},
   "source": [
    "# KNN algorith"
   ]
  },
  {
   "cell_type": "code",
   "execution_count": 344,
   "id": "9fa0eb0e",
   "metadata": {},
   "outputs": [
    {
     "name": "stdout",
     "output_type": "stream",
     "text": [
      "accuracy 0.8792958927074602 Random state 0.1\n",
      "accuracy 0.8963414634146342 Random state 0.11\n",
      "Best accuracy is 89.63414634146342 on Random state 0.11\n"
     ]
    }
   ],
   "source": [
    "##finding best test_size \n",
    "from sklearn.neighbors import KNeighborsClassifier\n",
    "\n",
    "\n",
    "\n",
    "maxAcc = 0\n",
    "maxRs=0\n",
    "\n",
    "for i in range(10,41):\n",
    "    i1=i*0.01\n",
    "    x_train, x_test, y_train, y_test= train_test_split(x,y1,test_size=i1)\n",
    "    knc=KNeighborsClassifier()\n",
    "    knc.fit(x_train,y_train)\n",
    "    pred=knc.predict(x_test)\n",
    "    acc=knc.score(x_test,y_test)\n",
    "    #print('accuracy',acc,'Random state',i)\n",
    "    \n",
    "    if acc>maxAcc:\n",
    "        maxAcc=acc\n",
    "        maxRs=i1\n",
    "        print('accuracy',maxAcc,'Random state',i1)\n",
    "print(\"Best accuracy is\",maxAcc*100,\"on Random state\",maxRs)"
   ]
  },
  {
   "cell_type": "code",
   "execution_count": 345,
   "id": "26f0284f",
   "metadata": {},
   "outputs": [
    {
     "name": "stdout",
     "output_type": "stream",
     "text": [
      "accuracy 0.8734756097560976 Random state 1\n",
      "accuracy 0.8864329268292683 Random state 2\n",
      "accuracy 0.8887195121951219 Random state 8\n",
      "accuracy 0.8894817073170732 Random state 9\n",
      "accuracy 0.8910060975609756 Random state 11\n",
      "accuracy 0.9024390243902439 Random state 42\n",
      "Best accuracy is 90.2439024390244 on Random state 42\n"
     ]
    }
   ],
   "source": [
    "#finding best random state\n",
    "maxAcc = 0\n",
    "maxRs=0\n",
    "\n",
    "for i in range(1,100):\n",
    "    x_train, x_test, y_train, y_test= train_test_split(x,y1,test_size=0.11,random_state=i) \n",
    "    knc=KNeighborsClassifier()\n",
    "    knc.fit(x_train,y_train)\n",
    "    pred=knc.predict(x_test)\n",
    "    acc=knc.score(x_test,y_test)\n",
    "    #print('accuracy',acc,'Random state',i)\n",
    "    \n",
    "    if acc>maxAcc:\n",
    "        maxAcc=acc\n",
    "        maxRs=i\n",
    "        print('accuracy',maxAcc,'Random state',i)\n",
    "        \n",
    "print(\"Best accuracy is\",maxAcc*100,\"on Random state\",maxRs) "
   ]
  },
  {
   "cell_type": "code",
   "execution_count": 346,
   "id": "df7882e1",
   "metadata": {},
   "outputs": [
    {
     "name": "stdout",
     "output_type": "stream",
     "text": [
      "Accuracy Score KNeighborsClassifier() is:\n",
      "0.9024390243902439\n",
      "[[553 114]\n",
      " [ 14 631]]\n",
      "              precision    recall  f1-score   support\n",
      "\n",
      "           0       0.98      0.83      0.90       667\n",
      "           1       0.85      0.98      0.91       645\n",
      "\n",
      "    accuracy                           0.90      1312\n",
      "   macro avg       0.91      0.90      0.90      1312\n",
      "weighted avg       0.91      0.90      0.90      1312\n",
      "\n"
     ]
    }
   ],
   "source": [
    "x_train, x_test, y_train, y_test= train_test_split(x,y1,test_size=0.11,random_state=42) \n",
    "knc=KNeighborsClassifier()\n",
    "knc.fit(x_train,y_train)\n",
    "pred=knc.predict(x_test)\n",
    "acc=knc.score(x_test,y_test)\n",
    "\n",
    "print('Accuracy Score',knc,'is:')\n",
    "print(accuracy_score(y_test,pred))\n",
    "print(confusion_matrix(y_test,pred))\n",
    "print(classification_report(y_test,pred))"
   ]
  },
  {
   "cell_type": "markdown",
   "id": "ef4c4e53",
   "metadata": {},
   "source": [
    "# Random Forest Algorithm"
   ]
  },
  {
   "cell_type": "code",
   "execution_count": 347,
   "id": "61f005f5",
   "metadata": {},
   "outputs": [
    {
     "name": "stdout",
     "output_type": "stream",
     "text": [
      "accuracy 0.9178541492036881 Random state 0.1\n",
      "accuracy 0.9181173436492586 Random state 0.13\n",
      "accuracy 0.9213572854291417 Random state 0.21\n",
      "Best accuracy is 92.13572854291418 on Random state 0.21\n"
     ]
    }
   ],
   "source": [
    "#finding best test_size \n",
    "maxAcc = 0\n",
    "maxRs=0\n",
    "\n",
    "for i in range(10,41):\n",
    "    i1=i*0.010\n",
    "    x_train, x_test, y_train, y_test= train_test_split(x,y1,test_size=i1)\n",
    "    rf1=RandomForestClassifier()\n",
    "    rf1.fit(x_train,y_train)\n",
    "    pred=rf1.predict(x_test)\n",
    "    acc=rf1.score(x_test,y_test)\n",
    "    #print('accuracy',acc,'Random state',i)\n",
    "    \n",
    "    if acc>maxAcc:\n",
    "        maxAcc=acc\n",
    "        maxRs=i1\n",
    "        print('accuracy',maxAcc,'Random state',i1)\n",
    "print(\"Best accuracy is\",maxAcc*100,\"on Random state\",maxRs)"
   ]
  },
  {
   "cell_type": "code",
   "execution_count": 349,
   "id": "3ca8c5c6",
   "metadata": {},
   "outputs": [
    {
     "name": "stdout",
     "output_type": "stream",
     "text": [
      "Accuracy Score RandomForestClassifier() is:\n",
      "0.9189620758483034\n",
      "[[1130  114]\n",
      " [  89 1172]]\n",
      "              precision    recall  f1-score   support\n",
      "\n",
      "           0       0.93      0.91      0.92      1244\n",
      "           1       0.91      0.93      0.92      1261\n",
      "\n",
      "    accuracy                           0.92      2505\n",
      "   macro avg       0.92      0.92      0.92      2505\n",
      "weighted avg       0.92      0.92      0.92      2505\n",
      "\n"
     ]
    }
   ],
   "source": [
    "x_train, x_test, y_train, y_test= train_test_split(x,y1,test_size=0.21,random_state=50)  # taking random number as it is taking time for execution\n",
    "rf1=RandomForestClassifier()\n",
    "rf1.fit(x_train,y_train)\n",
    "pred=rf1.predict(x_test)\n",
    "acc=rf1.score(x_test,y_test)\n",
    "\n",
    "print('Accuracy Score',rf1,'is:')\n",
    "print(accuracy_score(y_test,pred))\n",
    "print(confusion_matrix(y_test,pred))\n",
    "print(classification_report(y_test,pred))"
   ]
  },
  {
   "cell_type": "markdown",
   "id": "0f82d830",
   "metadata": {},
   "source": [
    "# Cross Validation "
   ]
  },
  {
   "cell_type": "markdown",
   "id": "c0d23a4d",
   "metadata": {},
   "source": [
    "as mostly it avoids variance especially in classification hence need to check CV for accurate score"
   ]
  },
  {
   "cell_type": "code",
   "execution_count": 350,
   "id": "49b02acf",
   "metadata": {},
   "outputs": [],
   "source": [
    "from sklearn.model_selection import cross_val_score"
   ]
  },
  {
   "cell_type": "code",
   "execution_count": 355,
   "id": "411665f0",
   "metadata": {},
   "outputs": [
    {
     "name": "stdout",
     "output_type": "stream",
     "text": [
      "cross vaidation score 0.7381824321472289\n"
     ]
    }
   ],
   "source": [
    "from sklearn.model_selection import cross_val_score\n",
    "scr=cross_val_score(lr,x,y1)\n",
    "print('cross vaidation score',scr.mean())"
   ]
  },
  {
   "cell_type": "code",
   "execution_count": 356,
   "id": "1f0dbdf8",
   "metadata": {},
   "outputs": [
    {
     "name": "stdout",
     "output_type": "stream",
     "text": [
      "cross vaidation score 0.758552016940329\n"
     ]
    }
   ],
   "source": [
    "#using cross validation technique\n",
    "from sklearn.model_selection import cross_val_score\n",
    "scr=cross_val_score(dt1,x,y1)\n",
    "print('cross vaidation score',scr.mean())"
   ]
  },
  {
   "cell_type": "code",
   "execution_count": 357,
   "id": "4d7cb773",
   "metadata": {},
   "outputs": [
    {
     "name": "stdout",
     "output_type": "stream",
     "text": [
      "cross vaidation score 0.7212348922938387\n"
     ]
    }
   ],
   "source": [
    "#using cross validation technique\n",
    "from sklearn.model_selection import cross_val_score\n",
    "scr=cross_val_score(knc,x,y1)\n",
    "print('cross vaidation score',scr.mean())"
   ]
  },
  {
   "cell_type": "code",
   "execution_count": 359,
   "id": "7d1b9eee",
   "metadata": {},
   "outputs": [
    {
     "name": "stdout",
     "output_type": "stream",
     "text": [
      "cross vaidation score 0.8102141811939836\n"
     ]
    }
   ],
   "source": [
    "#using cross validation technique\n",
    "from sklearn.model_selection import cross_val_score\n",
    "scr=cross_val_score(rf1,x,y1)\n",
    "print('cross vaidation score',scr.mean())"
   ]
  },
  {
   "cell_type": "markdown",
   "id": "df9abc2e",
   "metadata": {},
   "source": [
    "we can see Random forest Algotithm is giving Highest accuracy hence we will check hyper parameter tunning with same model"
   ]
  },
  {
   "cell_type": "markdown",
   "id": "8d3cc590",
   "metadata": {},
   "source": [
    "# Hyper Parameter Tunning"
   ]
  },
  {
   "cell_type": "code",
   "execution_count": 362,
   "id": "1ca3d05b",
   "metadata": {},
   "outputs": [
    {
     "name": "stdout",
     "output_type": "stream",
     "text": [
      "best_params: {'criterion': 'gini', 'max_depth': 15, 'max_features': 'sqrt'}\n",
      "[[1118  126]\n",
      " [ 102 1159]]\n",
      "0.9089820359281438\n"
     ]
    }
   ],
   "source": [
    "from sklearn.model_selection import GridSearchCV\n",
    "dt1=RandomForestClassifier()\n",
    "params={'max_features':['auto','sqrt','log2'],\n",
    "       'max_depth':[10,15],\n",
    "       'criterion':['gini','entropy']\n",
    "       }\n",
    "\n",
    "\n",
    "grd=GridSearchCV(dt1,param_grid=params,cv=5,scoring='accuracy') # taking cv=5 as in for loop it is taking time\n",
    "\n",
    "grd.fit(x_train,y_train)\n",
    "\n",
    "print('best_params:',grd.best_params_)\n",
    "\n",
    "dt1=grd.best_estimator_\n",
    "\n",
    "dt1.fit(x_train,y_train)\n",
    "\n",
    "y_pred=dt1.predict(x_test)\n",
    "\n",
    "dt_conf_mat=confusion_matrix(y_test,y_pred)\n",
    "\n",
    "print(dt_conf_mat)\n",
    "\n",
    "print(accuracy_score(y_test,y_pred))\n",
    "    \n",
    "\n"
   ]
  },
  {
   "cell_type": "markdown",
   "id": "c97393c6",
   "metadata": {},
   "source": [
    "# AUC ROC Curve"
   ]
  },
  {
   "cell_type": "markdown",
   "id": "aa252071",
   "metadata": {},
   "source": [
    "Graphical representation for confusion matrix"
   ]
  },
  {
   "cell_type": "code",
   "execution_count": 363,
   "id": "5b75da63",
   "metadata": {},
   "outputs": [],
   "source": [
    "y_pred=dt1.predict(x_test)"
   ]
  },
  {
   "cell_type": "code",
   "execution_count": 364,
   "id": "c352d7bd",
   "metadata": {},
   "outputs": [],
   "source": [
    "from sklearn.metrics import accuracy_score,confusion_matrix,roc_curve,roc_auc_score\n",
    "tpr,fpr,thresholds=roc_curve(y_test,y_pred)"
   ]
  },
  {
   "cell_type": "code",
   "execution_count": 365,
   "id": "d41f9055",
   "metadata": {},
   "outputs": [
    {
     "data": {
      "text/plain": [
       "(array([0.        , 0.91911182, 1.        ]),\n",
       " array([0.        , 0.10128617, 1.        ]),\n",
       " array([2, 1, 0]))"
      ]
     },
     "execution_count": 365,
     "metadata": {},
     "output_type": "execute_result"
    }
   ],
   "source": [
    "fpr,tpr,thresholds"
   ]
  },
  {
   "cell_type": "code",
   "execution_count": 366,
   "id": "0ae2bacd",
   "metadata": {},
   "outputs": [
    {
     "name": "stdout",
     "output_type": "stream",
     "text": [
      "threshold [2 1 0]\n",
      "False positive rate [0.         0.91911182 1.        ]\n",
      "True positive rate [0.         0.10128617 1.        ]\n"
     ]
    }
   ],
   "source": [
    "print(\"threshold\",thresholds)\n",
    "print(\"False positive rate\",fpr)\n",
    "print('True positive rate',tpr)"
   ]
  },
  {
   "cell_type": "code",
   "execution_count": 367,
   "id": "b9fc50ac",
   "metadata": {},
   "outputs": [
    {
     "data": {
      "image/png": "[encoded data removed]",
      "text/plain": [
       "<Figure size 432x288 with 1 Axes>"
      ]
     },
     "metadata": {
      "needs_background": "light"
     },
     "output_type": "display_data"
    }
   ],
   "source": [
    "plt.plot(fpr,tpr,color='orange',label='ROC')\n",
    "plt.plot([0,1],[0,1],color='darkblue',linestyle='--')\n",
    "plt.xlabel('False positive rate')\n",
    "plt.ylabel('True positive rate')\n",
    "plt.title('Reciever operating characteristics(ROC) curve')\n",
    "plt.legend()\n",
    "plt.show()"
   ]
  },
  {
   "cell_type": "code",
   "execution_count": 368,
   "id": "365de0cf",
   "metadata": {},
   "outputs": [
    {
     "name": "stdout",
     "output_type": "stream",
     "text": [
      "90.8912821192796\n"
     ]
    }
   ],
   "source": [
    "auc_score=roc_auc_score(y_test,y_pred)\n",
    "print(auc_score*100)"
   ]
  },
  {
   "cell_type": "code",
   "execution_count": 369,
   "id": "f3873c50",
   "metadata": {},
   "outputs": [
    {
     "name": "stdout",
     "output_type": "stream",
     "text": [
      "              precision    recall  f1-score   support\n",
      "\n",
      "           0       0.92      0.90      0.91      1244\n",
      "           1       0.90      0.92      0.91      1261\n",
      "\n",
      "    accuracy                           0.91      2505\n",
      "   macro avg       0.91      0.91      0.91      2505\n",
      "weighted avg       0.91      0.91      0.91      2505\n",
      "\n"
     ]
    }
   ],
   "source": [
    "from sklearn.metrics import classification_report\n",
    "print(classification_report(y_test,y_pred))"
   ]
  },
  {
   "cell_type": "markdown",
   "id": "ae7b4f59",
   "metadata": {},
   "source": [
    "as we can see the Random Forest model is giving around 90% accuracy hence we will finalised this model to predict output for RainTomorrow"
   ]
  },
  {
   "cell_type": "code",
   "execution_count": 371,
   "id": "f44a2917",
   "metadata": {},
   "outputs": [
    {
     "name": "stdout",
     "output_type": "stream",
     "text": [
      "0.906187624750499\n",
      "[[1115  129]\n",
      " [ 106 1155]]\n",
      "[1 0 0 ... 0 1 0]\n",
      "11628    1\n",
      "3834     0\n",
      "6031     0\n",
      "11164    1\n",
      "7321     0\n",
      "        ..\n",
      "3909     0\n",
      "11045    1\n",
      "6998     0\n",
      "7993     1\n",
      "6416     0\n",
      "Name: RainTomorrow, Length: 2505, dtype: int32\n"
     ]
    }
   ],
   "source": [
    "from sklearn.ensemble import RandomForestClassifier \n",
    "\n",
    "x_train, x_test, y_train, y_test= train_test_split(x,y1,test_size=0.21,random_state=50) \n",
    "Output1=RandomForestClassifier(criterion= 'gini', max_depth= 15, max_features= 'sqrt')\n",
    "Output1.fit(x_train,y_train)\n",
    "pred2=Output1.predict(x_test)\n",
    "acc2=Output1.score(x_test,y_test)\n",
    "ytest2=y_test\n",
    "ypred=pred2\n",
    "\n",
    "#print('Accuracy Score',knc,'is:')\n",
    "print(accuracy_score(y_test,pred2))\n",
    "print(confusion_matrix(y_test,pred2))\n",
    "#print(classification_report(y_test,pred2))\n",
    "\n",
    "print(pred2)\n",
    "print(y_test)"
   ]
  },
  {
   "cell_type": "markdown",
   "id": "47aa2fab",
   "metadata": {},
   "source": [
    "=========================================================================================================================="
   ]
  },
  {
   "cell_type": "markdown",
   "id": "31308d50",
   "metadata": {},
   "source": [
    "# Output 2 :Rainfall"
   ]
  },
  {
   "cell_type": "markdown",
   "id": "a130fe4d",
   "metadata": {},
   "source": [
    "we can see the output is in increment formate hence we will use regression techniques"
   ]
  },
  {
   "cell_type": "markdown",
   "id": "d559c341",
   "metadata": {},
   "source": [
    "# Linear Regression "
   ]
  },
  {
   "cell_type": "code",
   "execution_count": 373,
   "id": "39853ad3",
   "metadata": {},
   "outputs": [
    {
     "name": "stdout",
     "output_type": "stream",
     "text": [
      "accuracy 0.9831295420896228 Random state 0.1\n",
      "accuracy 0.9842547042448475 Random state 0.11\n",
      "accuracy 0.9853100421254086 Random state 0.12\n",
      "Best accuracy is 98.53100421254086 on Random state 0.12\n"
     ]
    }
   ],
   "source": [
    "#To get best Test size number from 1 to 40%\n",
    "from sklearn.linear_model import LinearRegression\n",
    "from sklearn.ensemble import RandomForestRegressor \n",
    "from sklearn.neighbors import KNeighborsRegressor\n",
    "from sklearn.svm import SVR\n",
    "#from sklearn.naive_bayes import MultinomialNB\n",
    "from sklearn.metrics import accuracy_score\n",
    "from sklearn.metrics import confusion_matrix,classification_report\n",
    "from sklearn.metrics import mean_squared_error,mean_absolute_error\n",
    "from sklearn.model_selection import train_test_split\n",
    "\n",
    "\n",
    "maxAcc = 0\n",
    "maxRs=0\n",
    "\n",
    "for i in range(10,41):\n",
    "    i1=i*0.010\n",
    "    x_train, x_test, y_train, y_test= train_test_split(x,y,test_size=i1)\n",
    "    lr=LinearRegression()\n",
    "    lr.fit(x_train,y_train)\n",
    "    pred=lr.predict(x_test)\n",
    "    acc=lr.score(x_test,y_test)\n",
    "    #print('accuracy',acc,'Random state',i)\n",
    "    \n",
    "    if acc>maxAcc:\n",
    "        maxAcc=acc\n",
    "        maxRs=i1\n",
    "        print('accuracy',maxAcc,'Random state',i1)\n",
    "print(\"Best accuracy is\",maxAcc*100,\"on Random state\",maxRs)"
   ]
  },
  {
   "cell_type": "code",
   "execution_count": 375,
   "id": "5835a419",
   "metadata": {},
   "outputs": [
    {
     "name": "stdout",
     "output_type": "stream",
     "text": [
      "accuracy 0.984603867959284 Random state 1\n",
      "accuracy 0.9858778461898269 Random state 9\n",
      "accuracy 0.9859860402874939 Random state 17\n",
      "accuracy 0.9861445603805788 Random state 281\n",
      "accuracy 0.9868463087447613 Random state 354\n",
      "accuracy 0.98734530584037 Random state 429\n",
      "Best accuracy is 98.73453058403699 on Random state 429\n"
     ]
    }
   ],
   "source": [
    "maxAcc = 0\n",
    "maxRs=0\n",
    "\n",
    "for i in range(1,500):\n",
    "    x_train, x_test, y_train, y_test= train_test_split(x,y,test_size=0.12,random_state=i) \n",
    "    lr=LinearRegression()\n",
    "    lr.fit(x_train,y_train)\n",
    "    pred=lr.predict(x_test)\n",
    "    acc=lr.score(x_test,y_test)\n",
    "    #print('accuracy',acc,'Random state',i)\n",
    "    \n",
    "    if acc>maxAcc:\n",
    "        maxAcc=acc\n",
    "        maxRs=i\n",
    "        print('accuracy',maxAcc,'Random state',i)\n",
    "        \n",
    "print(\"Best accuracy is\",maxAcc*100,\"on Random state\",maxRs) "
   ]
  },
  {
   "cell_type": "code",
   "execution_count": 376,
   "id": "a50936bf",
   "metadata": {},
   "outputs": [
    {
     "data": {
      "text/plain": [
       "(98.73453058403699, 0.5160801479286142, 0.6558419064653608)"
      ]
     },
     "execution_count": 376,
     "metadata": {},
     "output_type": "execute_result"
    }
   ],
   "source": [
    "from sklearn.metrics import r2_score\n",
    "from sklearn.metrics import mean_squared_error,mean_absolute_error\n",
    "from sklearn.model_selection import train_test_split\n",
    "from sklearn.metrics import accuracy_score\n",
    "from sklearn.metrics import confusion_matrix,classification_report\n",
    "\n",
    "x_train, x_test, y_train, y_test= train_test_split(x,y,test_size=0.12,random_state=429)\n",
    "lr=LinearRegression()\n",
    "lr.fit(x_train,y_train)\n",
    "pred=lr.predict(x_test)\n",
    "acc=lr.score(x_test,y_test)\n",
    "\n",
    "\n",
    "#print(\"predicted values\",pred)\n",
    "#print(\"predicted values\",y_test)\n",
    "r2_score(y_test, pred)*100, mean_absolute_error(y_test, pred), np.sqrt(mean_squared_error(y_test, pred))"
   ]
  },
  {
   "cell_type": "markdown",
   "id": "c4e7bdb5",
   "metadata": {},
   "source": [
    "# Decision Tree Regressor "
   ]
  },
  {
   "cell_type": "code",
   "execution_count": 378,
   "id": "88656a45",
   "metadata": {},
   "outputs": [
    {
     "name": "stdout",
     "output_type": "stream",
     "text": [
      "accuracy 0.9566075581710528 Random state 0.11\n",
      "accuracy 0.9590564210154289 Random state 0.13\n",
      "accuracy 0.9606662833505107 Random state 0.15\n",
      "Best accuracy is 96.06662833505108 on Random state 0.15\n"
     ]
    }
   ],
   "source": [
    "#finding best testsize \n",
    "from sklearn.tree import DecisionTreeRegressor\n",
    "\n",
    "maxAcc = 0\n",
    "maxRs=0\n",
    "\n",
    "for i in range(11,41):\n",
    "    i1=i*0.010\n",
    "    x_train, x_test, y_train, y_test= train_test_split(x,y,test_size=i1)\n",
    "    dt=DecisionTreeRegressor()\n",
    "    dt.fit(x_train,y_train)\n",
    "    pred=dt.predict(x_test)\n",
    "    acc=dt.score(x_test,y_test)\n",
    "    #print('accuracy',acc,'Random state',i)\n",
    "    \n",
    "    if acc>maxAcc:\n",
    "        maxAcc=acc\n",
    "        maxRs=i1\n",
    "        print('accuracy',maxAcc,'Random state',i1)\n",
    "print(\"Best accuracy is\",maxAcc*100,\"on Random state\",maxRs)"
   ]
  },
  {
   "cell_type": "code",
   "execution_count": 379,
   "id": "dc59a326",
   "metadata": {},
   "outputs": [
    {
     "name": "stdout",
     "output_type": "stream",
     "text": [
      "accuracy 0.9556600848175706 Random state 1\n",
      "accuracy 0.9569602588321184 Random state 2\n",
      "accuracy 0.9574474476700315 Random state 3\n",
      "accuracy 0.9608915502884285 Random state 4\n",
      "accuracy 0.962331706865406 Random state 8\n",
      "accuracy 0.9669332535461632 Random state 10\n",
      "accuracy 0.968381798513948 Random state 234\n",
      "Best accuracy is 96.8381798513948 on Random state 234\n"
     ]
    }
   ],
   "source": [
    "#finding best random state\n",
    "maxAcc = 0\n",
    "maxRs=0\n",
    "\n",
    "for i in range(1,500):\n",
    "    x_train, x_test, y_train, y_test= train_test_split(x,y,test_size=0.15,random_state=i)\n",
    "    dt=DecisionTreeRegressor()\n",
    "    dt.fit(x_train,y_train)\n",
    "    pred=dt.predict(x_test)\n",
    "    acc=dt.score(x_test,y_test)\n",
    "    #print('accuracy',acc,'Random state',i)\n",
    "    \n",
    "    if acc>maxAcc:\n",
    "        maxAcc=acc\n",
    "        maxRs=i\n",
    "        print('accuracy',maxAcc,'Random state',i)\n",
    "        \n",
    "print(\"Best accuracy is\",maxAcc*100,\"on Random state\",maxRs) "
   ]
  },
  {
   "cell_type": "code",
   "execution_count": 380,
   "id": "20f50c8f",
   "metadata": {},
   "outputs": [
    {
     "data": {
      "text/plain": [
       "(96.82097231985476, 0.4559106070483253, 0.9696700954209464)"
      ]
     },
     "execution_count": 380,
     "metadata": {},
     "output_type": "execute_result"
    }
   ],
   "source": [
    "x_train, x_test, y_train, y_test= train_test_split(x,y,test_size=0.15,random_state=234) \n",
    "dt=DecisionTreeRegressor()\n",
    "dt.fit(x_train,y_train)\n",
    "pred=dt.predict(x_test)\n",
    "acc=dt.score(x_test,y_test)\n",
    "\n",
    "\n",
    "#print(\"predicted values\",pred)\n",
    "#print(\"predicted values\",y_test)\n",
    "r2_score(y_test, pred)*100, mean_absolute_error(y_test, pred), np.sqrt(mean_squared_error(y_test, pred))"
   ]
  },
  {
   "cell_type": "markdown",
   "id": "45d09e2e",
   "metadata": {},
   "source": [
    "# Knneighborsregressor"
   ]
  },
  {
   "cell_type": "code",
   "execution_count": 386,
   "id": "73c45f00",
   "metadata": {},
   "outputs": [
    {
     "name": "stdout",
     "output_type": "stream",
     "text": [
      "accuracy 0.762901140836895 Random state 0.11\n",
      "accuracy 0.7691350399868696 Random state 0.13\n",
      "accuracy 0.7796116417202886 Random state 0.14\n",
      "Best accuracy is 77.96116417202886 on Random state 0.14\n"
     ]
    }
   ],
   "source": [
    "\n",
    "from sklearn.neighbors import KNeighborsRegressor\n",
    "\n",
    "maxAcc = 0\n",
    "maxRs=0\n",
    "\n",
    "for i in range(11,41):\n",
    "    i1=i*0.010\n",
    "    x_train, x_test, y_train, y_test= train_test_split(x,y,test_size=i1)\n",
    "    knr=KNeighborsRegressor()\n",
    "    knr.fit(x_train,y_train)\n",
    "    pred=knr.predict(x_test)\n",
    "    acc=knr.score(x_test,y_test)\n",
    "    #print('accuracy',acc,'Random state',i)\n",
    "    \n",
    "    if acc>maxAcc:\n",
    "        maxAcc=acc\n",
    "        maxRs=i1\n",
    "        print('accuracy',maxAcc,'Random state',i1)\n",
    "print(\"Best accuracy is\",maxAcc*100,\"on Random state\",maxRs)"
   ]
  },
  {
   "cell_type": "code",
   "execution_count": 387,
   "id": "be2cf66b",
   "metadata": {},
   "outputs": [
    {
     "name": "stdout",
     "output_type": "stream",
     "text": [
      "accuracy 0.7496032813993638 Random state 1\n",
      "accuracy 0.7582557184748355 Random state 3\n",
      "accuracy 0.7948349562476575 Random state 4\n",
      "accuracy 0.7972408621528774 Random state 5\n",
      "accuracy 0.7993022438781279 Random state 63\n",
      "accuracy 0.8168740131151782 Random state 83\n",
      "Best accuracy is 81.68740131151782 on Random state 83\n"
     ]
    }
   ],
   "source": [
    "#finding best random state\n",
    "maxAcc = 0\n",
    "maxRs=0\n",
    "\n",
    "for i in range(1,400):\n",
    "    x_train, x_test, y_train, y_test= train_test_split(x,y,test_size=0.14,random_state=i) \n",
    "    knr=KNeighborsRegressor()\n",
    "    knr.fit(x_train,y_train)\n",
    "    pred=knr.predict(x_test)\n",
    "    acc=knr.score(x_test,y_test)\n",
    "    #print('accuracy',acc,'Random state',i)\n",
    "    \n",
    "    if acc>maxAcc:\n",
    "        maxAcc=acc\n",
    "        maxRs=i\n",
    "        print('accuracy',maxAcc,'Random state',i)\n",
    "        \n",
    "print(\"Best accuracy is\",maxAcc*100,\"on Random state\",maxRs) "
   ]
  },
  {
   "cell_type": "code",
   "execution_count": 388,
   "id": "a6102a2b",
   "metadata": {},
   "outputs": [
    {
     "data": {
      "text/plain": [
       "(81.68740131151782, 1.0898066073148414, 2.281630310989253)"
      ]
     },
     "execution_count": 388,
     "metadata": {},
     "output_type": "execute_result"
    }
   ],
   "source": [
    "from sklearn.metrics import r2_score\n",
    "from sklearn.metrics import mean_squared_error,mean_absolute_error\n",
    "from sklearn.model_selection import train_test_split\n",
    "from sklearn.metrics import accuracy_score\n",
    "from sklearn.metrics import confusion_matrix,classification_report\n",
    "\n",
    "x_train, x_test, y_train, y_test= train_test_split(x,y,test_size=0.14,random_state=83) \n",
    "knr=KNeighborsRegressor()\n",
    "knr.fit(x_train,y_train)\n",
    "pred=knr.predict(x_test)\n",
    "acc=knr.score(x_test,y_test)\n",
    "pred_f=y_test\n",
    "\n",
    "\n",
    "#print(\"predicted values\",pred)\n",
    "#print(\"predicted values\",y_test)\n",
    "r2_score(y_test, pred)*100, mean_absolute_error(y_test, pred), np.sqrt(mean_squared_error(y_test, pred))"
   ]
  },
  {
   "cell_type": "markdown",
   "id": "3b85c3eb",
   "metadata": {},
   "source": [
    "# Using Random Forest Regressor algorithm"
   ]
  },
  {
   "cell_type": "code",
   "execution_count": 381,
   "id": "655d9f90",
   "metadata": {},
   "outputs": [
    {
     "name": "stdout",
     "output_type": "stream",
     "text": [
      "accuracy 0.97983290497226 Random state 0.11\n",
      "accuracy 0.9831826255770838 Random state 0.13\n",
      "accuracy 0.9835211061576801 Random state 0.18\n",
      "Best accuracy is 98.35211061576801 on Random state 0.18\n"
     ]
    }
   ],
   "source": [
    "#finding best testsize \n",
    "from sklearn.ensemble import RandomForestRegressor \n",
    "\n",
    "maxAcc = 0\n",
    "maxRs=0\n",
    "\n",
    "for i in range(11,41):\n",
    "    i1=i*0.01\n",
    "    x_train, x_test, y_train, y_test= train_test_split(x,y,test_size=i1)\n",
    "    rf=RandomForestRegressor()\n",
    "    rf.fit(x_train,y_train)\n",
    "    pred=rf.predict(x_test)\n",
    "    acc=rf.score(x_test,y_test)\n",
    "    #print('accuracy',acc,'Random state',i)\n",
    "    \n",
    "    if acc>maxAcc:\n",
    "        maxAcc=acc\n",
    "        maxRs=i1\n",
    "        print('accuracy',maxAcc,'Random state',i1)\n",
    "print(\"Best accuracy is\",maxAcc*100,\"on Random state\",maxRs)"
   ]
  },
  {
   "cell_type": "code",
   "execution_count": 382,
   "id": "e4dba484",
   "metadata": {},
   "outputs": [
    {
     "data": {
      "text/plain": [
       "(97.77602360714128, 0.42532845794684365, 0.7445418858592588)"
      ]
     },
     "execution_count": 382,
     "metadata": {},
     "output_type": "execute_result"
    }
   ],
   "source": [
    "x_train, x_test, y_train, y_test= train_test_split(x,y,test_size=0.18,random_state=73) # as it is taking time so taking random number for random_state\n",
    "rf=RandomForestRegressor()\n",
    "rf.fit(x_train,y_train)\n",
    "pred=rf.predict(x_test)\n",
    "acc=rf.score(x_test,y_test)\n",
    "pred_f=y_test\n",
    "\n",
    "\n",
    "#print(\"predicted values\",pred)\n",
    "#print(\"predicted values\",y_test)\n",
    "r2_score(y_test, pred)*100, mean_absolute_error(y_test, pred), np.sqrt(mean_squared_error(y_test, pred))"
   ]
  },
  {
   "cell_type": "markdown",
   "id": "303bfda7",
   "metadata": {},
   "source": [
    "# Cross Validation"
   ]
  },
  {
   "cell_type": "code",
   "execution_count": 390,
   "id": "581ccd89",
   "metadata": {},
   "outputs": [
    {
     "name": "stdout",
     "output_type": "stream",
     "text": [
      "cross validation score 0.9745645420032352\n"
     ]
    }
   ],
   "source": [
    "#random forest regressor\n",
    "scr=cross_val_score(rf,x,y)\n",
    "print('cross validation score',scr.mean())"
   ]
  },
  {
   "cell_type": "code",
   "execution_count": 395,
   "id": "63c0c1a6",
   "metadata": {},
   "outputs": [
    {
     "name": "stdout",
     "output_type": "stream",
     "text": [
      "cross validation score 0.6512619671876881\n"
     ]
    }
   ],
   "source": [
    " #KNN regression\n",
    "scr=cross_val_score(KNeighborsRegressor(),x,y)\n",
    "print('cross validation score',scr.mean())"
   ]
  },
  {
   "cell_type": "code",
   "execution_count": 396,
   "id": "512f27aa",
   "metadata": {},
   "outputs": [
    {
     "name": "stdout",
     "output_type": "stream",
     "text": [
      "cross validation score 0.9817082770479466\n"
     ]
    }
   ],
   "source": [
    " #linear regression\n",
    "scr=cross_val_score(lr,x,y)\n",
    "print('cross validation score',scr.mean())"
   ]
  },
  {
   "cell_type": "code",
   "execution_count": 397,
   "id": "805a5f5b",
   "metadata": {},
   "outputs": [
    {
     "name": "stdout",
     "output_type": "stream",
     "text": [
      "cross validation score 0.9380111217508984\n"
     ]
    }
   ],
   "source": [
    "#desicion treeregressor\n",
    "scr=cross_val_score(dt,x,y)\n",
    "print('cross validation score',scr.mean())"
   ]
  },
  {
   "cell_type": "markdown",
   "id": "5ebca399",
   "metadata": {},
   "source": [
    "hence we will use Hyper parameter tunning to run model on mutilple parameter and will select the best combination for model to predict highest and most accurate prediction"
   ]
  },
  {
   "cell_type": "markdown",
   "id": "d850b47f",
   "metadata": {},
   "source": [
    "# Using hyperparameter tunning"
   ]
  },
  {
   "cell_type": "code",
   "execution_count": null,
   "id": "4f328eaa",
   "metadata": {},
   "outputs": [],
   "source": [
    "\n",
    "from sklearn.model_selection import GridSearchCV\n",
    "clf = RandomForestRegressor()\n",
    "\n",
    "params={'max_features':['auto','sqrt','log2'],\n",
    "       'max_depth':[10,15],\n",
    "       'criterion':['mae','mse']\n",
    "        #'n_estimators':[5,10,15]\n",
    "       }\n",
    "\n",
    "\n",
    "grd=GridSearchCV(clf,param_grid=params,cv=5,scoring='accuracy')\n",
    "grd.fit(x_train,y_train)\n",
    "print('best_params:',grd.best_params_)\n",
    "grd=grd.best_estimator_\n",
    "grd.fit(x_train,y_train)\n",
    "y_pred=grd.predict(x_test)\n",
    "print(r2_score(y_test,y_pred))\n",
    "\n",
    "\n"
   ]
  },
  {
   "cell_type": "markdown",
   "id": "13e67ac7",
   "metadata": {},
   "source": [
    "# Final Model To Predict first output column :Rainfall"
   ]
  },
  {
   "cell_type": "code",
   "execution_count": 402,
   "id": "36cf5f18",
   "metadata": {},
   "outputs": [
    {
     "data": {
      "text/plain": [
       "(97.75030096528673, 0.429217742974205, 0.7488352149611717)"
      ]
     },
     "execution_count": 402,
     "metadata": {},
     "output_type": "execute_result"
    }
   ],
   "source": [
    "x_train, x_test, y_train, y_test= train_test_split(x,y,test_size=0.18,random_state=73) \n",
    "Output2=RandomForestRegressor(criterion= 'mae', max_depth= 10, max_features= 'auto',n_estimators=5)\n",
    "Output2=RandomForestRegressor()\n",
    "Output2.fit(x_train,y_train)\n",
    "pred=Output2.predict(x_test)\n",
    "acc=Output2.score(x_test,y_test)\n",
    "pred_f=y_test\n",
    "\n",
    "r2_score(y_test, pred)*100, mean_absolute_error(y_test, pred), np.sqrt(mean_squared_error(y_test, pred))"
   ]
  },
  {
   "cell_type": "code",
   "execution_count": 403,
   "id": "9d45108c",
   "metadata": {},
   "outputs": [
    {
     "name": "stdout",
     "output_type": "stream",
     "text": [
      "(11924, 10)\n",
      "(11924,)\n",
      "(11924,)\n"
     ]
    }
   ],
   "source": [
    "print(x.shape)\n",
    "print(y.shape)\n",
    "print(y1.shape)"
   ]
  },
  {
   "cell_type": "markdown",
   "id": "fcff7d9e",
   "metadata": {},
   "source": [
    "# Saving the model in pickel format"
   ]
  },
  {
   "cell_type": "code",
   "execution_count": 404,
   "id": "aa2de70c",
   "metadata": {},
   "outputs": [
    {
     "data": {
      "text/plain": [
       "['Rainfall.pk1']"
      ]
     },
     "execution_count": 404,
     "metadata": {},
     "output_type": "execute_result"
    }
   ],
   "source": [
    "import joblib\n",
    "joblib.dump(r2_score(y_test, pred)*100,\"Rainfall.pk1\")"
   ]
  },
  {
   "cell_type": "markdown",
   "id": "f37a1a80",
   "metadata": {},
   "source": [
    "# Testing Model with Future Data for Output columns"
   ]
  },
  {
   "cell_type": "code",
   "execution_count": 424,
   "id": "c7c46994",
   "metadata": {},
   "outputs": [
    {
     "data": {
      "text/plain": [
       "0   -482.133298\n",
       "1    -25.959967\n",
       "2    -15.022588\n",
       "3    -22.718508\n",
       "4     -3.222064\n",
       "5     -0.848654\n",
       "6     -1.728667\n",
       "7     -2.033888\n",
       "8      3.087136\n",
       "9     -0.504612\n",
       "Name: 11919, dtype: float64"
      ]
     },
     "execution_count": 424,
     "metadata": {},
     "output_type": "execute_result"
    }
   ],
   "source": [
    "x.iloc[11919]"
   ]
  },
  {
   "cell_type": "code",
   "execution_count": 425,
   "id": "015c6edc",
   "metadata": {},
   "outputs": [
    {
     "data": {
      "text/plain": [
       "3.572944930144476"
      ]
     },
     "execution_count": 425,
     "metadata": {},
     "output_type": "execute_result"
    }
   ],
   "source": [
    "y.iloc[11919]"
   ]
  },
  {
   "cell_type": "code",
   "execution_count": 426,
   "id": "60792fbc",
   "metadata": {},
   "outputs": [
    {
     "data": {
      "text/plain": [
       "1"
      ]
     },
     "execution_count": 426,
     "metadata": {},
     "output_type": "execute_result"
    }
   ],
   "source": [
    "y1.iloc[11919]"
   ]
  },
  {
   "cell_type": "code",
   "execution_count": 427,
   "id": "60483a18",
   "metadata": {},
   "outputs": [],
   "source": [
    "t=np.array([-482.133298,-25.959967,-15.022588,-22.718508,-3.222064,-0.848654,-1.728667,-2.033888,3.087136,-0.504612])\n"
   ]
  },
  {
   "cell_type": "code",
   "execution_count": 431,
   "id": "6b6f8252",
   "metadata": {},
   "outputs": [
    {
     "data": {
      "text/plain": [
       "(1, 10)"
      ]
     },
     "execution_count": 431,
     "metadata": {},
     "output_type": "execute_result"
    }
   ],
   "source": [
    "t.shape"
   ]
  },
  {
   "cell_type": "code",
   "execution_count": 432,
   "id": "71dabda6",
   "metadata": {},
   "outputs": [
    {
     "data": {
      "text/plain": [
       "(9777, 10)"
      ]
     },
     "execution_count": 432,
     "metadata": {},
     "output_type": "execute_result"
    }
   ],
   "source": [
    "x_train.shape"
   ]
  },
  {
   "cell_type": "code",
   "execution_count": 433,
   "id": "b3c481f9",
   "metadata": {},
   "outputs": [
    {
     "data": {
      "text/plain": [
       "(1, 10)"
      ]
     },
     "execution_count": 433,
     "metadata": {},
     "output_type": "execute_result"
    }
   ],
   "source": [
    "t=t.reshape(1,-1)\n",
    "t.shape"
   ]
  },
  {
   "cell_type": "code",
   "execution_count": 429,
   "id": "167615ab",
   "metadata": {},
   "outputs": [
    {
     "data": {
      "text/plain": [
       "array([3.76393137])"
      ]
     },
     "execution_count": 429,
     "metadata": {},
     "output_type": "execute_result"
    }
   ],
   "source": [
    "Output2.predict(t)"
   ]
  },
  {
   "cell_type": "markdown",
   "id": "2402fa14",
   "metadata": {},
   "source": [
    "We can see the actual output 3.572944930144476 and prediction 3.76393137 are very close hence model prediction well"
   ]
  },
  {
   "cell_type": "code",
   "execution_count": 430,
   "id": "9a579de9",
   "metadata": {},
   "outputs": [
    {
     "data": {
      "text/plain": [
       "array([1])"
      ]
     },
     "execution_count": 430,
     "metadata": {},
     "output_type": "execute_result"
    }
   ],
   "source": [
    "Output1.predict(t)"
   ]
  },
  {
   "cell_type": "markdown",
   "id": "8a997a9b",
   "metadata": {},
   "source": [
    "We can see the actual output 1 and prediction 1 are same hence model prediction well"
   ]
  },
  {
   "cell_type": "code",
   "execution_count": null,
   "id": "0518479d",
   "metadata": {},
   "outputs": [],
   "source": []
  }
 ],
 "metadata": {
  "kernelspec": {
   "display_name": "Python 3",
   "language": "python",
   "name": "python3"
  },
  "language_info": {
   "codemirror_mode": {
    "name": "ipython",
    "version": 3
   },
   "file_extension": ".py",
   "mimetype": "text/x-python",
   "name": "python",
   "nbconvert_exporter": "python",
   "pygments_lexer": "ipython3",
   "version": "3.8.8"
  }
 },
 "nbformat": 4,
 "nbformat_minor": 5
}
